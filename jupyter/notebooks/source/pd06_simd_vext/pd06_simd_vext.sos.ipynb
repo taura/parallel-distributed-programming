{
  "cells": [
    {
      "cell_type": "markdown",
      "metadata": {
        "kernel": "SoS",
        "nbgrader": {
          "grade": false,
          "grade_id": "c-001",
          "locked": true,
          "schema_version": 3,
          "solution": false,
          "task": false
        }
      },
      "source": [
        "#  SIMD programming (II) --- explicit/low-level SIMD programming with vector extension + intrinsics"
      ]
    },
    {
      "cell_type": "markdown",
      "metadata": {
        "kernel": "SoS",
        "nbgrader": {
          "grade": false,
          "grade_id": "c-002",
          "locked": true,
          "schema_version": 3,
          "solution": false,
          "task": false
        }
      },
      "source": [
        "# 1. Introduction",
        "\n",
        "* GCC, LLVM, and NVIDIA HPC Compilers allow you to define a type representing a vector of values\n",
        "* see [GCC manual](https://gcc.gnu.org/onlinedocs/gcc-9.5.0/gcc/Vector-Extensions.html#Vector-Extensions) for reference\n",
        "* with this feature, you can write a code that explicitly manipulates a vector of values\n",
        "* for example, the code below defines a new type, `floatv`, as a 64-byte vector of `float`s (i.e., sixteen elements of `float`s)\n",
        "```\n",
        "typedef float floatv __attribute__((vector_size(64)));\n",
        "```\n",
        "* good news is that this type supports a familiar syntax for many of arithmetic expressions (+, -, *, /, etc.)\n",
        "* for other operations you can use intrinsic functions\n",
        "* in this notebook you are going to experience these features"
      ]
    },
    {
      "cell_type": "markdown",
      "metadata": {
        "kernel": "SoS",
        "nbgrader": {
          "grade": false,
          "grade_id": "c-003",
          "locked": true,
          "schema_version": 3,
          "solution": false,
          "task": false
        }
      },
      "source": [
        "# 2. Compilers",
        "\n",
        "## 2-1. Set up NVIDIA HPC SDK",
        "\n",
        "Execute this before you use NVIDIA HPC SDK"
      ]
    },
    {
      "cell_type": "code",
      "metadata": {
        "kernel": "Bash",
        "nbgrader": {
          "grade": false,
          "grade_id": "c-004",
          "locked": false,
          "schema_version": 3,
          "solution": false,
          "task": false
        }
      },
      "source": [
        "export PATH=/opt/nvidia/hpc_sdk/Linux_x86_64/24.9/compilers/bin:$PATH"
      ],
      "execution_count": null,
      "outputs": []
    },
    {
      "cell_type": "markdown",
      "metadata": {
        "kernel": "SoS",
        "nbgrader": {
          "grade": false,
          "grade_id": "c-005",
          "locked": true,
          "schema_version": 3,
          "solution": false,
          "task": false
        }
      },
      "source": [
        "Check if it works (check if full paths of nvc/nvc++ are shown)"
      ]
    },
    {
      "cell_type": "code",
      "metadata": {
        "kernel": "Bash",
        "nbgrader": {
          "grade": false,
          "grade_id": "c-006",
          "locked": false,
          "schema_version": 3,
          "solution": false,
          "task": false
        }
      },
      "source": [
        "which nvc\n",
        "which nvc++"
      ],
      "execution_count": null,
      "outputs": []
    },
    {
      "cell_type": "markdown",
      "metadata": {
        "kernel": "SoS",
        "nbgrader": {
          "grade": false,
          "grade_id": "c-007",
          "locked": true,
          "schema_version": 3,
          "solution": false,
          "task": false
        }
      },
      "source": [
        "## 2-2. Set up LLVM",
        "\n",
        "Execute this before you use LLVM"
      ]
    },
    {
      "cell_type": "code",
      "metadata": {
        "kernel": "Bash",
        "nbgrader": {
          "grade": false,
          "grade_id": "c-008",
          "locked": false,
          "schema_version": 3,
          "solution": false,
          "task": false
        }
      },
      "source": [
        "export PATH=/home/share/llvm/bin:$PATH"
      ],
      "execution_count": null,
      "outputs": []
    },
    {
      "cell_type": "markdown",
      "metadata": {
        "kernel": "SoS",
        "nbgrader": {
          "grade": false,
          "grade_id": "c-009",
          "locked": true,
          "schema_version": 3,
          "solution": false,
          "task": false
        }
      },
      "source": [
        "Check if it works (check if full paths of gcc/g++ are shown)"
      ]
    },
    {
      "cell_type": "code",
      "metadata": {
        "kernel": "Bash",
        "nbgrader": {
          "grade": false,
          "grade_id": "c-010",
          "locked": false,
          "schema_version": 3,
          "solution": false,
          "task": false
        }
      },
      "source": [
        "which clang\n",
        "which clang++"
      ],
      "execution_count": null,
      "outputs": []
    },
    {
      "cell_type": "markdown",
      "metadata": {
        "kernel": "SoS",
        "nbgrader": {
          "grade": false,
          "grade_id": "c-011",
          "locked": true,
          "schema_version": 3,
          "solution": false,
          "task": false
        }
      },
      "source": [
        "## 2-3. GCC",
        ""
      ]
    },
    {
      "cell_type": "markdown",
      "metadata": {
        "kernel": "SoS",
        "nbgrader": {
          "grade": false,
          "grade_id": "c-012",
          "locked": true,
          "schema_version": 3,
          "solution": false,
          "task": false
        }
      },
      "source": [
        "Check if it works (check if full paths of nvc/nvc++ are shown)"
      ]
    },
    {
      "cell_type": "code",
      "metadata": {
        "kernel": "Bash",
        "nbgrader": {
          "grade": false,
          "grade_id": "c-013",
          "locked": false,
          "schema_version": 3,
          "solution": false,
          "task": false
        }
      },
      "source": [
        "which gcc\n",
        "which g++"
      ],
      "execution_count": null,
      "outputs": []
    },
    {
      "cell_type": "markdown",
      "metadata": {
        "kernel": "SoS",
        "nbgrader": {
          "grade": false,
          "grade_id": "c-014",
          "locked": true,
          "schema_version": 3,
          "solution": false,
          "task": false
        }
      },
      "source": [
        "# 3. Vector extension",
        "\n",
        "* the following code defines types representing a vector of four, eight, and sixteen floats (`float_4`, `float_8`, and `float_16`, respectively) and functions that takes two such values"
      ]
    },
    {
      "cell_type": "code",
      "metadata": {
        "kernel": "Python 3 (ipykernel)",
        "nbgrader": {
          "grade": false,
          "grade_id": "c-015",
          "locked": false,
          "schema_version": 3,
          "solution": false,
          "task": false
        }
      },
      "source": [
        "%%writefile vector_ext.c\n",
        "typedef float float_4 __attribute__((vector_size(16),__may_alias__,aligned(sizeof(float))));\n",
        "typedef float float_8 __attribute__((vector_size(32),__may_alias__,aligned(sizeof(float))));\n",
        "typedef float float_16 __attribute__((vector_size(64),__may_alias__,aligned(sizeof(float))));\n",
        "\n",
        "float_4 dist_4(float_4 x, float_4 y) {\n",
        "  return x * x + y * y;\n",
        "}\n",
        "float_8 dist_8(float_8 x, float_8 y) {\n",
        "  return x * x + y * y;\n",
        "}\n",
        "float_16 dist_16(float_16 x, float_16 y) {\n",
        "  return x * x + y * y;\n",
        "}\n",
        ""
      ],
      "execution_count": null,
      "outputs": []
    },
    {
      "cell_type": "code",
      "metadata": {
        "kernel": "Bash",
        "nbgrader": {
          "grade": true,
          "grade_id": "p-001",
          "locked": false,
          "schema_version": 3,
          "solution": true,
          "task": false,
          "points": 1
        }
      },
      "source": [
        "BEGIN SOLUTION\n",
        "END SOLUTION\n",
        "# will produce vector_ext.s\n",
        "clang -S -Wall -O3 -mavx512f -mfma vector_ext.c\n",
        "#nvc -S -Wall -O3 -mavx512f -mfma vector_ext.c\n",
        "#gcc -S -Wall -O3 -mavx512f -mfma vector_ext.c"
      ],
      "execution_count": null,
      "outputs": []
    },
    {
      "cell_type": "code",
      "metadata": {
        "kernel": "Bash",
        "nbgrader": {
          "grade": true,
          "grade_id": "p-002",
          "locked": false,
          "schema_version": 3,
          "solution": true,
          "task": false,
          "points": 1
        }
      },
      "source": [
        "BEGIN SOLUTION\n",
        "END SOLUTION\n",
        "cat -n vector_ext.s"
      ],
      "execution_count": null,
      "outputs": []
    },
    {
      "cell_type": "markdown",
      "metadata": {
        "kernel": "SoS",
        "nbgrader": {
          "grade": false,
          "grade_id": "c-016",
          "locked": true,
          "schema_version": 3,
          "solution": false,
          "task": false
        }
      },
      "source": [
        "* recent Clang/NVIDIA/GCC allow arithmetic expressions mixing vectors and scalars"
      ]
    },
    {
      "cell_type": "code",
      "metadata": {
        "kernel": "Python 3 (ipykernel)",
        "nbgrader": {
          "grade": false,
          "grade_id": "c-017",
          "locked": false,
          "schema_version": 3,
          "solution": false,
          "task": false
        }
      },
      "source": [
        "%%writefile scalar_vector.c\n",
        "typedef float float_16 __attribute__((vector_size(64),__may_alias__,aligned(sizeof(float))));\n",
        "\n",
        "float_16 axpb_16(float a, float_16 x) {\n",
        "  return a * x + 3.0;\n",
        "}\n",
        ""
      ],
      "execution_count": null,
      "outputs": []
    },
    {
      "cell_type": "code",
      "metadata": {
        "kernel": "Bash",
        "nbgrader": {
          "grade": true,
          "grade_id": "p-003",
          "locked": false,
          "schema_version": 3,
          "solution": true,
          "task": false,
          "points": 1
        }
      },
      "source": [
        "BEGIN SOLUTION\n",
        "END SOLUTION\n",
        "# will produce scalar_vector.s\n",
        "clang -S -Wall -O3 -mavx512f -mfma scalar_vector.c\n",
        "#nvc -S -Wall -O3 -mavx512f -mfma scalar_vector.c\n",
        "#gcc -S -Wall -O3 -mavx512f -mfma scalar_vector.c"
      ],
      "execution_count": null,
      "outputs": []
    },
    {
      "cell_type": "code",
      "metadata": {
        "kernel": "Bash",
        "nbgrader": {
          "grade": true,
          "grade_id": "p-004",
          "locked": false,
          "schema_version": 3,
          "solution": true,
          "task": false,
          "points": 1
        }
      },
      "source": [
        "BEGIN SOLUTION\n",
        "END SOLUTION\n",
        "cat -n scalar_vector.s"
      ],
      "execution_count": null,
      "outputs": []
    },
    {
      "cell_type": "markdown",
      "metadata": {
        "kernel": "SoS",
        "nbgrader": {
          "grade": false,
          "grade_id": "c-018",
          "locked": true,
          "schema_version": 3,
          "solution": false,
          "task": false
        }
      },
      "source": [
        "* you almost certainly want to match the size of the vector with instructions used (i.e., 64 for AVX512F and 32 for AVX or AVX2)\n",
        "* for which you can use following compile-time macros to make your code somewhat portable\n",
        "  * `__AVX512F__` defined when AVX512F instructions will be used\n",
        "  * `__AVX2__` defined when AVX2 instructions will be used\n",
        "  * `__AVX__` defined when AVX instructions will be used\n",
        "  * `__SSE__` defined when SSE instructions will be used\n",
        "  * etc.\n",
        "* you will typically want to use the largest available vector size and if it is all you need, the following code defines `floatv` vector type and try to maintain ISA-dependent code small"
      ]
    },
    {
      "cell_type": "code",
      "metadata": {
        "kernel": "Python 3 (ipykernel)",
        "nbgrader": {
          "grade": false,
          "grade_id": "c-019",
          "locked": false,
          "schema_version": 3,
          "solution": false,
          "task": false
        }
      },
      "source": [
        "%%writefile def_vector_type.c\n",
        "#if defined(__AVX512F__)\n",
        "#warning \"__AVX512F__ defined. SIMD width = 64 bytes\"\n",
        "enum { simd_width = 64 };\n",
        "#elif defined(__AVX2__) || defined(__AVX__)\n",
        "#warning \"__AVX__ defined. SIMD width = 32 bytes\"\n",
        "enum { simd_width = 32 };\n",
        "#elif defined(__SSE2__) || defined(__SSE__)\n",
        "#warning \"__SSE__ defined. SIMD width = 16 bytes\"\n",
        "enum { simd_width = 16 };\n",
        "#else\n",
        "#error \"sorry, you must have one of __SSE__, __SSE2__, __AVX__, __AVX2__, or __AVX512F__\"\n",
        "#endif\n",
        "\n",
        "typedef float floatv __attribute__((vector_size(simd_width),__may_alias__,aligned(sizeof(float))));\n",
        "const int n_float_lanes = sizeof(floatv) / sizeof(float);\n",
        "\n",
        "floatv distv(floatv x, floatv y) {\n",
        "  return x * x + y * y;\n",
        "}\n",
        ""
      ],
      "execution_count": null,
      "outputs": []
    },
    {
      "cell_type": "code",
      "metadata": {
        "kernel": "Bash",
        "nbgrader": {
          "grade": true,
          "grade_id": "p-005",
          "locked": false,
          "schema_version": 3,
          "solution": true,
          "task": false,
          "points": 1
        }
      },
      "source": [
        "BEGIN SOLUTION\n",
        "END SOLUTION\n",
        "# without -mavx512f, it will use only up to AVX2 (something that will change in future and may be compiler-dependent)\n",
        "clang -S -Wall -O3 -mfma def_vector_type.c\n",
        "#nvc -S -Wall -O3 -mfma def_vector_type.c\n",
        "#gcc -S -Wall -O3 -mfma def_vector_type.c"
      ],
      "execution_count": null,
      "outputs": []
    },
    {
      "cell_type": "code",
      "metadata": {
        "kernel": "Bash",
        "nbgrader": {
          "grade": true,
          "grade_id": "p-006",
          "locked": false,
          "schema_version": 3,
          "solution": true,
          "task": false,
          "points": 1
        }
      },
      "source": [
        "BEGIN SOLUTION\n",
        "END SOLUTION\n",
        "cat -n def_vector_type.s"
      ],
      "execution_count": null,
      "outputs": []
    },
    {
      "cell_type": "code",
      "metadata": {
        "kernel": "Bash",
        "nbgrader": {
          "grade": true,
          "grade_id": "p-007",
          "locked": false,
          "schema_version": 3,
          "solution": true,
          "task": false,
          "points": 1
        }
      },
      "source": [
        "BEGIN SOLUTION\n",
        "END SOLUTION\n",
        "# for today, you should give -mavx512f to make sure the compiler uses AVX512 instructions (512 bit SIMD)\n",
        "clang -S -Wall -O3 -mavx512f -mfma def_vector_type.c\n",
        "#nvc -S -Wall -O3 -mavx512f -mfma def_vector_type.c\n",
        "#gcc -S -Wall -O3 -mavx512f -mfma def_vector_type.c"
      ],
      "execution_count": null,
      "outputs": []
    },
    {
      "cell_type": "code",
      "metadata": {
        "kernel": "Bash",
        "nbgrader": {
          "grade": true,
          "grade_id": "p-008",
          "locked": false,
          "schema_version": 3,
          "solution": true,
          "task": false,
          "points": 1
        }
      },
      "source": [
        "BEGIN SOLUTION\n",
        "END SOLUTION\n",
        "cat -n def_vector_type.s"
      ],
      "execution_count": null,
      "outputs": []
    },
    {
      "cell_type": "markdown",
      "metadata": {
        "kernel": "SoS",
        "nbgrader": {
          "grade": false,
          "grade_id": "c-020",
          "locked": true,
          "schema_version": 3,
          "solution": false,
          "task": false
        }
      },
      "source": [
        "## 3-1. a note about `aligned(sizeof(float))`",
        "\n",
        "* if you are curious, `aligned(sizeof(float))` specifies its minimum alignment to be the size of float (4), which is convenient as `floatv` will be used to work on an array of floats\n",
        "* without it, the alignment becomes the size of `floatv` (32)\n",
        "* the true effect is that the compiler uses vector load/store instructions `vmovups`, which does not assume 32 byte alignment; without it, the compiler uses `vmovaps`, vector load/store instructions that will raise a segfault when the given address is not 32 byte-aligned\n",
        "* recent Intel CPUs do not impose any performance penalty on `vmovups` compared to `vmovaps`, so there is not much point in making `floatv` aligned to 32 byte"
      ]
    },
    {
      "cell_type": "markdown",
      "metadata": {
        "kernel": "SoS",
        "nbgrader": {
          "grade": false,
          "grade_id": "c-021",
          "locked": true,
          "schema_version": 3,
          "solution": false,
          "task": false
        }
      },
      "source": [
        "# 4. Programming in vector extension",
        "\n",
        "* once you have defined a vector type, there are not much you should learn other than how to build a vector from scalars and vice versa\n",
        "\n",
        "## 4-1.  Building a vector value from scalars",
        "\n",
        "### 4-1-1. from an array of scalars",
        "\n",
        "* you access an array of scalars (i.e., `float *`) with a pointer to a vector (e.g., `floatv`) and you get a vector of consecutive elements starting from the given address"
      ]
    },
    {
      "cell_type": "code",
      "metadata": {
        "kernel": "Python 3 (ipykernel)",
        "nbgrader": {
          "grade": false,
          "grade_id": "c-022",
          "locked": false,
          "schema_version": 3,
          "solution": false,
          "task": false
        }
      },
      "source": [
        "%%writefile loadv.c\n",
        "#if defined(__AVX512F__)\n",
        "enum { simd_width = 64 };\n",
        "#else\n",
        "#error \"you must have __AVX512F__ (forgot to give -mavx512f -mfma??)\"\n",
        "#endif\n",
        "\n",
        "typedef float floatv __attribute__((vector_size(simd_width),__may_alias__,aligned(sizeof(float))));\n",
        "const int n_float_lanes = sizeof(floatv) / sizeof(float);\n",
        "\n",
        "floatv loadv(float * a) {\n",
        "  /* a vector {a[0],a[1],...,a[L-1]} */\n",
        "  return *((floatv *)a);\n",
        "}"
      ],
      "execution_count": null,
      "outputs": []
    },
    {
      "cell_type": "code",
      "metadata": {
        "kernel": "Bash",
        "nbgrader": {
          "grade": true,
          "grade_id": "p-009",
          "locked": false,
          "schema_version": 3,
          "solution": true,
          "task": false,
          "points": 1
        }
      },
      "source": [
        "BEGIN SOLUTION\n",
        "END SOLUTION\n",
        "# will produce loadv.s\n",
        "clang -S -Wall -O3 -mavx512f -mfma loadv.c\n",
        "#nvc -S -Wall -O3 -mavx512f -mfma loadv.c\n",
        "#gcc -S -Wall -O3 -mavx512f -mfma loadv.c"
      ],
      "execution_count": null,
      "outputs": []
    },
    {
      "cell_type": "code",
      "metadata": {
        "kernel": "Bash",
        "nbgrader": {
          "grade": true,
          "grade_id": "p-010",
          "locked": false,
          "schema_version": 3,
          "solution": true,
          "task": false,
          "points": 1
        }
      },
      "source": [
        "BEGIN SOLUTION\n",
        "END SOLUTION\n",
        "cat -n loadv.s"
      ],
      "execution_count": null,
      "outputs": []
    },
    {
      "cell_type": "markdown",
      "metadata": {
        "kernel": "SoS",
        "nbgrader": {
          "grade": false,
          "grade_id": "c-023",
          "locked": true,
          "schema_version": 3,
          "solution": false,
          "task": false
        }
      },
      "source": [
        "### 4-1-2. building a vector of arbitrary values",
        "\n",
        "* you can build a vector of arbitrary values just by making an array of these values and by applying the method above"
      ]
    },
    {
      "cell_type": "code",
      "metadata": {
        "kernel": "Python 3 (ipykernel)",
        "nbgrader": {
          "grade": false,
          "grade_id": "c-024",
          "locked": false,
          "schema_version": 3,
          "solution": false,
          "task": false
        }
      },
      "source": [
        "%%writefile make_vector.c\n",
        "#if defined(__AVX512F__)\n",
        "enum { simd_width = 64 };\n",
        "#else\n",
        "#error \"you must have __AVX512F__ (forgot to give -mavx512f -mfma??)\"\n",
        "#endif\n",
        "\n",
        "typedef float floatv __attribute__((vector_size(simd_width),__may_alias__,aligned(sizeof(float))));\n",
        "const int n_float_lanes = sizeof(floatv) / sizeof(float);\n",
        "\n",
        "floatv make_vector(float a0, float a1, float a2, float a3,\n",
        "                   float a4, float a5, float a6, float a7,\n",
        "                   float a8, float a9, float a10, float a11,\n",
        "                   float a12, float a13, float a14, float a15\n",
        "                   ) {\n",
        "  float a[16] = { a0, a1, a2, a3, a4, a5, a6, a7,\n",
        "    a8, a9, a10, a11, a12, a13, a14, a15\n",
        "  };\n",
        "  return *((floatv *)a);\n",
        "}"
      ],
      "execution_count": null,
      "outputs": []
    },
    {
      "cell_type": "code",
      "metadata": {
        "kernel": "Bash",
        "nbgrader": {
          "grade": true,
          "grade_id": "p-011",
          "locked": false,
          "schema_version": 3,
          "solution": true,
          "task": false,
          "points": 1
        }
      },
      "source": [
        "BEGIN SOLUTION\n",
        "END SOLUTION\n",
        "# will produce make_vector.s\n",
        "clang -S -Wall -O3 -mavx512f -mfma make_vector.c\n",
        "#nvc -S -Wall -O3 -mavx512f -mfma make_vector.c\n",
        "#gcc -S -Wall -O3 -mavx512f -mfma make_vector.c"
      ],
      "execution_count": null,
      "outputs": []
    },
    {
      "cell_type": "code",
      "metadata": {
        "kernel": "Bash",
        "nbgrader": {
          "grade": true,
          "grade_id": "p-012",
          "locked": false,
          "schema_version": 3,
          "solution": true,
          "task": false,
          "points": 1
        }
      },
      "source": [
        "BEGIN SOLUTION\n",
        "END SOLUTION\n",
        "cat -n make_vector.s"
      ],
      "execution_count": null,
      "outputs": []
    },
    {
      "cell_type": "markdown",
      "metadata": {
        "kernel": "SoS",
        "nbgrader": {
          "grade": false,
          "grade_id": "c-025",
          "locked": true,
          "schema_version": 3,
          "solution": false,
          "task": false
        }
      },
      "source": [
        "* you will later learn there is an intrinsic function exactly for it\n",
        "\n",
        "## 4-2. Extracting a scalar value from a vector",
        "\n",
        "### 4-2-1. to an array of scalars",
        "\n",
        "* you can store a vector into an array of scalars"
      ]
    },
    {
      "cell_type": "code",
      "metadata": {
        "kernel": "Python 3 (ipykernel)",
        "nbgrader": {
          "grade": true,
          "grade_id": "p-013",
          "locked": false,
          "schema_version": 3,
          "solution": true,
          "task": false,
          "points": 1
        }
      },
      "source": [
        "BEGIN SOLUTION\n",
        "END SOLUTION\n",
        "%%writefile storev.c\n",
        "#if defined(__AVX512F__)\n",
        "enum { simd_width = 64 };\n",
        "#else\n",
        "#error \"you must have __AVX512F__ (forgot to give -mavx512f -mfma??)\"\n",
        "#endif\n",
        "\n",
        "typedef float floatv __attribute__((vector_size(simd_width),__may_alias__,aligned(sizeof(float))));\n",
        "const int n_float_lanes = sizeof(floatv) / sizeof(float);\n",
        "\n",
        "void storev(float * a, floatv v) {\n",
        "  *((floatv *)a) = v;\n",
        "}"
      ],
      "execution_count": null,
      "outputs": []
    },
    {
      "cell_type": "code",
      "metadata": {
        "kernel": "Bash",
        "nbgrader": {
          "grade": true,
          "grade_id": "p-014",
          "locked": false,
          "schema_version": 3,
          "solution": true,
          "task": false,
          "points": 1
        }
      },
      "source": [
        "BEGIN SOLUTION\n",
        "END SOLUTION\n",
        "# will produce storev.s\n",
        "clang -S -Wall -O3 -mavx512f -mfma storev.c\n",
        "#nvc -S -Wall -O3 -mavx512f -mfma storev.c\n",
        "#gcc -S -Wall -O3 -mavx512f -mfma storev.c"
      ],
      "execution_count": null,
      "outputs": []
    },
    {
      "cell_type": "code",
      "metadata": {
        "kernel": "Bash",
        "nbgrader": {
          "grade": true,
          "grade_id": "p-015",
          "locked": false,
          "schema_version": 3,
          "solution": true,
          "task": false,
          "points": 1
        }
      },
      "source": [
        "BEGIN SOLUTION\n",
        "END SOLUTION\n",
        "cat -n storev.s"
      ],
      "execution_count": null,
      "outputs": []
    },
    {
      "cell_type": "markdown",
      "metadata": {
        "kernel": "SoS",
        "nbgrader": {
          "grade": false,
          "grade_id": "c-026",
          "locked": true,
          "schema_version": 3,
          "solution": false,
          "task": false
        }
      },
      "source": [
        "### 4-2-2. index notation",
        "\n",
        "* a vector's element can be extracted using an index notation for arrays, but internally, it typically stores the vector into a temporary array and then extracts the element you want, which is not terribly efficient"
      ]
    },
    {
      "cell_type": "code",
      "metadata": {
        "kernel": "Python 3 (ipykernel)",
        "nbgrader": {
          "grade": true,
          "grade_id": "p-016",
          "locked": false,
          "schema_version": 3,
          "solution": true,
          "task": false,
          "points": 1
        }
      },
      "source": [
        "BEGIN SOLUTION\n",
        "END SOLUTION\n",
        "%%writefile get_i.c\n",
        "#if defined(__AVX512F__)\n",
        "enum { simd_width = 64 };\n",
        "#else\n",
        "#error \"you must have __AVX512F__ (forgot to give -mavx512f -mfma??)\"\n",
        "#endif\n",
        "\n",
        "typedef float floatv __attribute__((vector_size(simd_width),__may_alias__,aligned(sizeof(float))));\n",
        "const int n_float_lanes = sizeof(floatv) / sizeof(float);\n",
        "\n",
        "float get_i(floatv v, int i) {\n",
        "  return v[i];\n",
        "}"
      ],
      "execution_count": null,
      "outputs": []
    },
    {
      "cell_type": "code",
      "metadata": {
        "kernel": "Bash",
        "nbgrader": {
          "grade": true,
          "grade_id": "p-017",
          "locked": false,
          "schema_version": 3,
          "solution": true,
          "task": false,
          "points": 1
        }
      },
      "source": [
        "BEGIN SOLUTION\n",
        "END SOLUTION\n",
        "# will produce get_i.s\n",
        "clang -S -Wall -O3 -mavx512f -mfma get_i.c\n",
        "#nvc -S -Wall -O3 -mavx512f -mfma get_i.c\n",
        "#gcc -S -Wall -O3 -mavx512f -mfma get_i.c"
      ],
      "execution_count": null,
      "outputs": []
    },
    {
      "cell_type": "code",
      "metadata": {
        "kernel": "Bash",
        "nbgrader": {
          "grade": true,
          "grade_id": "p-018",
          "locked": false,
          "schema_version": 3,
          "solution": true,
          "task": false,
          "points": 1
        }
      },
      "source": [
        "BEGIN SOLUTION\n",
        "END SOLUTION\n",
        "cat -n get_i.s"
      ],
      "execution_count": null,
      "outputs": []
    },
    {
      "cell_type": "markdown",
      "metadata": {
        "kernel": "SoS",
        "nbgrader": {
          "grade": false,
          "grade_id": "c-027",
          "locked": true,
          "schema_version": 3,
          "solution": false,
          "task": false
        }
      },
      "source": [
        "# 5. Vector intrinsics",
        "\n",
        "## 5-1. When you have to use vector intrinsics",
        "\n",
        "* vector intrinsics are functions almost directly compiled to corresponding SIMD instructions\n",
        "* remember that with vector extension, you can have a vector of values and write arithmetic expressions involving them; you do not have to use vector intrinsics where it is applicable\n",
        "* things you wish you could do with it but cannot include\n",
        "  * comparisons between two vectors; given `A` and `B` of type `floatv`, one wishes `A < B` a vector of booleans or ints {A[0]<B[0], A[1]<B[1], ..., A[L-1]<B[L-1]} but it doesn't\n",
        "  * math functions such as sqrt, log, exp, etc.; given `V` of type `floatv`, one wishes `sqrt(V)` returns a value of `floatv` applying sqrt on each element of `V` but it doesn't (a SIMD sqrt instruction in fact exists on recent Intel CPUs)\n",
        "  * array indexing using a vector of integers; given `I` of type `intv` (a vector of ints, whose definition will follow the definition of `floatv` above) and `a` of `float*`, one wishes `a[I]` to be a value of `floatv` {a[I[0]], a[I[1]], ..., a[I[L-1]]} (what a gather instruction does on Intel CPUs supporting AVX2)\n",
        "* in all these circumstances, you need vector intrinsics\n",
        "\n",
        "## 5-2. Vector intrinsics introduction",
        "\n",
        "* https://software.intel.com/sites/landingpage/IntrinsicsGuide/\n",
        "* you will be overwhelmed by the sheer number of functions; never have to remember all functions that exist\n",
        "* just remember that\n",
        "  * most functions correspond to a SIMD instruction, so what you reasonably hope will exist hopefully exists\n",
        "    * e.g., wish to do SIMD sqrt? just search for sqrt and look for what you need\n",
        "  * Intel keeps extending instruction set and SIMD width, so there are multiple versions doing a similar thing\n",
        "\n",
        "* with that said, here are an overview\n",
        "\n",
        "### 5-2-1. The header file",
        "\n",
        "* You should include \n",
        "```\n",
        "#include <x86intrin.h>\n",
        "```\n",
        "\n",
        "### 5-2-2. Types",
        "\n",
        "* type names begin with __m followed by the number of bits (128, 256 or 512), possibly followed by a character indicating the element type\n",
        "\n",
        "* `__m128`, `__m256`, `__m512` : vector of floats, with size 128, 256, and 512 bits, respectively.  they are presumably defined exactly like floatv we have introduced before\n",
        "* `__m128d`, `__m256d`, `__m512d` : vector of doubles, with size 128, 256, and 512 bits, respectively\n",
        "* `__m128i`, `__m256i`, `__m512i` : vector of ints, with size 128, 256, and 512 bits, respectively\n",
        "\n",
        "### 5-2-3. Function names",
        "\n",
        "* function names begin with _mm followed by the number of bits (128 bit versions lack this part). e.g.,\n",
        "  * `__m512 _mm512_fmadd_ps (__m512 a, __m512 b, __m512 c)` takes three 512 bit vectors and perform fmadd (a * b + c)\n",
        "\n",
        "### 5-2-4. set and set1",
        "\n",
        "* `_mm_set_ps`, `_mm256_set_ps` and `_mm512_set_ps` take 4, 8 and 16 float values and returns a vector of them, respectively\n",
        "* `_mm_set1_ps`, `_mm256_set1_ps` and `_mm512_set1_ps` takes a float value and returns a 4, 8 and 16-element vector of it. e.g., `_mm_set1_ps(3)` returns `{3,3,3,3}`\n",
        "* similar functions exist for doubles (e.g., `_mm512_set_pd` takes eight double values)\n",
        "\n",
        "* they are special in that there are actually no instructions directly corresponding them; they are provided for convenience and implemented by a sequence of operations. you should not assume they are as efficient as a single instruction\n",
        "\n",
        "### 5-2-5. A brief categorization",
        "\n",
        "Inside parentheses is the category you want to check at the Intel Intrinsics Guide page\n",
        "\n",
        "* arithmetic, which you can do just with vector extension without using intrinsics (Arithmetic)\n",
        "* math functions (Elementary Math)\n",
        "* comparison (Compare)\n",
        "* shuffling values on vectors (Bit Manipulation)\n",
        "* memory access (Load and Store)"
      ]
    },
    {
      "cell_type": "markdown",
      "metadata": {
        "kernel": "SoS",
        "nbgrader": {
          "grade": false,
          "grade_id": "c-028",
          "locked": true,
          "schema_version": 3,
          "solution": false,
          "task": false
        }
      },
      "source": [
        "# 6. Manual vectorization with vector types and intrinsics",
        "\n",
        "## 6-1. Loops containing branches",
        "\n",
        "* the basic template for a loop containing branch (if expression), like this\n",
        "```\n",
        "for (i = 0; i < n; i++) {\n",
        "    if (C(i)) {\n",
        "      T(i);\n",
        "    } else {\n",
        "      E(i);\n",
        "    }\n",
        "}  \n",
        "```\n",
        "is\n",
        "```\n",
        "for (i = 0; i < n; i += L) {\n",
        "    k = C(i:i+L); // L bit mask\n",
        "    T(i:i+L) predicated on k;\n",
        "    E(i:i+L) predicated on ~k;\n",
        "}  \n",
        "```\n",
        "\n",
        "* to realize this, you need\n",
        "  * compare instructions to calculate the mask\n",
        "  * predicated version of many instructions\n",
        "  * instructions that blend values from two SIMD values\n",
        "\n",
        "* search [Intrinsics guide](https://www.intel.com/content/www/us/en/docs/intrinsics-guide/index.html) for \"cmp\" to know the flavor of compare instructions, \n",
        "* \"mm512_mask_\" to know the flavor of various predicated instructions (e.g., mm512_mask_add), and\n",
        "* \"mm512_mask_blend\" to know the flavor of value-blending instructions"
      ]
    },
    {
      "cell_type": "markdown",
      "metadata": {
        "kernel": "SoS",
        "nbgrader": {
          "grade": false,
          "grade_id": "c-029",
          "locked": true,
          "schema_version": 3,
          "solution": false,
          "task": false
        }
      },
      "source": [
        "# <font color=\"green\"> Problem 1 :  Vectorize integral</font>",
        "\n",
        "* the following code calculates\n",
        "$$ \\int_0^1 \\int_0^1 f(x,y)\\,dx\\,dy $$\n",
        "where\n",
        "$$ f(x,y) = \\left\\{\\begin{array}{ll} \\sqrt{1 - x^2 - y^2} & (1 - x^2 - y^2 > 0) \\\\ 0 & \\mbox{otherwise} \\end{array}\\right. $$"
      ]
    },
    {
      "cell_type": "code",
      "metadata": {
        "kernel": "Python 3 (ipykernel)",
        "nbgrader": {
          "grade": true,
          "grade_id": "p-019",
          "locked": false,
          "schema_version": 3,
          "solution": true,
          "task": false,
          "points": 1
        }
      },
      "source": [
        "BEGIN SOLUTION\n",
        "END SOLUTION\n",
        "%%writefile integral_no_simd.c\n",
        "#include <math.h>\n",
        "#include <stdio.h>\n",
        "#include <stdlib.h>\n",
        "#include <time.h>\n",
        "\n",
        "/* scalar version */\n",
        "double int_sqrt_one_minus_x2_y2(long n) {\n",
        "  double h = 1.0 / n;\n",
        "  double s = 0.0;\n",
        "  for (long i = 0; i < n; i++) {\n",
        "    for (long j = 0; j < n; j++) {\n",
        "      double x = i * h ;\n",
        "      double y = j * h;\n",
        "      double z = 1 - x * x - y * y;\n",
        "      if (z > 0.0) {\n",
        "        s += sqrt(z);\n",
        "      } else {\n",
        "        break;\n",
        "      }\n",
        "    }\n",
        "  }\n",
        "  return s * h * h;\n",
        "}\n",
        "\n",
        "// wall clock time\n",
        "double get_wtime() {\n",
        "  struct timespec ts[1];\n",
        "  clock_gettime(CLOCK_REALTIME, ts);\n",
        "  return ts->tv_sec + ts->tv_nsec * 1.0e-9;\n",
        "}\n",
        "\n",
        "int main(int argc, char ** argv) {\n",
        "  int i = 1;\n",
        "  long n      = (argc > i ? atof(argv[i]) : 30L * 1000L); i++;\n",
        "  long repeat = (argc > i ? atof(argv[i]) : 5);           i++;\n",
        "  n += 15;\n",
        "  n = (n / 16) * 16;\n",
        "  double n_sqrts = (M_PI / 4) * n * n;\n",
        "  for (long r = 0; r < repeat; r++) {\n",
        "    printf(\"===== repeat %ld =====\\n\", r);\n",
        "    fflush(stdout);\n",
        "    double t0 = get_wtime();\n",
        "    double s = int_sqrt_one_minus_x2_y2(n);\n",
        "    double t1 = get_wtime();\n",
        "    double dt = t1 - t0;\n",
        "    printf(\"s = %.9f (err = |s - pi/6| = %e)\\n\", s, fabs(s - M_PI/6));\n",
        "    printf(\"%f sec\\n\", dt);\n",
        "    printf(\"%f points/sec\\n\", n_sqrts / dt);\n",
        "    fflush(stdout);\n",
        "  }\n",
        "  return 0;\n",
        "}"
      ],
      "execution_count": null,
      "outputs": []
    },
    {
      "cell_type": "code",
      "metadata": {
        "kernel": "Bash",
        "nbgrader": {
          "grade": true,
          "grade_id": "p-020",
          "locked": false,
          "schema_version": 3,
          "solution": true,
          "task": false,
          "points": 1
        }
      },
      "source": [
        "BEGIN SOLUTION\n",
        "END SOLUTION\n",
        "clang -Wall -O3 -mavx512f -mfma -o integral_no_simd integral_no_simd.c -lm\n",
        "#nvc -Wall -O3 -mavx512f -mfma -o integral_no_simd integral_no_simd.c -lm\n",
        "#gcc -Wall -O3 -mavx512f -mfma -o integral_no_simd integral_no_simd.c -lm"
      ],
      "execution_count": null,
      "outputs": []
    },
    {
      "cell_type": "code",
      "metadata": {
        "kernel": "Bash",
        "nbgrader": {
          "grade": true,
          "grade_id": "p-021",
          "locked": false,
          "schema_version": 3,
          "solution": true,
          "task": false,
          "points": 1
        }
      },
      "source": [
        "BEGIN SOLUTION\n",
        "END SOLUTION\n",
        "./integral_no_simd 10000\n",
        "./integral_no_simd 30000"
      ],
      "execution_count": null,
      "outputs": []
    },
    {
      "cell_type": "markdown",
      "metadata": {
        "kernel": "SoS",
        "nbgrader": {
          "grade": false,
          "grade_id": "c-030",
          "locked": true,
          "schema_version": 3,
          "solution": false,
          "task": false
        }
      },
      "source": [
        "* vectorize it by changing the following code\n",
        "* the key is how to vectorize despite the presence of the branch "
      ]
    },
    {
      "cell_type": "code",
      "metadata": {
        "kernel": "Python 3 (ipykernel)",
        "nbgrader": {
          "grade": true,
          "grade_id": "p-022",
          "locked": false,
          "schema_version": 3,
          "solution": true,
          "task": false,
          "points": 1
        }
      },
      "source": [
        "BEGIN SOLUTION\n",
        "END SOLUTION\n",
        "%%writefile integral_simd.c\n",
        "#include <math.h>\n",
        "#include <stdio.h>\n",
        "#include <stdlib.h>\n",
        "#include <time.h>\n",
        "\n",
        "double int_sqrt_one_minus_x2_y2(long n) {\n",
        "  double h = 1.0 / n;\n",
        "  double s = 0.0;\n",
        "  for (long i = 0; i < n; i++) {\n",
        "    for (long j = 0; j < n; j++) {\n",
        "      double x = i * h ;\n",
        "      double y = j * h;\n",
        "      double z = 1 - x * x - y * y;\n",
        "      if (z > 0.0) {\n",
        "        s += sqrt(z);\n",
        "      } else {\n",
        "        break;\n",
        "      }\n",
        "    }\n",
        "  }\n",
        "  return s * h * h;\n",
        "}\n",
        "\n",
        "// wall clock time\n",
        "double get_wtime() {\n",
        "  struct timespec ts[1];\n",
        "  clock_gettime(CLOCK_REALTIME, ts);\n",
        "  return ts->tv_sec + ts->tv_nsec * 1.0e-9;\n",
        "}\n",
        "\n",
        "int main(int argc, char ** argv) {\n",
        "  int i = 1;\n",
        "  long n      = (argc > i ? atof(argv[i]) : 30L * 1000L); i++;\n",
        "  long repeat = (argc > i ? atof(argv[i]) : 5);           i++;\n",
        "  n += 15;\n",
        "  n = (n / 16) * 16;\n",
        "  double n_sqrts = (M_PI / 4) * n * n;\n",
        "  for (long r = 0; r < repeat; r++) {\n",
        "    printf(\"===== repeat %ld =====\\n\", r);\n",
        "    fflush(stdout);\n",
        "    double t0 = get_wtime();\n",
        "    double s = int_sqrt_one_minus_x2_y2(n);\n",
        "    double t1 = get_wtime();\n",
        "    double dt = t1 - t0;\n",
        "    printf(\"s = %.9f (err = |s - pi/6| = %e)\\n\", s, fabs(s - M_PI/6));\n",
        "    printf(\"%f sec\\n\", dt);\n",
        "    printf(\"%f points/sec\\n\", n_sqrts / dt);\n",
        "    fflush(stdout);\n",
        "  }\n",
        "  return 0;\n",
        "}"
      ],
      "execution_count": null,
      "outputs": []
    },
    {
      "cell_type": "code",
      "metadata": {
        "kernel": "Bash",
        "nbgrader": {
          "grade": true,
          "grade_id": "p-023",
          "locked": false,
          "schema_version": 3,
          "solution": true,
          "task": false,
          "points": 1
        }
      },
      "source": [
        "BEGIN SOLUTION\n",
        "END SOLUTION\n",
        "clang -Wall -O3 -mavx512f -mfma -o integral_simd integral_simd.c -lm\n",
        "#nvc -Wall -O3 -mavx512f -mfma -o integral_simd integral_simd.c -lm\n",
        "#gcc -Wall -O3 -mavx512f -mfma -o integral_simd integral_simd.c -lm"
      ],
      "execution_count": null,
      "outputs": []
    },
    {
      "cell_type": "code",
      "metadata": {
        "kernel": "Bash",
        "nbgrader": {
          "grade": true,
          "grade_id": "p-024",
          "locked": false,
          "schema_version": 3,
          "solution": true,
          "task": false,
          "points": 1
        }
      },
      "source": [
        "BEGIN SOLUTION\n",
        "END SOLUTION\n",
        "prlimit --cpu=3.0 ./integral_simd 10000\n",
        "prlimit --cpu=10.0 ./integral_simd 30000"
      ],
      "execution_count": null,
      "outputs": []
    },
    {
      "cell_type": "markdown",
      "metadata": {
        "kernel": "SoS",
        "nbgrader": {
          "grade": false,
          "grade_id": "c-031",
          "locked": true,
          "schema_version": 3,
          "solution": false,
          "task": false
        }
      },
      "source": [
        "* <font color=\"red\">note:</font> `prlimit --cpu=x` limits the CPU time the command is allowed to spend to `x` sec\n",
        "* this is for our safety net when your program goes terribly wrong\n",
        "* you are encouraged to use it always when you are not sure, even when it is not given by default (I easily forget to put it)\n",
        "* you can change the time as necessary, but default values give you a clue about the expectation (if your program is killed, chances are your program is slower than it should be)"
      ]
    },
    {
      "cell_type": "markdown",
      "metadata": {
        "kernel": "SoS",
        "nbgrader": {
          "grade": false,
          "grade_id": "c-032",
          "locked": true,
          "schema_version": 3,
          "solution": false,
          "task": false
        }
      },
      "source": [
        "## 6-2. Loops containing non-contiguous memory access",
        "\n",
        "* when you vectorize a scalar loop\n",
        "```\n",
        "for (i = 0; i < n; i++) {\n",
        "    S(i);\n",
        "}  \n",
        "```\n",
        "into something like\n",
        "```\n",
        "for (i = 0; i < n; i += L) {\n",
        "    S(i:i+L);\n",
        "}  \n",
        "```\n",
        "an issue arises when consecutive iterations, say S(i) and S(i+1), access non-contiguous elements by the same instruction, like this.\n",
        "```\n",
        "for (i = 0; i < n; i++) {\n",
        "    ... a[2 * i] ...\n",
        "}  \n",
        "```\n",
        "\n",
        "* to implement an expression `a[2 * i]`, we wish to have an instruction that accesses `a[2*i], a[2*i+2], a[2*i+4], ...`\n",
        "* in a vector extension, you can easily access consecutive elements `a[2*i], a[2*i+1], a[2*i+2], ...` for an array of integers (int or long) or floating point numbers (float or double), just by dereferencing a pointer to an appropriate vector type, but there is no convenient expression to access non-contiguous elements\n",
        "\n",
        "* Intel recently introduced gather/scatter instructions that just do that (gather for load and scatter for store)\n",
        "* search [Intrinsics guide](https://www.intel.com/content/www/us/en/docs/intrinsics-guide/index.html) for \"gather\" or \"scatter\" to know their flavors"
      ]
    },
    {
      "cell_type": "markdown",
      "metadata": {
        "kernel": "SoS",
        "nbgrader": {
          "grade": false,
          "grade_id": "c-033",
          "locked": true,
          "schema_version": 3,
          "solution": false,
          "task": false
        }
      },
      "source": [
        "# <font color=\"green\"> Problem 2 :  Vectorize binary search</font>",
        "\n",
        "* <font color=\"red\">WARNING: challenges ahead</font>\n",
        "* binary search is a method to efficiently search a sorted array\n",
        "* it is a very sequential algorithm, so there is no way to vectorize (or parallelize, for that matter) searching for a single element\n",
        "* but when given many elements to search for, we naturally wish to vectorize it, which is what you will be doing \n",
        "* the function that takes a single value to search for (`binsearch`) and the outer loop that searches for many elements (`binsearch_many`) look like this"
      ]
    },
    {
      "cell_type": "code",
      "metadata": {
        "kernel": "Python 3 (ipykernel)",
        "nbgrader": {
          "grade": true,
          "grade_id": "p-025",
          "locked": false,
          "schema_version": 3,
          "solution": true,
          "task": false,
          "points": 1
        }
      },
      "source": [
        "BEGIN SOLUTION\n",
        "END SOLUTION\n",
        "%%writefile binsearch_nosimd.h\n",
        "/* search a[0:n] looking for value x,\n",
        "   assuming a is sorted.\n",
        "   return an integer p s.t.\n",
        "   a[p] <= x < a[p+1]\n",
        "   (a[-1] is considered smaller than any value and \n",
        "    a[n] larger than any value)\n",
        " */\n",
        "int binsearch(int * a, int n, int x) {\n",
        "  if (x < a[0]) return -1;\n",
        "  if (a[n-1] <= x) return n - 1;\n",
        "  /* a[0] <= x < a[n-1]  */\n",
        "  int p = 0, q = n - 1;\n",
        "  while (q - p > 1) {\n",
        "    /* INV: a[p] <= x < a[q] */\n",
        "    int r = (p + q) / 2;\n",
        "    if (a[r] <= x) p = r;\n",
        "    else q = r;\n",
        "  }\n",
        "  /* a[p] <= x < a[p+1] */\n",
        "  return p;\n",
        "}\n",
        "\n",
        "/* search a[0:n] for all values in x[0:m]\n",
        "   and return the number of elements found */\n",
        "int binsearch_many(int * a, int n, int * x, int m) {\n",
        "  int c = 0;\n",
        "  for (int i = 0; i < m; i++) {\n",
        "    int p = binsearch(a, n, x[i]);\n",
        "    assert(-1 <= p);\n",
        "    assert(p == -1 || a[p] <= x[i]);\n",
        "    assert(p < n);\n",
        "    assert(p == n - 1 || x[i] < a[p + 1]);\n",
        "    if (0 <= p && a[p] == x[i]) c++; // found? -> c++\n",
        "  }\n",
        "  return c;\n",
        "}\n",
        ""
      ],
      "execution_count": null,
      "outputs": []
    },
    {
      "cell_type": "markdown",
      "metadata": {
        "kernel": "SoS",
        "nbgrader": {
          "grade": false,
          "grade_id": "c-034",
          "locked": true,
          "schema_version": 3,
          "solution": false,
          "task": false
        }
      },
      "source": [
        "* your goal is to vectorize `binsearch(int * a, int n, int x)`, so that it now takes a vector of (16) integers and returns another vector, and `int binsearch_many(int * a, int n, int * x, int m)`, so that it now passes a vector of (16) integers at a time rather than one\n",
        "* it is very challenging, as `binsearch` itself contains a loop, branches, non-contiguous accesses, everything that challenges vectorizing compilers (and human)\n",
        "* here is the skeleton code that emits an error when executed (modify this cell)"
      ]
    },
    {
      "cell_type": "code",
      "metadata": {
        "kernel": "Python 3 (ipykernel)",
        "nbgrader": {
          "grade": true,
          "grade_id": "p-026",
          "locked": false,
          "schema_version": 3,
          "solution": true,
          "task": false,
          "points": 1
        }
      },
      "source": [
        "BEGIN SOLUTION\n",
        "END SOLUTION\n",
        "%%writefile binsearch_simd.h\n",
        "intv binsearch_simd(int * a, int n, intv x) {\n",
        "  intv p = intv(0);\n",
        "  intv q = intv(n - 1);\n",
        "  mask k0 = x < a[0];\n",
        "  mask k1 = a[n-1] <= x;\n",
        "  p = blend(k0,    intv(-1), p);\n",
        "  p = blend(k1, intv(n - 1), p);\n",
        "  mask k = ~k0 & ~k1;\n",
        "  k &= (q - p > 1);\n",
        "  while (any(k)) {\n",
        "    /* INV: a[p] <= x < a[q] */\n",
        "    intv r = (p + q) / 2;\n",
        "    mask c = gather(a, r, k) <= x;\n",
        "    p = blend( c & k, r, p);\n",
        "    q = blend(~c & k, r, q);\n",
        "    k &= (q - p > 1);\n",
        "  }\n",
        "  /* a[p] <= x < a[p+1] */\n",
        "  return p;\n",
        "}\n",
        "\n",
        "int binsearch_many_simd(int * a, int n, int * x, int m) {\n",
        "  int c = 0;\n",
        "  assert(L == 16);\n",
        "  for (int i = 0; i < m; i += L) {\n",
        "    intv xv = intv(-1);\n",
        "    intv li = linear(i);\n",
        "    xv = blend(li < m, V(x[i]), xv);\n",
        "    intv p = binsearch_simd(a, n, xv);\n",
        "    assert(all(-1 <= p));\n",
        "    assert(all((p == -1)    | (gather(a, p, 0 <= p) <= xv)));\n",
        "    assert(all(p < n));\n",
        "    assert(all((p == n - 1) | (xv < gather(a, p + 1, p < n - 1))));\n",
        "    c += count_one((0 <= p) & (gather(a, p, 0 <= p) == xv));\n",
        "  }\n",
        "  return c;\n",
        "}\n",
        ""
      ],
      "execution_count": null,
      "outputs": []
    },
    {
      "cell_type": "markdown",
      "metadata": {
        "kernel": "SoS",
        "nbgrader": {
          "grade": false,
          "grade_id": "c-035",
          "locked": true,
          "schema_version": 3,
          "solution": false,
          "task": false
        }
      },
      "source": [
        "* the problem is challenging as you have to use so many intrinsics and their names are so long and obscure that they will damage your brain (e.g., `(a < b)` becomes `_mm512_cmp_epi32_mask(a, b, _MM_CMPINT_LT)`)\n",
        "* to help circumvent this issue, C++ operator overloading can help you a lot, to make the code much more \"ordinary\"\n",
        "* I gave a header file, `binsearch_simd_util.h` specifically tailored for this problem\n",
        "* you might want to add your own utility function there too, but I do not expect that is necessary"
      ]
    },
    {
      "cell_type": "code",
      "metadata": {
        "kernel": "Python 3 (ipykernel)",
        "nbgrader": {
          "grade": true,
          "grade_id": "p-027",
          "locked": false,
          "schema_version": 3,
          "solution": true,
          "task": false,
          "points": 1
        }
      },
      "source": [
        "BEGIN SOLUTION\n",
        "END SOLUTION\n",
        "%%writefile binsearch_simd_util.h\n",
        "/* a convenient type definition and overloaded operators */\n",
        "\n",
        "/* an aux type representing 16 ints, defined in the way suggested in slides */\n",
        "typedef int _intv __attribute__((vector_size(64), __may_alias__, aligned(sizeof(int))));\n",
        "enum { L = sizeof(_intv) / sizeof(int) };\n",
        "\n",
        "/* a data structure that looks vector operations look nice \n",
        "   using C++ operator overloading */\n",
        "\n",
        "/* this is the type you are going to use to represent 16 ints */\n",
        "struct intv {\n",
        "  /* takes 16 values */\n",
        "  intv(_intv _v) { v = _v; }\n",
        "  /* takes a single value (e.g., intv(3)) */\n",
        "  intv(int _v) { v = _mm512_set1_epi32(_v); }\n",
        "  _intv v;\n",
        "};\n",
        "/* 16 bit mask representing the result of a comparison */\n",
        "typedef __mmask16 mask;\n",
        "\n",
        "// C++ trick so that (a == b) returns the mask\n",
        "mask operator==(intv a, intv b) {\n",
        "  mask k = _mm512_cmp_epi32_mask(a.v, b.v, _MM_CMPINT_EQ);\n",
        "  return k;\n",
        "}\n",
        "\n",
        "// ditto, but accept a scalar \n",
        "mask operator==(intv a, int b) {\n",
        "  mask k = a == intv(b);\n",
        "  return k;\n",
        "}\n",
        "\n",
        "// ditto, but accept a scalar \n",
        "mask operator==(int a, intv b) {\n",
        "  mask k = intv(a) == b;\n",
        "  return k;\n",
        "}\n",
        "\n",
        "// C++ trick so that (a < b) returns the mask\n",
        "mask operator<(intv a, intv b) {\n",
        "  mask k = _mm512_cmp_epi32_mask(a.v, b.v, _MM_CMPINT_LT);\n",
        "  return k;\n",
        "}\n",
        "\n",
        "mask operator<(intv a, int b) {\n",
        "  mask k = a < intv(b);\n",
        "  return k;\n",
        "}\n",
        "\n",
        "mask operator<(int a, intv b) {\n",
        "  mask k = intv(a) < b;\n",
        "  return k;\n",
        "}\n",
        "\n",
        "// C++ trick so that (a > b) returns the mask\n",
        "mask operator>(intv a, intv b) {\n",
        "  mask k = _mm512_cmp_epi32_mask(a.v, b.v, _MM_CMPINT_NLE);\n",
        "  return k;\n",
        "}\n",
        "\n",
        "mask operator>(intv a, int b) {\n",
        "  mask k = a > intv(b);\n",
        "  return k;\n",
        "}\n",
        "\n",
        "mask operator>(int a, intv b) {\n",
        "  mask k = intv(a) > b;\n",
        "  return k;\n",
        "}\n",
        "\n",
        "// C++ trick so that (a <= b) returns the mask\n",
        "mask operator<=(intv a, intv b) {\n",
        "  mask k = _mm512_cmp_epi32_mask(a.v, b.v, _MM_CMPINT_LE);\n",
        "  return k;\n",
        "}\n",
        "\n",
        "mask operator<=(intv a, int b) {\n",
        "  mask k = a <= intv(b);\n",
        "  return k;\n",
        "}\n",
        "\n",
        "mask operator<=(int a, intv b) {\n",
        "  mask k = intv(a) <= b;\n",
        "  return k;\n",
        "}\n",
        "\n",
        "// blend a and b by mask value\n",
        "// k[i] is 1 -> take a[i]\n",
        "// k[i] is 0 -> take b[i]\n",
        "// read it as if it is C expression (k ? a : b)\n",
        "intv blend(mask k, intv a, intv b) {\n",
        "  _intv v = _mm512_mask_blend_epi32(k, b.v, a.v);\n",
        "  return intv(v);\n",
        "}\n",
        "\n",
        "// a + b (add other versions if necessary)\n",
        "intv operator+(intv a, intv b) {\n",
        "  _intv v = a.v + b.v;\n",
        "  return intv(v);\n",
        "}\n",
        "\n",
        "// a - b (add other versions if necessary)\n",
        "intv operator-(intv a, intv b) {\n",
        "  intv v = a.v - b.v;\n",
        "  return intv(v);\n",
        "}\n",
        "\n",
        "// a * b (add other versions if necessary)\n",
        "intv operator*(intv a, intv b) {\n",
        "  intv v = a.v * b.v;\n",
        "  return intv(v);\n",
        "}\n",
        "\n",
        "// a / b (add other versions if necessary)\n",
        "intv operator/(intv a, intv b) {\n",
        "  _intv v = a.v / b.v;\n",
        "  return intv(v);\n",
        "}\n",
        "\n",
        "intv operator/(intv a, int b) {\n",
        "  intv v = a / intv(b);\n",
        "  return v;\n",
        "}\n",
        "\n",
        "// gather(a, I, k) returns\n",
        "// a[I0], a[I1], ..., a[IL-1] for lanes whose bit is set in k.\n",
        "// unset lanes become zero\n",
        "intv gather(int * a, intv i, mask k) {\n",
        "  _intv y = _mm512_mask_i32gather_epi32(intv(0).v, k, i.v, a, sizeof(int));\n",
        "  return intv(y);\n",
        "}\n",
        "\n",
        "// return true if all bits of k are set\n",
        "int all(mask k) {\n",
        "  return (0xffff & k) == 0xffff;\n",
        "}\n",
        "\n",
        "// return true if any bit of k is set\n",
        "int any(mask k) {\n",
        "  return k != 0;\n",
        "}\n",
        "\n",
        "// count the number of bits set in k\n",
        "int count_one(mask k) {\n",
        "  int x = _mm_popcnt_u32((unsigned int)k);\n",
        "  return x;\n",
        "}\n",
        "\n",
        "// access consecutive L locations starting from an int location \n",
        "intv& V(int& p) {\n",
        "  return *((intv*)&p);\n",
        "}\n",
        "\n",
        "// [a, a+1, a+2, ..., a+L-1]\n",
        "intv linear(int a) {\n",
        "  int v[L];\n",
        "  for (int i = 0; i < L; i++) {\n",
        "    v[i] = a + i;\n",
        "  }\n",
        "  return intv(*((_intv*)v));\n",
        "}\n",
        ""
      ],
      "execution_count": null,
      "outputs": []
    },
    {
      "cell_type": "markdown",
      "metadata": {
        "kernel": "SoS",
        "nbgrader": {
          "grade": false,
          "grade_id": "c-036",
          "locked": true,
          "schema_version": 3,
          "solution": false,
          "task": false
        }
      },
      "source": [
        "* the main function that generates an array and measure time"
      ]
    },
    {
      "cell_type": "code",
      "metadata": {
        "kernel": "Python 3 (ipykernel)",
        "nbgrader": {
          "grade": true,
          "grade_id": "p-028",
          "locked": false,
          "schema_version": 3,
          "solution": true,
          "task": false,
          "points": 1
        }
      },
      "source": [
        "BEGIN SOLUTION\n",
        "END SOLUTION\n",
        "%%writefile binsearch_main.cc\n",
        "#include <assert.h>\n",
        "#include <stdio.h>\n",
        "#include <stdlib.h>\n",
        "#include <time.h>\n",
        "#include <x86intrin.h>\n",
        "\n",
        "#include \"binsearch_nosimd.h\"\n",
        "#include \"binsearch_simd_util.h\"\n",
        "#include \"binsearch_simd.h\"\n",
        "\n",
        "// make a random array of n elements, each element in [0:max_val)\n",
        "int * make_random_array(int n, int max_val, unsigned long seed) {\n",
        "  int * a = (int *)malloc(sizeof(int) * n);\n",
        "  assert(a);\n",
        "  unsigned short rg[3] = {\n",
        "    (unsigned short)(seed >> 32),\n",
        "    (unsigned short)(seed >> 16),\n",
        "    (unsigned short)(seed >>  0)\n",
        "  };\n",
        "  for (int i = 0; i < n; i++) {\n",
        "    a[i] = nrand48(rg) % max_val;\n",
        "  }\n",
        "  return a;\n",
        "}\n",
        "\n",
        "// print a[0:n] (don't call it with large n)\n",
        "void print_array(int * a, int n) {\n",
        "  for (int i = 0; i < n; i++) {\n",
        "    printf(\"%d \", a[i]);\n",
        "  }\n",
        "  printf(\"\\n\");\n",
        "}\n",
        "\n",
        "// wall clock time\n",
        "double get_wtime() {\n",
        "  struct timespec ts[1];\n",
        "  clock_gettime(CLOCK_REALTIME, ts);\n",
        "  return ts->tv_sec + ts->tv_nsec * 1.0e-9;\n",
        "}\n",
        "\n",
        "// aux function to sort the searched array\n",
        "int cmp_int(const void * _a, const void * _b) {\n",
        "  const int * a = (const int *)_a;\n",
        "  const int * b = (const int *)_b;\n",
        "  return *a - *b;\n",
        "}\n",
        "\n",
        "int main(int argc, char ** argv) {\n",
        "  int i = 1;\n",
        "  int simd = (argc > i ? atoi(argv[i]) : 0); i++;\n",
        "  int n = (argc > i ? atoi(argv[i]) : 10 * 1000 * 1000); i++;\n",
        "  int m = (argc > i ? atoi(argv[i]) :  5 * 1000 * 1000); i++;\n",
        "  // max_val = 3n => approximately 1/3 of values will be found\n",
        "  int max_val = (argc > i ? atoi(argv[i]) : 3 * n); i++;\n",
        "  unsigned long seed0 = (argc > i ? atol(argv[i]) : 1234567890L); i++;\n",
        "  unsigned long seed1 = (argc > i ? atol(argv[i]) : 2345678909L); i++;\n",
        "\n",
        "  // generate array A (to be searched)\n",
        "  printf(\"generating array A to be searched (%d elements in range 0..%d) ...\\n\", n, max_val); fflush(stdout);\n",
        "  int * a = make_random_array(n, max_val, seed0);\n",
        "  printf(\"sorting ...\\n\"); fflush(stdout);\n",
        "  qsort(a, n, sizeof(int), cmp_int);\n",
        "  //print_array(a, n);\n",
        "\n",
        "  // generate array X (values to search for)\n",
        "  printf(\"generating values X to search for (%d elements in range 0..%d) ...\\n\", m, max_val); fflush(stdout);\n",
        "  int * x = make_random_array(m, max_val, seed1);\n",
        "  //print_array(x, m);\n",
        "\n",
        "  // start the real thing\n",
        "  printf(\"start binary search ...\\n\"); fflush(stdout);\n",
        "  double t0 = get_wtime();\n",
        "  int c = (simd == 0 ?\n",
        "           binsearch_many(a, n, x, m) :\n",
        "           binsearch_many_simd(a, n, x, m));\n",
        "  double t1 = get_wtime();\n",
        "  printf(\"done in %f sec\\n\", t1 - t0);\n",
        "  printf(\"%d out of %d elements found in the array\\n\", c, m);\n",
        "  free(a);\n",
        "  free(x);\n",
        "  return 0;\n",
        "}"
      ],
      "execution_count": null,
      "outputs": []
    },
    {
      "cell_type": "code",
      "metadata": {
        "kernel": "Bash",
        "nbgrader": {
          "grade": true,
          "grade_id": "p-029",
          "locked": false,
          "schema_version": 3,
          "solution": true,
          "task": false,
          "points": 1
        }
      },
      "source": [
        "BEGIN SOLUTION\n",
        "END SOLUTION\n",
        "clang++ -Wall -O3 -mavx512f -mfma -o binsearch_main binsearch_main.cc\n",
        "#nvc++ -Wall -O3 -mavx512f -mfma -o binsearch_main binsearch_main.cc\n",
        "#g++ -Wall -O3 -mavx512f -mfma -o binsearch_main binsearch_main.cc"
      ],
      "execution_count": null,
      "outputs": []
    },
    {
      "cell_type": "code",
      "metadata": {
        "kernel": "Bash",
        "nbgrader": {
          "grade": true,
          "grade_id": "p-030",
          "locked": false,
          "schema_version": 3,
          "solution": true,
          "task": false,
          "points": 1
        }
      },
      "source": [
        "BEGIN SOLUTION\n",
        "END SOLUTION\n",
        "prlimit --cpu=10.0 ./binsearch_main"
      ],
      "execution_count": null,
      "outputs": []
    },
    {
      "cell_type": "markdown",
      "metadata": {
        "kernel": "SoS",
        "nbgrader": {
          "grade": false,
          "grade_id": "c-037",
          "locked": true,
          "schema_version": 3,
          "solution": false,
          "task": false
        }
      },
      "source": [
        "* if you give 1 to the first command line argument, it executes SIMD version, which is of course not implemented"
      ]
    },
    {
      "cell_type": "code",
      "metadata": {
        "kernel": "Bash",
        "nbgrader": {
          "grade": true,
          "grade_id": "p-031",
          "locked": false,
          "schema_version": 3,
          "solution": true,
          "task": false,
          "points": 1
        }
      },
      "source": [
        "BEGIN SOLUTION\n",
        "END SOLUTION\n",
        "prlimit --cpu=10.0 ./binsearch_main 1"
      ],
      "execution_count": null,
      "outputs": []
    },
    {
      "cell_type": "markdown",
      "metadata": {
        "kernel": "SoS",
        "nbgrader": {
          "grade": false,
          "grade_id": "c-038",
          "locked": true,
          "schema_version": 3,
          "solution": false,
          "task": false
        }
      },
      "source": [
        "* default parameters are the following and can be specified as second and third parameters\n",
        "  * the size of the array to be searched = 10 * 1000 * 1000\n",
        "  * the number of elements to search for = 5 * 1000 * 1000"
      ]
    },
    {
      "cell_type": "code",
      "metadata": {
        "kernel": "Bash",
        "nbgrader": {
          "grade": true,
          "grade_id": "p-032",
          "locked": false,
          "schema_version": 3,
          "solution": true,
          "task": false,
          "points": 1
        }
      },
      "source": [
        "BEGIN SOLUTION\n",
        "END SOLUTION\n",
        "# search 10-element array for 3 values, without SIMD\n",
        "prlimit --cpu=10.0 ./binsearch_main 0 10 3"
      ],
      "execution_count": null,
      "outputs": []
    },
    {
      "cell_type": "markdown",
      "metadata": {
        "kernel": "SoS",
        "nbgrader": {
          "grade": false,
          "grade_id": "c-039",
          "locked": true,
          "schema_version": 3,
          "solution": false,
          "task": false
        }
      },
      "source": [
        "* for the same parameters, scalar version and SIMD version must find exactly the same number of elements\n",
        "* <font color=\"green\">your job is to make that happen and make SIMD version run pleasingly faster (you cannot make it 16x times faster), by modifying `binsearch_nosimd.h` above</font>\n",
        "* <font color=\"red\">as I said in the beginning, this problem is very challenging\n",
        "* if you find it too challenging, work on the next problem first, which is easier (and more rewarding :-)\n",
        "* you will find it more efficient to work outside the browser using SSH + your favorite text editor + command line; feel free to do so\n",
        "  * when doing so, be careful not to overwrite your file by hitting SHIFT + ENTER on the code cell; work on a renamed file and paste it into the cell after everything is done\n",
        ""
      ]
    },
    {
      "cell_type": "code",
      "metadata": {
        "kernel": "Bash",
        "nbgrader": {
          "grade": true,
          "grade_id": "p-033",
          "locked": false,
          "schema_version": 3,
          "solution": true,
          "task": false,
          "points": 1
        }
      },
      "source": [
        "BEGIN SOLUTION\n",
        "END SOLUTION\n",
        "n=$((10 * 1000 * 1000))\n",
        "m=$((5 * 1000 * 1000))\n",
        "echo \"===== no simd =====\"\n",
        "prlimit --cpu=10.0 ./binsearch_main 0 ${n} ${m}  # no simd\n",
        "echo \"===== simd =====\"\n",
        "prlimit --cpu=10.0 ./binsearch_main 1 ${n} ${m}  # simd (you must make it)"
      ],
      "execution_count": null,
      "outputs": []
    },
    {
      "cell_type": "markdown",
      "metadata": {
        "kernel": "SoS",
        "nbgrader": {
          "grade": false,
          "grade_id": "c-040",
          "locked": true,
          "schema_version": 3,
          "solution": false,
          "task": false
        }
      },
      "source": [
        "# 7. Combining vectorization + parallelization",
        "\n",
        "* now you learned both parallelization and vectorization\n",
        "* why don't you do both?\n",
        "\n",
        "# <font color=\"green\"> Problem 3 :  Vectorize + parallelize integral</font>",
        "\n",
        "* apply both simd and parallel for to the following\n",
        "* you don't have to stick with the given parameter (10000 or 30000); play with it to observe good performance"
      ]
    },
    {
      "cell_type": "code",
      "metadata": {
        "kernel": "Python 3 (ipykernel)",
        "nbgrader": {
          "grade": true,
          "grade_id": "p-034",
          "locked": false,
          "schema_version": 3,
          "solution": true,
          "task": false,
          "points": 1
        }
      },
      "source": [
        "BEGIN SOLUTION\n",
        "END SOLUTION\n",
        "%%writefile integral_parallel_simd.c\n",
        "#include <math.h>\n",
        "#include <stdio.h>\n",
        "#include <stdlib.h>\n",
        "#include <time.h>\n",
        "\n",
        "double int_sqrt_one_minus_x2_y2(long n) {\n",
        "  double h = 1.0 / n;\n",
        "  double s = 0.0;\n",
        "  for (long i = 0; i < n; i++) {\n",
        "    for (long j = 0; j < n; j++) {\n",
        "      double x = i * h ;\n",
        "      double y = j * h;\n",
        "      double z = 1 - x * x - y * y;\n",
        "      if (z > 0.0) {\n",
        "        s += sqrt(z);\n",
        "      } else {\n",
        "        break;\n",
        "      }\n",
        "    }\n",
        "  }\n",
        "  return s * h * h;\n",
        "}\n",
        "\n",
        "// wall clock time\n",
        "double get_wtime() {\n",
        "  struct timespec ts[1];\n",
        "  clock_gettime(CLOCK_REALTIME, ts);\n",
        "  return ts->tv_sec + ts->tv_nsec * 1.0e-9;\n",
        "}\n",
        "\n",
        "int main(int argc, char ** argv) {\n",
        "  int i = 1;\n",
        "  long n      = (argc > i ? atof(argv[i]) : 30L * 1000L); i++;\n",
        "  long repeat = (argc > i ? atof(argv[i]) : 5);           i++;\n",
        "  n += 15;\n",
        "  n = (n / 16) * 16;\n",
        "  double n_sqrts = (M_PI / 4) * n * n;\n",
        "  for (long r = 0; r < repeat; r++) {\n",
        "    printf(\"===== repeat %ld =====\\n\", r);\n",
        "    fflush(stdout);\n",
        "    double t0 = get_wtime();\n",
        "    double s = int_sqrt_one_minus_x2_y2(n);\n",
        "    double t1 = get_wtime();\n",
        "    double dt = t1 - t0;\n",
        "    printf(\"s = %.9f (err = |s - pi/6| = %e)\\n\", s, fabs(s - M_PI/6));\n",
        "    printf(\"%f sec\\n\", dt);\n",
        "    printf(\"%f points/sec\\n\", n_sqrts / dt);\n",
        "    fflush(stdout);\n",
        "  }\n",
        "  return 0;\n",
        "}"
      ],
      "execution_count": null,
      "outputs": []
    },
    {
      "cell_type": "code",
      "metadata": {
        "kernel": "Bash",
        "nbgrader": {
          "grade": true,
          "grade_id": "p-035",
          "locked": false,
          "schema_version": 3,
          "solution": true,
          "task": false,
          "points": 1
        }
      },
      "source": [
        "BEGIN SOLUTION\n",
        "END SOLUTION\n",
        "clang -Wall -O3 -mavx512f -mfma -o integral_parallel_simd integral_parallel_simd.c -lm\n",
        "#nvc -Wall -O3 -mavx512f -mfma -o integral_parallel_simd integral_parallel_simd.c -lm\n",
        "#gcc -Wall -O3 -mavx512f -mfma -o integral_parallel_simd integral_parallel_simd.c -lm"
      ],
      "execution_count": null,
      "outputs": []
    },
    {
      "cell_type": "code",
      "metadata": {
        "kernel": "Bash",
        "nbgrader": {
          "grade": true,
          "grade_id": "p-036",
          "locked": false,
          "schema_version": 3,
          "solution": true,
          "task": false,
          "points": 1
        }
      },
      "source": [
        "BEGIN SOLUTION\n",
        "END SOLUTION\n",
        "prlimit --cpu=3.0 ./integral_parallel_simd 10000\n",
        "prlimit --cpu=10.0 ./integral_parallel_simd 30000"
      ],
      "execution_count": null,
      "outputs": []
    }
  ],
  "metadata": {
    "celltoolbar": "Create Assignment",
    "kernelspec": {
      "display_name": "SoS",
      "language": "sos",
      "name": "sos"
    },
    "language_info": {
      "codemirror_mode": "sos",
      "file_extension": ".sos",
      "mimetype": "text/x-sos",
      "name": "sos",
      "nbconvert_exporter": "sos_notebook.converter.SoS_Exporter",
      "pygments_lexer": "sos"
    },
    "sos": {
      "kernels": [
        [
          "Bash",
          "bash",
          "bash",
          "",
          "shell"
        ],
        [
          "C",
          "c_kernel",
          "c",
          "",
          ""
        ],
        [
          "Go",
          "gophernotes",
          "go",
          "",
          ""
        ],
        [
          "Julia 1.10.2",
          "julia-1.10",
          "julia",
          "",
          ""
        ],
        [
          "OCaml default",
          "ocaml-jupyter",
          "OCaml",
          "",
          "text/x-ocaml"
        ],
        [
          "Python 3 (ipykernel)",
          "python3",
          "python3",
          "",
          {
            "name": "ipython",
            "version": 3
          }
        ],
        [
          "Rust",
          "rust",
          "rust",
          "",
          ""
        ]
      ],
      "panel": {
        "displayed": true,
        "height": 0
      },
      "version": "0.23.3"
    }
  },
  "nbformat": 4,
  "nbformat_minor": 4
}