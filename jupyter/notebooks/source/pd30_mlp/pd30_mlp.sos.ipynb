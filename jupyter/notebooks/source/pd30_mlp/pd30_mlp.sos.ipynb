{
  "cells": [
    {
      "cell_type": "markdown",
      "metadata": {
        "kernel": "SoS",
        "nbgrader": {
          "grade": false,
          "grade_id": "c-001",
          "locked": true,
          "schema_version": 3,
          "solution": false,
          "task": false
        }
      },
      "source": [
        "#  Exercise : optimizing a neural network inference"
      ]
    },
    {
      "cell_type": "markdown",
      "metadata": {
        "kernel": "SoS",
        "nbgrader": {
          "grade": false,
          "grade_id": "c-002",
          "locked": true,
          "schema_version": 3,
          "solution": false,
          "task": false
        }
      },
      "source": [
        "\n",
        "* In this exercise, you combine all the knowledges you have learned so far and you will learn soon, to make a simple neural network faster\n",
        "* This notebook just serves as the toplevel instruction and the working directory\n",
        "* You should do this work using terminal rather than in the notebook\n",
        "  * If you have never done so, see the [instruction](https://taura.github.io/programming-languages/html/jupyter.html)\n",
        "* Start by, from your own machine, \n",
        "```\n",
        "ssh u2XXXX@tauleg.zapto.org   # or u2XXXX@taulec.zapto.org\n",
        "```\n",
        "* On the `tauleg` (or `taulec`) machine, do\n",
        "```\n",
        "tauleg$ cd notebooks/pd30_mlp\n",
        "```\n",
        "and follow the instruction at https://github.com/taura/parallel-distributed-programming-code-2024/tree/main/30mlp\n",
        "* Work under `notebooks/pd30_mlp/parallel-distributed-programming-code-2024/30mlp`, so that when you submit this notebook, your program will be automatically included\n",
        ""
      ]
    }
  ],
  "metadata": {
    "celltoolbar": "Create Assignment",
    "kernelspec": {
      "display_name": "SoS",
      "language": "sos",
      "name": "sos"
    },
    "language_info": {
      "codemirror_mode": "sos",
      "file_extension": ".sos",
      "mimetype": "text/x-sos",
      "name": "sos",
      "nbconvert_exporter": "sos_notebook.converter.SoS_Exporter",
      "pygments_lexer": "sos"
    },
    "sos": {
      "kernels": [
        [
          "Bash",
          "bash",
          "bash",
          "",
          "shell"
        ],
        [
          "C",
          "c_kernel",
          "c",
          "",
          ""
        ],
        [
          "Go",
          "gophernotes",
          "go",
          "",
          ""
        ],
        [
          "Julia 1.10.2",
          "julia-1.10",
          "julia",
          "",
          ""
        ],
        [
          "OCaml default",
          "ocaml-jupyter",
          "OCaml",
          "",
          "text/x-ocaml"
        ],
        [
          "Python 3 (ipykernel)",
          "python3",
          "python3",
          "",
          {
            "name": "ipython",
            "version": 3
          }
        ],
        [
          "Rust",
          "rust",
          "rust",
          "",
          ""
        ]
      ],
      "panel": {
        "displayed": true,
        "height": 0
      },
      "version": "0.23.3"
    }
  },
  "nbformat": 4,
  "nbformat_minor": 4
}