{
  "cells": [
    {
      "cell_type": "markdown",
      "metadata": {
        "kernel": "SoS",
        "nbgrader": {
          "grade": false,
          "grade_id": "c-001",
          "locked": true,
          "schema_version": 3,
          "solution": false,
          "task": false
        }
      },
      "source": [
        "# 1. SIMD programming (I) --- high level SIMD programming with auto vectorization and OpenMP SIMD directives",
        "\n",
        "* In this notebook you learn how to use SIMD instructions of CPUs without explicitly manipulating vectors of values (i.e., let the compiler vectorize ordinary loops only using scalar values)\n",
        "\n",
        "# 2. Basics",
        "\n",
        "* <font color=\"blue\">SIMD</font> stands for _Single Instruction Multiple Data_\n",
        "* CPU offers <font color=\"blue\">SIMD registers</font> that can hold a number of operands (say 16 float numbers) as well as <font color=\"blue\">SIMD instructions</font> that operate on all values on SIMD registers\n",
        "* In the context of SIMD programming, we use \"SIMD\" and <font color=\"blue\">\"vector\"</font> almost interchangeably.  We say \"vector registers\" or \"vector operands\" in place of \"SIMD registers\" or \"SIMD operands\"\n",
        "* We say \"<font color=\"blue\">vectorize</font> this program\" to mean \"utilize vector/SIMD instructions\".  We casually say \"<font color=\"blue\">simdize</font> this program\" as well.\n",
        "* We call an ordinary single value (e.g., a float) a <font color=\"blue\">\"scalar\"</font>.  Scalar is an antonym of vector in SIMD programming context.\n",
        "* There are various ways to vectorize programs, roughly in the order of high-level approaches to low-level ones\n",
        "  * use libraries that are already using SIMD (we don't discuss this further)\n",
        "  * write ordinary loops and hope the compiler does the job\n",
        "  * use simd directives of OpenMP or other language constructs that are designed to be compiled to SIMD instructions but never make SIMD operands explicit in the program; all expressions of your program are still of ordinary scalar types\n",
        "  * use explicit vector types and variables/expressions of vector types, effectively making \"SIMD registers\" visible entities in programs\n",
        "  * plus use vector intrinsics, functions that almost directly correspond to SIMD instructions\n",
        "  * use assembly\n",
        "\n",
        "# 3. High-level SIMD programming and vectorization report",
        "\n",
        "* in so-called \"high level\" SIMD programming, you do not explicitly deal with SIMD values nor instructions\n",
        "* you typically write an ordinary loop and hope the compiler is able to vectorize it\n",
        "* in this approach, the basic issue is how to know if the compiler is successfully able to vectorize your code\n",
        "* there are options to ask the compiler to report about successful/missed vectorizations\n",
        ""
      ]
    },
    {
      "cell_type": "markdown",
      "metadata": {
        "kernel": "SoS",
        "nbgrader": {
          "grade": false,
          "grade_id": "c-002",
          "locked": true,
          "schema_version": 3,
          "solution": false,
          "task": false
        }
      },
      "source": [
        "# 4. Compilers",
        "\n",
        "* Modern compilers including GCC, LLVM, NVIDIA HPC SDK support SIMD.\n",
        "* We continue to use [NVIDIA HPC SDK ver. 24.9](https://docs.nvidia.com/hpc-sdk/index.html) (`nvc` and `nvc++`) and [LLVM ver. 20.0](https://llvm.org/) (`clang` and `clang++`)\n",
        "* We also try GCC to see if which compilers are able to vectorize which code\n",
        "\n",
        "## 4-1. Set up NVIDIA HPC SDK",
        "\n",
        "Execute this before you use NVIDIA HPC SDK"
      ]
    },
    {
      "cell_type": "code",
      "metadata": {
        "kernel": "Bash",
        "nbgrader": {
          "grade": false,
          "grade_id": "c-003",
          "locked": false,
          "schema_version": 3,
          "solution": false,
          "task": false
        }
      },
      "source": [
        "export PATH=/opt/nvidia/hpc_sdk/Linux_x86_64/24.9/compilers/bin:$PATH"
      ],
      "execution_count": null,
      "outputs": []
    },
    {
      "cell_type": "markdown",
      "metadata": {
        "kernel": "SoS",
        "nbgrader": {
          "grade": false,
          "grade_id": "c-004",
          "locked": true,
          "schema_version": 3,
          "solution": false,
          "task": false
        }
      },
      "source": [
        "Check if it works (check if full paths of nvc/nvc++ are shown)"
      ]
    },
    {
      "cell_type": "code",
      "metadata": {
        "kernel": "Bash",
        "nbgrader": {
          "grade": false,
          "grade_id": "c-005",
          "locked": false,
          "schema_version": 3,
          "solution": false,
          "task": false
        }
      },
      "source": [
        "which nvc\n",
        "which nvc++"
      ],
      "execution_count": null,
      "outputs": []
    },
    {
      "cell_type": "markdown",
      "metadata": {
        "kernel": "SoS",
        "nbgrader": {
          "grade": false,
          "grade_id": "c-006",
          "locked": true,
          "schema_version": 3,
          "solution": false,
          "task": false
        }
      },
      "source": [
        "## 4-2. Set up LLVM",
        "\n",
        "Execute this before you use LLVM"
      ]
    },
    {
      "cell_type": "code",
      "metadata": {
        "kernel": "Bash",
        "nbgrader": {
          "grade": false,
          "grade_id": "c-007",
          "locked": false,
          "schema_version": 3,
          "solution": false,
          "task": false
        }
      },
      "source": [
        "export PATH=/home/share/llvm/bin:$PATH"
      ],
      "execution_count": null,
      "outputs": []
    },
    {
      "cell_type": "markdown",
      "metadata": {
        "kernel": "SoS",
        "nbgrader": {
          "grade": false,
          "grade_id": "c-008",
          "locked": true,
          "schema_version": 3,
          "solution": false,
          "task": false
        }
      },
      "source": [
        "Check if it works (check if full paths of nvc/nvc++ are shown)"
      ]
    },
    {
      "cell_type": "code",
      "metadata": {
        "kernel": "Bash",
        "nbgrader": {
          "grade": false,
          "grade_id": "c-009",
          "locked": false,
          "schema_version": 3,
          "solution": false,
          "task": false
        }
      },
      "source": [
        "which clang\n",
        "which clang++"
      ],
      "execution_count": null,
      "outputs": []
    },
    {
      "cell_type": "markdown",
      "metadata": {
        "kernel": "SoS",
        "nbgrader": {
          "grade": false,
          "grade_id": "c-010",
          "locked": true,
          "schema_version": 3,
          "solution": false,
          "task": false
        }
      },
      "source": [
        "## 4-3. GCC",
        "\n",
        "* It's installed at a usual location /usr/bin/gcc"
      ]
    },
    {
      "cell_type": "markdown",
      "metadata": {
        "kernel": "SoS",
        "nbgrader": {
          "grade": false,
          "grade_id": "c-011",
          "locked": true,
          "schema_version": 3,
          "solution": false,
          "task": false
        }
      },
      "source": [
        "Check if it works (check if full paths of nvc/nvc++ are shown)"
      ]
    },
    {
      "cell_type": "code",
      "metadata": {
        "kernel": "Bash",
        "nbgrader": {
          "grade": false,
          "grade_id": "c-012",
          "locked": false,
          "schema_version": 3,
          "solution": false,
          "task": false
        }
      },
      "source": [
        "which gcc\n",
        "which g++"
      ],
      "execution_count": null,
      "outputs": []
    },
    {
      "cell_type": "markdown",
      "metadata": {
        "kernel": "SoS",
        "nbgrader": {
          "grade": false,
          "grade_id": "c-013",
          "locked": true,
          "schema_version": 3,
          "solution": false,
          "task": false
        }
      },
      "source": [
        "# 5. A first encounter to a vectorized code",
        "\n",
        "* let's take a look at a code easiest to vectorize\n",
        "* serious compilers generally support options to let the programmer know how they vectorized (or didn't vectorize) the code\n",
        "  * clang(++): `-Rpass=loop-vectorize` and `-Rpass-missed=loop-vectorize`\n",
        "  * nvc(++): `-Minfo=vect` and `-Mneginfo=vect`\n",
        "  * gcc (g++): `-fopt-info-vec-optimized` and `-fopt-info-vec-missed`\n",
        "\n",
        "* you'll see the following code is successfully vectorized with sufficiently high optimization flags (e.g., `-O`, `-O3`, or `-O4`)"
      ]
    },
    {
      "cell_type": "code",
      "metadata": {
        "kernel": "Python 3 (ipykernel)",
        "nbgrader": {
          "grade": true,
          "grade_id": "p-001",
          "locked": false,
          "schema_version": 3,
          "solution": true,
          "task": false,
          "points": 1
        }
      },
      "source": [
        "BEGIN SOLUTION\n",
        "END SOLUTION\n",
        "%%writefile axpb.c\n",
        "void axpb(float a, float * x, float b, long n) {\n",
        "  for (long i = 0; i < n; i++) {\n",
        "    x[i] = a * x[i] + b;\n",
        "  }\n",
        "}"
      ],
      "execution_count": null,
      "outputs": []
    },
    {
      "cell_type": "code",
      "metadata": {
        "kernel": "Bash",
        "nbgrader": {
          "grade": true,
          "grade_id": "p-002",
          "locked": false,
          "schema_version": 3,
          "solution": true,
          "task": false,
          "points": 1
        }
      },
      "source": [
        "BEGIN SOLUTION\n",
        "END SOLUTION\n",
        "# will produce axpb.s\n",
        "clang -S -Wall -O3 -mavx512f -mfma -Rpass=loop-vectorize -Rpass-missed=loop-vectorize axpb.c\n",
        "#nvc -S -Wall -O3 -mavx512f -mfma -Minfo=vect -Mneginfo=vect axpb.c\n",
        "#gcc -S -Wall -O3 -mavx512f -mfma -fopt-info-vec-optimized -fopt-info-vec-missed axpb.c"
      ],
      "execution_count": null,
      "outputs": []
    },
    {
      "cell_type": "markdown",
      "metadata": {
        "kernel": "SoS",
        "nbgrader": {
          "grade": false,
          "grade_id": "c-014",
          "locked": true,
          "schema_version": 3,
          "solution": false,
          "task": false
        }
      },
      "source": [
        "* roughly, vectorization is about converting a loop like\n",
        "```\n",
        "for (i = 0; i < n; i++) {\n",
        "  statement(i);\n",
        "}\n",
        "```\n",
        "into\n",
        "```\n",
        "for (i = 0; i < n; i += L) {\n",
        "  statement(i:i+L);\n",
        "}\n",
        "```\n",
        "where L is the SIMD width (we assume L divides n) and statement(i:i+L) is an informal notation that executes statement(i) ... statement(i+L-1).\n",
        "\n",
        "The above loop will be executed like\n",
        "```\n",
        "for (i = 0; i < n; i += L) {\n",
        "  x[i:i+L] = a * x[i:i+L] + b;\n",
        "}\n",
        "```\n",
        "where `x[i:i+L]` represents a vector of L values `x[i], x[i+1], ..., x[i+L-1]`.\n",
        "\n",
        "# 6. Instructions and compiler flags",
        "\n",
        "* SIMD instructions are used when an optimization level is beyond a certain threshold or a specific flag is given\n",
        "  * clang : `-fvectorize`\n",
        "  * nvc : `-Mvect`\n",
        "  * gcc : `-ftree-vectorize`\n",
        "* which SIMD instructions are used depends on compiler flags and the host CPU\n",
        "  * `-mavx` uses AVX (256 bits)\n",
        "  * `-mavx2` uses AVX2 (256 bits)\n",
        "  * `-mavx512f` uses AVX512F (512 bits)\n",
        "  * `-mfma` uses fused multiply-add\n",
        "  * `-march=native` should use instructions supported on the compilation host, but do not count on this (see below)\n",
        "* by giving a suitable flag, it is possible to generate instructions regardless of the instructions supported on the compilation host. e.g., `-mavx512f` will generate AVX512F instructions even on hosts not supporting them\n",
        "* you can check which ISAs are supported by looking at `/proc/cpuinfo`\n",
        "* taulec and tauleg000 support AVX512F (and its ancestors AVX2, AVX, and SSE)\n",
        "* giving `-march=native` on taulec should use AVX512F, but it doesn't, for reasons I don't know. let's stick with `-mavx512f -mfma` (you can change it to other flags when necessary)"
      ]
    },
    {
      "cell_type": "code",
      "metadata": {
        "kernel": "Bash",
        "nbgrader": {
          "grade": false,
          "grade_id": "c-015",
          "locked": false,
          "schema_version": 3,
          "solution": false,
          "task": false
        }
      },
      "source": [
        "grep flags /proc/cpuinfo | uniq"
      ],
      "execution_count": null,
      "outputs": []
    },
    {
      "cell_type": "markdown",
      "metadata": {
        "kernel": "SoS",
        "nbgrader": {
          "grade": false,
          "grade_id": "c-016",
          "locked": true,
          "schema_version": 3,
          "solution": false,
          "task": false
        }
      },
      "source": [
        "* if you run an executable that uses unsupported instructions, you will get an illegal instruction\n",
        "* the following should run OK on our environment (taulec, tauleg000, or some other hosts that come out later)"
      ]
    },
    {
      "cell_type": "code",
      "metadata": {
        "kernel": "Python 3 (ipykernel)",
        "nbgrader": {
          "grade": true,
          "grade_id": "p-003",
          "locked": false,
          "schema_version": 3,
          "solution": true,
          "task": false,
          "points": 1
        }
      },
      "source": [
        "BEGIN SOLUTION\n",
        "END SOLUTION\n",
        "%%writefile test_isa_avx512f.c\n",
        "#include <stdio.h>\n",
        "#include <x86intrin.h>\n",
        "int main(int argc, char ** argv) {\n",
        "  int i = 1;\n",
        "  float a = (argc > i ? atof(argv[i]) : 1.23); i++;\n",
        "  float b = (argc > i ? atof(argv[i]) : 1.23); i++;\n",
        "  __m512 v = _mm512_set1_ps(b);\n",
        "  __m512 c = a * v;\n",
        "  printf(\"OK: c[0] = %f\\n\", c[0]);\n",
        "  return 0;\n",
        "}"
      ],
      "execution_count": null,
      "outputs": []
    },
    {
      "cell_type": "code",
      "metadata": {
        "kernel": "Bash",
        "nbgrader": {
          "grade": true,
          "grade_id": "p-004",
          "locked": false,
          "schema_version": 3,
          "solution": true,
          "task": false,
          "points": 1
        }
      },
      "source": [
        "BEGIN SOLUTION\n",
        "END SOLUTION\n",
        "clang -O3 -Wall -mavx512f -mfma -o test_isa_avx512f test_isa_avx512f.c\n",
        "#nvc -O3 -Wall -mavx512f -mfma -o test_isa_avx512f test_isa_avx512f.c\n",
        "#gcc -O3 -Wall -mavx512f -mfma -o test_isa_avx512f test_isa_avx512f.c"
      ],
      "execution_count": null,
      "outputs": []
    },
    {
      "cell_type": "code",
      "metadata": {
        "kernel": "Bash",
        "nbgrader": {
          "grade": true,
          "grade_id": "p-005",
          "locked": false,
          "schema_version": 3,
          "solution": true,
          "task": false,
          "points": 1
        }
      },
      "source": [
        "BEGIN SOLUTION\n",
        "END SOLUTION\n",
        "./test_isa_avx512f"
      ],
      "execution_count": null,
      "outputs": []
    },
    {
      "cell_type": "markdown",
      "metadata": {
        "kernel": "SoS",
        "nbgrader": {
          "grade": false,
          "grade_id": "c-017",
          "locked": true,
          "schema_version": 3,
          "solution": false,
          "task": false
        }
      },
      "source": [
        "# 7. `-S` option is your friend",
        "\n",
        "* let's compare the generated machine code (assembly) of vectorized and unvectorized versions\n",
        "* here are things you want to know\n",
        "  1. `-S` option (of clang, nvc and gcc) generates assembly code (_xxx_.c becomes _xxx_.s)\n",
        "  1. `asm volatile (\"...\")` is an inline assembly, which simply puts ... into the generated assembly code\n",
        "  1. its true purpose is to write assembly instruction in C code, but here we use it to put a landmark in the beginning and the end of a loop we are interested in.  note that we put `asm volatile (\"# ...\")`, which is a comment of assembly having no effect. without it it quickly becomes difficult to locate the assembly code corresponding to the loop\n",
        "\n",
        "## 7-1. inhibiting vectorization",
        "\n",
        "* compilers generally support options to disable vectorization\n",
        "  * clang : `-fno-vectorize`\n",
        "  * nvc : ??? (`-Mnovect` should be it, but it does not seem to have the desired effect)\n",
        "  * gcc : `-fno-tree-vectorize`"
      ]
    },
    {
      "cell_type": "code",
      "metadata": {
        "kernel": "Python 3 (ipykernel)",
        "nbgrader": {
          "grade": true,
          "grade_id": "p-006",
          "locked": false,
          "schema_version": 3,
          "solution": true,
          "task": false,
          "points": 1
        }
      },
      "source": [
        "BEGIN SOLUTION\n",
        "END SOLUTION\n",
        "%%writefile axpb_scalar.c\n",
        "void axpb_scalar(float a, float * x, float b, long n) {\n",
        "  asm volatile(\"# ========== loop begins ==========\");\n",
        "  for (long i = 0; i < n; i++) {\n",
        "    x[i] = a * x[i] + b;\n",
        "  }\n",
        "  asm volatile(\"# ---------- loop ends ----------\");\n",
        "}"
      ],
      "execution_count": null,
      "outputs": []
    },
    {
      "cell_type": "markdown",
      "metadata": {
        "kernel": "SoS",
        "nbgrader": {
          "grade": false,
          "grade_id": "c-018",
          "locked": true,
          "schema_version": 3,
          "solution": false,
          "task": false
        }
      },
      "source": [
        "* with `-S` option you can see the generated instructions (machine code or assembly code to be more precise)"
      ]
    },
    {
      "cell_type": "code",
      "metadata": {
        "kernel": "Bash",
        "nbgrader": {
          "grade": true,
          "grade_id": "p-007",
          "locked": false,
          "schema_version": 3,
          "solution": true,
          "task": false,
          "points": 1
        }
      },
      "source": [
        "BEGIN SOLUTION\n",
        "END SOLUTION\n",
        "# will produce axpb_scalar.s\n",
        "clang -S -Wall -O3 -mavx512f -mfma -fno-vectorize -Rpass=loop-vectorize -Rpass-missed=loop-vectorize axpb_scalar.c\n",
        "#nvc -S -Wall -O3 -mavx512f -mfma -Mnovect -Minfo=vect -Mneginfo=vect axpb_scalar.c\n",
        "#gcc -S -Wall -O3 -mavx512f -mfma -fno-tree-vectorize -fopt-info-vec-optimized -fopt-info-vec-missed axpb_scalar.c"
      ],
      "execution_count": null,
      "outputs": []
    },
    {
      "cell_type": "code",
      "metadata": {
        "kernel": "Bash",
        "nbgrader": {
          "grade": true,
          "grade_id": "p-008",
          "locked": false,
          "schema_version": 3,
          "solution": true,
          "task": false,
          "points": 1
        }
      },
      "source": [
        "BEGIN SOLUTION\n",
        "END SOLUTION\n",
        "cat -n axpb_scalar.s"
      ],
      "execution_count": null,
      "outputs": []
    },
    {
      "cell_type": "markdown",
      "metadata": {
        "kernel": "SoS",
        "nbgrader": {
          "grade": false,
          "grade_id": "c-019",
          "locked": true,
          "schema_version": 3,
          "solution": false,
          "task": false
        }
      },
      "source": [
        "* details may be different, but you'll find something like this for clang (gcc generates a simpler code)\n",
        "```\n",
        "    27\t.LBB0_8:                                # =>This Inner Loop Header: Depth=1\n",
        "    28\t\tvmovss\t(%rdi,%rcx,4), %xmm2            # xmm2 = mem[0],zero,zero,zero\n",
        "    29\t\tvfmadd213ss\t%xmm1, %xmm0, %xmm2     # xmm2 = (xmm0 * xmm2) + xmm1\n",
        "    30\t\tvmovss\t%xmm2, (%rdi,%rcx,4)\n",
        "    31\t\tvmovss\t4(%rdi,%rcx,4), %xmm2           # xmm2 = mem[0],zero,zero,zero\n",
        "    32\t\tvfmadd213ss\t%xmm1, %xmm0, %xmm2     # xmm2 = (xmm0 * xmm2) + xmm1\n",
        "    33\t\tvmovss\t%xmm2, 4(%rdi,%rcx,4)\n",
        "    34\t\tvmovss\t8(%rdi,%rcx,4), %xmm2           # xmm2 = mem[0],zero,zero,zero\n",
        "    35\t\tvfmadd213ss\t%xmm1, %xmm0, %xmm2     # xmm2 = (xmm0 * xmm2) + xmm1\n",
        "    36\t\tvmovss\t%xmm2, 8(%rdi,%rcx,4)\n",
        "    37\t\tvmovss\t12(%rdi,%rcx,4), %xmm2          # xmm2 = mem[0],zero,zero,zero\n",
        "    38\t\tvfmadd213ss\t%xmm1, %xmm0, %xmm2     # xmm2 = (xmm0 * xmm2) + xmm1\n",
        "    39\t\tvmovss\t%xmm2, 12(%rdi,%rcx,4)\n",
        "    40\t\taddq\t$4, %rcx\n",
        "    41\t\tcmpq\t%rcx, %rsi\n",
        "    42\t\tjne\t.LBB0_8\n",
        "```\n",
        "\n",
        "* observe the label `.LBB0_8` and `jne .LBB0_8` (jump if not equal) form a loop\n",
        "* `vfmadd132ss` does `a * x + b`, and importantly, `ss` is a hallmark of scalar instruction and single precision instruction\n",
        "* the loop body contains four vfmadd213ss. it is the result of compiler optimization (loop unrolling) that reduces the number of compare / jump instructions to iterate\n",
        "* with `vfmadd132ss`, we are pretty confident that the code is NOT vectorized\n",
        "\n",
        "## 7-2. vectorized version",
        "\n",
        "* now let's look at a vectorized version"
      ]
    },
    {
      "cell_type": "code",
      "metadata": {
        "kernel": "Python 3 (ipykernel)",
        "nbgrader": {
          "grade": true,
          "grade_id": "p-009",
          "locked": false,
          "schema_version": 3,
          "solution": true,
          "task": false,
          "points": 1
        }
      },
      "source": [
        "BEGIN SOLUTION\n",
        "END SOLUTION\n",
        "%%writefile axpb_simd.c\n",
        "void axpb_simd(float a, float * x, float b, long n) {\n",
        "  asm volatile(\"# ========== loop begins ==========\");\n",
        "  for (long i = 0; i < n; i++) {\n",
        "    x[i] = a * x[i] + b;\n",
        "  }\n",
        "  asm volatile(\"# ---------- loop ends ----------\");\n",
        "}"
      ],
      "execution_count": null,
      "outputs": []
    },
    {
      "cell_type": "code",
      "metadata": {
        "kernel": "Bash",
        "nbgrader": {
          "grade": true,
          "grade_id": "p-010",
          "locked": false,
          "schema_version": 3,
          "solution": true,
          "task": false,
          "points": 1
        }
      },
      "source": [
        "BEGIN SOLUTION\n",
        "END SOLUTION\n",
        "# will produce axpb_simd.s\n",
        "clang -S -Wall -O3 -mavx512f -mfma -Rpass=loop-vectorize -Rpass-missed=loop-vectorize axpb_simd.c\n",
        "#nvc -S -Wall -O3 -mavx512f -mfma -Minfo=vect -Mneginfo=vect axpb_simd.c\n",
        "#gcc -S -Wall -O3 -mavx512f -mfma -fopt-info-vec-optimized -fopt-info-vec-missed axpb_simd.c"
      ],
      "execution_count": null,
      "outputs": []
    },
    {
      "cell_type": "code",
      "metadata": {
        "kernel": "Bash",
        "nbgrader": {
          "grade": true,
          "grade_id": "p-011",
          "locked": false,
          "schema_version": 3,
          "solution": true,
          "task": false,
          "points": 1
        }
      },
      "source": [
        "BEGIN SOLUTION\n",
        "END SOLUTION\n",
        "cat -n axpb_simd.s"
      ],
      "execution_count": null,
      "outputs": []
    },
    {
      "cell_type": "markdown",
      "metadata": {
        "kernel": "SoS",
        "nbgrader": {
          "grade": false,
          "grade_id": "c-020",
          "locked": true,
          "schema_version": 3,
          "solution": false,
          "task": false
        }
      },
      "source": [
        "* you will find it difficult to locate where is the loop you are looking for\n",
        "* look for labels (`.Lx`) and jump instructions (`jxx .Lx`) that forms a small loop, which will be something like\n",
        "```\n",
        "    33\t.LBB0_6:                                # =>This Inner Loop Header: Depth=1\n",
        "    34\t\tvmovups\t(%rdi,%rcx,4), %zmm4\n",
        "    35\t\tvfmadd213ps\t%zmm3, %zmm2, %zmm4     # zmm4 = (zmm2 * zmm4) + zmm3\n",
        "    36\t\tvmovups\t64(%rdi,%rcx,4), %zmm5\n",
        "    37\t\tvfmadd213ps\t%zmm3, %zmm2, %zmm5     # zmm5 = (zmm2 * zmm5) + zmm3\n",
        "    38\t\tvmovups\t128(%rdi,%rcx,4), %zmm6\n",
        "    39\t\tvfmadd213ps\t%zmm3, %zmm2, %zmm6     # zmm6 = (zmm2 * zmm6) + zmm3\n",
        "    40\t\tvmovups\t192(%rdi,%rcx,4), %zmm7\n",
        "    41\t\tvfmadd213ps\t%zmm3, %zmm2, %zmm7     # zmm7 = (zmm2 * zmm7) + zmm3\n",
        "    42\t\tvmovups\t%zmm4, (%rdi,%rcx,4)\n",
        "    43\t\tvmovups\t%zmm5, 64(%rdi,%rcx,4)\n",
        "    44\t\tvmovups\t%zmm6, 128(%rdi,%rcx,4)\n",
        "    45\t\tvmovups\t%zmm7, 192(%rdi,%rcx,4)\n",
        "    46\t\taddq\t$64, %rcx\n",
        "    47\t\tcmpq\t%rcx, %rax\n",
        "    48\t\tjne\t.LBB0_6\n",
        "```\n",
        "* it looks very similar to the previous example, but notice `vfmadd132ps` instruction, which is _p_acked (vectorized) _s_ingle-precision instruction.  this _p_ is the hallmark of vectorized code\n",
        "* the generated instructions include many other instructions and look complex. this is because the loop count may not be a multiple of SIMD width, in which case there must be remainder scalar iterations before or after the vectorized iterations.  that is,\n",
        "```\n",
        "for (i = 0; i < n; i++) {\n",
        "  S(i);\n",
        "}\n",
        "```\n",
        "becomes something like\n",
        "```\n",
        "for (i = 0; i + L <= n; i += L) {\n",
        "  S(i:i+L);\n",
        "}\n",
        "for (; i < n; i++) {\n",
        "  S(i);\n",
        "}\n",
        "```\n",
        "\n",
        "* just to make our investigations easier, let's eliminate the remainder iterations by forcibly making n a multiple of the largest possible SIMD width (16).  to be sure, this does not preserve the behavior of the original scalar loop.  we nevertheless do so just for the purpose of making the generated code simpler and easier to look into.\n",
        "* `n = (n / 16) * 16` in the code below does the trick"
      ]
    },
    {
      "cell_type": "code",
      "metadata": {
        "kernel": "Python 3 (ipykernel)",
        "nbgrader": {
          "grade": true,
          "grade_id": "p-012",
          "locked": false,
          "schema_version": 3,
          "solution": true,
          "task": false,
          "points": 1
        }
      },
      "source": [
        "BEGIN SOLUTION\n",
        "END SOLUTION\n",
        "%%writefile axpy_simd_no_remainder.c\n",
        "void axpb_simd_no_remainder(float a, float * x, float b, long n) {\n",
        "  n = (n / 16) * 16;    /* just so that there are no scalar iterations */\n",
        "  asm volatile(\"# ========== loop begins ==========\");\n",
        "  for (long i = 0; i < n; i++) {\n",
        "    x[i] = a * x[i] + b;\n",
        "  }\n",
        "  asm volatile(\"# ---------- loop ends ----------\");\n",
        "}"
      ],
      "execution_count": null,
      "outputs": []
    },
    {
      "cell_type": "code",
      "metadata": {
        "kernel": "Bash",
        "nbgrader": {
          "grade": true,
          "grade_id": "p-013",
          "locked": false,
          "schema_version": 3,
          "solution": true,
          "task": false,
          "points": 1
        }
      },
      "source": [
        "BEGIN SOLUTION\n",
        "END SOLUTION\n",
        "clang -S -Wall -O3 -mavx512f -mfma -Rpass=loop-vectorize -Rpass-missed=loop-vectorize axpy_simd_no_remainder.c\n",
        "#nvc -S -Wall -O3 -mavx512f -mfma -Minfo=vect -Mneginfo=vect axpy_simd_no_remainder.c\n",
        "#gcc -S -Wall -O3 -mavx512f -mfma -fopt-info-vec-optimized -fopt-info-vec-missed axpy_simd_no_remainder.c"
      ],
      "execution_count": null,
      "outputs": []
    },
    {
      "cell_type": "code",
      "metadata": {
        "kernel": "Bash",
        "nbgrader": {
          "grade": true,
          "grade_id": "p-014",
          "locked": false,
          "schema_version": 3,
          "solution": true,
          "task": false,
          "points": 1
        }
      },
      "source": [
        "BEGIN SOLUTION\n",
        "END SOLUTION\n",
        "cat -n axpy_simd_no_remainder.s"
      ],
      "execution_count": null,
      "outputs": []
    },
    {
      "cell_type": "markdown",
      "metadata": {
        "kernel": "SoS",
        "nbgrader": {
          "grade": false,
          "grade_id": "c-021",
          "locked": true,
          "schema_version": 3,
          "solution": false,
          "task": false
        }
      },
      "source": [
        "# 8. When vectorization succeeds or fails",
        "\n",
        "* as simple as it may sound, there are so many ways vectorization fails\n",
        "* in this section, you will test many code examples we could hope compilers to vectorize and see if they actually do\n",
        "* <font color=\"red\">share what you witnessed and collaborate in a shared Excel workbook.</font>    Go [this page](https://univtokyo-my.sharepoint.com/:x:/g/personal/2615215597_utac_u-tokyo_ac_jp/EamIiDy6df5CodLocg_7Zu8BpyBJ6ki37Ngc_S9jZ2DYSA?e=kbmG5k) for detailed instructions.\n",
        "\n",
        "## 8-1. Dependencies",
        "\n",
        "* the most typical is a loop that has _dependencies_ between iterations, so executing them simultaneously changes the behavior of the loop\n",
        "* a compiler fails to vectorize this code"
      ]
    },
    {
      "cell_type": "code",
      "metadata": {
        "kernel": "Python 3 (ipykernel)",
        "nbgrader": {
          "grade": true,
          "grade_id": "p-015",
          "locked": false,
          "schema_version": 3,
          "solution": true,
          "task": false,
          "points": 1
        }
      },
      "source": [
        "BEGIN SOLUTION\n",
        "END SOLUTION\n",
        "%%writefile dependency.c\n",
        "void dependency(float a, float * x, float b, long n) {\n",
        "  asm volatile(\"# ========== loop begins ==========\");\n",
        "  for (long i = 0; i < n - 1; i++) {\n",
        "    x[i+1] = a * x[i] + b;\n",
        "  }\n",
        "  asm volatile(\"# ---------- loop ends ----------\");\n",
        "}"
      ],
      "execution_count": null,
      "outputs": []
    },
    {
      "cell_type": "markdown",
      "metadata": {
        "kernel": "SoS",
        "nbgrader": {
          "grade": false,
          "grade_id": "c-022",
          "locked": true,
          "schema_version": 3,
          "solution": false,
          "task": false
        }
      },
      "source": [
        "* see the compiler message to see if the code is vectorized\n",
        "* note: GCC generates an informative message that explain why it failed to vectorize it"
      ]
    },
    {
      "cell_type": "code",
      "metadata": {
        "kernel": "Bash",
        "nbgrader": {
          "grade": true,
          "grade_id": "p-016",
          "locked": false,
          "schema_version": 3,
          "solution": true,
          "task": false,
          "points": 1
        }
      },
      "source": [
        "BEGIN SOLUTION\n",
        "END SOLUTION\n",
        "clang -S -Wall -O3 -mavx512f -mfma -Rpass=loop-vectorize -Rpass-missed=loop-vectorize dependency.c\n",
        "#nvc -S -Wall -O3 -mavx512f -mfma -Minfo=vect -Mneginfo=vect dependency.c\n",
        "#gcc -S -Wall -O3 -mavx512f -mfma -fopt-info-vec-optimized -fopt-info-vec-missed dependency.c"
      ],
      "execution_count": null,
      "outputs": []
    },
    {
      "cell_type": "markdown",
      "metadata": {
        "kernel": "SoS",
        "nbgrader": {
          "grade": false,
          "grade_id": "c-023",
          "locked": true,
          "schema_version": 3,
          "solution": false,
          "task": false
        }
      },
      "source": [
        "* the reason is that the vectorization of the loop \n",
        "```\n",
        "for (long i = 0; i < n - 1; i += L) {\n",
        "  x[i+1:i+1+L] = a * x[i:i+L] + b;\n",
        "}\n",
        "```\n",
        "would change the behavior of the original loop.\n",
        "* to illustrate, let's say the SIMD width L is 4. the first iteration of the vectorized loop does\n",
        "```\n",
        "x[1:5] = a * x[0:4] + b;\n",
        "```\n",
        "whereas the corresponding first four iterations of the original code performs\n",
        "```\n",
        "i=0 : x[1] = a * x[0] + b;\n",
        "i=1 : x[2] = a * x[1] + b;\n",
        "i=2 : x[3] = a * x[2] + b;\n",
        "i=3 : x[4] = a * x[3] + b;\n",
        "```\n",
        "* observe that the second iteration (i=1) reads x[1], which is _updated_ in the first iteration (i=0). it does not happen in the vectorized version\n",
        "\n",
        "* therefore _the two versions are not equivalent_\n",
        "* generally speaking, conditions in which a loop can be vectorized is similar to the conditions in which a loop can be parallelized. after all, both execute multiple iterations simultaneously\n",
        "* looking at the original code again,\n",
        "```\n",
        "for (long i = 0; i < n - 1; i++) {\n",
        "  x[i+1] = a * x[i] + b;\n",
        "}\n",
        "```\n",
        "the compiler did not vectorize it because different iterations (say i=0 and i=1) read the same element (x[1]) and at least one of them is a write (i=0 writes to x[1])\n",
        "\n",
        "## 8-2. Potential (uncertain) dependencies",
        "\n",
        "* a similar but less obvious example is this\n",
        "* it looks like adding two arrays x and y and putting the result into a third array z, so is safe to vectorize, but what if z is overlapping with x (say &z[0] = &x[1])\n",
        "* then it would be equivalent to\n",
        "```\n",
        "x[i+1] = x[i] + y[i]\n",
        "```\n",
        "creating exactly the same problem as the previous one.\n",
        "* try and observe how the compiler responds"
      ]
    },
    {
      "cell_type": "code",
      "metadata": {
        "kernel": "Python 3 (ipykernel)",
        "nbgrader": {
          "grade": true,
          "grade_id": "p-017",
          "locked": false,
          "schema_version": 3,
          "solution": true,
          "task": false,
          "points": 1
        }
      },
      "source": [
        "BEGIN SOLUTION\n",
        "END SOLUTION\n",
        "%%writefile uncertain_dependency.c\n",
        "void uncertain_dependency(float a, float * x, float b, float * y, long n) {\n",
        "  n = (n / 16) * 16;\n",
        "  asm volatile(\"# ========== loop begins ==========\");\n",
        "  for (long i = 0; i < n; i++) {\n",
        "    y[i] = a * x[i] + b;\n",
        "  }\n",
        "  asm volatile(\"# ---------- loop ends ----------\");\n",
        "}"
      ],
      "execution_count": null,
      "outputs": []
    },
    {
      "cell_type": "code",
      "metadata": {
        "kernel": "Bash",
        "nbgrader": {
          "grade": true,
          "grade_id": "p-018",
          "locked": false,
          "schema_version": 3,
          "solution": true,
          "task": false,
          "points": 1
        }
      },
      "source": [
        "BEGIN SOLUTION\n",
        "END SOLUTION\n",
        "clang -S -Wall -O3 -mavx512f -mfma -Rpass=loop-vectorize -Rpass-missed=loop-vectorize uncertain_dependency.c\n",
        "#nvc -S -Wall -O3 -mavx512f -mfma -Minfo=vect -Mneginfo=vect uncertain_dependency.c\n",
        "#gcc -S -Wall -O3 -mavx512f -mfma -fopt-info-vec-optimized -fopt-info-vec-missed uncertain_dependency.c"
      ],
      "execution_count": null,
      "outputs": []
    },
    {
      "cell_type": "code",
      "metadata": {
        "kernel": "Bash",
        "nbgrader": {
          "grade": true,
          "grade_id": "p-019",
          "locked": false,
          "schema_version": 3,
          "solution": true,
          "task": false,
          "points": 1
        }
      },
      "source": [
        "BEGIN SOLUTION\n",
        "END SOLUTION\n",
        "cat -n uncertain_dependency.s"
      ],
      "execution_count": null,
      "outputs": []
    },
    {
      "cell_type": "markdown",
      "metadata": {
        "kernel": "SoS",
        "nbgrader": {
          "grade": false,
          "grade_id": "c-024",
          "locked": true,
          "schema_version": 3,
          "solution": false,
          "task": false
        }
      },
      "source": [
        "## 8-3. `#pragma omp simd` directive",
        "\n",
        "* `#pragma omp simd` directive tells the compiler to vectorize it without worrying about these dependency issues\n",
        "* https://www.openmp.org/spec-html/5.0/openmpsu42.html#x65-1390002.9.3\n",
        "* you need to pass compiler options to let the compiler recognize the directive\n",
        " * clang(++) : `-fopenmp` (enable OpenMP) or `-fopenmp-simd`\n",
        " * nvc(++) : `-mp` (enable OpenMP)\n",
        " * clang(++) : `-fopenmp` (enable OpenMP) or `-fopenmp-simd`\n",
        ""
      ]
    },
    {
      "cell_type": "code",
      "metadata": {
        "kernel": "Python 3 (ipykernel)",
        "nbgrader": {
          "grade": true,
          "grade_id": "p-020",
          "locked": false,
          "schema_version": 3,
          "solution": true,
          "task": false,
          "points": 1
        }
      },
      "source": [
        "BEGIN SOLUTION\n",
        "END SOLUTION\n",
        "%%writefile axpy_omp_simd.c\n",
        "void axpb_omp_simd(float a, float * x, float b, float * y, long n) {\n",
        "  n = (n / 16) * 16;\n",
        "  asm volatile(\"# ========== loop begins ==========\");\n",
        "#pragma omp simd\n",
        "  for (long i = 0; i < n; i++) {\n",
        "    y[i] = a * x[i] + b;\n",
        "  }\n",
        "  asm volatile(\"# ---------- loop ends ----------\");\n",
        "}"
      ],
      "execution_count": null,
      "outputs": []
    },
    {
      "cell_type": "code",
      "metadata": {
        "kernel": "Bash",
        "nbgrader": {
          "grade": true,
          "grade_id": "p-021",
          "locked": false,
          "schema_version": 3,
          "solution": true,
          "task": false,
          "points": 1
        }
      },
      "source": [
        "BEGIN SOLUTION\n",
        "END SOLUTION\n",
        "clang -S -Wall -O3 -mavx512f -mfma -fopenmp-simd -Rpass=loop-vectorize -Rpass-missed=loop-vectorize axpy_omp_simd.c\n",
        "#nvc -S -Wall -O3 -mavx512f -mfma -mp -Minfo=vect -Mneginfo=vect axpy_omp_simd.c\n",
        "#gcc -S -Wall -O3 -mavx512f -mfma -fopenmp-simd -fopt-info-vec-optimized -fopt-info-vec-missed axpy_omp_simd.c"
      ],
      "execution_count": null,
      "outputs": []
    },
    {
      "cell_type": "code",
      "metadata": {
        "kernel": "Bash",
        "nbgrader": {
          "grade": true,
          "grade_id": "p-022",
          "locked": false,
          "schema_version": 3,
          "solution": true,
          "task": false,
          "points": 1
        }
      },
      "source": [
        "BEGIN SOLUTION\n",
        "END SOLUTION\n",
        "cat -n axpy_omp_simd.s"
      ],
      "execution_count": null,
      "outputs": []
    },
    {
      "cell_type": "markdown",
      "metadata": {
        "kernel": "SoS",
        "nbgrader": {
          "grade": false,
          "grade_id": "c-025",
          "locked": true,
          "schema_version": 3,
          "solution": false,
          "task": false
        }
      },
      "source": [
        "* in the interest in maximizing the possibility of vectorization, we have `#pragma omp simd` in all the examples below\n",
        "* it's not that then the compiler is able to vectorize any kind of code, as you will see shortly\n",
        "\n",
        "## 8-4. reduction",
        "\n",
        "* just like parallelization, reduction is a common pattern that superficially introduces dependencies but can actually be vectorized by a suitable execution strategy\n",
        "* for example,\n",
        "```\n",
        "s = 0.0;\n",
        "for (i = 0; i < n; i++) {\n",
        "  s += x[i];\n",
        "}\n",
        "```\n",
        "can be executed like\n",
        "```\n",
        "sv = {0.0, 0.0, ..., 0.0};\n",
        "for (i = 0; i < n; i++) {\n",
        "  sv += x[i:i+L];\n",
        "}\n",
        "s = sv[0] + ... + sv[L-1];\n",
        "```"
      ]
    },
    {
      "cell_type": "code",
      "metadata": {
        "kernel": "Python 3 (ipykernel)",
        "nbgrader": {
          "grade": true,
          "grade_id": "p-023",
          "locked": false,
          "schema_version": 3,
          "solution": true,
          "task": false,
          "points": 1
        }
      },
      "source": [
        "BEGIN SOLUTION\n",
        "END SOLUTION\n",
        "%%writefile sum.c\n",
        "float sum(float * x, long n) {\n",
        "  n = (n / 16) * 16;\n",
        "  float s = 0.0;\n",
        "  asm volatile(\"# ========== loop begins ==========\");\n",
        "#pragma omp simd reduction(+:s)\n",
        "  for (long i = 0; i < n; i++) {\n",
        "    s += x[i];\n",
        "  }\n",
        "  asm volatile(\"# ---------- loop ends ----------\");\n",
        "  return s;\n",
        "}"
      ],
      "execution_count": null,
      "outputs": []
    },
    {
      "cell_type": "code",
      "metadata": {
        "kernel": "Bash",
        "nbgrader": {
          "grade": true,
          "grade_id": "p-024",
          "locked": false,
          "schema_version": 3,
          "solution": true,
          "task": false,
          "points": 1
        }
      },
      "source": [
        "BEGIN SOLUTION\n",
        "END SOLUTION\n",
        "clang -S -Wall -O3 -mavx512f -mfma -fopenmp-simd -Rpass=loop-vectorize -Rpass-missed=loop-vectorize sum.c\n",
        "#nvc -S -Wall -O3 -mavx512f -mfma -mp -Minfo=vect -Mneginfo=vect sum.c\n",
        "#gcc -S -Wall -O3 -mavx512f -mfma -fopenmp-simd -fopt-info-vec-optimized -fopt-info-vec-missed sum.c"
      ],
      "execution_count": null,
      "outputs": []
    },
    {
      "cell_type": "code",
      "metadata": {
        "kernel": "Bash",
        "nbgrader": {
          "grade": true,
          "grade_id": "p-025",
          "locked": false,
          "schema_version": 3,
          "solution": true,
          "task": false,
          "points": 1
        }
      },
      "source": [
        "BEGIN SOLUTION\n",
        "END SOLUTION\n",
        "cat -n sum.s"
      ],
      "execution_count": null,
      "outputs": []
    },
    {
      "cell_type": "markdown",
      "metadata": {
        "kernel": "SoS",
        "nbgrader": {
          "grade": false,
          "grade_id": "c-026",
          "locked": true,
          "schema_version": 3,
          "solution": false,
          "task": false
        }
      },
      "source": [
        "## 8-5. if expression within a loop",
        "\n",
        "* we are going to see a number of typical construct that hampers vectorization\n",
        "* bear in mind that there are no universal rules, however\n",
        "* whether a particular code is vectorized or not depends on the compiler and the available instructions\n",
        "\n",
        "* does an if statement within a loop hamper vectorization?"
      ]
    },
    {
      "cell_type": "code",
      "metadata": {
        "kernel": "Python 3 (ipykernel)",
        "nbgrader": {
          "grade": true,
          "grade_id": "p-026",
          "locked": false,
          "schema_version": 3,
          "solution": true,
          "task": false,
          "points": 1
        }
      },
      "source": [
        "BEGIN SOLUTION\n",
        "END SOLUTION\n",
        "%%writefile branch.c\n",
        "void branch(float a, float * x, float b, long n) {\n",
        "  n = (n / 16) * 16;\n",
        "  asm volatile(\"# ========== loop begins ==========\");\n",
        "#pragma omp simd\n",
        "  for (long i = 0; i < n; i++) {\n",
        "    if (i % 2 == 0) {\n",
        "      x[i] = a * x[i] + b;\n",
        "    }\n",
        "  }\n",
        "  asm volatile(\"# ---------- loop ends ----------\");\n",
        "}"
      ],
      "execution_count": null,
      "outputs": []
    },
    {
      "cell_type": "code",
      "metadata": {
        "kernel": "Bash",
        "nbgrader": {
          "grade": true,
          "grade_id": "p-027",
          "locked": false,
          "schema_version": 3,
          "solution": true,
          "task": false,
          "points": 1
        }
      },
      "source": [
        "BEGIN SOLUTION\n",
        "END SOLUTION\n",
        "clang -S -Wall -O3 -mavx512f -mfma -fopenmp-simd -Rpass=loop-vectorize -Rpass-missed=loop-vectorize branch.c\n",
        "#nvc -S -Wall -O3 -mavx512f -mfma -mp -Minfo=vect -Mneginfo=vect branch.c\n",
        "#gcc -S -Wall -O3 -mavx512f -mfma -fopenmp-simd -fopt-info-vec-optimized -fopt-info-vec-missed branch.c"
      ],
      "execution_count": null,
      "outputs": []
    },
    {
      "cell_type": "code",
      "metadata": {
        "kernel": "Bash",
        "nbgrader": {
          "grade": true,
          "grade_id": "p-028",
          "locked": false,
          "schema_version": 3,
          "solution": true,
          "task": false,
          "points": 1
        }
      },
      "source": [
        "BEGIN SOLUTION\n",
        "END SOLUTION\n",
        "cat -n branch.s"
      ],
      "execution_count": null,
      "outputs": []
    },
    {
      "cell_type": "markdown",
      "metadata": {
        "kernel": "SoS",
        "nbgrader": {
          "grade": false,
          "grade_id": "c-027",
          "locked": true,
          "schema_version": 3,
          "solution": false,
          "task": false
        }
      },
      "source": [
        "* recent Intel CPUs have predicated (masked) SIMD instructions so it should actually be possible to vectorize this code\n",
        "\n",
        "## 8-6. a loop in a loop (a constant trip count)",
        "\n",
        "* an inner loop inside an outer loop which we want to vectorize\n",
        "* the trip count of the inner loop is a compile-time constant "
      ]
    },
    {
      "cell_type": "code",
      "metadata": {
        "kernel": "Python 3 (ipykernel)",
        "nbgrader": {
          "grade": true,
          "grade_id": "p-029",
          "locked": false,
          "schema_version": 3,
          "solution": true,
          "task": false,
          "points": 1
        }
      },
      "source": [
        "BEGIN SOLUTION\n",
        "END SOLUTION\n",
        "%%writefile loop_c.c\n",
        "/* inner loop, with a compile-time constant trip count */\n",
        "void loop_c(float a, float * x, float b, long n) {\n",
        "  n = (n / 16) * 16;\n",
        "  asm volatile(\"# ========== loop begins ==========\");\n",
        "#pragma omp simd\n",
        "  for (long i = 0; i < n; i++) {\n",
        "    for (long k = 0; k < 10; k++) {\n",
        "      x[i] = a * x[i] + b;\n",
        "    }\n",
        "  }\n",
        "  asm volatile(\"# ---------- loop ends ----------\");\n",
        "}"
      ],
      "execution_count": null,
      "outputs": []
    },
    {
      "cell_type": "code",
      "metadata": {
        "kernel": "Bash",
        "nbgrader": {
          "grade": true,
          "grade_id": "p-030",
          "locked": false,
          "schema_version": 3,
          "solution": true,
          "task": false,
          "points": 1
        }
      },
      "source": [
        "BEGIN SOLUTION\n",
        "END SOLUTION\n",
        "clang -S -Wall -O3 -mavx512f -mfma -fopenmp-simd -Rpass=loop-vectorize -Rpass-missed=loop-vectorize loop_c.c\n",
        "#nvc -S -Wall -O3 -mavx512f -mfma -mp -Minfo=vect -Mneginfo=vect loop_c.c\n",
        "#gcc -S -Wall -O3 -mavx512f -mfma -fopenmp-simd -fopt-info-vec-optimized -fopt-info-vec-missed loop_c.c"
      ],
      "execution_count": null,
      "outputs": []
    },
    {
      "cell_type": "code",
      "metadata": {
        "kernel": "Bash",
        "nbgrader": {
          "grade": true,
          "grade_id": "p-031",
          "locked": false,
          "schema_version": 3,
          "solution": true,
          "task": false,
          "points": 1
        }
      },
      "source": [
        "BEGIN SOLUTION\n",
        "END SOLUTION\n",
        "cat -n loop_c.s"
      ],
      "execution_count": null,
      "outputs": []
    },
    {
      "cell_type": "markdown",
      "metadata": {
        "kernel": "SoS",
        "nbgrader": {
          "grade": false,
          "grade_id": "c-028",
          "locked": true,
          "schema_version": 3,
          "solution": false,
          "task": false
        }
      },
      "source": [
        "## 8-7. a loop in a loop (a variable but loop-invariant trip count)",
        "\n",
        "* the same as above, but with the trip count of the inner loop is a variable\n",
        "* it is constant across all iterations of the outer loop, so the entire iteration space is a rectangle and it should be easily recognized as such"
      ]
    },
    {
      "cell_type": "code",
      "metadata": {
        "kernel": "Python 3 (ipykernel)",
        "nbgrader": {
          "grade": true,
          "grade_id": "p-032",
          "locked": false,
          "schema_version": 3,
          "solution": true,
          "task": false,
          "points": 1
        }
      },
      "source": [
        "BEGIN SOLUTION\n",
        "END SOLUTION\n",
        "%%writefile loop_i.c\n",
        "/* inner loop, with a loop-invariant trip count */\n",
        "void loop_i(float a, float * x, float b, long n, long m) {\n",
        "  n = (n / 16) * 16;\n",
        "  asm volatile(\"# ========== loop begins ==========\");\n",
        "#pragma omp simd\n",
        "  for (long i = 0; i < n; i++) {\n",
        "    for (int k = 0; k < m; k++) {\n",
        "      x[i] = a * x[i] + b;\n",
        "    }\n",
        "  }\n",
        "  asm volatile(\"# ---------- loop ends ----------\");\n",
        "}"
      ],
      "execution_count": null,
      "outputs": []
    },
    {
      "cell_type": "code",
      "metadata": {
        "kernel": "Bash",
        "nbgrader": {
          "grade": true,
          "grade_id": "p-033",
          "locked": false,
          "schema_version": 3,
          "solution": true,
          "task": false,
          "points": 1
        }
      },
      "source": [
        "BEGIN SOLUTION\n",
        "END SOLUTION\n",
        "clang -S -Wall -O3 -mavx512f -mfma -fopenmp-simd -Rpass=loop-vectorize -Rpass-missed=loop-vectorize loop_i.c\n",
        "#nvc -S -Wall -O3 -mavx512f -mfma -mp -Minfo=vect -Mneginfo=vect loop_i.c\n",
        "#gcc -S -Wall -O3 -mavx512f -mfma -fopenmp-simd -fopt-info-vec-optimized -fopt-info-vec-missed loop_i.c"
      ],
      "execution_count": null,
      "outputs": []
    },
    {
      "cell_type": "code",
      "metadata": {
        "kernel": "Bash",
        "nbgrader": {
          "grade": true,
          "grade_id": "p-034",
          "locked": false,
          "schema_version": 3,
          "solution": true,
          "task": false,
          "points": 1
        }
      },
      "source": [
        "BEGIN SOLUTION\n",
        "END SOLUTION\n",
        "cat -n loop_i.s"
      ],
      "execution_count": null,
      "outputs": []
    },
    {
      "cell_type": "markdown",
      "metadata": {
        "kernel": "SoS",
        "nbgrader": {
          "grade": false,
          "grade_id": "c-029",
          "locked": true,
          "schema_version": 3,
          "solution": false,
          "task": false
        }
      },
      "source": [
        "## 8-8. a loop within a loop (variable trip counts)",
        "\n",
        "* the same as above, but with the trip count of the inner loop being different from one iteration to another\n",
        "* therefore the entire iteration space is not a rectangle"
      ]
    },
    {
      "cell_type": "code",
      "metadata": {
        "kernel": "Python 3 (ipykernel)",
        "nbgrader": {
          "grade": true,
          "grade_id": "p-035",
          "locked": false,
          "schema_version": 3,
          "solution": true,
          "task": false,
          "points": 1
        }
      },
      "source": [
        "BEGIN SOLUTION\n",
        "END SOLUTION\n",
        "%%writefile loop_v.c\n",
        "/* inner loop, with a variable trip count */\n",
        "void loop_v(float a, float * x, float b, long n) {\n",
        "  n = (n / 16) * 16;\n",
        "  asm volatile(\"# ========== loop begins ==========\");\n",
        "#pragma omp simd\n",
        "  for (long i = 0; i < n; i++) {\n",
        "    for (int k = 0; k < i; k++) {\n",
        "      x[i] = a * x[i] + b;\n",
        "    }\n",
        "  }\n",
        "  asm volatile(\"# ---------- loop ends ----------\");\n",
        "}"
      ],
      "execution_count": null,
      "outputs": []
    },
    {
      "cell_type": "code",
      "metadata": {
        "kernel": "Bash",
        "nbgrader": {
          "grade": true,
          "grade_id": "p-036",
          "locked": false,
          "schema_version": 3,
          "solution": true,
          "task": false,
          "points": 1
        }
      },
      "source": [
        "BEGIN SOLUTION\n",
        "END SOLUTION\n",
        "clang -S -Wall -O3 -mavx512f -mfma -fopenmp-simd -Rpass=loop-vectorize -Rpass-missed=loop-vectorize loop_v.c\n",
        "#nvc -S -Wall -O3 -mavx512f -mfma -mp -Minfo=vect -Mneginfo=vect loop_v.c\n",
        "#gcc -S -Wall -O3 -mavx512f -mfma -fopenmp-simd -fopt-info-vec-optimized -fopt-info-vec-missed loop_v.c"
      ],
      "execution_count": null,
      "outputs": []
    },
    {
      "cell_type": "code",
      "metadata": {
        "kernel": "Bash",
        "nbgrader": {
          "grade": true,
          "grade_id": "p-037",
          "locked": false,
          "schema_version": 3,
          "solution": true,
          "task": false,
          "points": 1
        }
      },
      "source": [
        "BEGIN SOLUTION\n",
        "END SOLUTION\n",
        "cat -n loop_v.s"
      ],
      "execution_count": null,
      "outputs": []
    },
    {
      "cell_type": "markdown",
      "metadata": {
        "kernel": "SoS",
        "nbgrader": {
          "grade": false,
          "grade_id": "c-030",
          "locked": true,
          "schema_version": 3,
          "solution": false,
          "task": false
        }
      },
      "source": [
        "## 8-9. a function call within a loop",
        "\n",
        "* a function call within a loop\n",
        "* without the body of the function visible to the compiler compiling the loop (i.e., not in the same compilation unit as the loop), we cannot have a vectorized version of the function\n",
        "* therefore it is highly unlikely that this code gets meaningfully vectorized"
      ]
    },
    {
      "cell_type": "code",
      "metadata": {
        "kernel": "Python 3 (ipykernel)",
        "nbgrader": {
          "grade": true,
          "grade_id": "p-038",
          "locked": false,
          "schema_version": 3,
          "solution": true,
          "task": false,
          "points": 1
        }
      },
      "source": [
        "BEGIN SOLUTION\n",
        "END SOLUTION\n",
        "%%writefile funcall.c\n",
        "float f(float a, float x, float b);\n",
        "void funcall(float a, float * x, float b, long n) {\n",
        "  n = (n / 16) * 16;\n",
        "  asm volatile(\"# ========== loop begins ==========\");\n",
        "#pragma omp simd\n",
        "  for (long i = 0; i < n; i++) {\n",
        "    x[i] = f(a, x[i], b);\n",
        "  }\n",
        "  asm volatile(\"# ---------- loop ends ----------\");\n",
        "}"
      ],
      "execution_count": null,
      "outputs": []
    },
    {
      "cell_type": "code",
      "metadata": {
        "kernel": "Bash",
        "nbgrader": {
          "grade": true,
          "grade_id": "p-039",
          "locked": false,
          "schema_version": 3,
          "solution": true,
          "task": false,
          "points": 1
        }
      },
      "source": [
        "BEGIN SOLUTION\n",
        "END SOLUTION\n",
        "clang -S -Wall -O3 -mavx512f -mfma -fopenmp-simd -Rpass=loop-vectorize -Rpass-missed=loop-vectorize funcall.c\n",
        "#nvc -S -Wall -O3 -mavx512f -mfma -mp -Minfo=vect -Mneginfo=vect funcall.c\n",
        "#gcc -S -Wall -O3 -mavx512f -mfma -fopenmp-simd -fopt-info-vec-optimized -fopt-info-vec-missed funcall.c"
      ],
      "execution_count": null,
      "outputs": []
    },
    {
      "cell_type": "code",
      "metadata": {
        "kernel": "Bash",
        "nbgrader": {
          "grade": true,
          "grade_id": "p-040",
          "locked": false,
          "schema_version": 3,
          "solution": true,
          "task": false,
          "points": 1
        }
      },
      "source": [
        "BEGIN SOLUTION\n",
        "END SOLUTION\n",
        "cat -n funcall.s"
      ],
      "execution_count": null,
      "outputs": []
    },
    {
      "cell_type": "markdown",
      "metadata": {
        "kernel": "SoS",
        "nbgrader": {
          "grade": false,
          "grade_id": "c-031",
          "locked": true,
          "schema_version": 3,
          "solution": false,
          "task": false
        }
      },
      "source": [
        "## 8-10. a function call within a loop with `#pragma omp declare simd`",
        "\n",
        "* OpenMP has a directive `#pragma omp declare simd`, which says there is a vectorized version of a function\n",
        "* https://www.openmp.org/spec-html/5.0/openmpsu42.html#x65-1390002.9.3\n",
        "* calling such a function within a loop does not hamper vectorization, even if the body of the function is not in the same compilation unit as the loop"
      ]
    },
    {
      "cell_type": "code",
      "metadata": {
        "kernel": "Python 3 (ipykernel)",
        "nbgrader": {
          "grade": true,
          "grade_id": "p-041",
          "locked": false,
          "schema_version": 3,
          "solution": true,
          "task": false,
          "points": 1
        }
      },
      "source": [
        "BEGIN SOLUTION\n",
        "END SOLUTION\n",
        "%%writefile funcall_decl_simd.c\n",
        "#pragma omp declare simd uniform(a, b) notinbranch\n",
        "float f(float a, float x, float b);\n",
        "\n",
        "void funcall_decl_simd(float a, float * x, float b, long n) {\n",
        "  n = (n / 16) * 16;\n",
        "  asm volatile(\"# ========== loop begins ==========\");\n",
        "#pragma omp simd\n",
        "  for (long i = 0; i < n; i++) {\n",
        "    x[i] = f(a, x[i], b);\n",
        "  }\n",
        "  asm volatile(\"# ---------- loop ends ----------\");\n",
        "}"
      ],
      "execution_count": null,
      "outputs": []
    },
    {
      "cell_type": "code",
      "metadata": {
        "kernel": "Bash",
        "nbgrader": {
          "grade": true,
          "grade_id": "p-042",
          "locked": false,
          "schema_version": 3,
          "solution": true,
          "task": false,
          "points": 1
        }
      },
      "source": [
        "BEGIN SOLUTION\n",
        "END SOLUTION\n",
        "clang -S -Wall -O3 -mavx512f -mfma -fopenmp-simd -Rpass=loop-vectorize -Rpass-missed=loop-vectorize funcall_decl_simd.c\n",
        "#nvc -S -Wall -O3 -mavx512f -mfma -mp -Minfo=vect -Mneginfo=vect funcall_decl_simd.c\n",
        "#gcc -S -Wall -O3 -mavx512f -mfma -fopenmp-simd -fopt-info-vec-optimized -fopt-info-vec-missed funcall_decl_simd.c"
      ],
      "execution_count": null,
      "outputs": []
    },
    {
      "cell_type": "code",
      "metadata": {
        "kernel": "Bash",
        "nbgrader": {
          "grade": true,
          "grade_id": "p-043",
          "locked": false,
          "schema_version": 3,
          "solution": true,
          "task": false,
          "points": 1
        }
      },
      "source": [
        "BEGIN SOLUTION\n",
        "END SOLUTION\n",
        "cat -n funcall_decl_simd.s"
      ],
      "execution_count": null,
      "outputs": []
    },
    {
      "cell_type": "markdown",
      "metadata": {
        "kernel": "SoS",
        "nbgrader": {
          "grade": false,
          "grade_id": "c-032",
          "locked": true,
          "schema_version": 3,
          "solution": false,
          "task": false
        }
      },
      "source": [
        "## 8-11. a function defined with `#pragma omp declare simd`",
        "\n",
        "* what happens on the function defined with `#pragma omp declare simd` ?"
      ]
    },
    {
      "cell_type": "code",
      "metadata": {
        "kernel": "Python 3 (ipykernel)",
        "nbgrader": {
          "grade": true,
          "grade_id": "p-044",
          "locked": false,
          "schema_version": 3,
          "solution": true,
          "task": false,
          "points": 1
        }
      },
      "source": [
        "BEGIN SOLUTION\n",
        "END SOLUTION\n",
        "%%writefile fundef_decl_simd.c\n",
        "#pragma omp declare simd uniform(a, b) notinbranch\n",
        "float fundef_decl_simd(float a, float x, float b) {\n",
        "  return a * x + b;\n",
        "}"
      ],
      "execution_count": null,
      "outputs": []
    },
    {
      "cell_type": "code",
      "metadata": {
        "kernel": "Bash",
        "nbgrader": {
          "grade": true,
          "grade_id": "p-045",
          "locked": false,
          "schema_version": 3,
          "solution": true,
          "task": false,
          "points": 1
        }
      },
      "source": [
        "BEGIN SOLUTION\n",
        "END SOLUTION\n",
        "clang -S -Wall -O3 -mavx512f -mfma -fopenmp-simd -Rpass=loop-vectorize -Rpass-missed=loop-vectorize fundef_decl_simd.c\n",
        "#nvc -S -Wall -O3 -mavx512f -mfma -mp -Minfo=vect -Mneginfo=vect fundef_decl_simd.c\n",
        "#gcc -S -Wall -O3 -mavx512f -mfma -fopenmp-simd -fopt-info-vec-optimized -fopt-info-vec-missed fundef_decl_simd.c"
      ],
      "execution_count": null,
      "outputs": []
    },
    {
      "cell_type": "code",
      "metadata": {
        "kernel": "Bash",
        "nbgrader": {
          "grade": true,
          "grade_id": "p-046",
          "locked": false,
          "schema_version": 3,
          "solution": true,
          "task": false,
          "points": 1
        }
      },
      "source": [
        "BEGIN SOLUTION\n",
        "END SOLUTION\n",
        "cat -n fundef_decl_simd.s"
      ],
      "execution_count": null,
      "outputs": []
    },
    {
      "cell_type": "markdown",
      "metadata": {
        "kernel": "SoS",
        "nbgrader": {
          "grade": false,
          "grade_id": "c-033",
          "locked": true,
          "schema_version": 3,
          "solution": false,
          "task": false
        }
      },
      "source": [
        "## 8-12. a strided array access (load)",
        "\n",
        "* an ordinary vectorized load/store instruction (vmovups or vmovaps) takes a pointer (address) and reads or writes a consecutive set of addresses\n",
        "* for example, the following load instruction\n",
        "```\n",
        "vmovups (%rax),%zmm0\n",
        "```\n",
        "reads the consecutive 64 bytes starting from the address in the `rax` register and gets the result into `zmm0` register\n",
        "* only with this instruction it is difficult to vectorize a loop whose consecutive iterations does not read the consecutive address\n",
        "* the simplest of which is a strided access like this\n",
        "\n",
        "* two possible strategies\n",
        "  * access arrays using ordinary vector load instructions and shuffle data around on registers\n",
        "  * access arrays using `gather` instructions"
      ]
    },
    {
      "cell_type": "code",
      "metadata": {
        "kernel": "Python 3 (ipykernel)",
        "nbgrader": {
          "grade": true,
          "grade_id": "p-047",
          "locked": false,
          "schema_version": 3,
          "solution": true,
          "task": false,
          "points": 1
        }
      },
      "source": [
        "BEGIN SOLUTION\n",
        "END SOLUTION\n",
        "%%writefile stride_load.c\n",
        "void stride_load(float a, float * x, float b, float * y, long n) {\n",
        "  n = (n / 16) * 16;\n",
        "  asm volatile(\"# ========== loop begins ==========\");\n",
        "#pragma omp simd\n",
        "  for (long i = 0; i < n; i++) {\n",
        "    y[i] = a * x[i * 2] + b;\n",
        "  }\n",
        "  asm volatile(\"# ---------- loop ends ----------\");\n",
        "}"
      ],
      "execution_count": null,
      "outputs": []
    },
    {
      "cell_type": "code",
      "metadata": {
        "kernel": "Bash",
        "nbgrader": {
          "grade": true,
          "grade_id": "p-048",
          "locked": false,
          "schema_version": 3,
          "solution": true,
          "task": false,
          "points": 1
        }
      },
      "source": [
        "BEGIN SOLUTION\n",
        "END SOLUTION\n",
        "clang -S -Wall -O3 -mavx512f -mfma -fopenmp-simd -Rpass=loop-vectorize -Rpass-missed=loop-vectorize stride_load.c\n",
        "#nvc -S -Wall -O3 -mavx512f -mfma -mp -Minfo=vect -Mneginfo=vect stride_load.c\n",
        "#gcc -S -Wall -O3 -mavx512f -mfma -fopenmp-simd -fopt-info-vec-optimized -fopt-info-vec-missed stride_load.c"
      ],
      "execution_count": null,
      "outputs": []
    },
    {
      "cell_type": "code",
      "metadata": {
        "kernel": "Bash",
        "nbgrader": {
          "grade": true,
          "grade_id": "p-049",
          "locked": false,
          "schema_version": 3,
          "solution": true,
          "task": false,
          "points": 1
        }
      },
      "source": [
        "BEGIN SOLUTION\n",
        "END SOLUTION\n",
        "cat -n stride_load.s"
      ],
      "execution_count": null,
      "outputs": []
    },
    {
      "cell_type": "markdown",
      "metadata": {
        "kernel": "SoS",
        "nbgrader": {
          "grade": false,
          "grade_id": "c-034",
          "locked": true,
          "schema_version": 3,
          "solution": false,
          "task": false
        }
      },
      "source": [
        "## 8-13. a strided array access (store)"
      ]
    },
    {
      "cell_type": "code",
      "metadata": {
        "kernel": "Python 3 (ipykernel)",
        "nbgrader": {
          "grade": true,
          "grade_id": "p-050",
          "locked": false,
          "schema_version": 3,
          "solution": true,
          "task": false,
          "points": 1
        }
      },
      "source": [
        "BEGIN SOLUTION\n",
        "END SOLUTION\n",
        "%%writefile stride_store.c\n",
        "void stride_store(float a, float * x, float b, float * y, long n) {\n",
        "  n = (n / 16) * 16;\n",
        "  asm volatile(\"# ========== loop begins ==========\");\n",
        "#pragma omp simd\n",
        "  for (long i = 0; i < n; i++) {\n",
        "    y[i * 2] = a * x[i] + b;\n",
        "  }\n",
        "  asm volatile(\"# ---------- loop ends ----------\");\n",
        "}"
      ],
      "execution_count": null,
      "outputs": []
    },
    {
      "cell_type": "code",
      "metadata": {
        "kernel": "Bash",
        "nbgrader": {
          "grade": true,
          "grade_id": "p-051",
          "locked": false,
          "schema_version": 3,
          "solution": true,
          "task": false,
          "points": 1
        }
      },
      "source": [
        "BEGIN SOLUTION\n",
        "END SOLUTION\n",
        "clang -S -Wall -O3 -mavx512f -mfma -fopenmp-simd -Rpass=loop-vectorize -Rpass-missed=loop-vectorize stride_store.c\n",
        "#nvc -S -Wall -O3 -mavx512f -mfma -mp -Minfo=vect -Mneginfo=vect stride_store.c\n",
        "#gcc -S -Wall -O3 -mavx512f -mfma -fopenmp-simd -fopt-info-vec-optimized -fopt-info-vec-missed stride_store.c"
      ],
      "execution_count": null,
      "outputs": []
    },
    {
      "cell_type": "code",
      "metadata": {
        "kernel": "Bash",
        "nbgrader": {
          "grade": true,
          "grade_id": "p-052",
          "locked": false,
          "schema_version": 3,
          "solution": true,
          "task": false,
          "points": 1
        }
      },
      "source": [
        "BEGIN SOLUTION\n",
        "END SOLUTION\n",
        "cat -n stride_store.s"
      ],
      "execution_count": null,
      "outputs": []
    },
    {
      "cell_type": "markdown",
      "metadata": {
        "kernel": "SoS",
        "nbgrader": {
          "grade": false,
          "grade_id": "c-035",
          "locked": true,
          "schema_version": 3,
          "solution": false,
          "task": false
        }
      },
      "source": [
        "## 8-14. an array of structures",
        "\n",
        "* a less obvious and commonly occurring pattern is to access an array of structures\n",
        "* even if the array indices of consecutive iterations are consecutive, actual addresses are not"
      ]
    },
    {
      "cell_type": "code",
      "metadata": {
        "kernel": "Python 3 (ipykernel)",
        "nbgrader": {
          "grade": true,
          "grade_id": "p-053",
          "locked": false,
          "schema_version": 3,
          "solution": true,
          "task": false,
          "points": 1
        }
      },
      "source": [
        "BEGIN SOLUTION\n",
        "END SOLUTION\n",
        "%%writefile struct_load.c\n",
        "typedef struct {\n",
        "  float x;\n",
        "  float y;\n",
        "} point_t;\n",
        "void struct_load(float a, point_t * p, float b, point_t * q, long n) {\n",
        "  n = (n / 16) * 16;\n",
        "  asm volatile(\"# ========== loop begins ==========\");\n",
        "#pragma omp simd\n",
        "  for (long i = 0; i < n; i++) {\n",
        "    q[i].x = a * p[i].x + b;\n",
        "  }\n",
        "  asm volatile(\"# ---------- loop ends ----------\");\n",
        "}"
      ],
      "execution_count": null,
      "outputs": []
    },
    {
      "cell_type": "code",
      "metadata": {
        "kernel": "Bash",
        "nbgrader": {
          "grade": true,
          "grade_id": "p-054",
          "locked": false,
          "schema_version": 3,
          "solution": true,
          "task": false,
          "points": 1
        }
      },
      "source": [
        "BEGIN SOLUTION\n",
        "END SOLUTION\n",
        "clang -S -Wall -O3 -mavx512f -mfma -fopenmp-simd -Rpass=loop-vectorize -Rpass-missed=loop-vectorize struct_load.c\n",
        "#nvc -S -Wall -O3 -mavx512f -mfma -mp -Minfo=vect -Mneginfo=vect struct_load.c\n",
        "#gcc -S -Wall -O3 -mavx512f -mfma -fopenmp-simd -fopt-info-vec-optimized -fopt-info-vec-missed struct_load.c"
      ],
      "execution_count": null,
      "outputs": []
    },
    {
      "cell_type": "code",
      "metadata": {
        "kernel": "Bash",
        "nbgrader": {
          "grade": true,
          "grade_id": "p-055",
          "locked": false,
          "schema_version": 3,
          "solution": true,
          "task": false,
          "points": 1
        }
      },
      "source": [
        "BEGIN SOLUTION\n",
        "END SOLUTION\n",
        "cat -n struct_load.s"
      ],
      "execution_count": null,
      "outputs": []
    },
    {
      "cell_type": "markdown",
      "metadata": {
        "kernel": "SoS",
        "nbgrader": {
          "grade": false,
          "grade_id": "c-036",
          "locked": true,
          "schema_version": 3,
          "solution": false,
          "task": false
        }
      },
      "source": [
        "## 8-15. an irregular array access",
        "\n",
        "* irregular array accesses, in which consecutive iterations access elements with non-constant strides"
      ]
    },
    {
      "cell_type": "code",
      "metadata": {
        "kernel": "Python 3 (ipykernel)",
        "nbgrader": {
          "grade": true,
          "grade_id": "p-056",
          "locked": false,
          "schema_version": 3,
          "solution": true,
          "task": false,
          "points": 1
        }
      },
      "source": [
        "BEGIN SOLUTION\n",
        "END SOLUTION\n",
        "%%writefile non_affine_idx.c\n",
        "void non_affine_idx(float a, float * x, float b, float * y, long n) {\n",
        "  n = (n / 16) * 16;\n",
        "  asm volatile(\"# ========== loop begins ==========\");\n",
        "  for (long i = 0; i < n; i++) {\n",
        "    y[i] = a * x[i * i % n] + b;\n",
        "  }\n",
        "  asm volatile(\"# ---------- loop ends ----------\");\n",
        "}"
      ],
      "execution_count": null,
      "outputs": []
    },
    {
      "cell_type": "code",
      "metadata": {
        "kernel": "Bash",
        "nbgrader": {
          "grade": true,
          "grade_id": "p-057",
          "locked": false,
          "schema_version": 3,
          "solution": true,
          "task": false,
          "points": 1
        }
      },
      "source": [
        "BEGIN SOLUTION\n",
        "END SOLUTION\n",
        "clang -S -Wall -O3 -mavx512f -mfma -fopenmp-simd -Rpass=loop-vectorize -Rpass-missed=loop-vectorize non_affine_idx.c\n",
        "#nvc -S -Wall -O3 -mavx512f -mfma -mp -Minfo=vect -Mneginfo=vect non_affine_idx.c\n",
        "#gcc -S -Wall -O3 -mavx512f -mfma -fopenmp-simd -fopt-info-vec-optimized -fopt-info-vec-missed non_affine_idx.c"
      ],
      "execution_count": null,
      "outputs": []
    },
    {
      "cell_type": "code",
      "metadata": {
        "kernel": "Bash",
        "nbgrader": {
          "grade": true,
          "grade_id": "p-058",
          "locked": false,
          "schema_version": 3,
          "solution": true,
          "task": false,
          "points": 1
        }
      },
      "source": [
        "BEGIN SOLUTION\n",
        "END SOLUTION\n",
        "cat -n non_affine_idx.s"
      ],
      "execution_count": null,
      "outputs": []
    },
    {
      "cell_type": "markdown",
      "metadata": {
        "kernel": "SoS",
        "nbgrader": {
          "grade": false,
          "grade_id": "c-037",
          "locked": true,
          "schema_version": 3,
          "solution": false,
          "task": false
        }
      },
      "source": [
        "## 8-16. an indirect array access",
        "\n",
        "* the same as above, but with indices determined by another index array, a frequently occurring pattern in sparse matrix and graph applications"
      ]
    },
    {
      "cell_type": "code",
      "metadata": {
        "kernel": "Python 3 (ipykernel)",
        "nbgrader": {
          "grade": true,
          "grade_id": "p-059",
          "locked": false,
          "schema_version": 3,
          "solution": true,
          "task": false,
          "points": 1
        }
      },
      "source": [
        "BEGIN SOLUTION\n",
        "END SOLUTION\n",
        "%%writefile indirect_idx.c\n",
        "void indirect_idx(float a, float * x, long * idx, float b, float * y, long n) {\n",
        "  n = (n / 16) * 16;\n",
        "  asm volatile(\"# ========== loop begins ==========\");\n",
        "  for (long i = 0; i < n; i++) {\n",
        "    y[i] = a * x[idx[i]] + b;\n",
        "  }\n",
        "  asm volatile(\"# ---------- loop ends ----------\");\n",
        "}"
      ],
      "execution_count": null,
      "outputs": []
    },
    {
      "cell_type": "code",
      "metadata": {
        "kernel": "Bash",
        "nbgrader": {
          "grade": true,
          "grade_id": "p-060",
          "locked": false,
          "schema_version": 3,
          "solution": true,
          "task": false,
          "points": 1
        }
      },
      "source": [
        "BEGIN SOLUTION\n",
        "END SOLUTION\n",
        "clang -S -Wall -O3 -mavx512f -mfma -fopenmp-simd -Rpass=loop-vectorize -Rpass-missed=loop-vectorize indirect_idx.c\n",
        "#nvc -S -Wall -O3 -mavx512f -mfma -mp -Minfo=vect -Mneginfo=vect indirect_idx.c\n",
        "#gcc -S -Wall -O3 -mavx512f -mfma -fopenmp-simd -fopt-info-vec-optimized -fopt-info-vec-missed indirect_idx.c"
      ],
      "execution_count": null,
      "outputs": []
    },
    {
      "cell_type": "code",
      "metadata": {
        "kernel": "Bash",
        "nbgrader": {
          "grade": true,
          "grade_id": "p-061",
          "locked": false,
          "schema_version": 3,
          "solution": true,
          "task": false,
          "points": 1
        }
      },
      "source": [
        "BEGIN SOLUTION\n",
        "END SOLUTION\n",
        "cat -n indirect_idx.s"
      ],
      "execution_count": null,
      "outputs": []
    }
  ],
  "metadata": {
    "celltoolbar": "Create Assignment",
    "kernelspec": {
      "display_name": "SoS",
      "language": "sos",
      "name": "sos"
    },
    "language_info": {
      "codemirror_mode": "sos",
      "file_extension": ".sos",
      "mimetype": "text/x-sos",
      "name": "sos",
      "nbconvert_exporter": "sos_notebook.converter.SoS_Exporter",
      "pygments_lexer": "sos"
    },
    "sos": {
      "kernels": [
        [
          "Bash",
          "bash",
          "bash",
          "",
          "shell"
        ],
        [
          "C",
          "c_kernel",
          "c",
          "",
          ""
        ],
        [
          "Go",
          "gophernotes",
          "go",
          "",
          ""
        ],
        [
          "Julia 1.10.2",
          "julia-1.10",
          "julia",
          "",
          ""
        ],
        [
          "OCaml default",
          "ocaml-jupyter",
          "OCaml",
          "",
          "text/x-ocaml"
        ],
        [
          "Python 3 (ipykernel)",
          "python3",
          "python3",
          "",
          {
            "name": "ipython",
            "version": 3
          }
        ],
        [
          "Rust",
          "rust",
          "rust",
          "",
          ""
        ]
      ],
      "panel": {
        "displayed": true,
        "height": 0
      },
      "version": "0.23.3"
    }
  },
  "nbformat": 4,
  "nbformat_minor": 4
}