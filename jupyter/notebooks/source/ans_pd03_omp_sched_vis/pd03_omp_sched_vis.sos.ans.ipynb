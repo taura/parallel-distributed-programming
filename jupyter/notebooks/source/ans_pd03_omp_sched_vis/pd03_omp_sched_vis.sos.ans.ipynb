{
  "cells": [
    {
      "cell_type": "markdown",
      "metadata": {
        "kernel": "SoS",
        "nbgrader": {
          "grade": false,
          "grade_id": "c-001",
          "locked": true,
          "schema_version": 3,
          "solution": false,
          "task": false
        }
      },
      "source": [
        "\n",
        "#  OpenMP Visualizing Scheduling",
        ""
      ]
    },
    {
      "cell_type": "markdown",
      "metadata": {
        "kernel": "SoS",
        "nbgrader": {
          "grade": false,
          "grade_id": "c-002",
          "locked": false,
          "schema_version": 3,
          "solution": false,
          "task": false
        }
      },
      "source": [
        "\n",
        "Enter your name and student ID.\n",
        "\n",
        " * Name:\n",
        " * Student ID:\n",
        ""
      ]
    },
    {
      "cell_type": "markdown",
      "metadata": {
        "kernel": "SoS",
        "nbgrader": {
          "grade": false,
          "grade_id": "c-003",
          "locked": true,
          "schema_version": 3,
          "solution": false,
          "task": false
        }
      },
      "source": [
        "\n",
        "# 1. Scheduling",
        "\n",
        "* There are several strategies for partitioning (load-balancing) a loop among cores (OpenMP threads, to be more precise)\n",
        "* This notebook visualizes how it is affected by how you execute a loop in general\n",
        ""
      ]
    },
    {
      "cell_type": "markdown",
      "metadata": {
        "kernel": "SoS",
        "nbgrader": {
          "grade": false,
          "grade_id": "c-004",
          "locked": true,
          "schema_version": 3,
          "solution": false,
          "task": false
        }
      },
      "source": [
        "# 2. Compilers",
        "\n",
        "* We use [LLVM ver. 18.1.8](https://llvm.org/) (`clang` and `clang++`) in this exercise, as [NVIDIA HPC SDK](https://docs.nvidia.com/hpc-sdk/index.html) (`nvc` and `nvc++`) does not support some of the OpenMP features we use below (taskloop)"
      ]
    },
    {
      "cell_type": "markdown",
      "metadata": {
        "kernel": "SoS",
        "nbgrader": {
          "grade": false,
          "grade_id": "c-005",
          "locked": true,
          "schema_version": 3,
          "solution": false,
          "task": false
        }
      },
      "source": [
        "## 2-1. Set up LLVM",
        "\n",
        "Execute this before you use LLVM"
      ]
    },
    {
      "cell_type": "code",
      "metadata": {
        "kernel": "Bash",
        "nbgrader": {
          "grade": false,
          "grade_id": "c-006",
          "locked": false,
          "schema_version": 3,
          "solution": false,
          "task": false
        }
      },
      "source": [
        "export PATH=/home/share/llvm/bin:$PATH\n",
        "export LD_LIBRARY_PATH=/home/share/llvm/lib:/home/share/llvm/lib/x86_64-unknown-linux-gnu:$LD_LIBRARY_PATH"
      ],
      "execution_count": null,
      "outputs": []
    },
    {
      "cell_type": "markdown",
      "metadata": {
        "kernel": "SoS",
        "nbgrader": {
          "grade": false,
          "grade_id": "c-007",
          "locked": true,
          "schema_version": 3,
          "solution": false,
          "task": false
        }
      },
      "source": [
        "Check if it works (check if full paths of nvc/nvc++ are shown)"
      ]
    },
    {
      "cell_type": "code",
      "metadata": {
        "kernel": "Bash",
        "nbgrader": {
          "grade": false,
          "grade_id": "c-008",
          "locked": false,
          "schema_version": 3,
          "solution": false,
          "task": false
        }
      },
      "source": [
        "which clang\n",
        "which clang++"
      ],
      "execution_count": null,
      "outputs": []
    },
    {
      "cell_type": "markdown",
      "metadata": {
        "kernel": "SoS",
        "nbgrader": {
          "grade": false,
          "grade_id": "c-009",
          "locked": true,
          "schema_version": 3,
          "solution": false,
          "task": false
        }
      },
      "source": [
        "# 3. The OpenMP program that records scheduling",
        "\n",
        "* omp_sched_rec.c in this directory is an OpenMP program that executes a doubely-nested loop in several ways\n",
        "* inspect it by opening it in Jupyterlab or any other program you like\n",
        "\n",
        "## 3-1. Compile"
      ]
    },
    {
      "cell_type": "code",
      "metadata": {
        "kernel": "Bash",
        "nbgrader": {
          "grade": false,
          "grade_id": "c-010",
          "locked": false,
          "schema_version": 3,
          "solution": false,
          "task": false
        }
      },
      "source": [
        "clang -Wall -O3 -fopenmp -std=gnu99 omp_sched_rec.c -o omp_sched_rec"
      ],
      "execution_count": null,
      "outputs": []
    },
    {
      "cell_type": "markdown",
      "metadata": {
        "kernel": "SoS",
        "nbgrader": {
          "grade": false,
          "grade_id": "c-011",
          "locked": true,
          "schema_version": 3,
          "solution": false,
          "task": false
        }
      },
      "source": [
        "## 3-2. Run",
        "\n",
        "* How it executes the double loop can be controlled by a few environment variables\n",
        "  * LB --- select the execution stragety among #pragma omp for, #pragma omp task and #pragma omp taskloop\n",
        "  * OMP_SCHEDULE --- specify the scheduling method of #pragma omp for\n",
        "\n",
        "* Some examples given below\n",
        ""
      ]
    },
    {
      "cell_type": "markdown",
      "metadata": {
        "kernel": "SoS",
        "nbgrader": {
          "grade": false,
          "grade_id": "c-012",
          "locked": true,
          "schema_version": 3,
          "solution": false,
          "task": false
        }
      },
      "source": [
        "* use 4 cores and #pragma omp for, default scheduling strategy (presumably static)"
      ]
    },
    {
      "cell_type": "code",
      "metadata": {
        "kernel": "Bash",
        "nbgrader": {
          "grade": false,
          "grade_id": "c-013",
          "locked": false,
          "schema_version": 3,
          "solution": false,
          "task": false
        }
      },
      "source": [
        "OMP_NUM_THREADS=4 ./omp_sched_rec "
      ],
      "execution_count": null,
      "outputs": []
    },
    {
      "cell_type": "markdown",
      "metadata": {
        "kernel": "SoS",
        "nbgrader": {
          "grade": false,
          "grade_id": "c-014",
          "locked": true,
          "schema_version": 3,
          "solution": false,
          "task": false
        }
      },
      "source": [
        "* the effect will be same as above"
      ]
    },
    {
      "cell_type": "code",
      "metadata": {
        "kernel": "Bash",
        "nbgrader": {
          "grade": false,
          "grade_id": "c-015",
          "locked": false,
          "schema_version": 3,
          "solution": false,
          "task": false
        }
      },
      "source": [
        "OMP_NUM_THREADS=4 OMP_SCHEDULE=static ./omp_sched_rec "
      ],
      "execution_count": null,
      "outputs": []
    },
    {
      "cell_type": "markdown",
      "metadata": {
        "kernel": "SoS",
        "nbgrader": {
          "grade": false,
          "grade_id": "c-016",
          "locked": true,
          "schema_version": 3,
          "solution": false,
          "task": false
        }
      },
      "source": [
        "* use 4 cores and #pragma omp for, by the dynamic scheduling policy"
      ]
    },
    {
      "cell_type": "code",
      "metadata": {
        "kernel": "Bash",
        "nbgrader": {
          "grade": false,
          "grade_id": "c-017",
          "locked": false,
          "schema_version": 3,
          "solution": false,
          "task": false
        }
      },
      "source": [
        "OMP_NUM_THREADS=4 OMP_SCHEDULE=dynamic ./omp_sched_rec "
      ],
      "execution_count": null,
      "outputs": []
    },
    {
      "cell_type": "markdown",
      "metadata": {
        "kernel": "SoS",
        "nbgrader": {
          "grade": false,
          "grade_id": "c-018",
          "locked": true,
          "schema_version": 3,
          "solution": false,
          "task": false
        }
      },
      "source": [
        "* use 4 cores and #pragma omp for, by dynamic scheduling policy with the grainsize = 100 (i.e., 100 iteratins are fetched at a time)"
      ]
    },
    {
      "cell_type": "code",
      "metadata": {
        "kernel": "Bash",
        "nbgrader": {
          "grade": false,
          "grade_id": "c-019",
          "locked": false,
          "schema_version": 3,
          "solution": false,
          "task": false
        }
      },
      "source": [
        "OMP_NUM_THREADS=4 OMP_SCHEDULE=dynamic,100 ./omp_sched_rec "
      ],
      "execution_count": null,
      "outputs": []
    },
    {
      "cell_type": "markdown",
      "metadata": {
        "kernel": "SoS",
        "nbgrader": {
          "grade": false,
          "grade_id": "c-020",
          "locked": true,
          "schema_version": 3,
          "solution": false,
          "task": false
        }
      },
      "source": [
        "* use 4 cores and #pragma omp for, by the guided self scheduling"
      ]
    },
    {
      "cell_type": "code",
      "metadata": {
        "kernel": "Bash",
        "nbgrader": {
          "grade": false,
          "grade_id": "c-021",
          "locked": false,
          "schema_version": 3,
          "solution": false,
          "task": false
        }
      },
      "source": [
        "OMP_NUM_THREADS=4 OMP_SCHEDULE=guided ./omp_sched_rec "
      ],
      "execution_count": null,
      "outputs": []
    },
    {
      "cell_type": "markdown",
      "metadata": {
        "kernel": "SoS",
        "nbgrader": {
          "grade": false,
          "grade_id": "c-022",
          "locked": true,
          "schema_version": 3,
          "solution": false,
          "task": false
        }
      },
      "source": [
        "* use 4 cores and #pragma omp task using recursive 2D decomposition"
      ]
    },
    {
      "cell_type": "code",
      "metadata": {
        "kernel": "Bash",
        "nbgrader": {
          "grade": false,
          "grade_id": "c-023",
          "locked": false,
          "schema_version": 3,
          "solution": false,
          "task": false
        }
      },
      "source": [
        "OMP_NUM_THREADS=4 LB=task ./omp_sched_rec"
      ],
      "execution_count": null,
      "outputs": []
    },
    {
      "cell_type": "markdown",
      "metadata": {
        "kernel": "SoS",
        "nbgrader": {
          "grade": false,
          "grade_id": "c-024",
          "locked": true,
          "schema_version": 3,
          "solution": false,
          "task": false
        }
      },
      "source": [
        "* use 4 cores and #pragma omp task using recursive 2D decomposition, with grainsize=100 (i.e., stop generating tasks for <100 iterations)"
      ]
    },
    {
      "cell_type": "code",
      "metadata": {
        "kernel": "Bash",
        "nbgrader": {
          "grade": false,
          "grade_id": "c-025",
          "locked": false,
          "schema_version": 3,
          "solution": false,
          "task": false
        }
      },
      "source": [
        "OMP_NUM_THREADS=4 LB=task,100 ./omp_sched_rec "
      ],
      "execution_count": null,
      "outputs": []
    },
    {
      "cell_type": "markdown",
      "metadata": {
        "kernel": "SoS",
        "nbgrader": {
          "grade": false,
          "grade_id": "c-026",
          "locked": true,
          "schema_version": 3,
          "solution": false,
          "task": false
        }
      },
      "source": [
        "* use 4 cores and #pragma omp task using taskloop, with grainsize=100"
      ]
    },
    {
      "cell_type": "code",
      "metadata": {
        "kernel": "Bash",
        "nbgrader": {
          "grade": false,
          "grade_id": "c-027",
          "locked": false,
          "schema_version": 3,
          "solution": false,
          "task": false
        }
      },
      "source": [
        "OMP_NUM_THREADS=4 LB=taskloop,100 ./omp_sched_rec "
      ],
      "execution_count": null,
      "outputs": []
    },
    {
      "cell_type": "markdown",
      "metadata": {
        "kernel": "SoS",
        "nbgrader": {
          "grade": false,
          "grade_id": "c-028",
          "locked": true,
          "schema_version": 3,
          "solution": false,
          "task": false
        }
      },
      "source": [
        "# 4. Visualization",
        "\n",
        "* Running `omp_sched_rec` leaves a record file with the name `\"log.txt\"`\n",
        "* Below is a Python program that visualizes `\"log.txt\"`\n",
        ""
      ]
    },
    {
      "cell_type": "code",
      "metadata": {
        "kernel": "Python 3 (ipykernel)",
        "nbgrader": {
          "grade": false,
          "grade_id": "c-029",
          "locked": false,
          "schema_version": 3,
          "solution": false,
          "task": false
        }
      },
      "source": [
        "#!/usr/bin/python3\n",
        "\n",
        "import colorsys\n",
        "import re\n",
        "import sys\n",
        "import numpy as np\n",
        "import matplotlib.pyplot as plt\n",
        "import matplotlib.animation as animation\n",
        "from IPython import display \n",
        "\n",
        "def read_log(log_txt):\n",
        "    fp = open(log_txt)\n",
        "    p = re.compile(\"(?P<r>\\d+) (?P<i>\\d+) (?P<j>\\d+)\"\n",
        "                   \" (?P<begin>\\d+) (?P<end>\\d+)\"\n",
        "                   \" (?P<load>\\d+) (?P<thread>\\d+)\")\n",
        "    R = {}                      # i,j -> begin,end,load,thread\n",
        "    for line in fp:\n",
        "        m = p.match(line)\n",
        "        assert m, line\n",
        "        [ r,i,j,begin,end,load,thread ] = [ int(f) for f in m.groups() ]\n",
        "        R[r,i,j] = (begin,end,load,thread)\n",
        "    fp.close()\n",
        "    return R\n",
        "\n",
        "def make_norm_rgb_table(threads):\n",
        "    tbl = {}\n",
        "    n = len(threads)\n",
        "    for i,w in enumerate(threads):\n",
        "        h = float(i)/float(n)\n",
        "        r,g,b = colorsys.hsv_to_rgb(h, 1.0, 1.0)\n",
        "        tbl[w] = r,g,b\n",
        "    return tbl\n",
        "\n",
        "def sched_vis(log_txt):\n",
        "    \"\"\"\n",
        "    R : (i,j) -> begin,end,load,thread\n",
        "    \"\"\"\n",
        "    R = read_log(log_txt)\n",
        "    # get the set of unique thread ids\n",
        "    threads = set([ t for _,_,_,t in R.values() ])\n",
        "    max_load = max([ l for _,_,l,_ in R.values() ])\n",
        "    # assign color to each thread\n",
        "    rgb_table = make_norm_rgb_table(threads)\n",
        "    # get number of rows and columns\n",
        "    repeat = max([ r for r,i,j in R.keys() ]) + 1\n",
        "    M = max([ i for r,i,j in R.keys() ]) + 1\n",
        "    N = max([ j for r,i,j in R.keys() ]) + 1\n",
        "    img = np.zeros((M,N,3))\n",
        "    fig = plt.figure(figsize=(M / 72, N / 72))\n",
        "    im = plt.imshow(img)\n",
        "    interval_ms = 30\n",
        "    speed_factor = 0.2\n",
        "    draw_interval_clock = interval_ms * 1.0e6 * speed_factor\n",
        "    def sort_key(rec):\n",
        "        (r,i,j),(begin,end,load,thread) = rec\n",
        "        return end\n",
        "    \n",
        "    def load_data():\n",
        "        events = sorted(R.items(), key=sort_key)\n",
        "        max_r = -1\n",
        "        for c,((r,i,j),(begin,end,load,thread)) in enumerate(events):\n",
        "            if c == 0 or end - last_update > draw_interval_clock:\n",
        "                last_update = end\n",
        "                im.set_data(img)\n",
        "                yield im,\n",
        "            rgb = rgb_table[thread]\n",
        "            #alpha = 1.0 # if load/float(max_load) > 0.005 else 0.4\n",
        "            assert (r >= max_r)\n",
        "            if r > max_r:\n",
        "                img[:,:,:] = np.zeros((M,N,3))\n",
        "                max_r = r\n",
        "            img[i,j] = rgb\n",
        "        im.set_data(img)\n",
        "        yield im,\n",
        "\n",
        "    iterator = load_data()\n",
        "    def update(*args):\n",
        "        try:\n",
        "            return next(iterator)\n",
        "        except StopIteration:\n",
        "            return im,\n",
        "    ani = animation.FuncAnimation(fig, update, interval=interval_ms, blit=True)\n",
        "    html = display.HTML(ani.to_jshtml())\n",
        "    display.display(html)\n",
        "    plt.close()\n",
        "    # plt.show()\n",
        "\n",
        "# usage:\n",
        "# sched_vis(\"log.txt\")"
      ],
      "execution_count": null,
      "outputs": []
    },
    {
      "cell_type": "markdown",
      "metadata": {
        "kernel": "SoS",
        "nbgrader": {
          "grade": false,
          "grade_id": "c-030",
          "locked": true,
          "schema_version": 3,
          "solution": false,
          "task": false
        }
      },
      "source": [
        "* Execute one of the above and execute the cell below\n",
        "* It takes some time (> 30 seconds) and shows a playback tool you can play with after finished"
      ]
    },
    {
      "cell_type": "code",
      "metadata": {
        "kernel": "Python 3 (ipykernel)",
        "nbgrader": {
          "grade": false,
          "grade_id": "c-031",
          "locked": false,
          "schema_version": 3,
          "solution": false,
          "task": false
        }
      },
      "source": [
        "# be patient (> 30 seconds) until it finishes\n",
        "sched_vis(\"log.txt\")"
      ],
      "execution_count": null,
      "outputs": []
    },
    {
      "cell_type": "markdown",
      "metadata": {
        "kernel": "SoS",
        "nbgrader": {
          "grade": false,
          "grade_id": "c-032",
          "locked": true,
          "schema_version": 3,
          "solution": false,
          "task": false
        }
      },
      "source": [
        "* Change the parameters as you like and visualize it"
      ]
    },
    {
      "cell_type": "code",
      "metadata": {
        "kernel": "Bash",
        "nbgrader": {
          "grade": false,
          "grade_id": "c-033",
          "locked": false,
          "schema_version": 3,
          "solution": false,
          "task": false
        }
      },
      "source": [
        "OMP_NUM_THREADS= LB= OMP_SCHEDULE= ./omp_sched_rec "
      ],
      "execution_count": null,
      "outputs": []
    }
  ],
  "metadata": {
    "celltoolbar": "Create Assignment",
    "kernelspec": {
      "display_name": "SoS",
      "language": "sos",
      "name": "sos"
    },
    "language_info": {
      "codemirror_mode": "sos",
      "file_extension": ".sos",
      "mimetype": "text/x-sos",
      "name": "sos",
      "nbconvert_exporter": "sos_notebook.converter.SoS_Exporter",
      "pygments_lexer": "sos"
    },
    "sos": {
      "kernels": [
        [
          "Bash",
          "bash",
          "bash",
          "",
          "shell"
        ],
        [
          "C",
          "c_kernel",
          "c",
          "",
          ""
        ],
        [
          "Go",
          "gophernotes",
          "go",
          "",
          ""
        ],
        [
          "Julia 1.10.2",
          "julia-1.10",
          "julia",
          "",
          ""
        ],
        [
          "OCaml default",
          "ocaml-jupyter",
          "OCaml",
          "",
          "text/x-ocaml"
        ],
        [
          "Python 3 (ipykernel)",
          "python3",
          "python3",
          "",
          {
            "name": "ipython",
            "version": 3
          }
        ],
        [
          "Rust",
          "rust",
          "rust",
          "",
          ""
        ]
      ],
      "panel": {
        "displayed": true,
        "height": 0
      },
      "version": "0.23.3"
    }
  },
  "nbformat": 4,
  "nbformat_minor": 4
}