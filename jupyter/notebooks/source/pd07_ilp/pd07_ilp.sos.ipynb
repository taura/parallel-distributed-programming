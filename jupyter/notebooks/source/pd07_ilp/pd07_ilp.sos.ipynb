{
  "cells": [
    {
      "cell_type": "markdown",
      "metadata": {
        "kernel": "SoS",
        "nbgrader": {
          "grade": false,
          "grade_id": "c-001",
          "locked": true,
          "schema_version": 3,
          "solution": false,
          "task": false
        }
      },
      "source": [
        "#  Instruction Level Parallelism",
        "\n",
        "# 1. Introduction",
        "\n",
        "* CPU has multicore and SIMD parallelism\n",
        "* The last dimension of parallelism is Instruction Level Parallelism (ILP), the ability to execute many instructions <font color=red>of a single thread</font> concurrently (i.e., execution of many instructions overlap in time)"
      ]
    },
    {
      "cell_type": "markdown",
      "metadata": {
        "kernel": "SoS",
        "nbgrader": {
          "grade": false,
          "grade_id": "c-002",
          "locked": true,
          "schema_version": 3,
          "solution": false,
          "task": false
        }
      },
      "source": [
        "# 2. Compilers",
        "\n",
        "## 2-1. Set up NVIDIA HPC SDK",
        "\n",
        "Execute this before you use NVIDIA HPC SDK"
      ]
    },
    {
      "cell_type": "code",
      "metadata": {
        "kernel": "Bash",
        "nbgrader": {
          "grade": false,
          "grade_id": "c-003",
          "locked": false,
          "schema_version": 3,
          "solution": false,
          "task": false
        }
      },
      "source": [
        "export PATH=/opt/nvidia/hpc_sdk/Linux_x86_64/22.11/compilers/bin:$PATH\n",
        "#export PATH=/opt/nvidia/hpc_sdk/Linux_x86_64/22.9/compilers/bin:$PATH\n",
        "#export PATH=/opt/nvidia/hpc_sdk/Linux_x86_64/22.7/compilers/bin:$PATH"
      ],
      "execution_count": null,
      "outputs": []
    },
    {
      "cell_type": "markdown",
      "metadata": {
        "kernel": "SoS",
        "nbgrader": {
          "grade": false,
          "grade_id": "c-004",
          "locked": true,
          "schema_version": 3,
          "solution": false,
          "task": false
        }
      },
      "source": [
        "Check if it works (check if full paths of nvc/nvc++ are shown)"
      ]
    },
    {
      "cell_type": "code",
      "metadata": {
        "kernel": "Bash",
        "nbgrader": {
          "grade": false,
          "grade_id": "c-005",
          "locked": false,
          "schema_version": 3,
          "solution": false,
          "task": false
        }
      },
      "source": [
        "which nvc\n",
        "which nvc++"
      ],
      "execution_count": null,
      "outputs": []
    },
    {
      "cell_type": "markdown",
      "metadata": {
        "kernel": "SoS",
        "nbgrader": {
          "grade": false,
          "grade_id": "c-006",
          "locked": true,
          "schema_version": 3,
          "solution": false,
          "task": false
        }
      },
      "source": [
        "## 2-2. Set up LLVM",
        "\n",
        "Execute this before you use LLVM\n",
        ""
      ]
    },
    {
      "cell_type": "code",
      "metadata": {
        "kernel": "Bash",
        "nbgrader": {
          "grade": false,
          "grade_id": "c-007",
          "locked": false,
          "schema_version": 3,
          "solution": false,
          "task": false
        }
      },
      "source": [
        "export PATH=/home/share/llvm/bin:$PATH"
      ],
      "execution_count": null,
      "outputs": []
    },
    {
      "cell_type": "markdown",
      "metadata": {
        "kernel": "SoS",
        "nbgrader": {
          "grade": false,
          "grade_id": "c-008",
          "locked": true,
          "schema_version": 3,
          "solution": false,
          "task": false
        }
      },
      "source": [
        "Check if it works (check if full paths of gcc/g++ are shown)"
      ]
    },
    {
      "cell_type": "code",
      "metadata": {
        "kernel": "Bash",
        "nbgrader": {
          "grade": false,
          "grade_id": "c-009",
          "locked": false,
          "schema_version": 3,
          "solution": false,
          "task": false
        }
      },
      "source": [
        "which clang\n",
        "which clang++"
      ],
      "execution_count": null,
      "outputs": []
    },
    {
      "cell_type": "markdown",
      "metadata": {
        "kernel": "SoS",
        "nbgrader": {
          "grade": false,
          "grade_id": "c-010",
          "locked": true,
          "schema_version": 3,
          "solution": false,
          "task": false
        }
      },
      "source": [
        "## 2-3. GCC",
        ""
      ]
    },
    {
      "cell_type": "markdown",
      "metadata": {
        "kernel": "SoS",
        "nbgrader": {
          "grade": false,
          "grade_id": "c-011",
          "locked": true,
          "schema_version": 3,
          "solution": false,
          "task": false
        }
      },
      "source": [
        "Check if it works (check if full paths of nvc/nvc++ are shown)"
      ]
    },
    {
      "cell_type": "code",
      "metadata": {
        "kernel": "Bash",
        "nbgrader": {
          "grade": false,
          "grade_id": "c-012",
          "locked": false,
          "schema_version": 3,
          "solution": false,
          "task": false
        }
      },
      "source": [
        "which gcc\n",
        "which g++"
      ],
      "execution_count": null,
      "outputs": []
    },
    {
      "cell_type": "markdown",
      "metadata": {
        "kernel": "SoS",
        "nbgrader": {
          "grade": false,
          "grade_id": "c-013",
          "locked": true,
          "schema_version": 3,
          "solution": false,
          "task": false
        }
      },
      "source": [
        "# 3. No SIMD/ILP",
        "\n",
        "* this is an experiment very similar to what we did on GPUs\n",
        "* each thread repeats x = a * x + b many times and occasionally record time"
      ]
    },
    {
      "cell_type": "code",
      "metadata": {
        "kernel": "Python 3 (ipykernel)",
        "nbgrader": {
          "grade": false,
          "grade_id": "c-014",
          "locked": false,
          "schema_version": 3,
          "solution": false,
          "task": false
        }
      },
      "source": [
        "%%writefile no_simd_no_ilp.c\n",
        "#com 5\n",
        "// record of execution\n",
        "typedef long long int llint;\n",
        "#ifpy VER >= 2\n",
        "typedef double doublev __attribute__((vector_size(64), __may_alias__, aligned(sizeof(double))));\n",
        "enum { L = sizeof(doublev) / sizeof(double) };\n",
        "#endifpy\n",
        "\n",
        "#ifpy VER == 1\n",
        "enum { K = 1 };\n",
        "#elifpy VER <= 3\n",
        "enum { K = L };\n",
        "#elifpy VER <= 4\n",
        "enum { K = 2 * L };\n",
        "#elifpy VER <= 5\n",
        "#ifndef C\n",
        "#define C 2\n",
        "#endif\n",
        "enum { K = C * L };\n",
        "#endifpy\n",
        "\n",
        "typedef struct {\n",
        "#ifpy VER == 1\n",
        "  double x[1];\n",
        "#elsepy\n",
        "  double x[K];                     // a (meaningless) answer\n",
        "#endifpy\n",
        "  int vcore0; // a virtual core on which a thread got started\n",
        "  int vcore1; // a virtual core on which a thread ended\n",
        "} record_t;\n",
        "\n",
        "#include \"ilp_rec_main.h\"\n",
        "#ifpy VER >= 3\n",
        "#include \"perf.h\"\n",
        "#endifpy\n",
        "\n",
        "#ifpy VER <= 2\n",
        "llint get_clock() {\n",
        "  return _rdtsc();\n",
        "}\n",
        "#elsepy\n",
        "llint get_clock(perf_event_counter_t pc) {\n",
        "#if CLOCK_IS_CORE_CLOCK\n",
        "  /* get core clock */\n",
        "  return perf_event_counter_get(pc);\n",
        "#else\n",
        "  /* read timestamp counter instruction (reference clock) */\n",
        "  return _rdtsc();\n",
        "#endif\n",
        "}\n",
        "#endifpy\n",
        "\n",
        "#ifpy VER >= 2\n",
        "#define V(x) (*((doublev*)&x))\n",
        "#endifpy\n",
        "/* this thread repeats x = a x + b (N * M) times.\n",
        "   it records the clock N times (every M iterations of x = a x + b)\n",
        "   to array T.\n",
        "   final result of x = a x + b, as well as SM each thread was executed\n",
        "   on are recorded to R. */\n",
        "void thread_fun(double a, double b, record_t * R,\n",
        "                llint * T, llint n, llint m) {\n",
        "  int idx = omp_get_thread_num();\n",
        "  // initial value (not important)\n",
        "#ifpy VER == 1\n",
        "  double x = idx;\n",
        "#elsepy\n",
        "  double x[K];\n",
        "  for (long i = 0; i < K; i++) {\n",
        "    x[i] = idx * K + i;\n",
        "  }\n",
        "#endifpy\n",
        "#ifpy 2 <= VER <= 3\n",
        "  doublev x0 = V(x[0]);\n",
        "#elifpy VER == 4\n",
        "  doublev x0 = V(x[0]);\n",
        "  doublev x1 = V(x[L]);\n",
        "#endifpy\n",
        "  \n",
        "  // where clocks are recorded\n",
        "  T = &T[idx * n];\n",
        "  // record starting SM\n",
        "  R[idx].vcore0 = sched_getcpu();\n",
        "  // main thing. repeat a x + b many times,\n",
        "  // occasionally recording the clock\n",
        "#ifpy VER >= 3\n",
        "  perf_event_counter_t pc = mk_perf_event_counter();\n",
        "#endifpy\n",
        "  for (long i = 0; i < n; i++) {\n",
        "#ifpy VER <= 2\n",
        "    T[i] = get_clock();\n",
        "#elsepy\n",
        "    T[i] = get_clock(pc);\n",
        "#endifpy\n",
        "    asm volatile(\"# begin loop\");\n",
        "    for (long j = 0; j < m; j++) {\n",
        "#ifpy VER == 1\n",
        "      x = a * x + b;\n",
        "#elifpy VER <= 3\n",
        "      x0 = a * x0 + b;\n",
        "#elifpy VER <= 4\n",
        "      x0 = a * x0 + b;\n",
        "      x1 = a * x1 + b;\n",
        "#elsepy\n",
        "      for (long k = 0; k < K; k += L) {\n",
        "        V(x[k]) = a * V(x[k]) + b;\n",
        "      }\n",
        "#endifpy\n",
        "    }\n",
        "    asm volatile(\"# end loop\");\n",
        "  }\n",
        "#ifpy VER >= 3\n",
        "  perf_event_counter_destroy(pc);\n",
        "#endifpy\n",
        "  // record ending SM (must be = sm0)\n",
        "  R[idx].vcore1 = sched_getcpu();\n",
        "  // record result, just so that the computation is not\n",
        "  // eliminated by the compiler\n",
        "#ifpy 2 <= VER <= 3\n",
        "  V(x[0]) = x0;\n",
        "#elifpy VER == 4\n",
        "  V(x[0]) = x0;\n",
        "  V(x[L]) = x1;\n",
        "#endifpy\n",
        "#ifpy VER == 1\n",
        "  R[idx].x[0] = x;\n",
        "#elsepy\n",
        "  for (int i = 0; i < K; i++) {\n",
        "    R[idx].x[i] = x[i];\n",
        "  }\n",
        "#endifpy\n",
        "}\n",
        ""
      ],
      "execution_count": null,
      "outputs": []
    },
    {
      "cell_type": "code",
      "metadata": {
        "kernel": "Bash",
        "nbgrader": {
          "grade": true,
          "grade_id": "p-001",
          "locked": false,
          "schema_version": 3,
          "solution": true,
          "task": false,
          "points": 1
        }
      },
      "source": [
        "BEGIN SOLUTION\n",
        "END SOLUTION\n",
        "clang -Wall -O3 -mavx512f -mfma -fopenmp no_simd_no_ilp.c -o no_simd_no_ilp\n",
        "#nvc   -Wall -O3 -mavx512f -mfma -mp      no_simd_no_ilp.c -o no_simd_no_ilp\n",
        "#gcc   -Wall -O3 -mavx512f -mfma -fopenmp no_simd_no_ilp.c -o no_simd_no_ilp"
      ],
      "execution_count": null,
      "outputs": []
    },
    {
      "cell_type": "code",
      "metadata": {
        "kernel": "Bash",
        "nbgrader": {
          "grade": true,
          "grade_id": "p-002",
          "locked": false,
          "schema_version": 3,
          "solution": true,
          "task": false,
          "points": 1
        }
      },
      "source": [
        "BEGIN SOLUTION\n",
        "END SOLUTION\n",
        "OMP_NUM_THREADS=1 OMP_PROC_BIND=true ./no_simd_no_ilp 100 1000000"
      ],
      "execution_count": null,
      "outputs": []
    },
    {
      "cell_type": "markdown",
      "metadata": {
        "kernel": "SoS",
        "nbgrader": {
          "grade": false,
          "grade_id": "c-015",
          "locked": true,
          "schema_version": 3,
          "solution": false,
          "task": false
        }
      },
      "source": [
        "# 4. Visualizaiton",
        "\n",
        "* here is a visualization code"
      ]
    },
    {
      "cell_type": "code",
      "metadata": {
        "kernel": "Python 3 (ipykernel)",
        "nbgrader": {
          "grade": false,
          "grade_id": "c-016",
          "locked": false,
          "schema_version": 3,
          "solution": false,
          "task": false
        }
      },
      "source": [
        "#!/usr/bin/python3\n",
        "import re\n",
        "# from matplotlib import collections  as mc\n",
        "import matplotlib.collections as mc\n",
        "import matplotlib.pyplot as plt\n",
        "import numpy as np\n",
        "\n",
        "def read_dat(files_dat):\n",
        "    pat = re.compile(\"thread=(?P<thread>\\d+) vcore0=(?P<vcore0>\\d+) vcore1=(?P<vcore1>\\d+) x=(\\d+\\.\\d+)(,\\d+\\.\\d+)*(?P<t>( \\d+)*)\")\n",
        "    log = {}\n",
        "    for file_dat in files_dat:\n",
        "        with open(file_dat) as fp:\n",
        "            for line in fp:\n",
        "                # 1 : 100.000000 20524414966449 20524423007875 0 0\n",
        "                m = pat.match(line)\n",
        "                if not m:\n",
        "                    continue\n",
        "                thread = int(m.group(\"thread\"))\n",
        "                # x      = float(m.group(\"x\"))\n",
        "                vcore0 = int(m.group(\"vcore0\"))\n",
        "                vcore1 = int(m.group(\"vcore1\"))\n",
        "                t      = [int(s) for s in m.group(\"t\").strip().split()]\n",
        "                # assert(vcore0 == vcore1), (vcore0, vcore1)\n",
        "                if vcore0 not in log:\n",
        "                    log[vcore0] = []\n",
        "                log[vcore0].append((thread, t))\n",
        "    return log\n",
        "\n",
        "def ilp_plt(files_dat, start_t=0, end_t=float(\"inf\"), start_thread=0, end_thread=float(\"inf\")):\n",
        "    log = read_dat(files_dat)\n",
        "    n_vcores = max(vcore for vcore in log) + 1\n",
        "    cmap = plt.cm.get_cmap('RdYlGn', n_vcores)\n",
        "    fig, ax = plt.subplots()\n",
        "    plt.xlabel(\"cycles\")\n",
        "    plt.ylabel(\"thread idx\")\n",
        "    T0 = min(min(T[0] for thread, T in records) for vcore,records in sorted(list(log.items())))\n",
        "    for vcore,records in sorted(list(log.items())):\n",
        "        X = []\n",
        "        Y = []\n",
        "        vcore_color = cmap(vcore)\n",
        "        for thread, T in records:\n",
        "            if start_thread <= thread < end_thread:\n",
        "                for t in T:\n",
        "                    if start_t <= t - T0 <= end_t:\n",
        "                        X.append(t - T0)\n",
        "                        Y.append(thread)\n",
        "        ax.plot(X, Y, 'o', markersize=0.5, color=vcore_color)\n",
        "    ax.autoscale()\n",
        "    plt.savefig(\"sched.svg\")\n",
        "    plt.show()\n",
        "    "
      ],
      "execution_count": null,
      "outputs": []
    },
    {
      "cell_type": "markdown",
      "metadata": {
        "kernel": "SoS",
        "nbgrader": {
          "grade": false,
          "grade_id": "c-017",
          "locked": true,
          "schema_version": 3,
          "solution": false,
          "task": false
        }
      },
      "source": [
        "# 5. Visualizaiton",
        "\n",
        "* the following command line iterates `x = a * x + b` (100 x 10000) times and records the clock every 10000 iterations (i.e., the clock is recorded 100 times)"
      ]
    },
    {
      "cell_type": "code",
      "metadata": {
        "kernel": "Bash",
        "nbgrader": {
          "grade": true,
          "grade_id": "p-003",
          "locked": false,
          "schema_version": 3,
          "solution": true,
          "task": false,
          "points": 1
        }
      },
      "source": [
        "BEGIN SOLUTION\n",
        "END SOLUTION\n",
        "OMP_NUM_THREADS=1 OMP_PROC_BIND=true ./no_simd_no_ilp 100 1000000 > no_simd_no_ilp.log"
      ],
      "execution_count": null,
      "outputs": []
    },
    {
      "cell_type": "markdown",
      "metadata": {
        "kernel": "SoS",
        "nbgrader": {
          "grade": false,
          "grade_id": "c-018",
          "locked": true,
          "schema_version": 3,
          "solution": false,
          "task": false
        }
      },
      "source": [
        "* get the result in into a file and visualize it"
      ]
    },
    {
      "cell_type": "code",
      "metadata": {
        "kernel": "Python 3 (ipykernel)",
        "nbgrader": {
          "grade": false,
          "grade_id": "c-019",
          "locked": false,
          "schema_version": 3,
          "solution": false,
          "task": false
        }
      },
      "source": [
        "ilp_plt([\"./no_simd_no_ilp.log\"])"
      ],
      "execution_count": null,
      "outputs": []
    },
    {
      "cell_type": "markdown",
      "metadata": {
        "kernel": "SoS",
        "nbgrader": {
          "grade": false,
          "grade_id": "c-020",
          "locked": true,
          "schema_version": 3,
          "solution": false,
          "task": false
        }
      },
      "source": [
        "* how many cycles does a single `x = a * x + b` take?\n",
        "* remember that this CPU's single-core peak performance is two SIMD DP FMA instructions/cycle (16 multiply-and-adds/cycle or 32 flops/cycle for double-precision numbers)\n",
        "* the number you observed here should be far from it, just as it was the case in GPUs\n",
        "* it is also equally true between CPUs and GPUs that you cannot run THIS computation any faster\n",
        "* the performance of this computation is determined by the fact that\n",
        "  * computing `a * x + b` takes a few cycles (has a certain LATENCY) and\n",
        "  * performing `x = a * x + b` of an iteration <font color=\"red\">must wait for the previous iteration to produce its result (`x`)</font>\n",
        "* <font color=\"blue\">the only thing processors can do to \"increase performance\" is to run MANY of them run in the same amount of time (i.e., increase parallelism)</font>\n",
        "* the way we did it on <font color=\"blue\">GPU was simply creating more and more threads</font>\n",
        "* the way we do it on <font color=\"blue\">CPU is to combine SIMD and ILP</font>\n",
        ""
      ]
    },
    {
      "cell_type": "markdown",
      "metadata": {
        "kernel": "SoS",
        "nbgrader": {
          "grade": false,
          "grade_id": "c-021",
          "locked": true,
          "schema_version": 3,
          "solution": false,
          "task": false
        }
      },
      "source": [
        "# 6. SIMD",
        "\n",
        "* as you learned, you can run `x = a * x + b` for many (specifically eight DP or sixteeen SP) numbers using 512-bit SIMD instructions\n",
        "* here is a simple SIMD version\n",
        "* note: a computation as simple as below can be vectorized without using vector type, but we use it for the sake of clarity and guarantee"
      ]
    },
    {
      "cell_type": "code",
      "metadata": {
        "kernel": "Python 3 (ipykernel)",
        "nbgrader": {
          "grade": false,
          "grade_id": "c-022",
          "locked": false,
          "schema_version": 3,
          "solution": false,
          "task": false
        }
      },
      "source": [
        "%%writefile simd_no_ilp.c\n",
        "#com 5\n",
        "// record of execution\n",
        "typedef long long int llint;\n",
        "#ifpy VER >= 2\n",
        "typedef double doublev __attribute__((vector_size(64), __may_alias__, aligned(sizeof(double))));\n",
        "enum { L = sizeof(doublev) / sizeof(double) };\n",
        "#endifpy\n",
        "\n",
        "#ifpy VER == 1\n",
        "enum { K = 1 };\n",
        "#elifpy VER <= 3\n",
        "enum { K = L };\n",
        "#elifpy VER <= 4\n",
        "enum { K = 2 * L };\n",
        "#elifpy VER <= 5\n",
        "#ifndef C\n",
        "#define C 2\n",
        "#endif\n",
        "enum { K = C * L };\n",
        "#endifpy\n",
        "\n",
        "typedef struct {\n",
        "#ifpy VER == 1\n",
        "  double x[1];\n",
        "#elsepy\n",
        "  double x[K];                     // a (meaningless) answer\n",
        "#endifpy\n",
        "  int vcore0; // a virtual core on which a thread got started\n",
        "  int vcore1; // a virtual core on which a thread ended\n",
        "} record_t;\n",
        "\n",
        "#include \"ilp_rec_main.h\"\n",
        "#ifpy VER >= 3\n",
        "#include \"perf.h\"\n",
        "#endifpy\n",
        "\n",
        "#ifpy VER <= 2\n",
        "llint get_clock() {\n",
        "  return _rdtsc();\n",
        "}\n",
        "#elsepy\n",
        "llint get_clock(perf_event_counter_t pc) {\n",
        "#if CLOCK_IS_CORE_CLOCK\n",
        "  /* get core clock */\n",
        "  return perf_event_counter_get(pc);\n",
        "#else\n",
        "  /* read timestamp counter instruction (reference clock) */\n",
        "  return _rdtsc();\n",
        "#endif\n",
        "}\n",
        "#endifpy\n",
        "\n",
        "#ifpy VER >= 2\n",
        "#define V(x) (*((doublev*)&x))\n",
        "#endifpy\n",
        "/* this thread repeats x = a x + b (N * M) times.\n",
        "   it records the clock N times (every M iterations of x = a x + b)\n",
        "   to array T.\n",
        "   final result of x = a x + b, as well as SM each thread was executed\n",
        "   on are recorded to R. */\n",
        "void thread_fun(double a, double b, record_t * R,\n",
        "                llint * T, llint n, llint m) {\n",
        "  int idx = omp_get_thread_num();\n",
        "  // initial value (not important)\n",
        "#ifpy VER == 1\n",
        "  double x = idx;\n",
        "#elsepy\n",
        "  double x[K];\n",
        "  for (long i = 0; i < K; i++) {\n",
        "    x[i] = idx * K + i;\n",
        "  }\n",
        "#endifpy\n",
        "#ifpy 2 <= VER <= 3\n",
        "  doublev x0 = V(x[0]);\n",
        "#elifpy VER == 4\n",
        "  doublev x0 = V(x[0]);\n",
        "  doublev x1 = V(x[L]);\n",
        "#endifpy\n",
        "  \n",
        "  // where clocks are recorded\n",
        "  T = &T[idx * n];\n",
        "  // record starting SM\n",
        "  R[idx].vcore0 = sched_getcpu();\n",
        "  // main thing. repeat a x + b many times,\n",
        "  // occasionally recording the clock\n",
        "#ifpy VER >= 3\n",
        "  perf_event_counter_t pc = mk_perf_event_counter();\n",
        "#endifpy\n",
        "  for (long i = 0; i < n; i++) {\n",
        "#ifpy VER <= 2\n",
        "    T[i] = get_clock();\n",
        "#elsepy\n",
        "    T[i] = get_clock(pc);\n",
        "#endifpy\n",
        "    asm volatile(\"# begin loop\");\n",
        "    for (long j = 0; j < m; j++) {\n",
        "#ifpy VER == 1\n",
        "      x = a * x + b;\n",
        "#elifpy VER <= 3\n",
        "      x0 = a * x0 + b;\n",
        "#elifpy VER <= 4\n",
        "      x0 = a * x0 + b;\n",
        "      x1 = a * x1 + b;\n",
        "#elsepy\n",
        "      for (long k = 0; k < K; k += L) {\n",
        "        V(x[k]) = a * V(x[k]) + b;\n",
        "      }\n",
        "#endifpy\n",
        "    }\n",
        "    asm volatile(\"# end loop\");\n",
        "  }\n",
        "#ifpy VER >= 3\n",
        "  perf_event_counter_destroy(pc);\n",
        "#endifpy\n",
        "  // record ending SM (must be = sm0)\n",
        "  R[idx].vcore1 = sched_getcpu();\n",
        "  // record result, just so that the computation is not\n",
        "  // eliminated by the compiler\n",
        "#ifpy 2 <= VER <= 3\n",
        "  V(x[0]) = x0;\n",
        "#elifpy VER == 4\n",
        "  V(x[0]) = x0;\n",
        "  V(x[L]) = x1;\n",
        "#endifpy\n",
        "#ifpy VER == 1\n",
        "  R[idx].x[0] = x;\n",
        "#elsepy\n",
        "  for (int i = 0; i < K; i++) {\n",
        "    R[idx].x[i] = x[i];\n",
        "  }\n",
        "#endifpy\n",
        "}\n",
        ""
      ],
      "execution_count": null,
      "outputs": []
    },
    {
      "cell_type": "code",
      "metadata": {
        "kernel": "Bash",
        "nbgrader": {
          "grade": true,
          "grade_id": "p-004",
          "locked": false,
          "schema_version": 3,
          "solution": true,
          "task": false,
          "points": 1
        }
      },
      "source": [
        "BEGIN SOLUTION\n",
        "END SOLUTION\n",
        "clang -Wall -O3 -mavx512f -mfma -fopenmp simd_no_ilp.c -o simd_no_ilp\n",
        "#nvc   -Wall -O3 -mavx512f -mfma -mp      simd_no_ilp.c -o simd_no_ilp\n",
        "#gcc   -Wall -O3 -mavx512f -mfma -fopenmp simd_no_ilp.c -o simd_no_ilp"
      ],
      "execution_count": null,
      "outputs": []
    },
    {
      "cell_type": "code",
      "metadata": {
        "kernel": "Bash",
        "nbgrader": {
          "grade": true,
          "grade_id": "p-005",
          "locked": false,
          "schema_version": 3,
          "solution": true,
          "task": false,
          "points": 1
        }
      },
      "source": [
        "BEGIN SOLUTION\n",
        "END SOLUTION\n",
        "OMP_NUM_THREADS=1 OMP_PROC_BIND=true ./simd_no_ilp 100 1000000 > simd_no_ilp.log"
      ],
      "execution_count": null,
      "outputs": []
    },
    {
      "cell_type": "markdown",
      "metadata": {
        "kernel": "SoS",
        "nbgrader": {
          "grade": false,
          "grade_id": "c-023",
          "locked": true,
          "schema_version": 3,
          "solution": false,
          "task": false
        }
      },
      "source": [
        "* the following should execute in almost the same time as the previous scalar version\n",
        "* that is, SIMD fmadd instruction has the same latency as the scalar version"
      ]
    },
    {
      "cell_type": "code",
      "metadata": {
        "kernel": "Python 3 (ipykernel)",
        "nbgrader": {
          "grade": false,
          "grade_id": "c-024",
          "locked": false,
          "schema_version": 3,
          "solution": false,
          "task": false
        }
      },
      "source": [
        "ilp_plt([\"./simd_no_ilp.log\"])"
      ],
      "execution_count": null,
      "outputs": []
    },
    {
      "cell_type": "markdown",
      "metadata": {
        "kernel": "SoS",
        "nbgrader": {
          "grade": false,
          "grade_id": "c-025",
          "locked": true,
          "schema_version": 3,
          "solution": false,
          "task": false
        }
      },
      "source": [
        "# 7. A note on two kinds of clocks",
        "\n",
        "* you might observe that the gap between consecutive pair of points changes during the execution\n",
        "* it happens because\n",
        "  * recent CPUs boost frequencies of CPU cores (_core frequencies_) based on the load on cores (dynamic frequency scaling; aka \"turbo boost\" in Intel's terminology), and \n",
        "  * the clocks recorded by the program (obtained by `_rdtsc` function, which is `rdtsc` instruction of the CPU) are _reference clocks_ running at a constant frequency regardless of the CPU's core frequency\n",
        "* in other words, the visualization shows how the iterations progress over _real time_\n",
        "* when no or little computation is running, the processor's operating frequency tends to be low\n",
        "* when a few cores are running intensively, the CPU boosts their frequencies\n",
        "* when many cores are running, the CPU typically stays at the base clock to cap the power consumption"
      ]
    },
    {
      "cell_type": "markdown",
      "metadata": {
        "kernel": "SoS",
        "nbgrader": {
          "grade": false,
          "grade_id": "c-026",
          "locked": true,
          "schema_version": 3,
          "solution": false,
          "task": false
        }
      },
      "source": [
        "## 7-1. Measuring time in core cycles",
        "\n",
        "* while our ultimate interest is the absolute time (or equivalently, reference clocks), it is often useful to measure the execution time in the number of core cycles, as it yields a more constant result no matter at which frequency the core happens to be running\n",
        "* also, when you look up the processor spec that tells you the latency of a particular instruction in terms of clocks, it is the number of core cycles that the instruction takes\n",
        "* for example, [Intel intrinsics guide](https://www.intel.com/content/www/us/en/docs/intrinsics-guide/index.html) guide says FMA instruction's latency is four cycles. it means it takes four core cycles, not reference cycles\n",
        "* that's why you have observed that a single iteration took less than four cycles\n",
        "* measuring the core clock is not as easy as measuring reference clock, but is possible thanks to Linux's perf API\n",
        "* here is a version using perf API to obtain core cycles\n",
        "* see the accompanying `perf.h` if you are interested"
      ]
    },
    {
      "cell_type": "code",
      "metadata": {
        "kernel": "Python 3 (ipykernel)",
        "nbgrader": {
          "grade": false,
          "grade_id": "c-027",
          "locked": false,
          "schema_version": 3,
          "solution": false,
          "task": false
        }
      },
      "source": [
        "%%writefile simd_no_ilp.c\n",
        "#com 5\n",
        "// record of execution\n",
        "typedef long long int llint;\n",
        "#ifpy VER >= 2\n",
        "typedef double doublev __attribute__((vector_size(64), __may_alias__, aligned(sizeof(double))));\n",
        "enum { L = sizeof(doublev) / sizeof(double) };\n",
        "#endifpy\n",
        "\n",
        "#ifpy VER == 1\n",
        "enum { K = 1 };\n",
        "#elifpy VER <= 3\n",
        "enum { K = L };\n",
        "#elifpy VER <= 4\n",
        "enum { K = 2 * L };\n",
        "#elifpy VER <= 5\n",
        "#ifndef C\n",
        "#define C 2\n",
        "#endif\n",
        "enum { K = C * L };\n",
        "#endifpy\n",
        "\n",
        "typedef struct {\n",
        "#ifpy VER == 1\n",
        "  double x[1];\n",
        "#elsepy\n",
        "  double x[K];                     // a (meaningless) answer\n",
        "#endifpy\n",
        "  int vcore0; // a virtual core on which a thread got started\n",
        "  int vcore1; // a virtual core on which a thread ended\n",
        "} record_t;\n",
        "\n",
        "#include \"ilp_rec_main.h\"\n",
        "#ifpy VER >= 3\n",
        "#include \"perf.h\"\n",
        "#endifpy\n",
        "\n",
        "#ifpy VER <= 2\n",
        "llint get_clock() {\n",
        "  return _rdtsc();\n",
        "}\n",
        "#elsepy\n",
        "llint get_clock(perf_event_counter_t pc) {\n",
        "#if CLOCK_IS_CORE_CLOCK\n",
        "  /* get core clock */\n",
        "  return perf_event_counter_get(pc);\n",
        "#else\n",
        "  /* read timestamp counter instruction (reference clock) */\n",
        "  return _rdtsc();\n",
        "#endif\n",
        "}\n",
        "#endifpy\n",
        "\n",
        "#ifpy VER >= 2\n",
        "#define V(x) (*((doublev*)&x))\n",
        "#endifpy\n",
        "/* this thread repeats x = a x + b (N * M) times.\n",
        "   it records the clock N times (every M iterations of x = a x + b)\n",
        "   to array T.\n",
        "   final result of x = a x + b, as well as SM each thread was executed\n",
        "   on are recorded to R. */\n",
        "void thread_fun(double a, double b, record_t * R,\n",
        "                llint * T, llint n, llint m) {\n",
        "  int idx = omp_get_thread_num();\n",
        "  // initial value (not important)\n",
        "#ifpy VER == 1\n",
        "  double x = idx;\n",
        "#elsepy\n",
        "  double x[K];\n",
        "  for (long i = 0; i < K; i++) {\n",
        "    x[i] = idx * K + i;\n",
        "  }\n",
        "#endifpy\n",
        "#ifpy 2 <= VER <= 3\n",
        "  doublev x0 = V(x[0]);\n",
        "#elifpy VER == 4\n",
        "  doublev x0 = V(x[0]);\n",
        "  doublev x1 = V(x[L]);\n",
        "#endifpy\n",
        "  \n",
        "  // where clocks are recorded\n",
        "  T = &T[idx * n];\n",
        "  // record starting SM\n",
        "  R[idx].vcore0 = sched_getcpu();\n",
        "  // main thing. repeat a x + b many times,\n",
        "  // occasionally recording the clock\n",
        "#ifpy VER >= 3\n",
        "  perf_event_counter_t pc = mk_perf_event_counter();\n",
        "#endifpy\n",
        "  for (long i = 0; i < n; i++) {\n",
        "#ifpy VER <= 2\n",
        "    T[i] = get_clock();\n",
        "#elsepy\n",
        "    T[i] = get_clock(pc);\n",
        "#endifpy\n",
        "    asm volatile(\"# begin loop\");\n",
        "    for (long j = 0; j < m; j++) {\n",
        "#ifpy VER == 1\n",
        "      x = a * x + b;\n",
        "#elifpy VER <= 3\n",
        "      x0 = a * x0 + b;\n",
        "#elifpy VER <= 4\n",
        "      x0 = a * x0 + b;\n",
        "      x1 = a * x1 + b;\n",
        "#elsepy\n",
        "      for (long k = 0; k < K; k += L) {\n",
        "        V(x[k]) = a * V(x[k]) + b;\n",
        "      }\n",
        "#endifpy\n",
        "    }\n",
        "    asm volatile(\"# end loop\");\n",
        "  }\n",
        "#ifpy VER >= 3\n",
        "  perf_event_counter_destroy(pc);\n",
        "#endifpy\n",
        "  // record ending SM (must be = sm0)\n",
        "  R[idx].vcore1 = sched_getcpu();\n",
        "  // record result, just so that the computation is not\n",
        "  // eliminated by the compiler\n",
        "#ifpy 2 <= VER <= 3\n",
        "  V(x[0]) = x0;\n",
        "#elifpy VER == 4\n",
        "  V(x[0]) = x0;\n",
        "  V(x[L]) = x1;\n",
        "#endifpy\n",
        "#ifpy VER == 1\n",
        "  R[idx].x[0] = x;\n",
        "#elsepy\n",
        "  for (int i = 0; i < K; i++) {\n",
        "    R[idx].x[i] = x[i];\n",
        "  }\n",
        "#endifpy\n",
        "}\n",
        ""
      ],
      "execution_count": null,
      "outputs": []
    },
    {
      "cell_type": "code",
      "metadata": {
        "kernel": "Bash",
        "nbgrader": {
          "grade": true,
          "grade_id": "p-006",
          "locked": false,
          "schema_version": 3,
          "solution": true,
          "task": false,
          "points": 1
        }
      },
      "source": [
        "BEGIN SOLUTION\n",
        "END SOLUTION\n",
        "clang -DCLOCK_IS_CORE_CLOCK=1 -Wall -O3 -mavx512f -mfma -fopenmp simd_no_ilp.c -o simd_no_ilp\n",
        "#nvc   -DCLOCK_IS_CORE_CLOCK=1 -Wall -O3 -mavx512f -mfma -mp      simd_no_ilp.c -o simd_no_ilp\n",
        "#gcc   -DCLOCK_IS_CORE_CLOCK=1 -Wall -O3 -mavx512f -mfma -fopenmp simd_no_ilp.c -o simd_no_ilp"
      ],
      "execution_count": null,
      "outputs": []
    },
    {
      "cell_type": "markdown",
      "metadata": {
        "kernel": "SoS",
        "nbgrader": {
          "grade": false,
          "grade_id": "c-028",
          "locked": true,
          "schema_version": 3,
          "solution": false,
          "task": false
        }
      },
      "source": [
        "* execute the following and get the number of core cycles per iteration\n",
        "* it should be almost exactly four, the latency of an FMA instruction \n",
        "* you should check it at [Intel intrinsics guide](https://www.intel.com/content/www/us/en/docs/intrinsics-guide/index.html) (search for _mm512_fmadd_pd)"
      ]
    },
    {
      "cell_type": "code",
      "metadata": {
        "kernel": "Bash",
        "nbgrader": {
          "grade": true,
          "grade_id": "p-007",
          "locked": false,
          "schema_version": 3,
          "solution": true,
          "task": false,
          "points": 1
        }
      },
      "source": [
        "BEGIN SOLUTION\n",
        "END SOLUTION\n",
        "OMP_NUM_THREADS=1 OMP_PROC_BIND=true ./simd_no_ilp 100 1000000 > simd_no_ilp.log"
      ],
      "execution_count": null,
      "outputs": []
    },
    {
      "cell_type": "code",
      "metadata": {
        "kernel": "Python 3 (ipykernel)",
        "nbgrader": {
          "grade": false,
          "grade_id": "c-029",
          "locked": false,
          "schema_version": 3,
          "solution": false,
          "task": false
        }
      },
      "source": [
        "ilp_plt([\"./simd_no_ilp.log\"])"
      ],
      "execution_count": null,
      "outputs": []
    },
    {
      "cell_type": "markdown",
      "metadata": {
        "kernel": "SoS",
        "nbgrader": {
          "grade": false,
          "grade_id": "c-030",
          "locked": true,
          "schema_version": 3,
          "solution": false,
          "task": false
        }
      },
      "source": [
        "* also check the assembly code for what the loop actually looks like\n",
        "* locate the code corresponding to the inner-most loop (`for (long j = 0; j < m; j++) ...`), using `# begin loop` and `# end loop` as landmarks"
      ]
    },
    {
      "cell_type": "code",
      "metadata": {
        "kernel": "Bash",
        "nbgrader": {
          "grade": true,
          "grade_id": "p-008",
          "locked": false,
          "schema_version": 3,
          "solution": true,
          "task": false,
          "points": 1
        }
      },
      "source": [
        "BEGIN SOLUTION\n",
        "END SOLUTION\n",
        "clang -DCLOCK_IS_CORE_CLOCK=1 -Wall -O3 -mavx512f -mfma -fopenmp simd_no_ilp.c -S\n",
        "#nvc   -DCLOCK_IS_CORE_CLOCK=1 -Wall -O3 -mavx512f -mfma -mp      simd_no_ilp.c -S\n",
        "#gcc   -DCLOCK_IS_CORE_CLOCK=1 -Wall -O3 -mavx512f -mfma -fopenmp simd_no_ilp.c -S"
      ],
      "execution_count": null,
      "outputs": []
    },
    {
      "cell_type": "markdown",
      "metadata": {
        "kernel": "SoS",
        "nbgrader": {
          "grade": false,
          "grade_id": "c-031",
          "locked": true,
          "schema_version": 3,
          "solution": false,
          "task": false
        }
      },
      "source": [
        "# 8. SIMD x ILP",
        "\n",
        "* with SIMD, it now performs a SIMD FMA (eight DP multiply-and-adds or sixteen DP flops) every four core cycles (0.25 FMA per cycle)\n",
        "* still, it is still far from the peak, which is TWO FMAs every single cycle (1/8 of the peak)\n",
        "* how to go beyond that?\n",
        "* on a GPU SM, it was done just by increasing the number of CUDA threads thrown to a single SM\n",
        "* on a CPU core, it is done by performing `x = a * x + b` on many different variables in a single thread"
      ]
    },
    {
      "cell_type": "code",
      "metadata": {
        "kernel": "Python 3 (ipykernel)",
        "nbgrader": {
          "grade": false,
          "grade_id": "c-032",
          "locked": false,
          "schema_version": 3,
          "solution": false,
          "task": false
        }
      },
      "source": [
        "%%writefile simd_ilp2.c\n",
        "#com 5\n",
        "// record of execution\n",
        "typedef long long int llint;\n",
        "#ifpy VER >= 2\n",
        "typedef double doublev __attribute__((vector_size(64), __may_alias__, aligned(sizeof(double))));\n",
        "enum { L = sizeof(doublev) / sizeof(double) };\n",
        "#endifpy\n",
        "\n",
        "#ifpy VER == 1\n",
        "enum { K = 1 };\n",
        "#elifpy VER <= 3\n",
        "enum { K = L };\n",
        "#elifpy VER <= 4\n",
        "enum { K = 2 * L };\n",
        "#elifpy VER <= 5\n",
        "#ifndef C\n",
        "#define C 2\n",
        "#endif\n",
        "enum { K = C * L };\n",
        "#endifpy\n",
        "\n",
        "typedef struct {\n",
        "#ifpy VER == 1\n",
        "  double x[1];\n",
        "#elsepy\n",
        "  double x[K];                     // a (meaningless) answer\n",
        "#endifpy\n",
        "  int vcore0; // a virtual core on which a thread got started\n",
        "  int vcore1; // a virtual core on which a thread ended\n",
        "} record_t;\n",
        "\n",
        "#include \"ilp_rec_main.h\"\n",
        "#ifpy VER >= 3\n",
        "#include \"perf.h\"\n",
        "#endifpy\n",
        "\n",
        "#ifpy VER <= 2\n",
        "llint get_clock() {\n",
        "  return _rdtsc();\n",
        "}\n",
        "#elsepy\n",
        "llint get_clock(perf_event_counter_t pc) {\n",
        "#if CLOCK_IS_CORE_CLOCK\n",
        "  /* get core clock */\n",
        "  return perf_event_counter_get(pc);\n",
        "#else\n",
        "  /* read timestamp counter instruction (reference clock) */\n",
        "  return _rdtsc();\n",
        "#endif\n",
        "}\n",
        "#endifpy\n",
        "\n",
        "#ifpy VER >= 2\n",
        "#define V(x) (*((doublev*)&x))\n",
        "#endifpy\n",
        "/* this thread repeats x = a x + b (N * M) times.\n",
        "   it records the clock N times (every M iterations of x = a x + b)\n",
        "   to array T.\n",
        "   final result of x = a x + b, as well as SM each thread was executed\n",
        "   on are recorded to R. */\n",
        "void thread_fun(double a, double b, record_t * R,\n",
        "                llint * T, llint n, llint m) {\n",
        "  int idx = omp_get_thread_num();\n",
        "  // initial value (not important)\n",
        "#ifpy VER == 1\n",
        "  double x = idx;\n",
        "#elsepy\n",
        "  double x[K];\n",
        "  for (long i = 0; i < K; i++) {\n",
        "    x[i] = idx * K + i;\n",
        "  }\n",
        "#endifpy\n",
        "#ifpy 2 <= VER <= 3\n",
        "  doublev x0 = V(x[0]);\n",
        "#elifpy VER == 4\n",
        "  doublev x0 = V(x[0]);\n",
        "  doublev x1 = V(x[L]);\n",
        "#endifpy\n",
        "  \n",
        "  // where clocks are recorded\n",
        "  T = &T[idx * n];\n",
        "  // record starting SM\n",
        "  R[idx].vcore0 = sched_getcpu();\n",
        "  // main thing. repeat a x + b many times,\n",
        "  // occasionally recording the clock\n",
        "#ifpy VER >= 3\n",
        "  perf_event_counter_t pc = mk_perf_event_counter();\n",
        "#endifpy\n",
        "  for (long i = 0; i < n; i++) {\n",
        "#ifpy VER <= 2\n",
        "    T[i] = get_clock();\n",
        "#elsepy\n",
        "    T[i] = get_clock(pc);\n",
        "#endifpy\n",
        "    asm volatile(\"# begin loop\");\n",
        "    for (long j = 0; j < m; j++) {\n",
        "#ifpy VER == 1\n",
        "      x = a * x + b;\n",
        "#elifpy VER <= 3\n",
        "      x0 = a * x0 + b;\n",
        "#elifpy VER <= 4\n",
        "      x0 = a * x0 + b;\n",
        "      x1 = a * x1 + b;\n",
        "#elsepy\n",
        "      for (long k = 0; k < K; k += L) {\n",
        "        V(x[k]) = a * V(x[k]) + b;\n",
        "      }\n",
        "#endifpy\n",
        "    }\n",
        "    asm volatile(\"# end loop\");\n",
        "  }\n",
        "#ifpy VER >= 3\n",
        "  perf_event_counter_destroy(pc);\n",
        "#endifpy\n",
        "  // record ending SM (must be = sm0)\n",
        "  R[idx].vcore1 = sched_getcpu();\n",
        "  // record result, just so that the computation is not\n",
        "  // eliminated by the compiler\n",
        "#ifpy 2 <= VER <= 3\n",
        "  V(x[0]) = x0;\n",
        "#elifpy VER == 4\n",
        "  V(x[0]) = x0;\n",
        "  V(x[L]) = x1;\n",
        "#endifpy\n",
        "#ifpy VER == 1\n",
        "  R[idx].x[0] = x;\n",
        "#elsepy\n",
        "  for (int i = 0; i < K; i++) {\n",
        "    R[idx].x[i] = x[i];\n",
        "  }\n",
        "#endifpy\n",
        "}\n",
        ""
      ],
      "execution_count": null,
      "outputs": []
    },
    {
      "cell_type": "code",
      "metadata": {
        "kernel": "Bash",
        "nbgrader": {
          "grade": true,
          "grade_id": "p-009",
          "locked": false,
          "schema_version": 3,
          "solution": true,
          "task": false,
          "points": 1
        }
      },
      "source": [
        "BEGIN SOLUTION\n",
        "END SOLUTION\n",
        "clang -DCLOCK_IS_CORE_CLOCK=1 -Wall -O3 -mavx512f -mfma -fopenmp simd_ilp2.c -o simd_ilp2\n",
        "#nvc   -DCLOCK_IS_CORE_CLOCK=1 -Wall -O3 -mavx512f -mfma -mp      simd_ilp2.c -o simd_ilp2\n",
        "#gcc   -DCLOCK_IS_CORE_CLOCK=1 -Wall -O3 -mavx512f -mfma -fopenmp simd_ilp2.c -o simd_ilp2"
      ],
      "execution_count": null,
      "outputs": []
    },
    {
      "cell_type": "code",
      "metadata": {
        "kernel": "Bash",
        "nbgrader": {
          "grade": true,
          "grade_id": "p-010",
          "locked": false,
          "schema_version": 3,
          "solution": true,
          "task": false,
          "points": 1
        }
      },
      "source": [
        "BEGIN SOLUTION\n",
        "END SOLUTION\n",
        "OMP_NUM_THREADS=1 OMP_PROC_BIND=true ./simd_ilp2 100 1000000 > simd_ilp2.log"
      ],
      "execution_count": null,
      "outputs": []
    },
    {
      "cell_type": "markdown",
      "metadata": {
        "kernel": "SoS",
        "nbgrader": {
          "grade": false,
          "grade_id": "c-033",
          "locked": true,
          "schema_version": 3,
          "solution": false,
          "task": false
        }
      },
      "source": [
        "* the following should execute in almost the same time as the previous scalar/SIMD version\n",
        "* note that we doubled the amount of work, but the execution time stays almost the same, because these two instructions are independent and can run concurrently"
      ]
    },
    {
      "cell_type": "code",
      "metadata": {
        "kernel": "Python 3 (ipykernel)",
        "nbgrader": {
          "grade": false,
          "grade_id": "c-034",
          "locked": false,
          "schema_version": 3,
          "solution": false,
          "task": false
        }
      },
      "source": [
        "ilp_plt([\"./simd_ilp2.log\"])"
      ],
      "execution_count": null,
      "outputs": []
    },
    {
      "cell_type": "code",
      "metadata": {
        "kernel": "Bash",
        "nbgrader": {
          "grade": true,
          "grade_id": "p-011",
          "locked": false,
          "schema_version": 3,
          "solution": true,
          "task": false,
          "points": 1
        }
      },
      "source": [
        "BEGIN SOLUTION\n",
        "END SOLUTION\n",
        "clang -Wall -O3 -mavx512f -mfma -fopenmp simd_ilp2.c -S\n",
        "#nvc   -Wall -O3 -mavx512f -mfma -mp      simd_ilp2.c -S\n",
        "#gcc   -Wall -O3 -mavx512f -mfma -fopenmp simd_ilp2.c -S"
      ],
      "execution_count": null,
      "outputs": []
    },
    {
      "cell_type": "markdown",
      "metadata": {
        "kernel": "SoS",
        "nbgrader": {
          "grade": false,
          "grade_id": "c-035",
          "locked": true,
          "schema_version": 3,
          "solution": false,
          "task": false
        }
      },
      "source": [
        "# <font color=\"green\"> Problem 1 :  Dependent or not: that is the problem</font>",
        "\n",
        "* what happens if you change the two assignments\n",
        "```\n",
        "      x0 = a * x0 + b;\n",
        "      x1 = a * x1 + b;\n",
        "```\n",
        "into \n",
        "```\n",
        "      x0 = a * x1 + b;\n",
        "      x1 = a * x0 + b;\n",
        "```\n",
        "?\n",
        "* do it and see what happens\n",
        "* explain why"
      ]
    },
    {
      "cell_type": "markdown",
      "metadata": {
        "kernel": "SoS",
        "nbgrader": {
          "grade": true,
          "grade_id": "p-012",
          "locked": false,
          "schema_version": 3,
          "solution": true,
          "task": false,
          "points": 1
        }
      },
      "source": [
        "BEGIN SOLUTION\n",
        "END SOLUTION\n",
        "* the core cycles per iteration =\n",
        "\n",
        "* the reason"
      ]
    },
    {
      "cell_type": "markdown",
      "metadata": {
        "kernel": "SoS",
        "nbgrader": {
          "grade": false,
          "grade_id": "c-036",
          "locked": true,
          "schema_version": 3,
          "solution": false,
          "task": false
        }
      },
      "source": [
        "# 9. Getting to a single-core peak",
        "\n",
        "* we can have more than two variables and increase the number of concurrent operations, until we hopefully reach the peak\n",
        "* doing it using literally many variables makes the program ugly\n",
        "* the following program uses an array of doubles instead of multiple separate variables of `doublev`\n",
        "* you can easily change the number of variables by setting a compile-time macro C at the command line by giving `-DC=x` (e.g., `-DC=2` will use two `doublev` variables (sixteen DP numbers))\n",
        "* if the compiler is not clever, it may load and store values between memory and registers each time it performs fmadd\n",
        "* fortunately, gcc and clang are clever enough to do the inner loop entirely on registers"
      ]
    },
    {
      "cell_type": "code",
      "metadata": {
        "kernel": "Python 3 (ipykernel)",
        "nbgrader": {
          "grade": false,
          "grade_id": "c-037",
          "locked": false,
          "schema_version": 3,
          "solution": false,
          "task": false
        }
      },
      "source": [
        "%%writefile simd_ilp.c\n",
        "#com 5\n",
        "// record of execution\n",
        "typedef long long int llint;\n",
        "#ifpy VER >= 2\n",
        "typedef double doublev __attribute__((vector_size(64), __may_alias__, aligned(sizeof(double))));\n",
        "enum { L = sizeof(doublev) / sizeof(double) };\n",
        "#endifpy\n",
        "\n",
        "#ifpy VER == 1\n",
        "enum { K = 1 };\n",
        "#elifpy VER <= 3\n",
        "enum { K = L };\n",
        "#elifpy VER <= 4\n",
        "enum { K = 2 * L };\n",
        "#elifpy VER <= 5\n",
        "#ifndef C\n",
        "#define C 2\n",
        "#endif\n",
        "enum { K = C * L };\n",
        "#endifpy\n",
        "\n",
        "typedef struct {\n",
        "#ifpy VER == 1\n",
        "  double x[1];\n",
        "#elsepy\n",
        "  double x[K];                     // a (meaningless) answer\n",
        "#endifpy\n",
        "  int vcore0; // a virtual core on which a thread got started\n",
        "  int vcore1; // a virtual core on which a thread ended\n",
        "} record_t;\n",
        "\n",
        "#include \"ilp_rec_main.h\"\n",
        "#ifpy VER >= 3\n",
        "#include \"perf.h\"\n",
        "#endifpy\n",
        "\n",
        "#ifpy VER <= 2\n",
        "llint get_clock() {\n",
        "  return _rdtsc();\n",
        "}\n",
        "#elsepy\n",
        "llint get_clock(perf_event_counter_t pc) {\n",
        "#if CLOCK_IS_CORE_CLOCK\n",
        "  /* get core clock */\n",
        "  return perf_event_counter_get(pc);\n",
        "#else\n",
        "  /* read timestamp counter instruction (reference clock) */\n",
        "  return _rdtsc();\n",
        "#endif\n",
        "}\n",
        "#endifpy\n",
        "\n",
        "#ifpy VER >= 2\n",
        "#define V(x) (*((doublev*)&x))\n",
        "#endifpy\n",
        "/* this thread repeats x = a x + b (N * M) times.\n",
        "   it records the clock N times (every M iterations of x = a x + b)\n",
        "   to array T.\n",
        "   final result of x = a x + b, as well as SM each thread was executed\n",
        "   on are recorded to R. */\n",
        "void thread_fun(double a, double b, record_t * R,\n",
        "                llint * T, llint n, llint m) {\n",
        "  int idx = omp_get_thread_num();\n",
        "  // initial value (not important)\n",
        "#ifpy VER == 1\n",
        "  double x = idx;\n",
        "#elsepy\n",
        "  double x[K];\n",
        "  for (long i = 0; i < K; i++) {\n",
        "    x[i] = idx * K + i;\n",
        "  }\n",
        "#endifpy\n",
        "#ifpy 2 <= VER <= 3\n",
        "  doublev x0 = V(x[0]);\n",
        "#elifpy VER == 4\n",
        "  doublev x0 = V(x[0]);\n",
        "  doublev x1 = V(x[L]);\n",
        "#endifpy\n",
        "  \n",
        "  // where clocks are recorded\n",
        "  T = &T[idx * n];\n",
        "  // record starting SM\n",
        "  R[idx].vcore0 = sched_getcpu();\n",
        "  // main thing. repeat a x + b many times,\n",
        "  // occasionally recording the clock\n",
        "#ifpy VER >= 3\n",
        "  perf_event_counter_t pc = mk_perf_event_counter();\n",
        "#endifpy\n",
        "  for (long i = 0; i < n; i++) {\n",
        "#ifpy VER <= 2\n",
        "    T[i] = get_clock();\n",
        "#elsepy\n",
        "    T[i] = get_clock(pc);\n",
        "#endifpy\n",
        "    asm volatile(\"# begin loop\");\n",
        "    for (long j = 0; j < m; j++) {\n",
        "#ifpy VER == 1\n",
        "      x = a * x + b;\n",
        "#elifpy VER <= 3\n",
        "      x0 = a * x0 + b;\n",
        "#elifpy VER <= 4\n",
        "      x0 = a * x0 + b;\n",
        "      x1 = a * x1 + b;\n",
        "#elsepy\n",
        "      for (long k = 0; k < K; k += L) {\n",
        "        V(x[k]) = a * V(x[k]) + b;\n",
        "      }\n",
        "#endifpy\n",
        "    }\n",
        "    asm volatile(\"# end loop\");\n",
        "  }\n",
        "#ifpy VER >= 3\n",
        "  perf_event_counter_destroy(pc);\n",
        "#endifpy\n",
        "  // record ending SM (must be = sm0)\n",
        "  R[idx].vcore1 = sched_getcpu();\n",
        "  // record result, just so that the computation is not\n",
        "  // eliminated by the compiler\n",
        "#ifpy 2 <= VER <= 3\n",
        "  V(x[0]) = x0;\n",
        "#elifpy VER == 4\n",
        "  V(x[0]) = x0;\n",
        "  V(x[L]) = x1;\n",
        "#endifpy\n",
        "#ifpy VER == 1\n",
        "  R[idx].x[0] = x;\n",
        "#elsepy\n",
        "  for (int i = 0; i < K; i++) {\n",
        "    R[idx].x[i] = x[i];\n",
        "  }\n",
        "#endifpy\n",
        "}\n",
        ""
      ],
      "execution_count": null,
      "outputs": []
    },
    {
      "cell_type": "markdown",
      "metadata": {
        "kernel": "SoS",
        "nbgrader": {
          "grade": false,
          "grade_id": "c-038",
          "locked": true,
          "schema_version": 3,
          "solution": false,
          "task": false
        }
      },
      "source": [
        "# <font color=\"green\"> Problem 2 :  Getting to a single-core peak</font>",
        "\n",
        "* play with changing the value of `C` below and measure the execution time\n",
        "* what is the minimum value of `C` that attains peak performance?\n",
        "* what if you make `C` slightly larger?\n",
        "* what if you make `C` even larger?"
      ]
    },
    {
      "cell_type": "code",
      "metadata": {
        "kernel": "Bash",
        "nbgrader": {
          "grade": true,
          "grade_id": "p-013",
          "locked": false,
          "schema_version": 3,
          "solution": true,
          "task": false,
          "points": 1
        }
      },
      "source": [
        "BEGIN SOLUTION\n",
        "END SOLUTION\n",
        "C=2\n",
        "clang -DC=${C} -DCLOCK_IS_CORE_CLOCK=1 -Wall -O3 -mavx512f -mfma -fopenmp simd_ilp.c -o simd_ilp\n",
        "#nvc   -DC=${C} -DCLOCK_IS_CORE_CLOCK=1 -Wall -O3 -mavx512f -mfma -mp      simd_ilp.c -o simd_ilp\n",
        "#gcc   -DC=${C} -DCLOCK_IS_CORE_CLOCK=1 -Wall -O3 -mavx512f -mfma -fopenmp simd_ilp.c -o simd_ilp"
      ],
      "execution_count": null,
      "outputs": []
    },
    {
      "cell_type": "code",
      "metadata": {
        "kernel": "Bash",
        "nbgrader": {
          "grade": true,
          "grade_id": "p-014",
          "locked": false,
          "schema_version": 3,
          "solution": true,
          "task": false,
          "points": 1
        }
      },
      "source": [
        "BEGIN SOLUTION\n",
        "END SOLUTION\n",
        "OMP_NUM_THREADS=1 OMP_PROC_BIND=true ./simd_ilp 100 1000000 > simd_ilp.log"
      ],
      "execution_count": null,
      "outputs": []
    },
    {
      "cell_type": "code",
      "metadata": {
        "kernel": "Python 3 (ipykernel)",
        "nbgrader": {
          "grade": false,
          "grade_id": "c-039",
          "locked": false,
          "schema_version": 3,
          "solution": false,
          "task": false
        }
      },
      "source": [
        "ilp_plt([\"./simd_ilp.log\"])"
      ],
      "execution_count": null,
      "outputs": []
    },
    {
      "cell_type": "markdown",
      "metadata": {
        "kernel": "SoS",
        "nbgrader": {
          "grade": false,
          "grade_id": "c-040",
          "locked": true,
          "schema_version": 3,
          "solution": false,
          "task": false
        }
      },
      "source": [
        "* run it with varying C's "
      ]
    },
    {
      "cell_type": "code",
      "metadata": {
        "kernel": "Bash",
        "nbgrader": {
          "grade": true,
          "grade_id": "p-015",
          "locked": false,
          "schema_version": 3,
          "solution": true,
          "task": false,
          "points": 1
        }
      },
      "source": [
        "BEGIN SOLUTION\n",
        "END SOLUTION\n",
        "for C in $(seq 1 16); do \n",
        "    echo \"=== C=${C} ===\"\n",
        "    clang -DC=${C} -DCLOCK_IS_CORE_CLOCK=1 -Wall -O3 -mavx512f -mfma -fopenmp simd_ilp.c -o simd_ilp\n",
        "    #nvc   -DC=${C} -DCLOCK_IS_CORE_CLOCK=1 -Wall -O3 -mavx512f -mfma -mp      simd_ilp.c -o simd_ilp\n",
        "    #gcc   -DC=${C} -DCLOCK_IS_CORE_CLOCK=1 -Wall -O3 -mavx512f -mfma -fopenmp simd_ilp.c -o simd_ilp\n",
        "    OMP_NUM_THREADS=1 ./simd_ilp > ilp_rec.log\n",
        "done"
      ],
      "execution_count": null,
      "outputs": []
    },
    {
      "cell_type": "markdown",
      "metadata": {
        "kernel": "SoS",
        "nbgrader": {
          "grade": false,
          "grade_id": "c-041",
          "locked": true,
          "schema_version": 3,
          "solution": false,
          "task": false
        }
      },
      "source": [
        "* copy the result below and draw the graph"
      ]
    },
    {
      "cell_type": "code",
      "metadata": {
        "kernel": "Python 3 (ipykernel)",
        "nbgrader": {
          "grade": false,
          "grade_id": "c-042",
          "locked": false,
          "schema_version": 3,
          "solution": false,
          "task": false
        }
      },
      "source": [
        "import re\n",
        "import matplotlib.pyplot as plt\n",
        "\n",
        "# copy the result below\n",
        "result = \"\"\"\n",
        "=== C=1 ===\n",
        "thread 0 : cycles/iter = ..., fmas/cycle = ...\n",
        "fmas/cycle = ...\n",
        "=== C=2 ===\n",
        "\n",
        "   ...\n",
        "\n",
        "=== C=12 ===\n",
        "thread 0 : cycles/iter = ..., fmas/cycle = ...\n",
        "fmas/cycle = ...\n",
        "\"\"\"\n",
        "\n",
        "def main():\n",
        "    C = []\n",
        "    cycles_per_iter = []\n",
        "    fmas_per_cycle = []\n",
        "    for line in result.strip().split(\"\\n\"):\n",
        "        m = re.match(\"=== C=(?P<C>\\d+) ===\", line)\n",
        "        if m:\n",
        "            c = int(m.group(\"C\"))\n",
        "        m = re.match(\"thread (\\d+) : cycles/iter = (?P<cpi>\\d+\\.\\d+), fmas/cycle = (?P<fpc>\\d+\\.\\d+)\", line)\n",
        "        if m:\n",
        "            C.append(c)\n",
        "            cycles_per_iter.append(float(m.group(\"cpi\")))\n",
        "            fmas_per_cycle.append(float(m.group(\"fpc\")))\n",
        "    cycles_per_iter_line, = plt.plot(C, cycles_per_iter, \"-*\")\n",
        "    cycles_per_iter_line.set_label(\"cycles/iter\")\n",
        "    fmas_per_cycle_line, = plt.plot(C, fmas_per_cycle, \"-*\")\n",
        "    fmas_per_cycle_line.set_label(\"fmas/cycle\")\n",
        "    plt.legend()\n",
        "    plt.show()\n",
        "    \n",
        "main()            "
      ],
      "execution_count": null,
      "outputs": []
    },
    {
      "cell_type": "markdown",
      "metadata": {
        "kernel": "SoS",
        "nbgrader": {
          "grade": false,
          "grade_id": "c-043",
          "locked": true,
          "schema_version": 3,
          "solution": false,
          "task": false
        }
      },
      "source": [
        "# 10. SIMD x ILP x multicore",
        "\n",
        "* finally run it with multicore to get nearly peak performance of the CPU!\n",
        "* we use the reference clock to measure time, as core clocks are per-core clocks (it is misleading to put them in the same graph)"
      ]
    },
    {
      "cell_type": "code",
      "metadata": {
        "kernel": "Bash",
        "nbgrader": {
          "grade": true,
          "grade_id": "p-016",
          "locked": false,
          "schema_version": 3,
          "solution": true,
          "task": false,
          "points": 1
        }
      },
      "source": [
        "BEGIN SOLUTION\n",
        "END SOLUTION\n",
        "C=8\n",
        "clang -DC=${C} -Wall -O3 -mavx512f -mfma -fopenmp simd_ilp.c -o simd_ilp\n",
        "#nvc   -DC=${C} -Wall -O3 -mavx512f -mfma -mp      simd_ilp.c -o simd_ilp\n",
        "#gcc   -DC=${C} -Wall -O3 -mavx512f -mfma -fopenmp simd_ilp.c -o simd_ilp"
      ],
      "execution_count": null,
      "outputs": []
    },
    {
      "cell_type": "code",
      "metadata": {
        "kernel": "Bash",
        "nbgrader": {
          "grade": true,
          "grade_id": "p-017",
          "locked": false,
          "schema_version": 3,
          "solution": true,
          "task": false,
          "points": 1
        }
      },
      "source": [
        "BEGIN SOLUTION\n",
        "END SOLUTION\n",
        "OMP_NUM_THREADS=16 OMP_PROC_BIND=true ./simd_ilp 100 1000000 > simd_ilp_multicore.log"
      ],
      "execution_count": null,
      "outputs": []
    },
    {
      "cell_type": "code",
      "metadata": {
        "kernel": "Python 3 (ipykernel)",
        "nbgrader": {
          "grade": false,
          "grade_id": "c-044",
          "locked": false,
          "schema_version": 3,
          "solution": false,
          "task": false
        }
      },
      "source": [
        "ilp_plt([\"./simd_ilp_multicore.log\"])"
      ],
      "execution_count": null,
      "outputs": []
    },
    {
      "cell_type": "markdown",
      "metadata": {
        "kernel": "SoS",
        "nbgrader": {
          "grade": false,
          "grade_id": "c-045",
          "locked": true,
          "schema_version": 3,
          "solution": false,
          "task": false
        }
      },
      "source": [
        "#  Remarks on multicore performance",
        "\n",
        "* `OMP_PROC_BIND=true` above ensures each OpenMP thread is pinned to a virtual core (is not moved by the operating system) and to a distinct virtual core up to the number of virtual cores\n",
        "* what we wish to observe is therefore that\n",
        "  * the execution time does not increase up to the number of physical cores (38 in `taulec`) and\n",
        "  * it increases up to 2x up to the number of virtual cores (76 in `taulec`)\n",
        "* there are several reasons why it may not happen in practice\n",
        "  1. two OpenMP threads of your program may happen to run on tho two virtual cores of the same physical core\n",
        "  1. one of your OpenMP thread and another thread run by your friends may happen to run on the same virtual or physical core\n",
        "  1. one of your OpenMP thread and other system services (Jupyter server, SSH server, etc.) may happen to run on the same virtual or physical core\n",
        "* when you execute your program when many people are not using `taulec`, you are likely to be able to avoid the problems 2 and 3\n",
        "* it is difficult to avoid the problem 1 in the virtualized environment (which taulec is), as the mapping between CPU number seen in taulec and the physical core is unknown and can even change at runtime\n",
        "  * in physical machines, you can know which virtual cores visible in the environment share the same physical core, so, using appropriate Linux tools (e.g., taskset or numactl), you can guarantee that only one virtual core on each physical core is used to run your program \n",
        "* if two threads that would reach the peak performance happen to run on the two virtual cores of the same physical core, each thread gets half of the peak performance\n",
        "* therefore what you can hope is that the execution time becomes 2x at the worst case, up to the number of virtual cores (76 in `taulec`)\n",
        "* even this may not happen due to the problems 2 and 3, especially when many users use `taulec` (try at night)"
      ]
    }
  ],
  "metadata": {
    "celltoolbar": "Create Assignment",
    "kernelspec": {
      "display_name": "SoS",
      "language": "sos",
      "name": "sos"
    },
    "language_info": {
      "codemirror_mode": "sos",
      "file_extension": ".sos",
      "mimetype": "text/x-sos",
      "name": "sos",
      "nbconvert_exporter": "sos_notebook.converter.SoS_Exporter",
      "pygments_lexer": "sos"
    },
    "sos": {
      "kernels": [
        [
          "Bash",
          "bash",
          "bash",
          "",
          "shell"
        ],
        [
          "C",
          "c_kernel",
          "c",
          "",
          ""
        ],
        [
          "Go",
          "gophernotes",
          "go",
          "",
          ""
        ],
        [
          "Julia 1.10.2",
          "julia-1.10",
          "julia",
          "",
          ""
        ],
        [
          "OCaml default",
          "ocaml-jupyter",
          "OCaml",
          "",
          "text/x-ocaml"
        ],
        [
          "Python 3 (ipykernel)",
          "python3",
          "python3",
          "",
          {
            "name": "ipython",
            "version": 3
          }
        ],
        [
          "Rust",
          "rust",
          "rust",
          "",
          ""
        ]
      ],
      "panel": {
        "displayed": true,
        "height": 0
      },
      "version": "0.23.3"
    }
  },
  "nbformat": 4,
  "nbformat_minor": 4
}