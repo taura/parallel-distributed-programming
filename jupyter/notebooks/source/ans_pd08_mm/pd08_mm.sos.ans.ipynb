{
  "cells": [
    {
      "cell_type": "markdown",
      "metadata": {
        "kernel": "SoS",
        "nbgrader": {
          "grade": false,
          "grade_id": "c-001",
          "locked": true,
          "schema_version": 3,
          "solution": false,
          "task": false
        }
      },
      "source": [
        "#  A real exercise --- a fast matrix multiply",
        "\n",
        "# 1. Introduction",
        "\n",
        "* Matrix-matrix multiplication is an important building block for many applications, most notably for deep neural networks\n",
        "* It is also a good exercise for exploiting SIMD and ILP, as doing so brings much benefits"
      ]
    },
    {
      "cell_type": "markdown",
      "metadata": {
        "kernel": "SoS",
        "nbgrader": {
          "grade": false,
          "grade_id": "c-002",
          "locked": true,
          "schema_version": 3,
          "solution": false,
          "task": false
        }
      },
      "source": [
        "# 2. Compilers",
        "\n",
        "## 2-1. Set up NVIDIA HPC SDK",
        "\n",
        "Execute this before you use NVIDIA HPC SDK"
      ]
    },
    {
      "cell_type": "code",
      "metadata": {
        "kernel": "Bash",
        "nbgrader": {
          "grade": false,
          "grade_id": "c-003",
          "locked": false,
          "schema_version": 3,
          "solution": false,
          "task": false
        }
      },
      "source": [
        "export PATH=/opt/nvidia/hpc_sdk/Linux_x86_64/24.9/compilers/bin:$PATH"
      ],
      "execution_count": null,
      "outputs": []
    },
    {
      "cell_type": "markdown",
      "metadata": {
        "kernel": "SoS",
        "nbgrader": {
          "grade": false,
          "grade_id": "c-004",
          "locked": true,
          "schema_version": 3,
          "solution": false,
          "task": false
        }
      },
      "source": [
        "Check if it works (check if full paths of nvc/nvc++ are shown)"
      ]
    },
    {
      "cell_type": "code",
      "metadata": {
        "kernel": "Bash",
        "nbgrader": {
          "grade": false,
          "grade_id": "c-005",
          "locked": false,
          "schema_version": 3,
          "solution": false,
          "task": false
        }
      },
      "source": [
        "which nvc\n",
        "which nvc++"
      ],
      "execution_count": null,
      "outputs": []
    },
    {
      "cell_type": "markdown",
      "metadata": {
        "kernel": "SoS",
        "nbgrader": {
          "grade": false,
          "grade_id": "c-006",
          "locked": true,
          "schema_version": 3,
          "solution": false,
          "task": false
        }
      },
      "source": [
        "## 2-2. Set up LLVM",
        "\n",
        "Execute this before you use LLVM\n",
        ""
      ]
    },
    {
      "cell_type": "code",
      "metadata": {
        "kernel": "Bash",
        "nbgrader": {
          "grade": false,
          "grade_id": "c-007",
          "locked": false,
          "schema_version": 3,
          "solution": false,
          "task": false
        }
      },
      "source": [
        "export PATH=/home/share/llvm/bin:$PATH\n",
        "export LD_LIBRARY_PATH=/home/share/llvm/lib:/home/share/llvm/lib/x86_64-unknown-linux-gnu:$LD_LIBRARY_PATH"
      ],
      "execution_count": null,
      "outputs": []
    },
    {
      "cell_type": "markdown",
      "metadata": {
        "kernel": "SoS",
        "nbgrader": {
          "grade": false,
          "grade_id": "c-008",
          "locked": true,
          "schema_version": 3,
          "solution": false,
          "task": false
        }
      },
      "source": [
        "Check if it works (check if full paths of gcc/g++ are shown)"
      ]
    },
    {
      "cell_type": "code",
      "metadata": {
        "kernel": "Bash",
        "nbgrader": {
          "grade": false,
          "grade_id": "c-009",
          "locked": false,
          "schema_version": 3,
          "solution": false,
          "task": false
        }
      },
      "source": [
        "which clang\n",
        "which clang++"
      ],
      "execution_count": null,
      "outputs": []
    },
    {
      "cell_type": "markdown",
      "metadata": {
        "kernel": "SoS",
        "nbgrader": {
          "grade": false,
          "grade_id": "c-010",
          "locked": true,
          "schema_version": 3,
          "solution": false,
          "task": false
        }
      },
      "source": [
        "## 2-3. GCC",
        ""
      ]
    },
    {
      "cell_type": "markdown",
      "metadata": {
        "kernel": "SoS",
        "nbgrader": {
          "grade": false,
          "grade_id": "c-011",
          "locked": true,
          "schema_version": 3,
          "solution": false,
          "task": false
        }
      },
      "source": [
        "Check if it works (check if full paths of nvc/nvc++ are shown)"
      ]
    },
    {
      "cell_type": "code",
      "metadata": {
        "kernel": "Bash",
        "nbgrader": {
          "grade": false,
          "grade_id": "c-012",
          "locked": false,
          "schema_version": 3,
          "solution": false,
          "task": false
        }
      },
      "source": [
        "which gcc\n",
        "which g++"
      ],
      "execution_count": null,
      "outputs": []
    },
    {
      "cell_type": "markdown",
      "metadata": {
        "kernel": "SoS",
        "nbgrader": {
          "grade": false,
          "grade_id": "c-013",
          "locked": true,
          "schema_version": 3,
          "solution": false,
          "task": false
        }
      },
      "source": [
        "# 3. A very basic matrix multiply without SIMD or ILP",
        "\n",
        "* this is a very basic matrix multiply without SIMD or ILP"
      ]
    },
    {
      "cell_type": "code",
      "metadata": {
        "kernel": "Python 3 (ipykernel)",
        "nbgrader": {
          "grade": false,
          "grade_id": "c-014",
          "locked": false,
          "schema_version": 3,
          "solution": false,
          "task": false
        }
      },
      "source": [
        "%%writefile mm_basic.cc\n",
        "#include <assert.h>\n",
        "#include \"mm_cpu.h\"\n",
        "\n",
        "void gemm(matrix A, matrix B, matrix C) {\n",
        "  idx_t M = C.M;\n",
        "  idx_t N = C.N;\n",
        "  idx_t K = A.N;\n",
        "  for (idx_t i = 0; i < M; i++) {\n",
        "    for (idx_t j = 0; j < N; j++) {\n",
        "      real c = 0;\n",
        "      asm volatile(\"# loop begins\");\n",
        "      for (idx_t k = 0; k < K; k++) {\n",
        "        c += A(i,k) * B(k,j);\n",
        "      }\n",
        "      asm volatile(\"# loop ends\");\n",
        "      C(i,j) += c;\n",
        "    }\n",
        "  }\n",
        "}\n",
        "\n",
        "\n",
        ""
      ],
      "execution_count": null,
      "outputs": []
    },
    {
      "cell_type": "markdown",
      "metadata": {
        "kernel": "SoS",
        "nbgrader": {
          "grade": false,
          "grade_id": "c-015",
          "locked": true,
          "schema_version": 3,
          "solution": false,
          "task": false
        }
      },
      "source": [
        "* definition of matrix and auxiliary functions"
      ]
    },
    {
      "cell_type": "code",
      "metadata": {
        "kernel": "Python 3 (ipykernel)",
        "nbgrader": {
          "grade": false,
          "grade_id": "c-016",
          "locked": false,
          "schema_version": 3,
          "solution": false,
          "task": false
        }
      },
      "source": [
        "%%writefile mm_cpu.h\n",
        "/* \n",
        " * mm_cpu.h\n",
        " */\n",
        "\n",
        "/* type definition */\n",
        "typedef float real;\n",
        "typedef long idx_t;\n",
        "\n",
        "#if ! defined(__AVX512F__)\n",
        "#error \"__AVX512F__ must be defined (forgot to give -mavx512f -mfma?)\"\n",
        "#endif\n",
        "\n",
        "#include <x86intrin.h>\n",
        "enum { vwidth = 64 };\n",
        "typedef real realv __attribute__((vector_size(vwidth),__may_alias__,aligned(vwidth)));\n",
        "enum { L = sizeof(realv) / sizeof(real) };\n",
        "\n",
        "__attribute__((unused))\n",
        "static realv U(real c) {\n",
        "  return _mm512_set1_ps(c);\n",
        "  // return _mm512_set1_pd(c);\n",
        "}\n",
        "\n",
        "__attribute__((unused))\n",
        "static realv& V(real& p) {\n",
        "  return *((realv*)&p);\n",
        "}\n",
        "\n",
        "#define CHECK_IDX 0\n",
        "\n",
        "struct matrix {\n",
        "  idx_t M;                      // number of rows\n",
        "  idx_t N;                      // number of columns\n",
        "  idx_t ld;                     // leading dimension (usually = N)\n",
        "  real * a;                     // array of values (M x ld elements)\n",
        "  matrix(idx_t _M, idx_t _N) {\n",
        "    M = _M;\n",
        "    N = _N;\n",
        "    ld = _N;\n",
        "    a = (real *)aligned_alloc(vwidth, sizeof(real) * M * ld);\n",
        "  }\n",
        "  /* return a scalar A(i,j) */\n",
        "  real& operator() (idx_t i, idx_t j) {\n",
        "#if CHECK_IDX\n",
        "    assert(i < M);\n",
        "    assert(j < N);\n",
        "    assert(i >= 0);\n",
        "    assert(j >= 0);\n",
        "#endif\n",
        "    return a[i * ld + j];\n",
        "  }\n",
        "  /* A.V(i,j) returns a vector at A(i,j) (i.e., A(i,j:j+L)).\n",
        "     you can put it on lefthand side, e.g., A.V(i,j) = ... */\n",
        "  realv& V(idx_t i, idx_t j) {\n",
        "#if CHECK_IDX\n",
        "    assert(i < M);\n",
        "    assert(j + L <= N);\n",
        "    assert(i >= 0);\n",
        "    assert(j >= 0);\n",
        "#endif\n",
        "    return ::V(a[i * ld + j]);\n",
        "  }\n",
        "};\n",
        ""
      ],
      "execution_count": null,
      "outputs": []
    },
    {
      "cell_type": "markdown",
      "metadata": {
        "kernel": "SoS",
        "nbgrader": {
          "grade": false,
          "grade_id": "c-017",
          "locked": true,
          "schema_version": 3,
          "solution": false,
          "task": false
        }
      },
      "source": [
        "* main function"
      ]
    },
    {
      "cell_type": "code",
      "metadata": {
        "kernel": "Python 3 (ipykernel)",
        "nbgrader": {
          "grade": false,
          "grade_id": "c-018",
          "locked": false,
          "schema_version": 3,
          "solution": false,
          "task": false
        }
      },
      "source": [
        "%%writefile mm_main_cpu.cc\n",
        "/* \n",
        " * mm_main_cpu.cc\n",
        " */\n",
        "\n",
        "#include <assert.h>\n",
        "#include <math.h>\n",
        "#include <stdio.h>\n",
        "#include <stdlib.h>\n",
        "\n",
        "#include \"mm_cpu.h\"\n",
        "#include \"event.h\"\n",
        "\n",
        "void gemm(matrix A, matrix B, matrix C);\n",
        "\n",
        "/* initialize elements randomly */\n",
        "static void rand_init(matrix A, unsigned short rg[3]) {\n",
        "  for (idx_t i = 0; i < A.M; i++) {\n",
        "    for (idx_t j = 0; j < A.N; j++) {\n",
        "      A(i,j) = erand48(rg);\n",
        "    }\n",
        "  }\n",
        "}\n",
        "\n",
        "/* initialize all elements by c */\n",
        "static void const_init(matrix A, real c) {\n",
        "  for (idx_t i = 0; i < A.M; i++) {\n",
        "    for (idx_t j = 0; j < A.N; j++) {\n",
        "      A(i,j) = c;\n",
        "    }\n",
        "  }\n",
        "}\n",
        "\n",
        "static void zero_init(matrix A) {\n",
        "  const_init(A, 0.0);\n",
        "}\n",
        "\n",
        "static real comp_ij(matrix A, matrix B,\n",
        "                    idx_t i, idx_t j, long times) {\n",
        "  real s1 = 0.0;\n",
        "  idx_t K = A.N;\n",
        "  for (idx_t k = 0; k < K; k++) {\n",
        "    s1 += A(i,k) * B(k,j);\n",
        "  }\n",
        "  real s = 0.0;\n",
        "  for (long t = 0; t < times; t++) {\n",
        "    s += s1;\n",
        "  }\n",
        "  return s;\n",
        "}\n",
        "\n",
        "int main(int argc, char ** argv) {\n",
        "  int i = 1;\n",
        "  const long M = (argc > i ? atol(argv[i]) :   8); i++;\n",
        "  const long N = (argc > i ? atol(argv[i]) :  32); i++;\n",
        "  const long K = (argc > i ? atol(argv[i]) : 192); i++;\n",
        "  const long approx_fmas = (argc > i ? atol(argv[i]) : 1L * 1000L * 1000L * 1000L); i++;\n",
        "  const long chk  = (argc > i ? atol(argv[i]) : 5); i++;\n",
        "  const long seed = (argc > i ? atol(argv[i]) : 76843802738543); i++;\n",
        "\n",
        "  matrix A(M, K);\n",
        "  matrix B(K, N);\n",
        "  matrix C(M, N);\n",
        "\n",
        "  unsigned short rg[3] = { (unsigned short)((seed >> 16) & 65535),\n",
        "                           (unsigned short)((seed >> 8)  & 65535),\n",
        "                           (unsigned short)((seed >> 0)  & 65535) };\n",
        "  rand_init(A, rg);\n",
        "  rand_init(B, rg);\n",
        "  zero_init(C);\n",
        "  \n",
        "  const long fmas = (long)M * (long)N * (long)K;\n",
        "  const long repeat = (approx_fmas + fmas - 1) / fmas;\n",
        "  const long fmas_total = fmas * repeat;\n",
        "  printf(\"M = %ld, N = %ld, K = %ld\\n\", M, N, K);\n",
        "  printf(\"sizeof(real) = %ld\\n\", sizeof(real));\n",
        "  printf(\"L : %u\\n\", L);\n",
        "  printf(\"A : %ld x %ld (ld=%ld) %ld bytes\\n\",\n",
        "         M, K, (long)A.ld, M * A.ld * sizeof(real));\n",
        "  printf(\"B : %ld x %ld (ld=%ld) %ld bytes\\n\",\n",
        "         K, N, (long)B.ld, K * B.ld * sizeof(real));\n",
        "  printf(\"C : %ld x %ld (ld=%ld) %ld bytes\\n\",\n",
        "         M, N, (long)C.ld, M * C.ld * sizeof(real));\n",
        "  printf(\"total = %ld bytes\\n\",\n",
        "         (M * A.ld + K * B.ld + M * C.ld) * sizeof(real));\n",
        "  printf(\"repeat : %ld times\\n\", repeat);\n",
        "  printf(\"perform %ld fmas ... \", fmas_total); fflush(stdout);\n",
        "\n",
        "  const char * events = getenv(\"EV\");\n",
        "  if (!events) events = \"cycles,ref-cycles,instructions\";\n",
        "  perf_event_counters_t pc = mk_perf_event_counters(events);\n",
        "  perf_event_values_t v0 = perf_event_counters_get(pc);\n",
        "  /* real thing happens here */\n",
        "  for (long i = 0; i < repeat; i++) {\n",
        "    gemm(A, B, C);\n",
        "  }\n",
        "  /* real thing ends here */\n",
        "  perf_event_values_t v1 = perf_event_counters_get(pc);\n",
        "  printf(\"done\\n\");\n",
        "\n",
        "  /* show performance counters */\n",
        "  for (int i = 0; i < pc.n; i++) {\n",
        "    printf(\"%s : %lld\\n\", pc.events[i], v1.values[i] - v0.values[i]);\n",
        "  }\n",
        "  for (int i = 0; i < pc.n; i++) {\n",
        "    if (strcmp(pc.events[i], \"cycles\") == 0) {\n",
        "      long dt = v1.values[i] - v0.values[i];\n",
        "      printf(\"%f fmas/core-cycle\\n\", fmas_total / (double)dt);\n",
        "    }\n",
        "    if (strcmp(pc.events[i], \"ref-cycles\") == 0) {\n",
        "      long dt = v1.values[i] - v0.values[i];\n",
        "      printf(\"%f fmas/ref-cycle\\n\", fmas_total / (double)dt);\n",
        "    }\n",
        "    if (strcmp(pc.events[i], \"instructions\") == 0) {\n",
        "      long di = v1.values[i] - v0.values[i];\n",
        "      printf(\"%f fmas/instruction\\n\", fmas_total / (double)di);\n",
        "    }\n",
        "  }\n",
        "  printf(\"=== checking results of randomly picked %ld elements ===\\n\", chk);\n",
        "  for (long c = 0; c < chk; c++) {\n",
        "    long i = nrand48(rg) % M;\n",
        "    long j = nrand48(rg) % N;\n",
        "    real s = comp_ij(A, B, i, j, repeat);\n",
        "    printf(\"C(%ld,%ld) = %f, ans = %f, |C(%ld,%ld) - s| = %.9f\\n\",\n",
        "           i, j, C(i,j), s,\n",
        "           i, j, fabs(C(i,j) - s));\n",
        "  }\n",
        "  perf_event_counters_destroy(pc);\n",
        "  return 0;\n",
        "}"
      ],
      "execution_count": null,
      "outputs": []
    },
    {
      "cell_type": "markdown",
      "metadata": {
        "kernel": "SoS",
        "nbgrader": {
          "grade": false,
          "grade_id": "c-019",
          "locked": true,
          "schema_version": 3,
          "solution": false,
          "task": false
        }
      },
      "source": [
        "* compile it into an executable"
      ]
    },
    {
      "cell_type": "code",
      "metadata": {
        "kernel": "Bash",
        "nbgrader": {
          "grade": true,
          "grade_id": "p-001",
          "locked": false,
          "schema_version": 3,
          "solution": true,
          "task": false,
          "points": 1
        }
      },
      "source": [
        "BEGIN SOLUTION\n",
        "END SOLUTION\n",
        "clang++ -Wall -O3 -mavx512f -mfma mm_main_cpu.cc mm_basic.cc -o mm_basic -lpfm\n",
        "#nvc++   -Wall -O3 -mavx512f -mfma mm_main_cpu.cc mm_basic.cc -o mm_basic -lpfm\n",
        "#g++     -Wall -O3 -mavx512f -mfma mm_main_cpu.cc mm_basic.cc -o mm_basic -lpfm"
      ],
      "execution_count": null,
      "outputs": []
    },
    {
      "cell_type": "markdown",
      "metadata": {
        "kernel": "SoS",
        "nbgrader": {
          "grade": false,
          "grade_id": "c-020",
          "locked": true,
          "schema_version": 3,
          "solution": false,
          "task": false
        }
      },
      "source": [
        "* and execute it"
      ]
    },
    {
      "cell_type": "code",
      "metadata": {
        "kernel": "Bash",
        "nbgrader": {
          "grade": true,
          "grade_id": "p-002",
          "locked": false,
          "schema_version": 3,
          "solution": true,
          "task": false,
          "points": 1
        }
      },
      "source": [
        "BEGIN SOLUTION\n",
        "END SOLUTION\n",
        "./mm_basic"
      ],
      "execution_count": null,
      "outputs": []
    },
    {
      "cell_type": "markdown",
      "metadata": {
        "kernel": "SoS",
        "nbgrader": {
          "grade": false,
          "grade_id": "c-021",
          "locked": true,
          "schema_version": 3,
          "solution": false,
          "task": false
        }
      },
      "source": [
        "* it performs $C = C + A * B$ for\n",
        " * $C$ : $M \\times N$ matrix \n",
        " * $A$ : $M \\times K$ matrix \n",
        " * $B$ : $K \\times N$ matrix \n",
        "so many times that it performs FMAs at least a billion ($10^9$) times\n",
        "* by default $M = 8$, $N = 32$ and $K = 192$, which are small\n",
        "* the reason of this choice becomes clear later"
      ]
    },
    {
      "cell_type": "markdown",
      "metadata": {
        "kernel": "SoS",
        "nbgrader": {
          "grade": false,
          "grade_id": "c-022",
          "locked": true,
          "schema_version": 3,
          "solution": false,
          "task": false
        }
      },
      "source": [
        "* you can change $M$, $N$ and $K$, as well as the number of FMAs by giving the first four parameters"
      ]
    },
    {
      "cell_type": "code",
      "metadata": {
        "kernel": "Bash",
        "nbgrader": {
          "grade": true,
          "grade_id": "p-003",
          "locked": false,
          "schema_version": 3,
          "solution": true,
          "task": false,
          "points": 1
        }
      },
      "source": [
        "BEGIN SOLUTION\n",
        "END SOLUTION\n",
        "./mm_basic 100 200 300 $((2 * 1000 * 1000 * 1000))"
      ],
      "execution_count": null,
      "outputs": []
    },
    {
      "cell_type": "markdown",
      "metadata": {
        "kernel": "SoS",
        "nbgrader": {
          "grade": false,
          "grade_id": "c-023",
          "locked": true,
          "schema_version": 3,
          "solution": false,
          "task": false
        }
      },
      "source": [
        "* it measures\n",
        "  * the core cycles,\n",
        "  * the reference cycles, and\n",
        "  * the number of instructions\n",
        "using performance counter and shows\n",
        "  * the number of fused multiply-adds (fmas) per core cycle (`fmas/core-cycle`)\n",
        "  * the number of fused multiply-adds (FMAs) per reference cycle (`fmas/ref-cycle`)\n",
        "  * the number of fused multiply-adds (FMAs) per instruction\n",
        "* lines below \"=== checking results of randomly picked 5 elements ===\" compares the result with what they should be\n",
        "  * make sure they are all nearly zero\n",
        "* observe the performance, shown as the number of fused multiply-adds (FMAs) per core cycle (`fmas/core-cycle`)\n",
        "* compare it with the maximum performance, which is 32 fmas/core-cycle (for single precision floating point numbers)"
      ]
    },
    {
      "cell_type": "markdown",
      "metadata": {
        "kernel": "SoS",
        "nbgrader": {
          "grade": false,
          "grade_id": "c-024",
          "locked": true,
          "schema_version": 3,
          "solution": false,
          "task": false
        }
      },
      "source": [
        "# <font color=\"green\"> Problem 1 :  Reason about performance of the basic code</font>",
        "\n",
        "* look at the assembly code generated and look for the loop corresponding to the innermost loop (between the `asm volatile(\"# loop begins\")` and `asm volatile(\"# loop ends\")`)\n",
        "  * did the compiler vectorize it?\n",
        "* try to predict from the assembly code how many core cycles it will take per iteration and the resulting performance (fmas/cycle)\n",
        "  * hint: the latency of a scalar fmadd instruction is four\n",
        "* check if the experimental result matches the prediction \n",
        "* further notes:\n",
        "  * there are a number of reasons why the actual performance does not exactly match the expectation (some are compiler-related and others are processor-related)\n",
        "  * `nvc++` performs better than the other two compilers (do you see why?)\n",
        "  * to get a result that is easy to understand, use either `clang++` or `g++` and set $M = N = 1$ and $K = $ large (e.g., 2000), so that the code almost nothing other than executing the innermost loop just once, with a large trip count\n",
        "\n",
        "* compile it into assembly code (open the output `mm_basic.s` with editor)"
      ]
    },
    {
      "cell_type": "code",
      "metadata": {
        "kernel": "Bash",
        "nbgrader": {
          "grade": true,
          "grade_id": "p-004",
          "locked": false,
          "schema_version": 3,
          "solution": true,
          "task": false,
          "points": 1
        }
      },
      "source": [
        "BEGIN SOLUTION\n",
        "END SOLUTION\n",
        "clang++ -Wall -O3 -mavx512f -mfma mm_basic.cc -S\n",
        "#nvc++   -Wall -O3 -mavx512f -mfma mm_basic.cc -S -Mkeepasm\n",
        "#g++     -Wall -O3 -mavx512f -mfma mm_basic.cc -S"
      ],
      "execution_count": null,
      "outputs": []
    },
    {
      "cell_type": "markdown",
      "metadata": {
        "kernel": "SoS",
        "nbgrader": {
          "grade": false,
          "grade_id": "c-025",
          "locked": true,
          "schema_version": 3,
          "solution": false,
          "task": false
        }
      },
      "source": [
        "* write your findings and thoughts below"
      ]
    },
    {
      "cell_type": "markdown",
      "metadata": {
        "kernel": "SoS",
        "nbgrader": {
          "grade": true,
          "grade_id": "p-005",
          "locked": false,
          "schema_version": 3,
          "solution": true,
          "task": false,
          "points": 1
        }
      },
      "source": [
        "BEGIN SOLUTION\n",
        "END SOLUTION\n",
        "* did the compiler vectorize it :\n",
        "* you prediction from the assembly code on the number of cycles/iteration :\n",
        "* you prediction of fmas/core-cycle based on it :\n",
        "* does it match the experimental result :\n",
        "* other finding and/or thoughts"
      ]
    },
    {
      "cell_type": "markdown",
      "metadata": {
        "kernel": "SoS",
        "nbgrader": {
          "grade": false,
          "grade_id": "c-026",
          "locked": true,
          "schema_version": 3,
          "solution": false,
          "task": false
        }
      },
      "source": [
        "# 4. A vectorized matrix multiply",
        "\n",
        "# <font color=\"green\"> Problem 2 :  Apply SIMD</font>",
        "\n",
        "* apply SIMD to the `gemm` function\n",
        "* you should achieve roughly $L$ times speedup with $L$-way SIMD instructions ($L = 512/32 = 16$ when using 512 bit SIMD instructions for single precision)\n",
        "* think about _which_ loop should vectorized, among the three possible possible choices, and explain your choice\n",
        "* you can assume matrix sizes are _convenient_; that is, for your convenience, you can assume one (or some) of $M$, $N$ and $K$ is a multiple of a certain number (typically, $L$), so that you don't have to worry about the remainder iterations of the loop you vectorized"
      ]
    },
    {
      "cell_type": "code",
      "metadata": {
        "kernel": "Python 3 (ipykernel)",
        "nbgrader": {
          "grade": true,
          "grade_id": "p-006",
          "locked": false,
          "schema_version": 3,
          "solution": true,
          "task": false,
          "points": 1
        }
      },
      "source": [
        "BEGIN SOLUTION\n",
        "END SOLUTION\n",
        "%%writefile mm_simd.cc\n",
        "#include <assert.h>\n",
        "#include \"mm_cpu.h\"\n",
        "\n",
        "void gemm(matrix A, matrix B, matrix C) {\n",
        "  idx_t M = C.M;\n",
        "  idx_t N = C.N;\n",
        "  idx_t K = A.N;\n",
        "  for (idx_t i = 0; i < M; i++) {\n",
        "    for (idx_t j = 0; j < N; j++) {\n",
        "      real c = 0;\n",
        "      asm volatile(\"# loop begins\");\n",
        "      for (idx_t k = 0; k < K; k++) {\n",
        "        c += A(i,k) * B(k,j);\n",
        "      }\n",
        "      asm volatile(\"# loop ends\");\n",
        "      C(i,j) += c;\n",
        "    }\n",
        "  }\n",
        "}\n",
        "\n",
        "\n",
        ""
      ],
      "execution_count": null,
      "outputs": []
    },
    {
      "cell_type": "markdown",
      "metadata": {
        "kernel": "SoS",
        "nbgrader": {
          "grade": false,
          "grade_id": "c-027",
          "locked": true,
          "schema_version": 3,
          "solution": false,
          "task": false
        }
      },
      "source": [
        "* compile it into an executable"
      ]
    },
    {
      "cell_type": "code",
      "metadata": {
        "kernel": "Bash",
        "nbgrader": {
          "grade": true,
          "grade_id": "p-007",
          "locked": false,
          "schema_version": 3,
          "solution": true,
          "task": false,
          "points": 1
        }
      },
      "source": [
        "BEGIN SOLUTION\n",
        "END SOLUTION\n",
        "clang++ -Wall -O3 -mavx512f -mfma mm_main_cpu.cc mm_simd.cc -o mm_simd -lpfm\n",
        "#nvc++   -Wall -O3 -mavx512f -mfma mm_main_cpu.cc mm_simd.cc -o mm_simd -lpfm\n",
        "#g++     -Wall -O3 -mavx512f -mfma mm_main_cpu.cc mm_simd.cc -o mm_simd -lpfm"
      ],
      "execution_count": null,
      "outputs": []
    },
    {
      "cell_type": "markdown",
      "metadata": {
        "kernel": "SoS",
        "nbgrader": {
          "grade": false,
          "grade_id": "c-028",
          "locked": true,
          "schema_version": 3,
          "solution": false,
          "task": false
        }
      },
      "source": [
        "* and run it"
      ]
    },
    {
      "cell_type": "code",
      "metadata": {
        "kernel": "Bash",
        "nbgrader": {
          "grade": true,
          "grade_id": "p-008",
          "locked": false,
          "schema_version": 3,
          "solution": true,
          "task": false,
          "points": 1
        }
      },
      "source": [
        "BEGIN SOLUTION\n",
        "END SOLUTION\n",
        "./mm_simd"
      ],
      "execution_count": null,
      "outputs": []
    },
    {
      "cell_type": "markdown",
      "metadata": {
        "kernel": "SoS",
        "nbgrader": {
          "grade": false,
          "grade_id": "c-029",
          "locked": true,
          "schema_version": 3,
          "solution": false,
          "task": false
        }
      },
      "source": [
        "* make sure errors reported below `=== checking results of randomly picked 5 elements ===` are all exactly or nearly zero"
      ]
    },
    {
      "cell_type": "markdown",
      "metadata": {
        "kernel": "SoS",
        "nbgrader": {
          "grade": false,
          "grade_id": "c-030",
          "locked": true,
          "schema_version": 3,
          "solution": false,
          "task": false
        }
      },
      "source": [
        "# <font color=\"green\"> Problem 3 :  Reason about performance of the vectorized code</font>",
        "\n",
        "* do the same for the vectorized version\n",
        "* look at the assembly code generated and look for the loop corresponding to the innermost loop (between the `asm volatile(\"# loop begins\")` and `asm volatile(\"# loop ends\")`)\n",
        "* try to predict how many core cycles it will take per iteration and the resulting performance (fmas/cycle); check if the result matches the expectation (hint: the latency of a SIMD (packed) fmadd instruction is four)"
      ]
    },
    {
      "cell_type": "markdown",
      "metadata": {
        "kernel": "SoS",
        "nbgrader": {
          "grade": false,
          "grade_id": "c-031",
          "locked": true,
          "schema_version": 3,
          "solution": false,
          "task": false
        }
      },
      "source": [
        "* compile it into assembly code"
      ]
    },
    {
      "cell_type": "code",
      "metadata": {
        "kernel": "Bash",
        "nbgrader": {
          "grade": true,
          "grade_id": "p-009",
          "locked": false,
          "schema_version": 3,
          "solution": true,
          "task": false,
          "points": 1
        }
      },
      "source": [
        "BEGIN SOLUTION\n",
        "END SOLUTION\n",
        "clang++ -Wall -O3 -mavx512f -mfma mm_simd.cc -S\n",
        "#nvc++   -Wall -O3 -mavx512f -mfma mm_simd.cc -S -Mkeepasm\n",
        "#g++     -Wall -O3 -mavx512f -mfma mm_simd.cc -S"
      ],
      "execution_count": null,
      "outputs": []
    },
    {
      "cell_type": "markdown",
      "metadata": {
        "kernel": "SoS",
        "nbgrader": {
          "grade": true,
          "grade_id": "p-010",
          "locked": false,
          "schema_version": 3,
          "solution": true,
          "task": false,
          "points": 1
        }
      },
      "source": [
        "BEGIN SOLUTION\n",
        "END SOLUTION\n",
        "* you prediction from the assembly code on the number of cycles/iteration :\n",
        "* you prediction of fmas/core-cycle based on it :\n",
        "* does it match the experimental result :\n",
        "* other finding and/or thoughts"
      ]
    },
    {
      "cell_type": "markdown",
      "metadata": {
        "kernel": "SoS",
        "nbgrader": {
          "grade": false,
          "grade_id": "c-032",
          "locked": true,
          "schema_version": 3,
          "solution": false,
          "task": false
        }
      },
      "source": [
        "# 5. A vectorized + ILP-rich matrix multiply",
        "\n",
        "* SIMD significantly boosts performance of matrix multiply\n",
        "* but remember that the maximum performance is _two SIMD fmadd instructions per cycle_, far beyond what you achieved just by using SIMD\n",
        "* the fundamental reason is that the innermost loop has little ILP, as all fma instructions update the same variable c\n",
        "* in other words, there is no way the processor runs the innermost loop faster than whatever is the latency of fma instruction per iteration\n",
        "* to overcome this, we take advantage of the fact that there are plenty of elements (i.e., elements of matrix _C_) we apply this innermost loop to and update several of them in parallel (by a single core, taking advantage of ILP)\n",
        "* to illustrate, the strategy looks like this\n",
        "\n",
        "```\n",
        "  for (idx_t i = 0; i < M; i++) {\n",
        "    for (idx_t j = 0; j < N; j += L) {\n",
        "      fetch many elements of C; (*)\n",
        "      for (idx_t k = 0; k < K; k++) {\n",
        "        for elements of C fetched at (*) {\n",
        "          ... += A(i,k) * B.V(k,j);\n",
        "        }\n",
        "      }\n",
        "      store back the elements of C fetched at (*);\n",
        "    }\n",
        "  }\n",
        "```"
      ]
    },
    {
      "cell_type": "markdown",
      "metadata": {
        "kernel": "SoS",
        "nbgrader": {
          "grade": false,
          "grade_id": "c-033",
          "locked": true,
          "schema_version": 3,
          "solution": false,
          "task": false
        }
      },
      "source": [
        "# <font color=\"green\"> Problem 4 :  Apply SIMD + ILP</font>",
        "\n",
        "* apply ILP to the SIMD code you obtained in the previous problem\n",
        "* calculate how many elements need to be updated to possibly reach nearly peak performance (two SIMD fmadd instructions per cycle $=$ 32 single-precision fmas/cycle) based on the performance you obtained in the previous problem\n",
        "* again, you can assume for convenience that some of $M$, $N$ and $K$ are multiple of certain numbers"
      ]
    },
    {
      "cell_type": "code",
      "metadata": {
        "kernel": "Python 3 (ipykernel)",
        "nbgrader": {
          "grade": true,
          "grade_id": "p-011",
          "locked": false,
          "schema_version": 3,
          "solution": true,
          "task": false,
          "points": 1
        }
      },
      "source": [
        "BEGIN SOLUTION\n",
        "END SOLUTION\n",
        "%%writefile mm_simd_ilp.cc\n",
        "#include <assert.h>\n",
        "#include \"mm_cpu.h\"\n",
        "\n",
        "void gemm(matrix A, matrix B, matrix C) {\n",
        "  idx_t M = C.M;\n",
        "  idx_t N = C.N;\n",
        "  idx_t K = A.N;\n",
        "  for (idx_t i = 0; i < M; i++) {\n",
        "    for (idx_t j = 0; j < N; j++) {\n",
        "      real c = 0;\n",
        "      asm volatile(\"# loop begins\");\n",
        "      for (idx_t k = 0; k < K; k++) {\n",
        "        c += A(i,k) * B(k,j);\n",
        "      }\n",
        "      asm volatile(\"# loop ends\");\n",
        "      C(i,j) += c;\n",
        "    }\n",
        "  }\n",
        "}\n",
        "\n",
        "\n",
        ""
      ],
      "execution_count": null,
      "outputs": []
    },
    {
      "cell_type": "markdown",
      "metadata": {
        "kernel": "SoS",
        "nbgrader": {
          "grade": false,
          "grade_id": "c-034",
          "locked": true,
          "schema_version": 3,
          "solution": false,
          "task": false
        }
      },
      "source": [
        "* compile it into an executable"
      ]
    },
    {
      "cell_type": "code",
      "metadata": {
        "kernel": "Bash",
        "nbgrader": {
          "grade": true,
          "grade_id": "p-012",
          "locked": false,
          "schema_version": 3,
          "solution": true,
          "task": false,
          "points": 1
        }
      },
      "source": [
        "BEGIN SOLUTION\n",
        "END SOLUTION\n",
        "clang++ -Wall -O3 -mavx512f -mfma mm_main_cpu.cc mm_simd_ilp.cc -o mm_simd_ilp -lpfm\n",
        "#nvc++   -Wall -O3 -mavx512f -mfma mm_main_cpu.cc mm_simd_ilp.cc -o mm_simd_ilp -lpfm\n",
        "#g++     -Wall -O3 -mavx512f -mfma mm_main_cpu.cc mm_simd_ilp.cc -o mm_simd_ilp -lpfm"
      ],
      "execution_count": null,
      "outputs": []
    },
    {
      "cell_type": "markdown",
      "metadata": {
        "kernel": "SoS",
        "nbgrader": {
          "grade": false,
          "grade_id": "c-035",
          "locked": true,
          "schema_version": 3,
          "solution": false,
          "task": false
        }
      },
      "source": [
        "* and run it"
      ]
    },
    {
      "cell_type": "code",
      "metadata": {
        "kernel": "Bash",
        "nbgrader": {
          "grade": true,
          "grade_id": "p-013",
          "locked": false,
          "schema_version": 3,
          "solution": true,
          "task": false,
          "points": 1
        }
      },
      "source": [
        "BEGIN SOLUTION\n",
        "END SOLUTION\n",
        "./mm_simd_ilp"
      ],
      "execution_count": null,
      "outputs": []
    },
    {
      "cell_type": "markdown",
      "metadata": {
        "kernel": "SoS",
        "nbgrader": {
          "grade": false,
          "grade_id": "c-036",
          "locked": true,
          "schema_version": 3,
          "solution": false,
          "task": false
        }
      },
      "source": [
        "#  Remarks",
        "\n",
        "* by updating enough variables concurrently inside the innermost ($K$) loop, you can obtain $\\sim$26 fmas/cycle, or roughly 80% of the peak performance, which you should set as the goal\n",
        "* closing the gap is harder but the principle and the tool (`llvm-mca`) are covered in the lecture"
      ]
    },
    {
      "cell_type": "markdown",
      "metadata": {
        "kernel": "SoS",
        "nbgrader": {
          "grade": false,
          "grade_id": "c-037",
          "locked": true,
          "schema_version": 3,
          "solution": false,
          "task": false
        }
      },
      "source": [
        "# 6. Analyze the loop with llvm-mca",
        "\n",
        "* [llvm-mca (LLVM machine code analyzer)](https://llvm.org/docs/CommandGuide/llvm-mca.html) is a great tool to understand how many cycles a loop will take\n",
        "* how to use\n",
        "  * generate assembly with `-S`\n",
        "  * open the output `.s` file with an editor and find the innermost loop you want to analyze\n",
        "  * put assembly comment `# LLVM-MCA-BEGIN` at the head of the loop (right before or after the loop header label) and\n",
        "  * put assembly comment `# LLVM-MCA-END` at the head of the loop (right after the conditional jump instruction that jumps to the loop header label), like this\n",
        "\n",
        "```\n",
        "        ...\n",
        "        ...\n",
        "        # LLVM-MCA-BEGIN\n",
        ".LBB1_13:                               #   Parent Loop BB1_9 Depth=1\n",
        "                                        #     Parent Loop BB1_10 Depth=2\n",
        "                                        # =>    This Inner Loop Header: Depth=3\n",
        "        vbroadcastss    -4(%r10,%r8,4), %zmm1\n",
        "        vfmadd132ps     (%r12,%rbx), %zmm0, %zmm1 # zmm1 = (zmm1 * mem) + zmm0\n",
        "        vbroadcastss    (%r10,%r8,4), %zmm0\n",
        "        vfmadd132ps     (%r12,%r9,4), %zmm1, %zmm0 # zmm0 = (zmm0 * mem) + zmm1\n",
        "        addq    $2, %r8\n",
        "        addq    %r11, %r12\n",
        "        cmpq    %r8, %rcx\n",
        "        jne     .LBB1_13\n",
        "        # LLVM-MCA-END\n",
        "```\n",
        "  * run `llvm-mca filename.s`\n",
        "  * run `llvm-mca --help` for other useful options\n",
        "  * run `llvm-mca --timeline filename.s` is particularly instructive\n",
        "  * see [llvm-mca - LLVM machine code analyzer](https://llvm.org/docs/CommandGuide/llvm-mca.html) for how to read the result"
      ]
    },
    {
      "cell_type": "markdown",
      "metadata": {
        "kernel": "SoS",
        "nbgrader": {
          "grade": false,
          "grade_id": "c-038",
          "locked": true,
          "schema_version": 3,
          "solution": false,
          "task": false
        }
      },
      "source": [
        "## 6-1. Limitations",
        "\n",
        "* it is a static analyzer that analyzes the code based on instruction latencies and dispatch port of each instruction in the loop\n",
        "* while very useful, a major limitation is that, being a _static_ tool, it cannot simulate aspects that affect execution time depending on the values inside memory or registers\n",
        "* most notably it cannot accurately simulate memory access latencies that significantly depend on whether the accessed data is on the cache (cache hit) or not; it assumes all memory accesses have the same latency that seems that of L1 cache hit\n",
        ""
      ]
    },
    {
      "cell_type": "markdown",
      "metadata": {
        "kernel": "SoS",
        "nbgrader": {
          "grade": false,
          "grade_id": "c-039",
          "locked": true,
          "schema_version": 3,
          "solution": false,
          "task": false
        }
      },
      "source": [
        "# <font color=\"green\"> Problem 5 :  Analyze the loop with llvm-mca</font>",
        "\n",
        "* analyze `mm_simd_ilp.s` as described above\n",
        "* open it using editor and put the `# LLVM-MCA-BEGIN` and `# LLVM-MCA-END` markers appropriately\n",
        "* and run the command below to understand the number of cycles an iteration takes"
      ]
    },
    {
      "cell_type": "markdown",
      "metadata": {
        "kernel": "SoS",
        "nbgrader": {
          "grade": false,
          "grade_id": "c-040",
          "locked": true,
          "schema_version": 3,
          "solution": false,
          "task": false
        }
      },
      "source": [
        "* compile it into assembly code"
      ]
    },
    {
      "cell_type": "code",
      "metadata": {
        "kernel": "Bash",
        "nbgrader": {
          "grade": true,
          "grade_id": "p-014",
          "locked": false,
          "schema_version": 3,
          "solution": true,
          "task": false,
          "points": 1
        }
      },
      "source": [
        "BEGIN SOLUTION\n",
        "END SOLUTION\n",
        "clang++ -Wall -O3 -mavx512f -mfma mm_simd_ilp.cc -S\n",
        "#nvc++   -Wall -O3 -mavx512f -mfma mm_simd_ilp.cc -S -Mkeepasm\n",
        "#g++     -Wall -O3 -mavx512f -mfma mm_simd_ilp.cc -S"
      ],
      "execution_count": null,
      "outputs": []
    },
    {
      "cell_type": "markdown",
      "metadata": {
        "kernel": "SoS",
        "nbgrader": {
          "grade": false,
          "grade_id": "c-041",
          "locked": true,
          "schema_version": 3,
          "solution": false,
          "task": false
        }
      },
      "source": [
        "* open `mm_simd_ilp.s` using an editor and put the `# LLVM-MCA-BEGIN` and `# LLVM-MCA-END` markers appropriately"
      ]
    },
    {
      "cell_type": "markdown",
      "metadata": {
        "kernel": "SoS",
        "nbgrader": {
          "grade": false,
          "grade_id": "c-042",
          "locked": true,
          "schema_version": 3,
          "solution": false,
          "task": false
        }
      },
      "source": [
        "* run the following command"
      ]
    },
    {
      "cell_type": "code",
      "metadata": {
        "kernel": "Bash",
        "nbgrader": {
          "grade": true,
          "grade_id": "p-015",
          "locked": false,
          "schema_version": 3,
          "solution": true,
          "task": false,
          "points": 1
        }
      },
      "source": [
        "BEGIN SOLUTION\n",
        "END SOLUTION\n",
        "llvm-mca mm_simd_ilp.s"
      ],
      "execution_count": null,
      "outputs": []
    },
    {
      "cell_type": "markdown",
      "metadata": {
        "kernel": "SoS",
        "nbgrader": {
          "grade": false,
          "grade_id": "c-043",
          "locked": true,
          "schema_version": 3,
          "solution": false,
          "task": false
        }
      },
      "source": [
        "* or"
      ]
    },
    {
      "cell_type": "code",
      "metadata": {
        "kernel": "Bash",
        "nbgrader": {
          "grade": true,
          "grade_id": "p-016",
          "locked": false,
          "schema_version": 3,
          "solution": true,
          "task": false,
          "points": 1
        }
      },
      "source": [
        "BEGIN SOLUTION\n",
        "END SOLUTION\n",
        "llvm-mca --timeline mm_simd_ilp.s"
      ],
      "execution_count": null,
      "outputs": []
    },
    {
      "cell_type": "markdown",
      "metadata": {
        "kernel": "SoS",
        "nbgrader": {
          "grade": false,
          "grade_id": "c-044",
          "locked": true,
          "schema_version": 3,
          "solution": false,
          "task": false
        }
      },
      "source": [
        "# <font color=\"green\"> Problem 6 :  Closer to peak (optional)</font>",
        "\n",
        "* try to reduce the gap to the peak performance, using llvm-mca\n",
        "* describe what you do and show the performance\n",
        ""
      ]
    },
    {
      "cell_type": "code",
      "metadata": {
        "kernel": "Python 3 (ipykernel)",
        "nbgrader": {
          "grade": true,
          "grade_id": "p-017",
          "locked": false,
          "schema_version": 3,
          "solution": true,
          "task": false,
          "points": 1
        }
      },
      "source": [
        "BEGIN SOLUTION\n",
        "END SOLUTION\n",
        "%%writefile mm_fast.cc\n",
        "#include <assert.h>\n",
        "#include \"mm_cpu.h\"\n",
        "\n",
        "void gemm(matrix A, matrix B, matrix C) {\n",
        "  idx_t M = C.M;\n",
        "  idx_t N = C.N;\n",
        "  idx_t K = A.N;\n",
        "  for (idx_t i = 0; i < M; i++) {\n",
        "    for (idx_t j = 0; j < N; j++) {\n",
        "      real c = 0;\n",
        "      asm volatile(\"# loop begins\");\n",
        "      for (idx_t k = 0; k < K; k++) {\n",
        "        c += A(i,k) * B(k,j);\n",
        "      }\n",
        "      asm volatile(\"# loop ends\");\n",
        "      C(i,j) += c;\n",
        "    }\n",
        "  }\n",
        "}\n",
        "\n",
        "\n",
        ""
      ],
      "execution_count": null,
      "outputs": []
    },
    {
      "cell_type": "markdown",
      "metadata": {
        "kernel": "SoS",
        "nbgrader": {
          "grade": false,
          "grade_id": "c-045",
          "locked": true,
          "schema_version": 3,
          "solution": false,
          "task": false
        }
      },
      "source": [
        "* compile it into an executable"
      ]
    },
    {
      "cell_type": "code",
      "metadata": {
        "kernel": "Bash",
        "nbgrader": {
          "grade": true,
          "grade_id": "p-018",
          "locked": false,
          "schema_version": 3,
          "solution": true,
          "task": false,
          "points": 1
        }
      },
      "source": [
        "BEGIN SOLUTION\n",
        "END SOLUTION\n",
        "clang++ -Wall -O3 -mavx512f -mfma mm_main_cpu.cc mm_fast.cc -o mm_fast -lpfm\n",
        "#nvc++   -Wall -O3 -mavx512f -mfma mm_main_cpu.cc mm_fast.cc -o mm_fast -lpfm\n",
        "#g++     -Wall -O3 -mavx512f -mfma mm_main_cpu.cc mm_fast.cc -o mm_fast -lpfm"
      ],
      "execution_count": null,
      "outputs": []
    },
    {
      "cell_type": "code",
      "metadata": {
        "kernel": "Bash",
        "nbgrader": {
          "grade": true,
          "grade_id": "p-019",
          "locked": false,
          "schema_version": 3,
          "solution": true,
          "task": false,
          "points": 1
        }
      },
      "source": [
        "BEGIN SOLUTION\n",
        "END SOLUTION\n",
        "./mm_fast"
      ],
      "execution_count": null,
      "outputs": []
    },
    {
      "cell_type": "markdown",
      "metadata": {
        "kernel": "SoS",
        "nbgrader": {
          "grade": false,
          "grade_id": "c-046",
          "locked": true,
          "schema_version": 3,
          "solution": false,
          "task": false
        }
      },
      "source": [
        "# 7. Notes on large matrices",
        "\n",
        "* run your code for larger matrices and see how performance changes\n",
        "* you will see that performance deteriorates when you make $K$ and $N$ larger (e.g., $K = N = 512$)\n",
        "* the reason for that has something to do with memory subsystem (caches) and will be covered in later weeks\n",
        "* this is a part of the reason why we have been working on small matrices\n",
        ""
      ]
    }
  ],
  "metadata": {
    "celltoolbar": "Create Assignment",
    "kernelspec": {
      "display_name": "SoS",
      "language": "sos",
      "name": "sos"
    },
    "language_info": {
      "codemirror_mode": "sos",
      "file_extension": ".sos",
      "mimetype": "text/x-sos",
      "name": "sos",
      "nbconvert_exporter": "sos_notebook.converter.SoS_Exporter",
      "pygments_lexer": "sos"
    },
    "sos": {
      "kernels": [
        [
          "Bash",
          "bash",
          "bash",
          "",
          "shell"
        ],
        [
          "C",
          "c_kernel",
          "c",
          "",
          ""
        ],
        [
          "Go",
          "gophernotes",
          "go",
          "",
          ""
        ],
        [
          "Julia 1.10.2",
          "julia-1.10",
          "julia",
          "",
          ""
        ],
        [
          "OCaml default",
          "ocaml-jupyter",
          "OCaml",
          "",
          "text/x-ocaml"
        ],
        [
          "Python 3 (ipykernel)",
          "python3",
          "python3",
          "",
          {
            "name": "ipython",
            "version": 3
          }
        ],
        [
          "Rust",
          "rust",
          "rust",
          "",
          ""
        ]
      ],
      "panel": {
        "displayed": true,
        "height": 0
      },
      "version": "0.23.3"
    }
  },
  "nbformat": 4,
  "nbformat_minor": 4
}