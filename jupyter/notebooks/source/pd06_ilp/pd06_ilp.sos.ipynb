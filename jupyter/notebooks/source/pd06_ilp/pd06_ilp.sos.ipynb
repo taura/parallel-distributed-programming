{
  "cells": [
    {
      "cell_type": "markdown",
      "metadata": {
        "kernel": "SoS",
        "nbgrader": {
          "grade": false,
          "grade_id": "c-001",
          "locked": true,
          "schema_version": 3,
          "solution": false,
          "task": false
        }
      },
      "source": [
        "#  Instruction Level Parallelism",
        "\n",
        "# 1. Introduction",
        "\n",
        "* we have learned that CPU has multicore and SIMD parallelism\n",
        "* the last dimension of parallelism is _Instruction Level Parallelism (ILP)_, the ability to execute many instructions <font color=red>of a single thread</font> concurrently (i.e., execution of many instructions overlap in time)\n",
        "* in contrast, GPU does not aggressively try to extract ILP from a single thread; parallelism mostly comes from simultaneously executing many threads\n",
        "* illuminating the difference between the two is both instructive and practically important, especially for optimizing CPU code"
      ]
    },
    {
      "cell_type": "markdown",
      "metadata": {
        "kernel": "SoS",
        "nbgrader": {
          "grade": false,
          "grade_id": "c-002",
          "locked": true,
          "schema_version": 3,
          "solution": false,
          "task": false
        }
      },
      "source": [
        "# 2. Compilers",
        "\n",
        "## 2-1. Set up NVIDIA HPC SDK",
        "\n",
        "Execute this before you use NVIDIA HPC SDK"
      ]
    },
    {
      "cell_type": "code",
      "metadata": {
        "kernel": "Bash",
        "nbgrader": {
          "grade": false,
          "grade_id": "c-003",
          "locked": false,
          "schema_version": 3,
          "solution": false,
          "task": false
        }
      },
      "source": [
        "export PATH=/opt/nvidia/hpc_sdk/Linux_x86_64/24.9/compilers/bin:$PATH"
      ],
      "execution_count": null,
      "outputs": []
    },
    {
      "cell_type": "markdown",
      "metadata": {
        "kernel": "SoS",
        "nbgrader": {
          "grade": false,
          "grade_id": "c-004",
          "locked": true,
          "schema_version": 3,
          "solution": false,
          "task": false
        }
      },
      "source": [
        "Check if it works (check if full paths of nvc/nvc++ are shown)"
      ]
    },
    {
      "cell_type": "code",
      "metadata": {
        "kernel": "Bash",
        "nbgrader": {
          "grade": false,
          "grade_id": "c-005",
          "locked": false,
          "schema_version": 3,
          "solution": false,
          "task": false
        }
      },
      "source": [
        "which nvc\n",
        "which nvc++"
      ],
      "execution_count": null,
      "outputs": []
    },
    {
      "cell_type": "markdown",
      "metadata": {
        "kernel": "SoS",
        "nbgrader": {
          "grade": false,
          "grade_id": "c-006",
          "locked": true,
          "schema_version": 3,
          "solution": false,
          "task": false
        }
      },
      "source": [
        "## 2-2. Set up LLVM",
        "\n",
        "Execute this before you use LLVM\n",
        ""
      ]
    },
    {
      "cell_type": "code",
      "metadata": {
        "kernel": "Bash",
        "nbgrader": {
          "grade": false,
          "grade_id": "c-007",
          "locked": false,
          "schema_version": 3,
          "solution": false,
          "task": false
        }
      },
      "source": [
        "export PATH=/home/share/llvm/bin:$PATH\n",
        "export LD_LIBRARY_PATH=/home/share/llvm/lib:/home/share/llvm/lib/x86_64-unknown-linux-gnu:$LD_LIBRARY_PATH"
      ],
      "execution_count": null,
      "outputs": []
    },
    {
      "cell_type": "markdown",
      "metadata": {
        "kernel": "SoS",
        "nbgrader": {
          "grade": false,
          "grade_id": "c-008",
          "locked": true,
          "schema_version": 3,
          "solution": false,
          "task": false
        }
      },
      "source": [
        "Check if it works (check if full paths of gcc/g++ are shown)"
      ]
    },
    {
      "cell_type": "code",
      "metadata": {
        "kernel": "Bash",
        "nbgrader": {
          "grade": false,
          "grade_id": "c-009",
          "locked": false,
          "schema_version": 3,
          "solution": false,
          "task": false
        }
      },
      "source": [
        "which clang\n",
        "which clang++"
      ],
      "execution_count": null,
      "outputs": []
    },
    {
      "cell_type": "markdown",
      "metadata": {
        "kernel": "SoS",
        "nbgrader": {
          "grade": false,
          "grade_id": "c-010",
          "locked": true,
          "schema_version": 3,
          "solution": false,
          "task": false
        }
      },
      "source": [
        "## 2-3. GCC",
        ""
      ]
    },
    {
      "cell_type": "markdown",
      "metadata": {
        "kernel": "SoS",
        "nbgrader": {
          "grade": false,
          "grade_id": "c-011",
          "locked": true,
          "schema_version": 3,
          "solution": false,
          "task": false
        }
      },
      "source": [
        "Check if it works (check if full paths of nvc/nvc++ are shown)"
      ]
    },
    {
      "cell_type": "code",
      "metadata": {
        "kernel": "Bash",
        "nbgrader": {
          "grade": false,
          "grade_id": "c-012",
          "locked": false,
          "schema_version": 3,
          "solution": false,
          "task": false
        }
      },
      "source": [
        "which gcc\n",
        "which g++"
      ],
      "execution_count": null,
      "outputs": []
    },
    {
      "cell_type": "markdown",
      "metadata": {
        "kernel": "SoS",
        "nbgrader": {
          "grade": false,
          "grade_id": "c-013",
          "locked": true,
          "schema_version": 3,
          "solution": false,
          "task": false
        }
      },
      "source": [
        "# 3. CPU without ILP",
        "\n",
        "* this is an experiment very similar to what we did on GPUs\n",
        "* each thread repeats x = a * x + b many times and occasionally record time\n",
        "* although the primary focus is a single-thread performance, the program is written with OpenMP so it can be executed on multicore CPUs and GPUs\n",
        "* the compilation option below enables execution on both GPU and CPU"
      ]
    },
    {
      "cell_type": "code",
      "metadata": {
        "kernel": "Python 3 (ipykernel)",
        "nbgrader": {
          "grade": false,
          "grade_id": "c-014",
          "locked": false,
          "schema_version": 3,
          "solution": false,
          "task": false
        }
      },
      "source": [
        "%%writefile no_ilp.cc\n",
        "#include <assert.h>\n",
        "#include <err.h>\n",
        "#include <stdio.h>\n",
        "#include <stdlib.h>\n",
        "#include <time.h>\n",
        "#include <omp.h>\n",
        "#include <sched.h>\n",
        "#include <stdint.h>\n",
        "#include <x86intrin.h>\n",
        "\n",
        "long cur_time_ns() {\n",
        "  struct timespec ts[1];\n",
        "  if (clock_gettime(CLOCK_REALTIME, ts) == -1) err(1, \"clock_gettime\");\n",
        "  return ts->tv_sec * 1000000000L + ts->tv_nsec;\n",
        "}\n",
        "\n",
        "#if __NVCOMPILER\n",
        "#include <nv/target>\n",
        "/* get core number (SM id for GPU). */\n",
        "__host__ __device__ static unsigned int get_core(void) {\n",
        "  if target(nv::target::is_device) {\n",
        "    unsigned int sm;\n",
        "    asm(\"mov.u32 %0, %%smid;\" : \"=r\"(sm));\n",
        "    return sm;\n",
        "  } else {\n",
        "    return sched_getcpu();\n",
        "  }\n",
        "}\n",
        "\n",
        "/* get GPU/CPU clock (for Clang LLVM compiler) */\n",
        "__attribute__((unused,nothrow))\n",
        "static long get_clock(void) {\n",
        "  if target(nv::target::is_device) {\n",
        "    long clock;\n",
        "    asm volatile(\"mov.s64 %0, %%clock64;\" : \"=l\" (clock));\n",
        "    return clock;\n",
        "  } else {\n",
        "    uint32_t low, high;\n",
        "    asm volatile(\"rdtsc\" : \"=a\"(low), \"=d\"(high));\n",
        "    return ((uint64_t)high << 32) | low;\n",
        "  }\n",
        "}\n",
        "\n",
        "#else  // __clang__ or GCC\n",
        "/* get SM id (for Clang LLVM compiler).\n",
        "   return -1 if called on CPU */\n",
        "__attribute__((unused))\n",
        "static unsigned int get_core(void) {\n",
        "#if __CUDA_ARCH__\n",
        "  unsigned int sm;\n",
        "  asm(\"mov.u32 %0, %%smid;\" : \"=r\"(sm));\n",
        "  return sm;\n",
        "#else\n",
        "  return sched_getcpu();\n",
        "#endif\n",
        "}\n",
        "\n",
        "/* get GPU/CPU clock (for Clang LLVM compiler) */\n",
        "__attribute__((unused,nothrow))\n",
        "static long get_clock(void) {\n",
        "#if __CUDA_ARCH__\n",
        "  long clock;\n",
        "  asm volatile(\"mov.s64 %0, %%clock64;\" : \"=l\" (clock));\n",
        "  return clock;\n",
        "#else\n",
        "  return _rdtsc();\n",
        "#endif\n",
        "}\n",
        "#endif\n",
        "\n",
        "typedef struct {\n",
        "  double x;\n",
        "  int core[2];\n",
        "} record_t;\n",
        "\n",
        "/* the function for an iteration\n",
        "   perform\n",
        "   x = a x + b\n",
        "   (M * N) times and record current time\n",
        "   every N iterations to T.\n",
        "   record thread and cpu to R.\n",
        " */\n",
        "\n",
        "void iter_fun(double a, double b, long i, long M, long N,\n",
        "              record_t * R, long * T) {\n",
        "  // initial value (not important)\n",
        "  double x = i;\n",
        "  // record in T[i * M] ... T[(i+1) * M - 1]\n",
        "  T = &T[i * M];\n",
        "  // record starting SM\n",
        "  R[i].core[0] = get_core();\n",
        "  // repeat a x + b many times.\n",
        "  // record time every N iterations\n",
        "  for (long j = 0; j < M; j++) {\n",
        "    T[j] = get_clock();\n",
        "    asm volatile(\"// ========== loop begins ==========\");\n",
        "    for (long k = 0; k < N; k++) {\n",
        "      x = a * x + b;\n",
        "    }\n",
        "    asm volatile(\"// ---------- loop ends ----------\");\n",
        "  }\n",
        "  // record ending SM (must be = sm[0])\n",
        "  R[i].core[1] = get_core();\n",
        "  // record result, just so that the computation is not\n",
        "  // eliminated by the compiler\n",
        "  R[i].x = x;\n",
        "}\n",
        "\n",
        "void dump(record_t * R, long * T, long L, long M, long N) {\n",
        "  long k = 0;\n",
        "  for (long i = 0; i < L; i++) {\n",
        "    long dt = T[k + M - 1] - T[k];\n",
        "    double avg = (double)dt / ((double)M * (double)N);\n",
        "    printf(\"i=%ld x=%f core0=%d core1=%d cycles_per_iter=%f\",\n",
        "           i, R[i].x, R[i].core[0], R[i].core[1], avg);\n",
        "    for (long j = 0; j < M; j++) {\n",
        "      printf(\" %ld\", T[k]);\n",
        "      k++;\n",
        "    }\n",
        "    printf(\"\\n\");\n",
        "  }\n",
        "}\n",
        "\n",
        "int getenv_int(const char * v) {\n",
        "  char * s = getenv(v);\n",
        "  if (!s) {\n",
        "    fprintf(stderr, \"specify environment variable %s\\n\", v);\n",
        "    exit(1);\n",
        "  }\n",
        "  return atoi(s);\n",
        "}\n",
        "\n",
        "int main(int argc, char ** argv) {\n",
        "  int idx = 1;\n",
        "  long L   = (idx < argc ? atol(argv[idx]) : 100);  idx++;\n",
        "  long M   = (idx < argc ? atol(argv[idx]) : 100);  idx++;\n",
        "  long N   = (idx < argc ? atol(argv[idx]) : 100);  idx++;\n",
        "  double a = (idx < argc ? atof(argv[idx]) : 0.99); idx++;\n",
        "  double b = (idx < argc ? atof(argv[idx]) : 1.00); idx++;\n",
        "  int n_teams = getenv_int(\"OMP_NUM_TEAMS\");\n",
        "  int n_threads_per_team = getenv_int(\"OMP_NUM_THREADS\");\n",
        "  record_t * R = (record_t *)calloc(L, sizeof(record_t));\n",
        "  long * T = (long *)calloc(L * M, sizeof(long));\n",
        "#pragma omp target teams distribute parallel for num_teams(n_teams) num_threads(n_threads_per_team) map(tofrom: R[0:L], T[0:L*M])\n",
        "  for (long i = 0; i < L; i++) {\n",
        "    iter_fun(a, b, i, M, N, R, T);\n",
        "  }\n",
        "  dump(R, T, L, M, N);\n",
        "  return 0;\n",
        "}\n",
        ""
      ],
      "execution_count": null,
      "outputs": []
    },
    {
      "cell_type": "code",
      "metadata": {
        "kernel": "Bash",
        "nbgrader": {
          "grade": true,
          "grade_id": "p-001",
          "locked": false,
          "schema_version": 3,
          "solution": true,
          "task": false,
          "points": 1
        }
      },
      "source": [
        "BEGIN SOLUTION\n",
        "END SOLUTION\n",
        "clang++ -Wall -O3 -mavx512f -mfma -fopenmp no_ilp.cc -o no_ilp\n",
        "#nvc++   -Wall -O3 -mavx512f -mfma -mp=multicore -cuda no_ilp.cc -o no_ilp\n",
        "#g++     -Wall -O3 -mavx512f -mfma -fopenmp no_ilp.cc -o no_ilp"
      ],
      "execution_count": null,
      "outputs": []
    },
    {
      "cell_type": "markdown",
      "metadata": {
        "kernel": "SoS",
        "nbgrader": {
          "grade": false,
          "grade_id": "c-015",
          "locked": true,
          "schema_version": 3,
          "solution": false,
          "task": false
        }
      },
      "source": [
        "* run it on a single core"
      ]
    },
    {
      "cell_type": "code",
      "metadata": {
        "kernel": "Bash",
        "nbgrader": {
          "grade": true,
          "grade_id": "p-002",
          "locked": false,
          "schema_version": 3,
          "solution": true,
          "task": false,
          "points": 1
        }
      },
      "source": [
        "BEGIN SOLUTION\n",
        "END SOLUTION\n",
        "OMP_NUM_TEAMS=1 OMP_NUM_THREADS=1 OMP_PROC_BIND=true ./no_ilp 1 100 1000000 > a.dat\n",
        "cat a.dat"
      ],
      "execution_count": null,
      "outputs": []
    },
    {
      "cell_type": "markdown",
      "metadata": {
        "kernel": "SoS",
        "nbgrader": {
          "grade": false,
          "grade_id": "c-016",
          "locked": true,
          "schema_version": 3,
          "solution": false,
          "task": false
        }
      },
      "source": [
        "* it shows cycles per iteration (of the innermost loop) by `cycles_per_iter=xxxx`, which can be extracted by"
      ]
    },
    {
      "cell_type": "code",
      "metadata": {
        "kernel": "Bash",
        "nbgrader": {
          "grade": true,
          "grade_id": "p-003",
          "locked": false,
          "schema_version": 3,
          "solution": true,
          "task": false,
          "points": 1
        }
      },
      "source": [
        "BEGIN SOLUTION\n",
        "END SOLUTION\n",
        "awk '{print $5}' a.dat"
      ],
      "execution_count": null,
      "outputs": []
    },
    {
      "cell_type": "markdown",
      "metadata": {
        "kernel": "SoS",
        "nbgrader": {
          "grade": false,
          "grade_id": "c-017",
          "locked": true,
          "schema_version": 3,
          "solution": false,
          "task": false
        }
      },
      "source": [
        "* this is essentially the _latency_ of an FMA instruction \n",
        "* according to [Intel intrinsics guide](https://www.intel.com/content/www/us/en/docs/intrinsics-guide/index.html), the latency of FMA instruction is 4, but we observe a slightly lower value\n",
        "* this is due to dynamic frequency scaling (essentially, a core boosts its frequency when the total load is low; the `rdtsc` instruction we use to get the clock is a clock that runs at a constant speed regardless of the actual processor frequency)"
      ]
    },
    {
      "cell_type": "markdown",
      "metadata": {
        "kernel": "SoS",
        "nbgrader": {
          "grade": false,
          "grade_id": "c-018",
          "locked": true,
          "schema_version": 3,
          "solution": false,
          "task": false
        }
      },
      "source": [
        "* let's witness instruction sequence \n",
        "* identify the instruction sequence corresponding to the innermost loop"
      ]
    },
    {
      "cell_type": "code",
      "metadata": {
        "kernel": "Bash",
        "nbgrader": {
          "grade": true,
          "grade_id": "p-004",
          "locked": false,
          "schema_version": 3,
          "solution": true,
          "task": false,
          "points": 1
        }
      },
      "source": [
        "BEGIN SOLUTION\n",
        "END SOLUTION\n",
        "clang++ -Wall -O3 -mavx512f -mfma -fopenmp no_ilp.cc -S\n",
        "#nvc++   -Wall -O3 -mavx512f -mfma -mp=multicore -cuda no_ilp.cc -S\n",
        "#g++     -Wall -O3 -mavx512f -mfma -fopenmp no_ilp.cc -S"
      ],
      "execution_count": null,
      "outputs": []
    },
    {
      "cell_type": "code",
      "metadata": {
        "kernel": "Bash",
        "nbgrader": {
          "grade": true,
          "grade_id": "p-005",
          "locked": false,
          "schema_version": 3,
          "solution": true,
          "task": false,
          "points": 1
        }
      },
      "source": [
        "BEGIN SOLUTION\n",
        "END SOLUTION\n",
        "cat no_ilp.s"
      ],
      "execution_count": null,
      "outputs": []
    },
    {
      "cell_type": "markdown",
      "metadata": {
        "kernel": "SoS",
        "nbgrader": {
          "grade": false,
          "grade_id": "c-019",
          "locked": true,
          "schema_version": 3,
          "solution": false,
          "task": false
        }
      },
      "source": [
        "# 4. Double ILP on CPU",
        "\n",
        "* an ILP increases when there are multiple instructions that are _independent_\n",
        "* no processor can execute the following sequence faster than 4 cycles / FMA, because each instruction has to wait for the previous instruction to produce its result (i.e., depends on the previous instruction)\n",
        "```\n",
        "x = a * x + b\n",
        "x = a * x + b\n",
        "x = a * x + b\n",
        "  ...\n",
        "```\n",
        "* what a CPU _can_ do is to execute something like the following as fast as 4 cycles / (2 FMAs)\n",
        "```\n",
        "x0 = a * x0 + b\n",
        "x1 = a * x1 + b\n",
        "x0 = a * x0 + b\n",
        "x1 = a * x1 + b\n",
        "x0 = a * x0 + b\n",
        "x1 = a * x1 + b\n",
        "  ...\n",
        "```\n",
        "* this is possible because instructions working on x0 do not depend on those working on x1 and vice versa"
      ]
    },
    {
      "cell_type": "code",
      "metadata": {
        "kernel": "Python 3 (ipykernel)",
        "nbgrader": {
          "grade": false,
          "grade_id": "c-020",
          "locked": false,
          "schema_version": 3,
          "solution": false,
          "task": false
        }
      },
      "source": [
        "%%writefile ilp2.cc\n",
        "#include <assert.h>\n",
        "#include <err.h>\n",
        "#include <stdio.h>\n",
        "#include <stdlib.h>\n",
        "#include <time.h>\n",
        "#include <omp.h>\n",
        "#include <sched.h>\n",
        "#include <stdint.h>\n",
        "#include <x86intrin.h>\n",
        "\n",
        "long cur_time_ns() {\n",
        "  struct timespec ts[1];\n",
        "  if (clock_gettime(CLOCK_REALTIME, ts) == -1) err(1, \"clock_gettime\");\n",
        "  return ts->tv_sec * 1000000000L + ts->tv_nsec;\n",
        "}\n",
        "\n",
        "#if __NVCOMPILER\n",
        "#include <nv/target>\n",
        "/* get core number (SM id for GPU). */\n",
        "__host__ __device__ static unsigned int get_core(void) {\n",
        "  if target(nv::target::is_device) {\n",
        "    unsigned int sm;\n",
        "    asm(\"mov.u32 %0, %%smid;\" : \"=r\"(sm));\n",
        "    return sm;\n",
        "  } else {\n",
        "    return sched_getcpu();\n",
        "  }\n",
        "}\n",
        "\n",
        "/* get GPU/CPU clock (for Clang LLVM compiler) */\n",
        "__attribute__((unused,nothrow))\n",
        "static long get_clock(void) {\n",
        "  if target(nv::target::is_device) {\n",
        "    long clock;\n",
        "    asm volatile(\"mov.s64 %0, %%clock64;\" : \"=l\" (clock));\n",
        "    return clock;\n",
        "  } else {\n",
        "    uint32_t low, high;\n",
        "    asm volatile(\"rdtsc\" : \"=a\"(low), \"=d\"(high));\n",
        "    return ((uint64_t)high << 32) | low;\n",
        "  }\n",
        "}\n",
        "\n",
        "#else  // __clang__ or GCC\n",
        "/* get SM id (for Clang LLVM compiler).\n",
        "   return -1 if called on CPU */\n",
        "__attribute__((unused))\n",
        "static unsigned int get_core(void) {\n",
        "#if __CUDA_ARCH__\n",
        "  unsigned int sm;\n",
        "  asm(\"mov.u32 %0, %%smid;\" : \"=r\"(sm));\n",
        "  return sm;\n",
        "#else\n",
        "  return sched_getcpu();\n",
        "#endif\n",
        "}\n",
        "\n",
        "/* get GPU/CPU clock (for Clang LLVM compiler) */\n",
        "__attribute__((unused,nothrow))\n",
        "static long get_clock(void) {\n",
        "#if __CUDA_ARCH__\n",
        "  long clock;\n",
        "  asm volatile(\"mov.s64 %0, %%clock64;\" : \"=l\" (clock));\n",
        "  return clock;\n",
        "#else\n",
        "  return _rdtsc();\n",
        "#endif\n",
        "}\n",
        "#endif\n",
        "\n",
        "typedef struct {\n",
        "  double x;\n",
        "  int core[2];\n",
        "} record_t;\n",
        "\n",
        "/* the function for an iteration\n",
        "   perform\n",
        "   x = a x + b\n",
        "   (M * N) times and record current time\n",
        "   every N iterations to T.\n",
        "   record thread and cpu to R.\n",
        " */\n",
        "\n",
        "void iter_fun(double a, double b, long i, long M, long N,\n",
        "              record_t * R, long * T) {\n",
        "  // initial value (not important)\n",
        "  double x0 = i, x1 = i + 0.5;\n",
        "  // record in T[i * M] ... T[(i+1) * M - 1]\n",
        "  T = &T[i * M];\n",
        "  // record starting SM\n",
        "  R[i].core[0] = get_core();\n",
        "  // repeat a x + b many times.\n",
        "  // record time every N iterations\n",
        "  for (long j = 0; j < M; j++) {\n",
        "    T[j] = get_clock();\n",
        "    asm volatile(\"// ========== loop begins ==========\");\n",
        "    for (long k = 0; k < N; k++) {\n",
        "      x0 = a * x0 + b;\n",
        "      x1 = a * x1 + b;\n",
        "    }\n",
        "    asm volatile(\"// ---------- loop ends ----------\");\n",
        "  }\n",
        "  // record ending SM (must be = sm[0])\n",
        "  R[i].core[1] = get_core();\n",
        "  // record result, just so that the computation is not\n",
        "  // eliminated by the compiler\n",
        "  R[i].x = (x0 + x1) / 2.0;\n",
        "}\n",
        "\n",
        "void dump(record_t * R, long * T, long L, long M, long N) {\n",
        "  long k = 0;\n",
        "  for (long i = 0; i < L; i++) {\n",
        "    long dt = T[k + M - 1] - T[k];\n",
        "    double avg = (double)dt / ((double)M * (double)N);\n",
        "    printf(\"i=%ld x=%f core0=%d core1=%d cycles_per_iter=%f\",\n",
        "           i, R[i].x, R[i].core[0], R[i].core[1], avg);\n",
        "    for (long j = 0; j < M; j++) {\n",
        "      printf(\" %ld\", T[k]);\n",
        "      k++;\n",
        "    }\n",
        "    printf(\"\\n\");\n",
        "  }\n",
        "}\n",
        "\n",
        "int getenv_int(const char * v) {\n",
        "  char * s = getenv(v);\n",
        "  if (!s) {\n",
        "    fprintf(stderr, \"specify environment variable %s\\n\", v);\n",
        "    exit(1);\n",
        "  }\n",
        "  return atoi(s);\n",
        "}\n",
        "\n",
        "int main(int argc, char ** argv) {\n",
        "  int idx = 1;\n",
        "  long L   = (idx < argc ? atol(argv[idx]) : 100);  idx++;\n",
        "  long M   = (idx < argc ? atol(argv[idx]) : 100);  idx++;\n",
        "  long N   = (idx < argc ? atol(argv[idx]) : 100);  idx++;\n",
        "  double a = (idx < argc ? atof(argv[idx]) : 0.99); idx++;\n",
        "  double b = (idx < argc ? atof(argv[idx]) : 1.00); idx++;\n",
        "  int n_teams = getenv_int(\"OMP_NUM_TEAMS\");\n",
        "  int n_threads_per_team = getenv_int(\"OMP_NUM_THREADS\");\n",
        "  record_t * R = (record_t *)calloc(L, sizeof(record_t));\n",
        "  long * T = (long *)calloc(L * M, sizeof(long));\n",
        "#pragma omp target teams distribute parallel for num_teams(n_teams) num_threads(n_threads_per_team) map(tofrom: R[0:L], T[0:L*M])\n",
        "  for (long i = 0; i < L; i++) {\n",
        "    iter_fun(a, b, i, M, N, R, T);\n",
        "  }\n",
        "  dump(R, T, L, M, N);\n",
        "  return 0;\n",
        "}\n",
        ""
      ],
      "execution_count": null,
      "outputs": []
    },
    {
      "cell_type": "code",
      "metadata": {
        "kernel": "Bash",
        "nbgrader": {
          "grade": true,
          "grade_id": "p-006",
          "locked": false,
          "schema_version": 3,
          "solution": true,
          "task": false,
          "points": 1
        }
      },
      "source": [
        "BEGIN SOLUTION\n",
        "END SOLUTION\n",
        "clang++ -Wall -O3 -mavx512f -mfma -fopenmp ilp2.cc -o ilp2\n",
        "#nvc++   -Wall -O3 -mavx512f -mfma -mp=multicore -cuda ilp2.cc -o ilp2\n",
        "#g++     -Wall -O3 -mavx512f -mfma -fopenmp ilp2.cc -o ilp2"
      ],
      "execution_count": null,
      "outputs": []
    },
    {
      "cell_type": "markdown",
      "metadata": {
        "kernel": "SoS",
        "nbgrader": {
          "grade": false,
          "grade_id": "c-021",
          "locked": true,
          "schema_version": 3,
          "solution": false,
          "task": false
        }
      },
      "source": [
        "* run it on a single core again"
      ]
    },
    {
      "cell_type": "code",
      "metadata": {
        "kernel": "Bash",
        "nbgrader": {
          "grade": true,
          "grade_id": "p-007",
          "locked": false,
          "schema_version": 3,
          "solution": true,
          "task": false,
          "points": 1
        }
      },
      "source": [
        "BEGIN SOLUTION\n",
        "END SOLUTION\n",
        "OMP_NUM_TEAMS=1 OMP_NUM_THREADS=1 OMP_PROC_BIND=true ./ilp2 1 100 1000000 > a.dat\n",
        "awk '{print $5}' a.dat"
      ],
      "execution_count": null,
      "outputs": []
    },
    {
      "cell_type": "markdown",
      "metadata": {
        "kernel": "SoS",
        "nbgrader": {
          "grade": false,
          "grade_id": "c-022",
          "locked": true,
          "schema_version": 3,
          "solution": false,
          "task": false
        }
      },
      "source": [
        "* observe that the number of cycles per iteration does not change almost at all\n",
        "* put differently, it increased the _throughput_, the number of operations executed per cycle (or a unit time)"
      ]
    },
    {
      "cell_type": "markdown",
      "metadata": {
        "kernel": "SoS",
        "nbgrader": {
          "grade": false,
          "grade_id": "c-023",
          "locked": true,
          "schema_version": 3,
          "solution": false,
          "task": false
        }
      },
      "source": [
        "# 5. Increase ILP further",
        "\n",
        "* let's increase ILP furter\n",
        "* the following code can configure the number of variables to update in the `k` loop (therefore the number of _independent_ FMA instructions) by setting a preprocessor constant `C`"
      ]
    },
    {
      "cell_type": "code",
      "metadata": {
        "kernel": "Python 3 (ipykernel)",
        "nbgrader": {
          "grade": false,
          "grade_id": "c-024",
          "locked": false,
          "schema_version": 3,
          "solution": false,
          "task": false
        }
      },
      "source": [
        "%%writefile ilp.cc\n",
        "#include <assert.h>\n",
        "#include <err.h>\n",
        "#include <stdio.h>\n",
        "#include <stdlib.h>\n",
        "#include <time.h>\n",
        "#include <omp.h>\n",
        "#include <sched.h>\n",
        "#include <stdint.h>\n",
        "#include <x86intrin.h>\n",
        "\n",
        "long cur_time_ns() {\n",
        "  struct timespec ts[1];\n",
        "  if (clock_gettime(CLOCK_REALTIME, ts) == -1) err(1, \"clock_gettime\");\n",
        "  return ts->tv_sec * 1000000000L + ts->tv_nsec;\n",
        "}\n",
        "\n",
        "#if __NVCOMPILER\n",
        "#include <nv/target>\n",
        "/* get core number (SM id for GPU). */\n",
        "__host__ __device__ static unsigned int get_core(void) {\n",
        "  if target(nv::target::is_device) {\n",
        "    unsigned int sm;\n",
        "    asm(\"mov.u32 %0, %%smid;\" : \"=r\"(sm));\n",
        "    return sm;\n",
        "  } else {\n",
        "    return sched_getcpu();\n",
        "  }\n",
        "}\n",
        "\n",
        "/* get GPU/CPU clock (for Clang LLVM compiler) */\n",
        "__attribute__((unused,nothrow))\n",
        "static long get_clock(void) {\n",
        "  if target(nv::target::is_device) {\n",
        "    long clock;\n",
        "    asm volatile(\"mov.s64 %0, %%clock64;\" : \"=l\" (clock));\n",
        "    return clock;\n",
        "  } else {\n",
        "    uint32_t low, high;\n",
        "    asm volatile(\"rdtsc\" : \"=a\"(low), \"=d\"(high));\n",
        "    return ((uint64_t)high << 32) | low;\n",
        "  }\n",
        "}\n",
        "\n",
        "#else  // __clang__ or GCC\n",
        "/* get SM id (for Clang LLVM compiler).\n",
        "   return -1 if called on CPU */\n",
        "__attribute__((unused))\n",
        "static unsigned int get_core(void) {\n",
        "#if __CUDA_ARCH__\n",
        "  unsigned int sm;\n",
        "  asm(\"mov.u32 %0, %%smid;\" : \"=r\"(sm));\n",
        "  return sm;\n",
        "#else\n",
        "  return sched_getcpu();\n",
        "#endif\n",
        "}\n",
        "\n",
        "/* get GPU/CPU clock (for Clang LLVM compiler) */\n",
        "__attribute__((unused,nothrow))\n",
        "static long get_clock(void) {\n",
        "#if __CUDA_ARCH__\n",
        "  long clock;\n",
        "  asm volatile(\"mov.s64 %0, %%clock64;\" : \"=l\" (clock));\n",
        "  return clock;\n",
        "#else\n",
        "  return _rdtsc();\n",
        "#endif\n",
        "}\n",
        "#endif\n",
        "\n",
        "typedef struct {\n",
        "  double x;\n",
        "  int core[2];\n",
        "} record_t;\n",
        "\n",
        "/* the function for an iteration\n",
        "   perform\n",
        "   x = a x + b\n",
        "   (M * N) times and record current time\n",
        "   every N iterations to T.\n",
        "   record thread and cpu to R.\n",
        " */\n",
        "\n",
        "void iter_fun(double a, double b, long i, long M, long N,\n",
        "              record_t * R, long * T) {\n",
        "  // initial value (not important)\n",
        "#ifndef C\n",
        "#error \"give -DC=xxx in the command line\"  \n",
        "#endif  \n",
        "  double x[C];\n",
        "  for (int c = 0; c < C; c++) {\n",
        "    x[c] = i + c / (double)C;\n",
        "  }\n",
        "  // record in T[i * M] ... T[(i+1) * M - 1]\n",
        "  T = &T[i * M];\n",
        "  // record starting SM\n",
        "  R[i].core[0] = get_core();\n",
        "  // repeat a x + b many times.\n",
        "  // record time every N iterations\n",
        "  for (long j = 0; j < M; j++) {\n",
        "    T[j] = get_clock();\n",
        "    asm volatile(\"// ========== loop begins ==========\");\n",
        "    for (long k = 0; k < N; k++) {\n",
        "      for (int c = 0; c < C; c++) {\n",
        "        x[c] = a * x[c] + b;\n",
        "      }\n",
        "    }\n",
        "    asm volatile(\"// ---------- loop ends ----------\");\n",
        "  }\n",
        "  // record ending SM (must be = sm[0])\n",
        "  R[i].core[1] = get_core();\n",
        "  // record result, just so that the computation is not\n",
        "  // eliminated by the compiler\n",
        "  double t = 0.0;\n",
        "  for (int c = 0; c < C; c++) {\n",
        "    t += x[c];\n",
        "  }\n",
        "  R[i].x = t / C;\n",
        "}\n",
        "\n",
        "void dump(record_t * R, long * T, long L, long M, long N) {\n",
        "  long k = 0;\n",
        "  for (long i = 0; i < L; i++) {\n",
        "    long dt = T[k + M - 1] - T[k];\n",
        "    double avg = (double)dt / ((double)M * (double)N);\n",
        "    printf(\"i=%ld x=%f core0=%d core1=%d cycles_per_iter=%f\",\n",
        "           i, R[i].x, R[i].core[0], R[i].core[1], avg);\n",
        "    for (long j = 0; j < M; j++) {\n",
        "      printf(\" %ld\", T[k]);\n",
        "      k++;\n",
        "    }\n",
        "    printf(\"\\n\");\n",
        "  }\n",
        "}\n",
        "\n",
        "int getenv_int(const char * v) {\n",
        "  char * s = getenv(v);\n",
        "  if (!s) {\n",
        "    fprintf(stderr, \"specify environment variable %s\\n\", v);\n",
        "    exit(1);\n",
        "  }\n",
        "  return atoi(s);\n",
        "}\n",
        "\n",
        "int main(int argc, char ** argv) {\n",
        "  int idx = 1;\n",
        "  long L   = (idx < argc ? atol(argv[idx]) : 100);  idx++;\n",
        "  long M   = (idx < argc ? atol(argv[idx]) : 100);  idx++;\n",
        "  long N   = (idx < argc ? atol(argv[idx]) : 100);  idx++;\n",
        "  double a = (idx < argc ? atof(argv[idx]) : 0.99); idx++;\n",
        "  double b = (idx < argc ? atof(argv[idx]) : 1.00); idx++;\n",
        "  int n_teams = getenv_int(\"OMP_NUM_TEAMS\");\n",
        "  int n_threads_per_team = getenv_int(\"OMP_NUM_THREADS\");\n",
        "  record_t * R = (record_t *)calloc(L, sizeof(record_t));\n",
        "  long * T = (long *)calloc(L * M, sizeof(long));\n",
        "#pragma omp target teams distribute parallel for num_teams(n_teams) num_threads(n_threads_per_team) map(tofrom: R[0:L], T[0:L*M])\n",
        "  for (long i = 0; i < L; i++) {\n",
        "    iter_fun(a, b, i, M, N, R, T);\n",
        "  }\n",
        "  dump(R, T, L, M, N);\n",
        "  return 0;\n",
        "}\n",
        ""
      ],
      "execution_count": null,
      "outputs": []
    },
    {
      "cell_type": "markdown",
      "metadata": {
        "kernel": "SoS",
        "nbgrader": {
          "grade": false,
          "grade_id": "c-025",
          "locked": true,
          "schema_version": 3,
          "solution": false,
          "task": false
        }
      },
      "source": [
        "* compile it with `C=4`\n",
        "* we inhibit vectorization to make sure we witness the effect of ILP, not of SIMD instructions"
      ]
    },
    {
      "cell_type": "code",
      "metadata": {
        "kernel": "Bash",
        "nbgrader": {
          "grade": true,
          "grade_id": "p-008",
          "locked": false,
          "schema_version": 3,
          "solution": true,
          "task": false,
          "points": 1
        }
      },
      "source": [
        "BEGIN SOLUTION\n",
        "END SOLUTION\n",
        "clang++ -DC=4 -Wall -O3 -mavx512f -mfma -fopenmp -fno-vectorize ilp.cc -o ilp\n",
        "#nvc++   -DC=4 -Wall -O3 -mavx512f -mfma -mp=multicore -Mnovect -cuda ilp.cc -o ilp\n",
        "#g++     -DC=4 -Wall -O3 -mavx512f -mfma -fopenmp -fno-tree-vectorize ilp.cc -o ilp"
      ],
      "execution_count": null,
      "outputs": []
    },
    {
      "cell_type": "markdown",
      "metadata": {
        "kernel": "SoS",
        "nbgrader": {
          "grade": false,
          "grade_id": "c-026",
          "locked": true,
          "schema_version": 3,
          "solution": false,
          "task": false
        }
      },
      "source": [
        "* and run it on a single core"
      ]
    },
    {
      "cell_type": "code",
      "metadata": {
        "kernel": "Bash",
        "nbgrader": {
          "grade": true,
          "grade_id": "p-009",
          "locked": false,
          "schema_version": 3,
          "solution": true,
          "task": false,
          "points": 1
        }
      },
      "source": [
        "BEGIN SOLUTION\n",
        "END SOLUTION\n",
        "OMP_NUM_TEAMS=1 OMP_NUM_THREADS=1 OMP_PROC_BIND=true ./ilp 1 100 1000000 > a.dat\n",
        "awk '{print $5}' a.dat"
      ],
      "execution_count": null,
      "outputs": []
    },
    {
      "cell_type": "markdown",
      "metadata": {
        "kernel": "SoS",
        "nbgrader": {
          "grade": false,
          "grade_id": "c-027",
          "locked": true,
          "schema_version": 3,
          "solution": false,
          "task": false
        }
      },
      "source": [
        "* change the `C` above and how far you can go, without noticeably increasing the cycles per iteration\n",
        "* it is the processor's _throughput_ limit, determined by the number of execution units for floatint point operations (two on many CPUs)\n",
        "* note: this number if the same even if it is SIMD FMA, which we will see below\n",
        "\n",
        "* change `C` systematically and graph the result\n",
        "* make sure to increase `C` to observe that the throughput initially rises and eventually plateaus at a certain point"
      ]
    },
    {
      "cell_type": "code",
      "metadata": {
        "kernel": "Bash",
        "nbgrader": {
          "grade": true,
          "grade_id": "p-010",
          "locked": false,
          "schema_version": 3,
          "solution": true,
          "task": false,
          "points": 1
        }
      },
      "source": [
        "BEGIN SOLUTION\n",
        "END SOLUTION\n",
        "for L in 1; do\n",
        "    for M in 100 ; do\n",
        "        for N in 1000000; do\n",
        "            for C in 1 2     ; do  # put values of C you want to experiment with\n",
        "                # choose the compiler and craft an appropriate command\n",
        "                # line to produce exe file ilp_${C}\n",
        "                #nvc++   -DC=${C} -Wall -O3 -mavx512f -mfma -mp=multicore -Mnovect -cuda ilp.cc -o ilp_${C} \\\n",
        "                #g++     -DC=${C} -Wall -O3 -mavx512f -mfma -fopenmp -fno-tree-vectorize ilp.cc -o ilp_${C} \\\n",
        "                clang++ -DC=${C} -Wall -O3 -mavx512f -mfma -fopenmp -fno-vectorize ilp.cc -o ilp_${C} \\\n",
        "                    && (echo -n \"L=${L} M=${M} N=${N} C=${C} \";\n",
        "                        OMP_NUM_TEAMS=1 OMP_NUM_THREADS=1 OMP_PROC_BIND=true ./ilp_${C} ${L} ${M} ${N} | awk '{print $5}')\n",
        "            done\n",
        "        done\n",
        "    done\n",
        "done "
      ],
      "execution_count": null,
      "outputs": []
    },
    {
      "cell_type": "code",
      "metadata": {
        "kernel": "Python 3 (ipykernel)",
        "nbgrader": {
          "grade": false,
          "grade_id": "c-028",
          "locked": false,
          "schema_version": 3,
          "solution": false,
          "task": false
        }
      },
      "source": [
        "DATA_STRING_CPU = r\"\"\"\n",
        "L=1 M=100 N=10000000 C=1 cycles_per_iter=2.128242\n",
        "L=1 M=100 N=10000000 C=2 cycles_per_iter=2.126931\n",
        "L=1 M=100 N=10000000 C=3 cycles_per_iter=2.125129\n",
        "    ...\n",
        "\"\"\""
      ],
      "execution_count": null,
      "outputs": []
    },
    {
      "cell_type": "code",
      "metadata": {
        "kernel": "Python 3 (ipykernel)",
        "nbgrader": {
          "grade": false,
          "grade_id": "c-029",
          "locked": false,
          "schema_version": 3,
          "solution": false,
          "task": false
        }
      },
      "source": [
        "import vis_latency_throughput\n",
        "vis_latency_throughput.vis(DATA_STRING_CPU)"
      ],
      "execution_count": null,
      "outputs": []
    },
    {
      "cell_type": "markdown",
      "metadata": {
        "kernel": "SoS",
        "nbgrader": {
          "grade": false,
          "grade_id": "c-030",
          "locked": true,
          "schema_version": 3,
          "solution": false,
          "task": false
        }
      },
      "source": [
        "# 6. GPU ",
        "\n",
        "* what about GPU?\n",
        "* GPU does not aggressively exploit ILP\n",
        "* let's fast see the case where we have almost no ilp\n",
        "* the code can be exactly the same as the CPU case; we merely have to change the compile option"
      ]
    },
    {
      "cell_type": "code",
      "metadata": {
        "kernel": "Bash",
        "nbgrader": {
          "grade": true,
          "grade_id": "p-011",
          "locked": false,
          "schema_version": 3,
          "solution": true,
          "task": false,
          "points": 1
        }
      },
      "source": [
        "BEGIN SOLUTION\n",
        "END SOLUTION\n",
        "clang++ -Wall -O3 -mavx512f -mfma -fopenmp -fopenmp-targets=nvptx64 no_ilp.cc -o no_ilp_gpu\n",
        "#nvc++   -Wall -O3 -mavx512f -mfma -mp=gpu -cuda no_ilp.cc -o no_ilp_gpu"
      ],
      "execution_count": null,
      "outputs": []
    },
    {
      "cell_type": "markdown",
      "metadata": {
        "kernel": "SoS",
        "nbgrader": {
          "grade": false,
          "grade_id": "c-031",
          "locked": true,
          "schema_version": 3,
          "solution": false,
          "task": false
        }
      },
      "source": [
        "* and run it with a single thread"
      ]
    },
    {
      "cell_type": "code",
      "metadata": {
        "kernel": "Bash",
        "nbgrader": {
          "grade": true,
          "grade_id": "p-012",
          "locked": false,
          "schema_version": 3,
          "solution": true,
          "task": false,
          "points": 1
        }
      },
      "source": [
        "BEGIN SOLUTION\n",
        "END SOLUTION\n",
        "OMP_TARGET_OFFLOAD=MANDATORY OMP_NUM_TEAMS=1 OMP_NUM_THREADS=1 OMP_PROC_BIND=true ./no_ilp_gpu 1 100 1000000 > a.dat\n",
        "awk '{print $5}' a.dat"
      ],
      "execution_count": null,
      "outputs": []
    },
    {
      "cell_type": "markdown",
      "metadata": {
        "kernel": "SoS",
        "nbgrader": {
          "grade": false,
          "grade_id": "c-032",
          "locked": true,
          "schema_version": 3,
          "solution": false,
          "task": false
        }
      },
      "source": [
        "* this is the _latency_ of FMA instruction on NVIDIA GPU\n",
        "* it is slightly longer than in terms of the number of cycles; it is even longer in terms of absolute time (as the frequency of A100 GPU, 1.095GHz - 1.41MHz, is lower than that of Intel Xeon Platinum 8368, 2.40GHz - 3.4GHz)"
      ]
    },
    {
      "cell_type": "markdown",
      "metadata": {
        "kernel": "SoS",
        "nbgrader": {
          "grade": false,
          "grade_id": "c-033",
          "locked": true,
          "schema_version": 3,
          "solution": false,
          "task": false
        }
      },
      "source": [
        "* another good news is that this same executable can actually run on CPUs too\n",
        "* we merely have to disable offloading by changing the environment variable"
      ]
    },
    {
      "cell_type": "code",
      "metadata": {
        "kernel": "Bash",
        "nbgrader": {
          "grade": true,
          "grade_id": "p-013",
          "locked": false,
          "schema_version": 3,
          "solution": true,
          "task": false,
          "points": 1
        }
      },
      "source": [
        "BEGIN SOLUTION\n",
        "END SOLUTION\n",
        "# execute on CPU\n",
        "OMP_TARGET_OFFLOAD=DISABLED OMP_NUM_TEAMS=1 OMP_NUM_THREADS=1 OMP_PROC_BIND=true ./no_ilp_gpu 1 100 1000000 > a.dat\n",
        "awk '{print $5}' a.dat"
      ],
      "execution_count": null,
      "outputs": []
    },
    {
      "cell_type": "markdown",
      "metadata": {
        "kernel": "SoS",
        "nbgrader": {
          "grade": false,
          "grade_id": "c-034",
          "locked": true,
          "schema_version": 3,
          "solution": false,
          "task": false
        }
      },
      "source": [
        "# 7. GPU with ILP?",
        "\n",
        "* combined, A100 GPU is about 3x slower than Xeon Platinum 8363 CPU when it comes to the latency of an FMA\n",
        "* but that's not the main point\n",
        "* the main point is what happens if we expose more independent FMAs to a _single thread_ of GPU"
      ]
    },
    {
      "cell_type": "code",
      "metadata": {
        "kernel": "Bash",
        "nbgrader": {
          "grade": true,
          "grade_id": "p-014",
          "locked": false,
          "schema_version": 3,
          "solution": true,
          "task": false,
          "points": 1
        }
      },
      "source": [
        "BEGIN SOLUTION\n",
        "END SOLUTION\n",
        "clang++ -DC=2 -Wall -O3 -mavx512f -mfma -fopenmp -fopenmp-targets=nvptx64 ilp.cc -o ilp_gpu\n",
        "#nvc++   -DC=2 -Wall -O3 -mavx512f -mfma -mp=gpu -cuda ilp.cc -o ilp_gpu"
      ],
      "execution_count": null,
      "outputs": []
    },
    {
      "cell_type": "markdown",
      "metadata": {
        "kernel": "SoS",
        "nbgrader": {
          "grade": false,
          "grade_id": "c-035",
          "locked": true,
          "schema_version": 3,
          "solution": false,
          "task": false
        }
      },
      "source": [
        "* and run it with a single thread, on GPU"
      ]
    },
    {
      "cell_type": "code",
      "metadata": {
        "kernel": "Bash",
        "nbgrader": {
          "grade": true,
          "grade_id": "p-015",
          "locked": false,
          "schema_version": 3,
          "solution": true,
          "task": false,
          "points": 1
        }
      },
      "source": [
        "BEGIN SOLUTION\n",
        "END SOLUTION\n",
        "OMP_TARGET_OFFLOAD=MANDATORY OMP_NUM_TEAMS=1 OMP_NUM_THREADS=1 OMP_PROC_BIND=true ./ilp_gpu 1 100 1000000 > a.dat\n",
        "awk '{print $5}' a.dat"
      ],
      "execution_count": null,
      "outputs": []
    },
    {
      "cell_type": "markdown",
      "metadata": {
        "kernel": "SoS",
        "nbgrader": {
          "grade": false,
          "grade_id": "c-036",
          "locked": true,
          "schema_version": 3,
          "solution": false,
          "task": false
        }
      },
      "source": [
        "* and on CPU"
      ]
    },
    {
      "cell_type": "code",
      "metadata": {
        "kernel": "Bash",
        "nbgrader": {
          "grade": true,
          "grade_id": "p-016",
          "locked": false,
          "schema_version": 3,
          "solution": true,
          "task": false,
          "points": 1
        }
      },
      "source": [
        "BEGIN SOLUTION\n",
        "END SOLUTION\n",
        "OMP_TARGET_OFFLOAD=DISABLED OMP_NUM_TEAMS=1 OMP_NUM_THREADS=1 OMP_PROC_BIND=true ./ilp_gpu 1 100 1000000 > a.dat\n",
        "awk '{print $5}' a.dat"
      ],
      "execution_count": null,
      "outputs": []
    },
    {
      "cell_type": "markdown",
      "metadata": {
        "kernel": "SoS",
        "nbgrader": {
          "grade": false,
          "grade_id": "c-037",
          "locked": true,
          "schema_version": 3,
          "solution": false,
          "task": false
        }
      },
      "source": [
        "* change the value of `C` and see what happens on GPU "
      ]
    },
    {
      "cell_type": "markdown",
      "metadata": {
        "kernel": "SoS",
        "nbgrader": {
          "grade": false,
          "grade_id": "c-038",
          "locked": true,
          "schema_version": 3,
          "solution": false,
          "task": false
        }
      },
      "source": [
        "* then change `C` systematically and graph the result\n",
        "* observe that latency immediately starts increasing and thus the throughput does not increase"
      ]
    },
    {
      "cell_type": "code",
      "metadata": {
        "kernel": "Bash",
        "nbgrader": {
          "grade": true,
          "grade_id": "p-017",
          "locked": false,
          "schema_version": 3,
          "solution": true,
          "task": false,
          "points": 1
        }
      },
      "source": [
        "BEGIN SOLUTION\n",
        "END SOLUTION\n",
        "for L in 1; do\n",
        "    for M in 100 ; do\n",
        "        for N in 1000000; do\n",
        "            for C in 1 2    ; do  # put values of C you want to experiment with\n",
        "                # choose the compiler and craft an appropriate command\n",
        "                # line to produce exe file ilp_gpu_${C}\n",
        "                #nvc++   -DC=${C} -Wall -O3 -mavx512f -mfma -mp=gpu -cuda ilp.cc -o ilp_gpu_${C} \\\n",
        "                clang++ -DC=${C} -Wall -O3 -mavx512f -mfma -fopenmp -fopenmp-targets=nvptx64 ilp.cc -o ilp_gpu_${C} \\\n",
        "                    && (echo -n \"L=${L} M=${M} N=${N} C=${C} \";\n",
        "                        OMP_TARGET_OFFLOAD=MANDATORY OMP_NUM_TEAMS=1 OMP_NUM_THREADS=1 OMP_PROC_BIND=true ./ilp_gpu_${C} ${L} ${M} ${N} | awk '{print $5}')\n",
        "            done\n",
        "        done\n",
        "    done\n",
        "done "
      ],
      "execution_count": null,
      "outputs": []
    },
    {
      "cell_type": "code",
      "metadata": {
        "kernel": "Python 3 (ipykernel)",
        "nbgrader": {
          "grade": false,
          "grade_id": "c-039",
          "locked": false,
          "schema_version": 3,
          "solution": false,
          "task": false
        }
      },
      "source": [
        "DATA_STRING_GPU = r\"\"\"\n",
        "L=1 M=100 N=10000000 C=1 cycles_per_iter=2.128242\n",
        "L=1 M=100 N=10000000 C=2 cycles_per_iter=2.126931\n",
        "L=1 M=100 N=10000000 C=3 cycles_per_iter=2.125129\n",
        "    ...\n",
        "\"\"\""
      ],
      "execution_count": null,
      "outputs": []
    },
    {
      "cell_type": "code",
      "metadata": {
        "kernel": "Python 3 (ipykernel)",
        "nbgrader": {
          "grade": false,
          "grade_id": "c-040",
          "locked": false,
          "schema_version": 3,
          "solution": false,
          "task": false
        }
      },
      "source": [
        "import vis_latency_throughput\n",
        "vis_latency_throughput.vis(DATA_STRING_GPU)"
      ],
      "execution_count": null,
      "outputs": []
    },
    {
      "cell_type": "markdown",
      "metadata": {
        "kernel": "SoS",
        "nbgrader": {
          "grade": false,
          "grade_id": "c-041",
          "locked": true,
          "schema_version": 3,
          "solution": false,
          "task": false
        }
      },
      "source": [
        "# 8. CPU with SIMD x ILP",
        "\n",
        "* Intel CPU is able to execute up to two _SIMD_ FMAs per cycle\n",
        "* therefore, the throughput limit of a single thread is actually even higher than what you saw above\n",
        "\n",
        "* change the following code if necessary to take advantage of SIMD and get throughput higher than the case without SIMD\n",
        "* does the compiler successfully vectorize the loop without any code change?"
      ]
    },
    {
      "cell_type": "code",
      "metadata": {
        "kernel": "Python 3 (ipykernel)",
        "nbgrader": {
          "grade": false,
          "grade_id": "c-042",
          "locked": false,
          "schema_version": 3,
          "solution": false,
          "task": false
        }
      },
      "source": [
        "%%writefile simd_ilp.cc\n",
        "#include <assert.h>\n",
        "#include <err.h>\n",
        "#include <stdio.h>\n",
        "#include <stdlib.h>\n",
        "#include <time.h>\n",
        "#include <omp.h>\n",
        "#include <sched.h>\n",
        "#include <stdint.h>\n",
        "#include <x86intrin.h>\n",
        "\n",
        "long cur_time_ns() {\n",
        "  struct timespec ts[1];\n",
        "  if (clock_gettime(CLOCK_REALTIME, ts) == -1) err(1, \"clock_gettime\");\n",
        "  return ts->tv_sec * 1000000000L + ts->tv_nsec;\n",
        "}\n",
        "\n",
        "#if __NVCOMPILER\n",
        "#include <nv/target>\n",
        "/* get core number (SM id for GPU). */\n",
        "__host__ __device__ static unsigned int get_core(void) {\n",
        "  if target(nv::target::is_device) {\n",
        "    unsigned int sm;\n",
        "    asm(\"mov.u32 %0, %%smid;\" : \"=r\"(sm));\n",
        "    return sm;\n",
        "  } else {\n",
        "    return sched_getcpu();\n",
        "  }\n",
        "}\n",
        "\n",
        "/* get GPU/CPU clock (for Clang LLVM compiler) */\n",
        "__attribute__((unused,nothrow))\n",
        "static long get_clock(void) {\n",
        "  if target(nv::target::is_device) {\n",
        "    long clock;\n",
        "    asm volatile(\"mov.s64 %0, %%clock64;\" : \"=l\" (clock));\n",
        "    return clock;\n",
        "  } else {\n",
        "    uint32_t low, high;\n",
        "    asm volatile(\"rdtsc\" : \"=a\"(low), \"=d\"(high));\n",
        "    return ((uint64_t)high << 32) | low;\n",
        "  }\n",
        "}\n",
        "\n",
        "#else  // __clang__ or GCC\n",
        "/* get SM id (for Clang LLVM compiler).\n",
        "   return -1 if called on CPU */\n",
        "__attribute__((unused))\n",
        "static unsigned int get_core(void) {\n",
        "#if __CUDA_ARCH__\n",
        "  unsigned int sm;\n",
        "  asm(\"mov.u32 %0, %%smid;\" : \"=r\"(sm));\n",
        "  return sm;\n",
        "#else\n",
        "  return sched_getcpu();\n",
        "#endif\n",
        "}\n",
        "\n",
        "/* get GPU/CPU clock (for Clang LLVM compiler) */\n",
        "__attribute__((unused,nothrow))\n",
        "static long get_clock(void) {\n",
        "#if __CUDA_ARCH__\n",
        "  long clock;\n",
        "  asm volatile(\"mov.s64 %0, %%clock64;\" : \"=l\" (clock));\n",
        "  return clock;\n",
        "#else\n",
        "  return _rdtsc();\n",
        "#endif\n",
        "}\n",
        "#endif\n",
        "\n",
        "typedef struct {\n",
        "  double x;\n",
        "  int core[2];\n",
        "} record_t;\n",
        "\n",
        "/* the function for an iteration\n",
        "   perform\n",
        "   x = a x + b\n",
        "   (M * N) times and record current time\n",
        "   every N iterations to T.\n",
        "   record thread and cpu to R.\n",
        " */\n",
        "\n",
        "void iter_fun(double a, double b, long i, long M, long N,\n",
        "              record_t * R, long * T) {\n",
        "  // initial value (not important)\n",
        "#ifndef C\n",
        "#error \"give -DC=xxx in the command line\"  \n",
        "#endif  \n",
        "  double x[C];\n",
        "  for (int c = 0; c < C; c++) {\n",
        "    x[c] = i + c / (double)C;\n",
        "  }\n",
        "  // record in T[i * M] ... T[(i+1) * M - 1]\n",
        "  T = &T[i * M];\n",
        "  // record starting SM\n",
        "  R[i].core[0] = get_core();\n",
        "  // repeat a x + b many times.\n",
        "  // record time every N iterations\n",
        "  for (long j = 0; j < M; j++) {\n",
        "    T[j] = get_clock();\n",
        "    asm volatile(\"// ========== loop begins ==========\");\n",
        "    for (long k = 0; k < N; k++) {\n",
        "      for (int c = 0; c < C; c++) {\n",
        "        x[c] = a * x[c] + b;\n",
        "      }\n",
        "    }\n",
        "    asm volatile(\"// ---------- loop ends ----------\");\n",
        "  }\n",
        "  // record ending SM (must be = sm[0])\n",
        "  R[i].core[1] = get_core();\n",
        "  // record result, just so that the computation is not\n",
        "  // eliminated by the compiler\n",
        "  double t = 0.0;\n",
        "  for (int c = 0; c < C; c++) {\n",
        "    t += x[c];\n",
        "  }\n",
        "  R[i].x = t / C;\n",
        "}\n",
        "\n",
        "void dump(record_t * R, long * T, long L, long M, long N) {\n",
        "  long k = 0;\n",
        "  for (long i = 0; i < L; i++) {\n",
        "    long dt = T[k + M - 1] - T[k];\n",
        "    double avg = (double)dt / ((double)M * (double)N);\n",
        "    printf(\"i=%ld x=%f core0=%d core1=%d cycles_per_iter=%f\",\n",
        "           i, R[i].x, R[i].core[0], R[i].core[1], avg);\n",
        "    for (long j = 0; j < M; j++) {\n",
        "      printf(\" %ld\", T[k]);\n",
        "      k++;\n",
        "    }\n",
        "    printf(\"\\n\");\n",
        "  }\n",
        "}\n",
        "\n",
        "int getenv_int(const char * v) {\n",
        "  char * s = getenv(v);\n",
        "  if (!s) {\n",
        "    fprintf(stderr, \"specify environment variable %s\\n\", v);\n",
        "    exit(1);\n",
        "  }\n",
        "  return atoi(s);\n",
        "}\n",
        "\n",
        "int main(int argc, char ** argv) {\n",
        "  int idx = 1;\n",
        "  long L   = (idx < argc ? atol(argv[idx]) : 100);  idx++;\n",
        "  long M   = (idx < argc ? atol(argv[idx]) : 100);  idx++;\n",
        "  long N   = (idx < argc ? atol(argv[idx]) : 100);  idx++;\n",
        "  double a = (idx < argc ? atof(argv[idx]) : 0.99); idx++;\n",
        "  double b = (idx < argc ? atof(argv[idx]) : 1.00); idx++;\n",
        "  int n_teams = getenv_int(\"OMP_NUM_TEAMS\");\n",
        "  int n_threads_per_team = getenv_int(\"OMP_NUM_THREADS\");\n",
        "  record_t * R = (record_t *)calloc(L, sizeof(record_t));\n",
        "  long * T = (long *)calloc(L * M, sizeof(long));\n",
        "#pragma omp target teams distribute parallel for num_teams(n_teams) num_threads(n_threads_per_team) map(tofrom: R[0:L], T[0:L*M])\n",
        "  for (long i = 0; i < L; i++) {\n",
        "    iter_fun(a, b, i, M, N, R, T);\n",
        "  }\n",
        "  dump(R, T, L, M, N);\n",
        "  return 0;\n",
        "}\n",
        ""
      ],
      "execution_count": null,
      "outputs": []
    },
    {
      "cell_type": "code",
      "metadata": {
        "kernel": "Bash",
        "nbgrader": {
          "grade": true,
          "grade_id": "p-018",
          "locked": false,
          "schema_version": 3,
          "solution": true,
          "task": false,
          "points": 1
        }
      },
      "source": [
        "BEGIN SOLUTION\n",
        "END SOLUTION\n",
        "clang++ -DC=16 -Wall -O3 -mavx512f -mfma -fopenmp simd_ilp.cc -o simd_ilp\n",
        "#nvc++   -DC=16 -Wall -O3 -mavx512f -mfma -mp=multicore -cuda simd_ilp.cc -o simd_ilp\n",
        "#g++     -DC=16 -Wall -O3 -mavx512f -mfma -fopenmp simd_ilp.cc -o simd_ilp"
      ],
      "execution_count": null,
      "outputs": []
    },
    {
      "cell_type": "markdown",
      "metadata": {
        "kernel": "SoS",
        "nbgrader": {
          "grade": false,
          "grade_id": "c-043",
          "locked": true,
          "schema_version": 3,
          "solution": false,
          "task": false
        }
      },
      "source": [
        "* then change `C` systematically and graph the result\n",
        "* make sure to increase `C` to observe that the throughput initially rises and eventually plateaus at a certain point\n",
        "* see how far you can go with a single thread on CPUs"
      ]
    },
    {
      "cell_type": "code",
      "metadata": {
        "kernel": "Bash",
        "nbgrader": {
          "grade": true,
          "grade_id": "p-019",
          "locked": false,
          "schema_version": 3,
          "solution": true,
          "task": false,
          "points": 1
        }
      },
      "source": [
        "BEGIN SOLUTION\n",
        "END SOLUTION\n",
        "for L in 1; do\n",
        "    for M in 100 ; do\n",
        "        for N in 1000000; do\n",
        "            for C in 1 2     ; do  # put values of C you want to experiment with\n",
        "                # choose the compiler and craft an appropriate command\n",
        "                # line to produce exe file simd_ilp_${C}\n",
        "                #nvc++   -DC=${C} -Wall -O3 -mavx512f -mfma -mp=multicore -cuda simd_ilp.cc -o simd_ilp_${C} \\\n",
        "                #g++     -DC=${C} -Wall -O3 -mavx512f -mfma -fopenmp simd_ilp.cc -o simd_ilp_${C} \\\n",
        "                clang++ -DC=${C} -Wall -O3 -mavx512f -mfma -fopenmp simd_ilp.cc -o simd_ilp_${C} \\\n",
        "                    && (echo -n \"L=${L} M=${M} N=${N} C=${C} \";\n",
        "                        OMP_NUM_TEAMS=1 OMP_NUM_THREADS=1 OMP_PROC_BIND=true ./simd_ilp_${C} ${L} ${M} ${N} | awk '{print $5}')\n",
        "            done\n",
        "        done\n",
        "    done\n",
        "done "
      ],
      "execution_count": null,
      "outputs": []
    },
    {
      "cell_type": "code",
      "metadata": {
        "kernel": "Python 3 (ipykernel)",
        "nbgrader": {
          "grade": false,
          "grade_id": "c-044",
          "locked": false,
          "schema_version": 3,
          "solution": false,
          "task": false
        }
      },
      "source": [
        "DATA_STRING_SIMD = r\"\"\"\n",
        "L=1 M=100 N=10000000 C=1 cycles_per_iter=2.128242\n",
        "L=1 M=100 N=10000000 C=2 cycles_per_iter=2.126931\n",
        "L=1 M=100 N=10000000 C=3 cycles_per_iter=2.125129\n",
        "    ...\n",
        "\"\"\""
      ],
      "execution_count": null,
      "outputs": []
    },
    {
      "cell_type": "code",
      "metadata": {
        "kernel": "Python 3 (ipykernel)",
        "nbgrader": {
          "grade": false,
          "grade_id": "c-045",
          "locked": false,
          "schema_version": 3,
          "solution": false,
          "task": false
        }
      },
      "source": [
        "import vis_latency_throughput\n",
        "vis_latency_throughput.vis(DATA_STRING_SIMD)"
      ],
      "execution_count": null,
      "outputs": []
    }
  ],
  "metadata": {
    "celltoolbar": "Create Assignment",
    "kernelspec": {
      "display_name": "SoS",
      "language": "sos",
      "name": "sos"
    },
    "language_info": {
      "codemirror_mode": "sos",
      "file_extension": ".sos",
      "mimetype": "text/x-sos",
      "name": "sos",
      "nbconvert_exporter": "sos_notebook.converter.SoS_Exporter",
      "pygments_lexer": "sos"
    },
    "sos": {
      "kernels": [
        [
          "Bash",
          "bash",
          "bash",
          "",
          "shell"
        ],
        [
          "C",
          "c_kernel",
          "c",
          "",
          ""
        ],
        [
          "Go",
          "gophernotes",
          "go",
          "",
          ""
        ],
        [
          "Julia 1.10.2",
          "julia-1.10",
          "julia",
          "",
          ""
        ],
        [
          "OCaml default",
          "ocaml-jupyter",
          "OCaml",
          "",
          "text/x-ocaml"
        ],
        [
          "Python 3 (ipykernel)",
          "python3",
          "python3",
          "",
          {
            "name": "ipython",
            "version": 3
          }
        ],
        [
          "Rust",
          "rust",
          "rust",
          "",
          ""
        ]
      ],
      "panel": {
        "displayed": true,
        "height": 0
      },
      "version": "0.23.3"
    }
  },
  "nbformat": 4,
  "nbformat_minor": 4
}