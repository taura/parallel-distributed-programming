{
  "cells": [
    {
      "cell_type": "markdown",
      "metadata": {
        "kernel": "SoS",
        "nbgrader": {
          "grade": false,
          "grade_id": "c-001",
          "locked": true,
          "schema_version": 3,
          "solution": false,
          "task": false
        }
      },
      "source": [
        "\n",
        "#  OpenMP Programming Tutorial and Hands-on",
        ""
      ]
    },
    {
      "cell_type": "markdown",
      "metadata": {
        "kernel": "SoS",
        "nbgrader": {
          "grade": false,
          "grade_id": "c-002",
          "locked": false,
          "schema_version": 3,
          "solution": false,
          "task": false
        }
      },
      "source": [
        "\n",
        "Enter your name and student ID.\n",
        "\n",
        " * Name:\n",
        " * Student ID:\n",
        ""
      ]
    },
    {
      "cell_type": "markdown",
      "metadata": {
        "kernel": "SoS",
        "nbgrader": {
          "grade": false,
          "grade_id": "c-003",
          "locked": true,
          "schema_version": 3,
          "solution": false,
          "task": false
        }
      },
      "source": [
        "\n",
        "# 1. OpenMP",
        "\n",
        "* <a href=\"http://openmp.org/\" target=\"_blank\" rel=\"noopener\">OpenMP</a> is the de fact programming model for multicore environment\n",
        "* More recently, it supports GPU offloading\n",
        "* We are going to learn OpenMP both for CPU (multicore) and GPU programming\n",
        "* See <a href=\"https://www.openmp.org/spec-html/5.0/openmp.html\" target=\"_blank\" rel=\"noopener\">the spec</a>\n",
        ""
      ]
    },
    {
      "cell_type": "markdown",
      "metadata": {
        "kernel": "SoS",
        "nbgrader": {
          "grade": false,
          "grade_id": "c-004",
          "locked": true,
          "schema_version": 3,
          "solution": false,
          "task": false
        }
      },
      "source": [
        "# 2. Compilers",
        "\n",
        "* We use [NVIDIA HPC SDK ver. 24.9](https://docs.nvidia.com/hpc-sdk/index.html) (`nvc` and `nvc++`) and [LLVM ver. 18.1.8](https://llvm.org/) (`clang` and `clang++`) for C/C++ compilers, as they support OpenMP GPU offloading"
      ]
    },
    {
      "cell_type": "markdown",
      "metadata": {
        "kernel": "SoS",
        "nbgrader": {
          "grade": false,
          "grade_id": "c-005",
          "locked": true,
          "schema_version": 3,
          "solution": false,
          "task": false
        }
      },
      "source": [
        "## 2-1. Set up NVIDIA CUDA and HPC SDK",
        "\n",
        "Execute this before you use NVIDIA HPC SDK"
      ]
    },
    {
      "cell_type": "code",
      "metadata": {
        "kernel": "Bash",
        "nbgrader": {
          "grade": false,
          "grade_id": "c-006",
          "locked": false,
          "schema_version": 3,
          "solution": false,
          "task": false
        }
      },
      "source": [
        "export PATH=/opt/nvidia/hpc_sdk/Linux_x86_64/24.9/compilers/bin:$PATH\n",
        "export PATH=/usr/local/cuda/bin:$PATH"
      ],
      "execution_count": null,
      "outputs": []
    },
    {
      "cell_type": "markdown",
      "metadata": {
        "kernel": "SoS",
        "nbgrader": {
          "grade": false,
          "grade_id": "c-007",
          "locked": true,
          "schema_version": 3,
          "solution": false,
          "task": false
        }
      },
      "source": [
        "* Check if it works (check if full paths of nvc/nvc++ are shown)\n",
        "* make sure\n",
        "  * `which nvc` and `which nvc++` show `/opt/nvidia/...`\n",
        "  * `which nvcc` shows `/usr/local/...`"
      ]
    },
    {
      "cell_type": "code",
      "metadata": {
        "kernel": "Bash",
        "nbgrader": {
          "grade": false,
          "grade_id": "c-008",
          "locked": false,
          "schema_version": 3,
          "solution": false,
          "task": false
        }
      },
      "source": [
        "which nvc\n",
        "which nvc++\n",
        "which nvcc"
      ],
      "execution_count": null,
      "outputs": []
    },
    {
      "cell_type": "markdown",
      "metadata": {
        "kernel": "SoS",
        "nbgrader": {
          "grade": false,
          "grade_id": "c-009",
          "locked": true,
          "schema_version": 3,
          "solution": false,
          "task": false
        }
      },
      "source": [
        "## 2-2. Set up LLVM",
        "\n",
        "Execute this before you use LLVM"
      ]
    },
    {
      "cell_type": "code",
      "metadata": {
        "kernel": "Bash",
        "nbgrader": {
          "grade": false,
          "grade_id": "c-010",
          "locked": false,
          "schema_version": 3,
          "solution": false,
          "task": false
        }
      },
      "source": [
        "export PATH=/home/share/llvm/bin:$PATH\n",
        "export LD_LIBRARY_PATH=/home/share/llvm/lib:/home/share/llvm/lib/x86_64-unknown-linux-gnu:$LD_LIBRARY_PATH"
      ],
      "execution_count": null,
      "outputs": []
    },
    {
      "cell_type": "markdown",
      "metadata": {
        "kernel": "SoS",
        "nbgrader": {
          "grade": false,
          "grade_id": "c-011",
          "locked": true,
          "schema_version": 3,
          "solution": false,
          "task": false
        }
      },
      "source": [
        "Check if it works (check if full paths of clang/clang++ are shown)"
      ]
    },
    {
      "cell_type": "code",
      "metadata": {
        "kernel": "Bash",
        "nbgrader": {
          "grade": false,
          "grade_id": "c-012",
          "locked": false,
          "schema_version": 3,
          "solution": false,
          "task": false
        }
      },
      "source": [
        "which clang\n",
        "which clang++"
      ],
      "execution_count": null,
      "outputs": []
    },
    {
      "cell_type": "markdown",
      "metadata": {
        "kernel": "SoS",
        "nbgrader": {
          "grade": false,
          "grade_id": "c-013",
          "locked": true,
          "schema_version": 3,
          "solution": false,
          "task": false
        }
      },
      "source": [
        "# 3. Compiling and running OpenMP programs",
        "\n",
        "* Summary\n",
        "  * `clang`/`clang++` : give `-fopenmp` option\n",
        "  * `nvc`/`nvc++` : give `-mp` option\n",
        "  * Set `OMP_NUM_THREADS` environment variable when running the executable"
      ]
    },
    {
      "cell_type": "code",
      "metadata": {
        "kernel": "Python 3 (ipykernel)",
        "nbgrader": {
          "grade": false,
          "grade_id": "c-014",
          "locked": false,
          "schema_version": 3,
          "solution": false,
          "task": false
        }
      },
      "source": [
        "%%writefile omp_hello.c\n",
        "#include <stdio.h>\n",
        "\n",
        "int main() {\n",
        "  printf(\"hello\\n\");\n",
        "#pragma omp parallel\n",
        "  printf(\"world\\n\");\n",
        "  printf(\"good bye\\n\");\n",
        "  return 0;\n",
        "}"
      ],
      "execution_count": null,
      "outputs": []
    },
    {
      "cell_type": "markdown",
      "metadata": {
        "kernel": "SoS",
        "nbgrader": {
          "grade": false,
          "grade_id": "c-015",
          "locked": true,
          "schema_version": 3,
          "solution": false,
          "task": false
        }
      },
      "source": [
        "* Compiling with clang\n",
        "* Add `-fopenmp` option to compile OpenMP programs\n",
        "* Other generally useful options\n",
        "  * `-Wall` warns many suspicous code\n",
        "  * `-O3` maximally optimize code for performance"
      ]
    },
    {
      "cell_type": "code",
      "metadata": {
        "kernel": "Bash",
        "nbgrader": {
          "grade": false,
          "grade_id": "c-016",
          "locked": false,
          "schema_version": 3,
          "solution": false,
          "task": false
        }
      },
      "source": [
        "clang -fopenmp omp_hello.c -o omp_hello_clang"
      ],
      "execution_count": null,
      "outputs": []
    },
    {
      "cell_type": "markdown",
      "metadata": {
        "kernel": "SoS",
        "nbgrader": {
          "grade": false,
          "grade_id": "c-017",
          "locked": true,
          "schema_version": 3,
          "solution": false,
          "task": false
        }
      },
      "source": [
        "* Compiling with nvc\n",
        "* Add `-mp` option to compile OpenMP programs\n",
        "* Other generally useful options\n",
        "  * `-Wall` warns many suspicous code\n",
        "  * `-O4` maximally optimizes code for performance"
      ]
    },
    {
      "cell_type": "code",
      "metadata": {
        "kernel": "Bash",
        "nbgrader": {
          "grade": false,
          "grade_id": "c-018",
          "locked": false,
          "schema_version": 3,
          "solution": false,
          "task": false
        }
      },
      "source": [
        "nvc -mp omp_hello.c -o omp_hello_nvc"
      ],
      "execution_count": null,
      "outputs": []
    },
    {
      "cell_type": "markdown",
      "metadata": {
        "kernel": "SoS",
        "nbgrader": {
          "grade": false,
          "grade_id": "c-019",
          "locked": true,
          "schema_version": 3,
          "solution": false,
          "task": false
        }
      },
      "source": [
        "* Running\n",
        "\n",
        "* Set environment variable `OMP_NUM_THREADS` to the number of threads created by `#pragma omp parallel`"
      ]
    },
    {
      "cell_type": "code",
      "metadata": {
        "kernel": "Bash",
        "nbgrader": {
          "grade": false,
          "grade_id": "c-020",
          "locked": false,
          "schema_version": 3,
          "solution": false,
          "task": false
        }
      },
      "source": [
        "OMP_NUM_THREADS=3 ./omp_hello_clang"
      ],
      "execution_count": null,
      "outputs": []
    },
    {
      "cell_type": "code",
      "metadata": {
        "kernel": "Bash",
        "nbgrader": {
          "grade": false,
          "grade_id": "c-021",
          "locked": false,
          "schema_version": 3,
          "solution": false,
          "task": false
        }
      },
      "source": [
        "OMP_NUM_THREADS=3 ./omp_hello_nvc"
      ],
      "execution_count": null,
      "outputs": []
    },
    {
      "cell_type": "markdown",
      "metadata": {
        "kernel": "SoS",
        "nbgrader": {
          "grade": false,
          "grade_id": "c-022",
          "locked": true,
          "schema_version": 3,
          "solution": false,
          "task": false
        }
      },
      "source": [
        "# <font color=\"green\"> Problem 1 :  Change the number of threads</font>",
        "\n",
        "* Execute them with various numbers of threads and see what happens"
      ]
    },
    {
      "cell_type": "code",
      "metadata": {
        "kernel": "Bash",
        "nbgrader": {
          "grade": true,
          "grade_id": "p-001",
          "locked": false,
          "schema_version": 3,
          "solution": true,
          "task": false,
          "points": 1
        }
      },
      "source": [
        "BEGIN SOLUTION\n",
        "END SOLUTION\n",
        "OMP_NUM_THREADS=3 ./omp_hello_clang"
      ],
      "execution_count": null,
      "outputs": []
    },
    {
      "cell_type": "code",
      "metadata": {
        "kernel": "Bash",
        "nbgrader": {
          "grade": true,
          "grade_id": "p-002",
          "locked": false,
          "schema_version": 3,
          "solution": true,
          "task": false,
          "points": 1
        }
      },
      "source": [
        "BEGIN SOLUTION\n",
        "END SOLUTION\n",
        "OMP_NUM_THREADS=3 ./omp_hello_nvc"
      ],
      "execution_count": null,
      "outputs": []
    },
    {
      "cell_type": "markdown",
      "metadata": {
        "kernel": "SoS",
        "nbgrader": {
          "grade": false,
          "grade_id": "c-023",
          "locked": true,
          "schema_version": 3,
          "solution": false,
          "task": false
        }
      },
      "source": [
        "# 4. `#pragma omp parallel`",
        "\n",
        "* [#pragma omp parallel](https://www.openmp.org/spec-html/5.0/openmpse14.html#x54-800002.6) creates a _team_ of threads, each of which executes the statement below\n",
        "* Note that only the statement that is right below the pragma is executed by the team of threads\n",
        "* Of course, the statement can be a compound statement and/or include a function call, so each thread can actually execute arbitrary number of statements\n",
        "* See [Determining the Number of Threads for a parallel Region](https://www.openmp.org/spec-html/5.0/openmpsu35.html#x55-880002.6.1) for more details on the number of threads created by `#pragma omp parallel`"
      ]
    },
    {
      "cell_type": "markdown",
      "metadata": {
        "kernel": "SoS",
        "nbgrader": {
          "grade": false,
          "grade_id": "c-024",
          "locked": true,
          "schema_version": 3,
          "solution": false,
          "task": false
        }
      },
      "source": [
        "# <font color=\"green\"> Problem 2 :  Executing multiple statements by threads</font>",
        "\n",
        "* Change following program so that both \"world\" and \"good bye\" are printed as many times as the number of threads"
      ]
    },
    {
      "cell_type": "code",
      "metadata": {
        "kernel": "Python 3 (ipykernel)",
        "nbgrader": {
          "grade": true,
          "grade_id": "p-003",
          "locked": false,
          "schema_version": 3,
          "solution": true,
          "task": false,
          "points": 1
        }
      },
      "source": [
        "BEGIN SOLUTION\n",
        "END SOLUTION\n",
        "%%writefile omp_hello.c\n",
        "#include <stdio.h>\n",
        "\n",
        "int main() {\n",
        "  printf(\"hello\\n\");\n",
        "#pragma omp parallel\n",
        "  printf(\"world\\n\");\n",
        "  printf(\"good bye\\n\");\n",
        "  return 0;\n",
        "}"
      ],
      "execution_count": null,
      "outputs": []
    },
    {
      "cell_type": "markdown",
      "metadata": {
        "kernel": "SoS",
        "nbgrader": {
          "grade": false,
          "grade_id": "c-025",
          "locked": true,
          "schema_version": 3,
          "solution": false,
          "task": false
        }
      },
      "source": [
        "* Below, choose `clang` or `nvc` depending on your taste by commenting out the other one\n",
        "* Below, I chose `clang` by commenting out `nvc`"
      ]
    },
    {
      "cell_type": "code",
      "metadata": {
        "kernel": "Bash",
        "nbgrader": {
          "grade": true,
          "grade_id": "p-004",
          "locked": false,
          "schema_version": 3,
          "solution": true,
          "task": false,
          "points": 1
        }
      },
      "source": [
        "BEGIN SOLUTION\n",
        "END SOLUTION\n",
        "clang -fopenmp omp_hello.c -o omp_hello\n",
        "# nvc -mp omp_hello.c -o omp_hello"
      ],
      "execution_count": null,
      "outputs": []
    },
    {
      "cell_type": "code",
      "metadata": {
        "kernel": "Bash",
        "nbgrader": {
          "grade": true,
          "grade_id": "p-005",
          "locked": false,
          "schema_version": 3,
          "solution": true,
          "task": false,
          "points": 1
        }
      },
      "source": [
        "BEGIN SOLUTION\n",
        "END SOLUTION\n",
        "OMP_NUM_THREADS=3 ./omp_hello"
      ],
      "execution_count": null,
      "outputs": []
    },
    {
      "cell_type": "markdown",
      "metadata": {
        "kernel": "SoS",
        "nbgrader": {
          "grade": false,
          "grade_id": "c-026",
          "locked": true,
          "schema_version": 3,
          "solution": false,
          "task": false
        }
      },
      "source": [
        "# 5. `omp_get_num_threads()` and `omp_get_thread_num()`",
        "\n",
        "* When threads are executing a statement with `#pragma omp parallel`,\n",
        "  * they are said to be in a _parallel region_\n",
        "  * they are called a _team_ of threads\n",
        "\n",
        "* While a thread is executing a parallel region,\n",
        "  * [omp_get_num_threads()](https://www.openmp.org/spec-html/5.0/openmpsu111.html#x148-6450003.2.2) returns the number of threads in the team \n",
        "  * [omp_get_thread_num()](https://www.openmp.org/spec-html/5.0/openmpsu113.html#x150-6570003.2.4) returns the unique id of the calling thread within the team (0, 1, ..., the number threads in the team - 1)\n",
        "* You need `#include <omp.h>` to use these functions or any OpenMP API functions, for that matter"
      ]
    },
    {
      "cell_type": "markdown",
      "metadata": {
        "kernel": "SoS",
        "nbgrader": {
          "grade": false,
          "grade_id": "c-027",
          "locked": true,
          "schema_version": 3,
          "solution": false,
          "task": false
        }
      },
      "source": [
        "\n",
        "# <font color=\"green\"> Problem 3 :  Using `omp_get_num_threads()` and `omp_get_thread_num()`</font>",
        "\n",
        "* Change following program so that each thread prints its id in the team and the number of threads in the team, like this.  The exact order of lines may differ.  Strictly speaking, even characters in two lines can be mixed into a single line.\n",
        "\n",
        "```\n",
        "hello\n",
        "0/5 world\n",
        "4/5 world\n",
        "1/5 world\n",
        "3/5 world\n",
        "2/5 world\n",
        "good bye\n",
        "```"
      ]
    },
    {
      "cell_type": "code",
      "metadata": {
        "kernel": "Python 3 (ipykernel)",
        "nbgrader": {
          "grade": true,
          "grade_id": "p-006",
          "locked": false,
          "schema_version": 3,
          "solution": true,
          "task": false,
          "points": 1
        }
      },
      "source": [
        "BEGIN SOLUTION\n",
        "END SOLUTION\n",
        "%%writefile omp_hello_id.c\n",
        "#include <stdio.h>\n",
        "\n",
        "int main() {\n",
        "  printf(\"hello\\n\");\n",
        "#pragma omp parallel\n",
        "  {\n",
        "    printf(\"world\\n\");\n",
        "    printf(\"good bye\\n\");\n",
        "  }\n",
        "  return 0;\n",
        "}"
      ],
      "execution_count": null,
      "outputs": []
    },
    {
      "cell_type": "code",
      "metadata": {
        "kernel": "Bash",
        "nbgrader": {
          "grade": true,
          "grade_id": "p-007",
          "locked": false,
          "schema_version": 3,
          "solution": true,
          "task": false,
          "points": 1
        }
      },
      "source": [
        "BEGIN SOLUTION\n",
        "END SOLUTION\n",
        "clang -fopenmp omp_hello_id.c -o omp_hello_id\n",
        "# nvc -mp omp_hello_id.c -o omp_hello_id"
      ],
      "execution_count": null,
      "outputs": []
    },
    {
      "cell_type": "code",
      "metadata": {
        "kernel": "Bash",
        "nbgrader": {
          "grade": true,
          "grade_id": "p-008",
          "locked": false,
          "schema_version": 3,
          "solution": true,
          "task": false,
          "points": 1
        }
      },
      "source": [
        "BEGIN SOLUTION\n",
        "END SOLUTION\n",
        "OMP_NUM_THREADS=3 ./omp_hello_id"
      ],
      "execution_count": null,
      "outputs": []
    },
    {
      "cell_type": "markdown",
      "metadata": {
        "kernel": "SoS",
        "nbgrader": {
          "grade": false,
          "grade_id": "c-028",
          "locked": true,
          "schema_version": 3,
          "solution": false,
          "task": false
        }
      },
      "source": [
        "# 6. `#pragma omp for`",
        "\n",
        "* `#pragma omp parallel` merely creates a team of threads executing the same statement\n",
        "* In this sense, `#pragma omp parallel` alone cannot make a program run faster with multiple cores\n",
        "* A program can be made faster only when you _divide_ the work among threads (work-sharing)\n",
        "* `#pragma omp for` lets you divide iterations of a loop into threads created by `#pragma omp parallel`"
      ]
    },
    {
      "cell_type": "markdown",
      "metadata": {
        "kernel": "SoS",
        "nbgrader": {
          "grade": false,
          "grade_id": "c-029",
          "locked": true,
          "schema_version": 3,
          "solution": false,
          "task": false
        }
      },
      "source": [
        "# <font color=\"green\"> Problem 4 :  How does `#pragma omp for` divide iterations to threads?</font>",
        "\n",
        "* Execute the following cell and observe which iteration is executed by which thread\n",
        "* Based on the observation, change the number of iterations and threads and predict the mapping between iterations and threads"
      ]
    },
    {
      "cell_type": "code",
      "metadata": {
        "kernel": "Python 3 (ipykernel)",
        "nbgrader": {
          "grade": true,
          "grade_id": "p-009",
          "locked": false,
          "schema_version": 3,
          "solution": true,
          "task": false,
          "points": 1
        }
      },
      "source": [
        "BEGIN SOLUTION\n",
        "END SOLUTION\n",
        "%%writefile omp_for.c\n",
        "#include <stdio.h>\n",
        "#include <unistd.h>\n",
        "#include <omp.h>\n",
        "\n",
        "int main() {\n",
        "#pragma omp parallel\n",
        "  {\n",
        "    printf(\"I am thread %d in a team of %d threads\\n\",\n",
        "           omp_get_thread_num(), omp_get_num_threads());\n",
        "#pragma omp for\n",
        "    for (int i = 0; i < 24; i++) {\n",
        "      usleep(100 * 1000 * i);\n",
        "      printf(\"iteration %d executed by thread %d\\n\", i, omp_get_thread_num());\n",
        "      fflush(stdout);\n",
        "    }\n",
        "  }\n",
        "  return 0;\n",
        "}"
      ],
      "execution_count": null,
      "outputs": []
    },
    {
      "cell_type": "code",
      "metadata": {
        "kernel": "Bash",
        "nbgrader": {
          "grade": true,
          "grade_id": "p-010",
          "locked": false,
          "schema_version": 3,
          "solution": true,
          "task": false,
          "points": 1
        }
      },
      "source": [
        "BEGIN SOLUTION\n",
        "END SOLUTION\n",
        "clang -fopenmp omp_for.c -o omp_for\n",
        "# nvc -mp omp_for.c -o omp_for"
      ],
      "execution_count": null,
      "outputs": []
    },
    {
      "cell_type": "code",
      "metadata": {
        "kernel": "Bash",
        "nbgrader": {
          "grade": true,
          "grade_id": "p-011",
          "locked": false,
          "schema_version": 3,
          "solution": true,
          "task": false,
          "points": 1
        }
      },
      "source": [
        "BEGIN SOLUTION\n",
        "END SOLUTION\n",
        "OMP_NUM_THREADS=4 ./omp_for"
      ],
      "execution_count": null,
      "outputs": []
    },
    {
      "cell_type": "markdown",
      "metadata": {
        "kernel": "SoS",
        "nbgrader": {
          "grade": false,
          "grade_id": "c-030",
          "locked": true,
          "schema_version": 3,
          "solution": false,
          "task": false
        }
      },
      "source": [
        "## 6-1. for loops allowed by `#pragma omp for`",
        "\n",
        "* There is a severe syntax restriction on the kind of for loops `#pragma omp for` can apply for\n",
        "* See [Canonical Loop Form](https://www.openmp.org/spec-html/5.0/openmpsu40.html#x63-1260002.9.1) for the spec\n",
        "* In short, it should look like `for (var = _init_; var < _limit_; var += _inc_)` where _init_, _limit_, and _inc_ are all loop-invariant (do not change throughout the loop)\n",
        "\n",
        "## 6-2. Combined pragma (parallel + for)",
        "\n",
        "* `#pragma omp parallel` and `#pragma omp for` are often used together\n",
        "* If `#pragma omp for` immediately follows `#pragma omp parallel`, they can be combined into a single pragma `#pragma omp parallel for`"
      ]
    },
    {
      "cell_type": "code",
      "metadata": {
        "kernel": "Python 3 (ipykernel)",
        "nbgrader": {
          "grade": false,
          "grade_id": "c-031",
          "locked": false,
          "schema_version": 3,
          "solution": false,
          "task": false
        }
      },
      "source": [
        "%%writefile omp_parallel_for.c\n",
        "#include <stdio.h>\n",
        "#include <unistd.h>\n",
        "#include <omp.h>\n",
        "\n",
        "int main() {\n",
        "  double t0 = omp_get_wtime();\n",
        "#pragma omp parallel for\n",
        "  for (int i = 0; i < 24; i++) {\n",
        "    usleep(100 * 1000 * i);     /* sleep 100 x i milliseconds */\n",
        "    printf(\"iteration %d executed by thread %d\\n\", i, omp_get_thread_num());\n",
        "    fflush(stdout);\n",
        "  }\n",
        "  double t1 = omp_get_wtime();\n",
        "  printf(\"%f sec\\n\", t1 - t0);\n",
        "  return 0;\n",
        "}"
      ],
      "execution_count": null,
      "outputs": []
    },
    {
      "cell_type": "code",
      "metadata": {
        "kernel": "Bash",
        "nbgrader": {
          "grade": false,
          "grade_id": "c-032",
          "locked": false,
          "schema_version": 3,
          "solution": false,
          "task": false
        }
      },
      "source": [
        "clang -fopenmp omp_parallel_for.c -o omp_parallel_for\n",
        "# nvc -mp omp_parallel_for.c -o omp_parallel_for"
      ],
      "execution_count": null,
      "outputs": []
    },
    {
      "cell_type": "code",
      "metadata": {
        "kernel": "Bash",
        "nbgrader": {
          "grade": false,
          "grade_id": "c-033",
          "locked": false,
          "schema_version": 3,
          "solution": false,
          "task": false
        }
      },
      "source": [
        "OMP_NUM_THREADS=4 ./omp_parallel_for"
      ],
      "execution_count": null,
      "outputs": []
    },
    {
      "cell_type": "markdown",
      "metadata": {
        "kernel": "SoS",
        "nbgrader": {
          "grade": false,
          "grade_id": "c-034",
          "locked": true,
          "schema_version": 3,
          "solution": false,
          "task": false
        }
      },
      "source": [
        "# 7. Scheduling a work-sharing for loop",
        "\n",
        "* As you witnessed, the default scheduling policy in our environment (may be implementation dependent) seems static scheduling (assign roughly the same number of contiguous iterations to each thread)\n",
        "* Is it enough? Clearly, it does not do a good job when iterations take a different amount of time\n",
        "* You can change the policy by [schedule clause](https://www.openmp.org/spec-html/5.0/openmpsu41.html#x64-1290002.9.2)\n",
        "\n",
        "## 7-1. Visualizing scheduling",
        "\n",
        "* The program below executes the function `iter_fun`\n",
        "```\n",
        "#pragma omp parallel for\n",
        "  for (long i = 0; i < L; i++) {\n",
        "    iter_fun(a, b, i, M, N, R, T);\n",
        "  }\n",
        "```\n",
        "\n",
        "* `iter_fun(a, b, i, M, N, R, T)` repeats x = a x + b many (M * N) times and record time every N iterations"
      ]
    },
    {
      "cell_type": "code",
      "metadata": {
        "kernel": "Python 3 (ipykernel)",
        "nbgrader": {
          "grade": true,
          "grade_id": "p-012",
          "locked": false,
          "schema_version": 3,
          "solution": true,
          "task": false,
          "points": 1
        }
      },
      "source": [
        "BEGIN SOLUTION\n",
        "END SOLUTION\n",
        "%%writefile omp_sched_rec.c\n",
        "#include <err.h>\n",
        "#include <sched.h>\n",
        "#include <stdio.h>\n",
        "#include <stdlib.h>\n",
        "#include <time.h>\n",
        "#include <unistd.h>\n",
        "#include <omp.h>\n",
        "\n",
        "long cur_time_ns() {\n",
        "  struct timespec ts[1];\n",
        "  if (clock_gettime(CLOCK_REALTIME, ts) == -1) err(1, \"clock_gettime\");\n",
        "  return ts->tv_sec * 1000000000L + ts->tv_nsec;\n",
        "}\n",
        "\n",
        "typedef struct {\n",
        "  double x;\n",
        "  int thread[2];\n",
        "  int cpu[2];\n",
        "} record_t;\n",
        "\n",
        "/* the function for an iteration\n",
        "   perform\n",
        "   x = a x + b\n",
        "   (M * N) times and record current time\n",
        "   every N iterations to T.\n",
        "   record thread and cpu to R.\n",
        " */\n",
        "void iter_fun(double a, double b, long i, long M, long N,\n",
        "              record_t * R, long * T) {\n",
        "  // initial value (not important)\n",
        "  double x = i;\n",
        "  // record in T[i * M] ... T[(i+1) * M - 1]\n",
        "  T = &T[i * M];\n",
        "  // record starting thread/cpu\n",
        "  R[i].thread[0] = omp_get_thread_num();\n",
        "  R[i].cpu[0] = sched_getcpu();\n",
        "  // repeat a x + b many times.\n",
        "  // record time every N iterations\n",
        "  for (long j = 0; j < M; j++) {\n",
        "    T[j] = cur_time_ns();\n",
        "    for (long k = 0; k < N; k++) {\n",
        "      x = a * x + b;\n",
        "    }\n",
        "  }\n",
        "  // record ending SM (must be = thread0)\n",
        "  R[i].thread[1] = omp_get_thread_num();\n",
        "  R[i].cpu[1] = sched_getcpu();\n",
        "  // record result, just so that the computation is not\n",
        "  // eliminated by the compiler\n",
        "  R[i].x = x;\n",
        "}\n",
        "\n",
        "void dump(record_t * R, long * T, long L, long M, long t0) {\n",
        "  long k = 0;\n",
        "  for (long i = 0; i < L; i++) {\n",
        "    printf(\"i=%ld x=%f thread0=%d cpu0=%d thread1=%d cpu1=%d\",\n",
        "           i, R[i].x, R[i].thread[0], R[i].cpu[0], R[i].thread[1], R[i].cpu[1]);\n",
        "    for (long j = 0; j < M; j++) {\n",
        "      printf(\" %ld\", T[k] - t0);\n",
        "      k++;\n",
        "    }\n",
        "    printf(\"\\n\");\n",
        "  }\n",
        "}\n",
        "\n",
        "int main(int argc, char ** argv) {\n",
        "  int idx = 1;\n",
        "  long L   = (idx < argc ? atol(argv[idx]) : 100);  idx++;\n",
        "  long M   = (idx < argc ? atol(argv[idx]) : 100);  idx++;\n",
        "  long N   = (idx < argc ? atol(argv[idx]) : 100);  idx++;\n",
        "  double a = (idx < argc ? atof(argv[idx]) : 0.99); idx++;\n",
        "  double b = (idx < argc ? atof(argv[idx]) : 1.00); idx++;\n",
        "  record_t * R = (record_t *)calloc(L, sizeof(record_t));\n",
        "  long * T = (long *)calloc(L * M, sizeof(long));\n",
        "  long t0 = cur_time_ns();\n",
        "#pragma omp parallel for\n",
        "  for (long i = 0; i < L; i++) {\n",
        "    iter_fun(a, b, i, M, N, R, T);\n",
        "  }\n",
        "  long t1 = cur_time_ns();\n",
        "  printf(\"%ld nsec\\n\", t1 - t0);\n",
        "  dump(R, T, L, M, t0);\n",
        "  return 0;\n",
        "}"
      ],
      "execution_count": null,
      "outputs": []
    },
    {
      "cell_type": "code",
      "metadata": {
        "kernel": "Bash",
        "nbgrader": {
          "grade": true,
          "grade_id": "p-013",
          "locked": false,
          "schema_version": 3,
          "solution": true,
          "task": false,
          "points": 1
        }
      },
      "source": [
        "BEGIN SOLUTION\n",
        "END SOLUTION\n",
        "clang -fopenmp -D_GNU_SOURCE omp_sched_rec.c -o omp_sched_rec\n",
        "# nvc -mp omp_sched_rec.c -o omp_sched_rec"
      ],
      "execution_count": null,
      "outputs": []
    },
    {
      "cell_type": "code",
      "metadata": {
        "kernel": "Bash",
        "nbgrader": {
          "grade": true,
          "grade_id": "p-014",
          "locked": false,
          "schema_version": 3,
          "solution": true,
          "task": false,
          "points": 1
        }
      },
      "source": [
        "BEGIN SOLUTION\n",
        "END SOLUTION\n",
        "OMP_NUM_THREADS=4 ./omp_sched_rec > a.dat"
      ],
      "execution_count": null,
      "outputs": []
    },
    {
      "cell_type": "markdown",
      "metadata": {
        "kernel": "SoS",
        "nbgrader": {
          "grade": false,
          "grade_id": "c-035",
          "locked": true,
          "schema_version": 3,
          "solution": false,
          "task": false
        }
      },
      "source": [
        "* Execute the following cell to visialize it\n",
        "* In the graph,\n",
        "  * horizontal axis is the time from the start in nanosecond\n",
        "  * vertical axis is the iteration number\n",
        "  * the color represents the thread that executed the iteration\n",
        ""
      ]
    },
    {
      "cell_type": "code",
      "metadata": {
        "kernel": "Python 3 (ipykernel)",
        "nbgrader": {
          "grade": true,
          "grade_id": "p-015",
          "locked": false,
          "schema_version": 3,
          "solution": true,
          "task": false,
          "points": 1
        }
      },
      "source": [
        "BEGIN SOLUTION\n",
        "END SOLUTION\n",
        "import sched_vis\n",
        "sched_vis.sched_plt([\"a.dat\"])\n",
        "# sched_vis.sched_plt([\"a.dat\"], start_t=1.5e7, end_t=2.0e7)"
      ],
      "execution_count": null,
      "outputs": []
    },
    {
      "cell_type": "markdown",
      "metadata": {
        "kernel": "SoS",
        "nbgrader": {
          "grade": false,
          "grade_id": "c-036",
          "locked": true,
          "schema_version": 3,
          "solution": false,
          "task": false
        }
      },
      "source": [
        "# <font color=\"green\"> Problem 5 :  Understanding scheduling by visualization</font>",
        "\n",
        "* Add `schedule` clause to the program (`schedule(runtime)` allows you to set the schedule in the command line)\n",
        "* Change the number of threads and schedule and observe how iterations are executed\n",
        "* Set the number of threads very large (higher than the physical number of cores) and see what happens\n",
        "  * Hint : you can get the number of cores by `nproc` command \n",
        "* In the above program, each iteration performs exactly the same amount of computation (i.e., x = a x + b (M * N) times), thus takes almost exactly the same time\n",
        "* See what happens if this is not the case\n",
        "  * Specifically, make iteration `i` repeats x = a x + b (M * (i * N)) times (i.e., change the inner loop in `iter_fun` to `for (long k = 0; k < i * N; k++) { ...`)\n",
        "\n",
        "* `sched_plt` function below takes optional parameters `start_t` and `end_t` specifying the horizontal range to display\n",
        "* If you zoom _very_ closely to a particular point, you can see individual points and intervals between them, from which you can deduce how long it takes to perform `x = a x + b` once"
      ]
    },
    {
      "cell_type": "code",
      "metadata": {
        "kernel": "Bash",
        "nbgrader": {
          "grade": false,
          "grade_id": "c-037",
          "locked": false,
          "schema_version": 3,
          "solution": false,
          "task": false
        }
      },
      "source": [
        "nproc"
      ],
      "execution_count": null,
      "outputs": []
    },
    {
      "cell_type": "markdown",
      "metadata": {
        "kernel": "SoS",
        "nbgrader": {
          "grade": false,
          "grade_id": "c-038",
          "locked": true,
          "schema_version": 3,
          "solution": false,
          "task": false
        }
      },
      "source": [
        "# <font color=\"green\"> Problem 6 :  Specifying the scheduling policy by schedule clause</font>",
        "\n",
        "* In the following (artificial) loop, iteration _i_ roughly sleeps for (100 x _i_) milliseconds and this is almost exactly the time it takes\n",
        "1. predict the executing time of the parallel for loop with the default (static) scheduling policy\n",
        "1. vary the scheduling policy and reason about their execution times\n",
        ""
      ]
    },
    {
      "cell_type": "code",
      "metadata": {
        "kernel": "Python 3 (ipykernel)",
        "nbgrader": {
          "grade": true,
          "grade_id": "p-016",
          "locked": false,
          "schema_version": 3,
          "solution": true,
          "task": false,
          "points": 1
        }
      },
      "source": [
        "BEGIN SOLUTION\n",
        "END SOLUTION\n",
        "%%writefile omp_schedule.c\n",
        "#include <stdio.h>\n",
        "#include <unistd.h>\n",
        "#include <omp.h>\n",
        "\n",
        "int main() {\n",
        "  double t0 = omp_get_wtime();\n",
        "  /* ----- add schedule clause below ----- */\n",
        "#pragma omp parallel for\n",
        "  for (int i = 0; i < 12; i++) {\n",
        "    usleep(100 * 1000 * i);     /* sleep 100 x i milliseconds */\n",
        "    printf(\"iteration %d executed by thread %d\\n\", i, omp_get_thread_num());\n",
        "    fflush(stdout);\n",
        "  }\n",
        "  double t1 = omp_get_wtime();\n",
        "  printf(\"%f sec\\n\", t1 - t0);\n",
        "  return 0;\n",
        "}"
      ],
      "execution_count": null,
      "outputs": []
    },
    {
      "cell_type": "code",
      "metadata": {
        "kernel": "Bash",
        "nbgrader": {
          "grade": true,
          "grade_id": "p-017",
          "locked": false,
          "schema_version": 3,
          "solution": true,
          "task": false,
          "points": 1
        }
      },
      "source": [
        "BEGIN SOLUTION\n",
        "END SOLUTION\n",
        "clang -fopenmp omp_schedule.c -o omp_schedule\n",
        "# nvc -mp omp_schedule.c -o omp_schedule"
      ],
      "execution_count": null,
      "outputs": []
    },
    {
      "cell_type": "code",
      "metadata": {
        "kernel": "Bash",
        "nbgrader": {
          "grade": true,
          "grade_id": "p-018",
          "locked": false,
          "schema_version": 3,
          "solution": true,
          "task": false,
          "points": 1
        }
      },
      "source": [
        "BEGIN SOLUTION\n",
        "END SOLUTION\n",
        "OMP_NUM_THREADS=4 ./omp_schedule"
      ],
      "execution_count": null,
      "outputs": []
    },
    {
      "cell_type": "markdown",
      "metadata": {
        "kernel": "SoS",
        "nbgrader": {
          "grade": false,
          "grade_id": "c-039",
          "locked": true,
          "schema_version": 3,
          "solution": false,
          "task": false
        }
      },
      "source": [
        "* Predict the execution time with the default (static) policy\n",
        "* Predict the execution time with the dynamic policy?\n",
        "* Compare them with what you observed\n",
        "\n",
        "* Explain your reasoning below"
      ]
    },
    {
      "cell_type": "markdown",
      "metadata": {
        "kernel": "SoS",
        "nbgrader": {
          "grade": true,
          "grade_id": "p-019",
          "locked": false,
          "schema_version": 3,
          "solution": true,
          "task": false,
          "points": 1
        }
      },
      "source": [
        "BEGIN SOLUTION\n",
        "END SOLUTION\n",
        ""
      ]
    },
    {
      "cell_type": "markdown",
      "metadata": {
        "kernel": "SoS",
        "nbgrader": {
          "grade": false,
          "grade_id": "c-040",
          "locked": true,
          "schema_version": 3,
          "solution": false,
          "task": false
        }
      },
      "source": [
        "# 8. Collapse clause",
        "\n",
        "* `#pragma omp for` can specify a [collapse clause](https://www.openmp.org/spec-html/5.0/openmpsu41.html#x64-1290002.9.2) to apply work-sharing for a limited type of nested loops\n",
        "* With a `#pragma omp for clause(2)`, OpenMP considers the doubly-nested loop that comes after this pragma the subject of work-sharing (i.e., distribute iterations of the doubly-nested loop to threads); you must have a _perfectly-nested_, rectangular doubly-nested loop after this clause\n",
        "* A perfectly-nested loop is a nested loop whose outer loops (all loops except for the innermost one) do not have any statement except the inner loop. e.g.\n",
        "```\n",
        "for (i = 0; i < 100; i++) {\n",
        "  for (j = 0; j < 100; j++) {\n",
        "    S(i,j);\n",
        "  }\n",
        "}\n",
        "```\n",
        "is perfectly nested whereas\n",
        "```\n",
        "for (i = 0; i < 100; i++) {\n",
        "  S;\n",
        "  for (j = 0; j < 100; j++) {\n",
        "    T;\n",
        "  }\n",
        "}\n",
        "```\n",
        "is not.  \n",
        "* A perfectly nested loop is conceptually a flat loop with a mechanical transformation.\n",
        "```\n",
        "for (ij = 0; ij < 100 * 100; ij++) {\n",
        "  i = ij / 100;\n",
        "  j = ij % 100;\n",
        "  S(i,j);\n",
        "}\n",
        "```\n",
        "* A rectangular loop is a loop whose iteration counts of inner loops never depend on outer loops.  For example,\n",
        "```\n",
        "for (i = 0; i < 100; i++) {\n",
        "  for (j = 0; j < i; j++) {\n",
        "    S(i,j);\n",
        "  }\n",
        "}\n",
        "```\n",
        "is not a rectangular loop.\n",
        "* Generally speaking, OpenMP `#pragma omp parallel` + `#pragma omp for` cannot handle nested parallelism very well, but collapse clause alleviates the problem to some extent\n",
        "* Consider using tasks below for more general form of nested parallelism"
      ]
    },
    {
      "cell_type": "markdown",
      "metadata": {
        "kernel": "SoS",
        "nbgrader": {
          "grade": false,
          "grade_id": "c-041",
          "locked": true,
          "schema_version": 3,
          "solution": false,
          "task": false
        }
      },
      "source": [
        "# <font color=\"green\"> Problem 7 :  Apply collapse and schedule</font>",
        "\n",
        "* Apply collapse and schedule to the following loop\n",
        "* Trick: write `schedule(runtime)` and you can change the scheduling policy at execution time by setting environment variable `OMP_SCHEDULE=` in the command line. See [OMP_SCHEDULE environment variable](https://www.openmp.org/spec-html/5.0/openmpsu41.html#x64-1370002.9.2.1) for details\n",
        "* Reason about the execution time of various schedule policies and with/without collapse"
      ]
    },
    {
      "cell_type": "code",
      "metadata": {
        "kernel": "Python 3 (ipykernel)",
        "nbgrader": {
          "grade": true,
          "grade_id": "p-020",
          "locked": false,
          "schema_version": 3,
          "solution": true,
          "task": false,
          "points": 1
        }
      },
      "source": [
        "BEGIN SOLUTION\n",
        "END SOLUTION\n",
        "%%writefile omp_collapse.c\n",
        "#include <stdio.h>\n",
        "#include <unistd.h>\n",
        "#include <omp.h>\n",
        "\n",
        "int main() {\n",
        "  double t0 = omp_get_wtime();\n",
        "  /* apply collapse and schedule */\n",
        "#pragma omp parallel for\n",
        "  for (int i = 0; i < 5; i++) {\n",
        "    for (int j = 0; j < 5; j++) {\n",
        "      usleep(100 * 1000 * (i + j));\n",
        "      printf(\"iteration (%d, %d) executed by thread %d\\n\", i, j, omp_get_thread_num());\n",
        "      fflush(stdout);\n",
        "    }\n",
        "  }\n",
        "  double t1 = omp_get_wtime();\n",
        "  printf(\"%f sec\\n\", t1 - t0);\n",
        "  return 0;\n",
        "}\n",
        "\n",
        "\n",
        ""
      ],
      "execution_count": null,
      "outputs": []
    },
    {
      "cell_type": "code",
      "metadata": {
        "kernel": "Bash",
        "nbgrader": {
          "grade": true,
          "grade_id": "p-021",
          "locked": false,
          "schema_version": 3,
          "solution": true,
          "task": false,
          "points": 1
        }
      },
      "source": [
        "BEGIN SOLUTION\n",
        "END SOLUTION\n",
        "clang -fopenmp omp_collapse.c -o omp_collapse\n",
        "# nvc -mp omp_collapse.c -o omp_collapse"
      ],
      "execution_count": null,
      "outputs": []
    },
    {
      "cell_type": "code",
      "metadata": {
        "kernel": "Bash",
        "nbgrader": {
          "grade": true,
          "grade_id": "p-022",
          "locked": false,
          "schema_version": 3,
          "solution": true,
          "task": false,
          "points": 1
        }
      },
      "source": [
        "BEGIN SOLUTION\n",
        "END SOLUTION\n",
        "OMP_NUM_THREADS=3 ./omp_collapse"
      ],
      "execution_count": null,
      "outputs": []
    },
    {
      "cell_type": "markdown",
      "metadata": {
        "kernel": "SoS",
        "nbgrader": {
          "grade": false,
          "grade_id": "c-042",
          "locked": true,
          "schema_version": 3,
          "solution": false,
          "task": false
        }
      },
      "source": [
        "# 9. Task parallelism",
        "\n",
        "* Task is a more general mechanism to extract parallelism and distribute computation (called a task) _dynamically_ to threads in a team created by `#pragma omp parallel`\n",
        "* A thread can create a task at any point in the execution of a parallel region and they are dispatched to available threads at runtime\n",
        "* As a thread can create a task at any point, a task can create another task. that is, parallelism can be arbitrarily nested and the number of tasks can be difficult to predict (unlike the number of iterations of a for loop)\n",
        "* A common pattern\n",
        "  1. enter a parallel region by `#pragma omp parallel`\n",
        "  1. ensure the statement is executed by only a single (root) thread with [#pragma omp master](https://www.openmp.org/spec-html/5.0/openmpse24.html#x118-4380002.16)\n",
        "  1. create tasks at any point by [#pragma omp task](https://www.openmp.org/spec-html/5.0/openmpsu46.html#x70-2000002.10.1)\n",
        "  1. a task waits for tasks it created to finish by [#pragma omp taskwait](https://www.openmp.org/spec-html/5.0/openmpsu93.html#x124-4690002.17.5)\n",
        "\n",
        "* Let's see the effect of `#pragma omp master` first (without creating any task)"
      ]
    },
    {
      "cell_type": "code",
      "metadata": {
        "kernel": "Python 3 (ipykernel)",
        "nbgrader": {
          "grade": false,
          "grade_id": "c-043",
          "locked": false,
          "schema_version": 3,
          "solution": false,
          "task": false
        }
      },
      "source": [
        "%%writefile omp_master.c\n",
        "#include <stdio.h>\n",
        "#include <unistd.h>\n",
        "#include <omp.h>\n",
        "\n",
        "int main() {\n",
        "  double t0 = omp_get_wtime();\n",
        "#pragma omp parallel\n",
        "  {\n",
        "#pragma omp master\n",
        "    printf(\"inside the master pragma: I am thread %d of a team of %d threads\\n\",\n",
        "           omp_get_thread_num(), omp_get_num_threads());\n",
        "    printf(\"out of the master pragma: I am thread %d of a team of %d threads\\n\",\n",
        "           omp_get_thread_num(), omp_get_num_threads());\n",
        "  }\n",
        "  double t1 = omp_get_wtime();\n",
        "  printf(\"%f sec\\n\", t1 - t0);\n",
        "  return 0;\n",
        "}"
      ],
      "execution_count": null,
      "outputs": []
    },
    {
      "cell_type": "code",
      "metadata": {
        "kernel": "Bash",
        "nbgrader": {
          "grade": false,
          "grade_id": "c-044",
          "locked": false,
          "schema_version": 3,
          "solution": false,
          "task": false
        }
      },
      "source": [
        "clang -fopenmp omp_master.c -o omp_master\n",
        "# nvc -mp omp_master.c -o omp_master"
      ],
      "execution_count": null,
      "outputs": []
    },
    {
      "cell_type": "code",
      "metadata": {
        "kernel": "Bash",
        "nbgrader": {
          "grade": false,
          "grade_id": "c-045",
          "locked": false,
          "schema_version": 3,
          "solution": false,
          "task": false
        }
      },
      "source": [
        "OMP_NUM_THREADS=3 ./omp_master"
      ],
      "execution_count": null,
      "outputs": []
    },
    {
      "cell_type": "markdown",
      "metadata": {
        "kernel": "SoS",
        "nbgrader": {
          "grade": false,
          "grade_id": "c-046",
          "locked": true,
          "schema_version": 3,
          "solution": false,
          "task": false
        }
      },
      "source": [
        "* Since this is a common idiom, they can be combined into one pragma (`#pragma omp parallel master`)\n",
        "  * <font color=red>This feature is not supported by NVIDIA compiler, however</font>\n",
        "* The program below creates a parallel region whose entire region is executed only by the master and thus does not serve any useful purpose but mere a demonstration of the feature"
      ]
    },
    {
      "cell_type": "code",
      "metadata": {
        "kernel": "Python 3 (ipykernel)",
        "nbgrader": {
          "grade": false,
          "grade_id": "c-047",
          "locked": false,
          "schema_version": 3,
          "solution": false,
          "task": false
        }
      },
      "source": [
        "%%writefile omp_parallel_master.c\n",
        "#include <stdio.h>\n",
        "#include <unistd.h>\n",
        "#include <omp.h>\n",
        "\n",
        "int main() {\n",
        "  double t0 = omp_get_wtime();\n",
        "#pragma omp parallel master\n",
        "  printf(\"I am thread %d of a team of %d threads\\n\",\n",
        "         omp_get_thread_num(), omp_get_num_threads());\n",
        "  double t1 = omp_get_wtime();\n",
        "  printf(\"%f sec\\n\", t1 - t0);\n",
        "  return 0;\n",
        "}"
      ],
      "execution_count": null,
      "outputs": []
    },
    {
      "cell_type": "code",
      "metadata": {
        "kernel": "Bash",
        "nbgrader": {
          "grade": false,
          "grade_id": "c-048",
          "locked": false,
          "schema_version": 3,
          "solution": false,
          "task": false
        }
      },
      "source": [
        "clang -fopenmp omp_parallel_master.c -o omp_parallel_master\n",
        "# NVIDIA compiler does not support this program\n",
        "# nvc -mp omp_parallel_master.c -o omp_parallel_master"
      ],
      "execution_count": null,
      "outputs": []
    },
    {
      "cell_type": "code",
      "metadata": {
        "kernel": "Bash",
        "nbgrader": {
          "grade": false,
          "grade_id": "c-049",
          "locked": false,
          "schema_version": 3,
          "solution": false,
          "task": false
        }
      },
      "source": [
        "OMP_NUM_THREADS=3 ./omp_parallel_master"
      ],
      "execution_count": null,
      "outputs": []
    },
    {
      "cell_type": "markdown",
      "metadata": {
        "kernel": "SoS",
        "nbgrader": {
          "grade": false,
          "grade_id": "c-050",
          "locked": true,
          "schema_version": 3,
          "solution": false,
          "task": false
        }
      },
      "source": [
        "* Let's create a few tasks now"
      ]
    },
    {
      "cell_type": "code",
      "metadata": {
        "kernel": "Python 3 (ipykernel)",
        "nbgrader": {
          "grade": false,
          "grade_id": "c-051",
          "locked": false,
          "schema_version": 3,
          "solution": false,
          "task": false
        }
      },
      "source": [
        "%%writefile omp_task.c\n",
        "#include <stdio.h>\n",
        "#include <unistd.h>\n",
        "#include <omp.h>\n",
        "\n",
        "int main() {\n",
        "  double t0 = omp_get_wtime();\n",
        "#pragma omp parallel\n",
        "#pragma omp master\n",
        "  {\n",
        "    printf(\"I am thread %d of a team of %d threads\\n\",\n",
        "           omp_get_thread_num(), omp_get_num_threads());\n",
        "#pragma omp task\n",
        "    {\n",
        "      printf(\"task A executed by %d of %d\\n\", omp_get_thread_num(), omp_get_num_threads());\n",
        "      usleep(500 * 1000);\n",
        "    }\n",
        "#pragma omp task\n",
        "    {\n",
        "      printf(\"task B executed by %d of %d\\n\", omp_get_thread_num(), omp_get_num_threads());\n",
        "      usleep(1000 * 1000);\n",
        "    }\n",
        "#pragma omp taskwait\n",
        "    printf(\"two tasks done, executed by %d of %d\\n\", omp_get_thread_num(), omp_get_num_threads());\n",
        "  }\n",
        "  double t1 = omp_get_wtime();\n",
        "  printf(\"%f sec\\n\", t1 - t0);\n",
        "  return 0;\n",
        "}"
      ],
      "execution_count": null,
      "outputs": []
    },
    {
      "cell_type": "code",
      "metadata": {
        "kernel": "Bash",
        "nbgrader": {
          "grade": false,
          "grade_id": "c-052",
          "locked": false,
          "schema_version": 3,
          "solution": false,
          "task": false
        }
      },
      "source": [
        "clang -fopenmp omp_task.c -o omp_task\n",
        "# nvc -mp omp_task.c -o omp_task"
      ],
      "execution_count": null,
      "outputs": []
    },
    {
      "cell_type": "code",
      "metadata": {
        "kernel": "Bash",
        "nbgrader": {
          "grade": false,
          "grade_id": "c-053",
          "locked": false,
          "schema_version": 3,
          "solution": false,
          "task": false
        }
      },
      "source": [
        "OMP_NUM_THREADS=3 ./omp_task"
      ],
      "execution_count": null,
      "outputs": []
    },
    {
      "cell_type": "markdown",
      "metadata": {
        "kernel": "SoS",
        "nbgrader": {
          "grade": false,
          "grade_id": "c-054",
          "locked": true,
          "schema_version": 3,
          "solution": false,
          "task": false
        }
      },
      "source": [
        "* Tasks are particularly good at parallel recursions, as the following program demonstrates\n",
        "* This is a common pattern that appears in many algorithms, particularly divide-and-conquer algorithms"
      ]
    },
    {
      "cell_type": "code",
      "metadata": {
        "kernel": "Python 3 (ipykernel)",
        "nbgrader": {
          "grade": false,
          "grade_id": "c-055",
          "locked": false,
          "schema_version": 3,
          "solution": false,
          "task": false
        }
      },
      "source": [
        "%%writefile omp_rec_task.c\n",
        "#include <stdio.h>\n",
        "#include <unistd.h>\n",
        "#include <omp.h>\n",
        "\n",
        "void recursive_tasks(int n, int tid) {\n",
        "  printf(\"task %d by %d of %d\\n\",\n",
        "         tid, omp_get_thread_num(), omp_get_num_threads());\n",
        "  fflush(stdout);\n",
        "  if (n == 0) {\n",
        "    usleep(300 * 1000);\n",
        "  } else {\n",
        "#pragma omp task\n",
        "    recursive_tasks(n - 1, 2 * tid + 1);\n",
        "#pragma omp task\n",
        "    recursive_tasks(n - 1, 2 * tid + 2);\n",
        "#pragma omp taskwait\n",
        "  }\n",
        "}\n",
        "int main() {\n",
        "  double t0 = omp_get_wtime();\n",
        "#pragma omp parallel\n",
        "#pragma omp master\n",
        "  {\n",
        "    recursive_tasks(5, 0);\n",
        "  }\n",
        "  double t1 = omp_get_wtime();\n",
        "  printf(\"%f sec\\n\", t1 - t0);\n",
        "  return 0;\n",
        "}"
      ],
      "execution_count": null,
      "outputs": []
    },
    {
      "cell_type": "code",
      "metadata": {
        "kernel": "Bash",
        "nbgrader": {
          "grade": false,
          "grade_id": "c-056",
          "locked": false,
          "schema_version": 3,
          "solution": false,
          "task": false
        }
      },
      "source": [
        "clang -fopenmp omp_rec_task.c -o omp_rec_task\n",
        "# nvc -mp omp_rec_task.c -o omp_rec_task"
      ],
      "execution_count": null,
      "outputs": []
    },
    {
      "cell_type": "code",
      "metadata": {
        "kernel": "Bash",
        "nbgrader": {
          "grade": false,
          "grade_id": "c-057",
          "locked": false,
          "schema_version": 3,
          "solution": false,
          "task": false
        }
      },
      "source": [
        "OMP_NUM_THREADS=10 ./omp_rec_task"
      ],
      "execution_count": null,
      "outputs": []
    },
    {
      "cell_type": "markdown",
      "metadata": {
        "kernel": "SoS",
        "nbgrader": {
          "grade": false,
          "grade_id": "c-058",
          "locked": true,
          "schema_version": 3,
          "solution": false,
          "task": false
        }
      },
      "source": [
        "# <font color=\"green\"> Problem 8 :  A quiz about recursive tasks</font>",
        "\n",
        "* Answer the following questions\n",
        "* How many tasks are created by `recursive_tasks(n, 0)`?  Include the caller of `recursive_tasks(n, 0)` as a task.  i.e., consider `recursive_tasks(0, 0)` creates one task\n",
        "* How many of them are leaf tasks?\n",
        "* Express them in terms of $n$"
      ]
    },
    {
      "cell_type": "markdown",
      "metadata": {
        "kernel": "SoS",
        "nbgrader": {
          "grade": true,
          "grade_id": "p-023",
          "locked": false,
          "schema_version": 3,
          "solution": true,
          "task": false,
          "points": 1
        }
      },
      "source": [
        "BEGIN SOLUTION\n",
        "END SOLUTION"
      ]
    },
    {
      "cell_type": "markdown",
      "metadata": {
        "kernel": "SoS",
        "nbgrader": {
          "grade": false,
          "grade_id": "c-059",
          "locked": true,
          "schema_version": 3,
          "solution": false,
          "task": false
        }
      },
      "source": [
        "* Approximately what is the ideal execution time of `recursive_tasks(5, 0)` when using 10 threads?\n",
        "* Compare it with what you observed"
      ]
    },
    {
      "cell_type": "markdown",
      "metadata": {
        "kernel": "SoS",
        "nbgrader": {
          "grade": true,
          "grade_id": "p-024",
          "locked": false,
          "schema_version": 3,
          "solution": true,
          "task": false,
          "points": 1
        }
      },
      "source": [
        "BEGIN SOLUTION\n",
        "END SOLUTION"
      ]
    },
    {
      "cell_type": "markdown",
      "metadata": {
        "kernel": "SoS",
        "nbgrader": {
          "grade": false,
          "grade_id": "c-060",
          "locked": true,
          "schema_version": 3,
          "solution": false,
          "task": false
        }
      },
      "source": [
        "* Name an algorithm or two for which recursive tasks will be useful for parallelizing it and explain why you think so"
      ]
    },
    {
      "cell_type": "markdown",
      "metadata": {
        "kernel": "SoS",
        "nbgrader": {
          "grade": true,
          "grade_id": "p-025",
          "locked": false,
          "schema_version": 3,
          "solution": true,
          "task": false,
          "points": 1
        }
      },
      "source": [
        "BEGIN SOLUTION\n",
        "END SOLUTION"
      ]
    },
    {
      "cell_type": "markdown",
      "metadata": {
        "kernel": "SoS",
        "nbgrader": {
          "grade": false,
          "grade_id": "c-061",
          "locked": true,
          "schema_version": 3,
          "solution": false,
          "task": false
        }
      },
      "source": [
        "# 10. Taskloop",
        "\n",
        "* As you can easily imagine, tasks can handle general nested loops if they can handle recursions\n",
        "* Recent OpenMP actually has a construct just for that, which is [#pragma omp taskloop](https://www.openmp.org/spec-html/5.0/openmpsu47.html#x71-2080002.10.2)\n",
        "  * <font color=red>This feature is not supported by NVIDIA compiler</font>\n",
        "* Here is a demonstration showing it can handle non perfectly-nested loops"
      ]
    },
    {
      "cell_type": "code",
      "metadata": {
        "kernel": "Python 3 (ipykernel)",
        "nbgrader": {
          "grade": false,
          "grade_id": "c-062",
          "locked": false,
          "schema_version": 3,
          "solution": false,
          "task": false
        }
      },
      "source": [
        "%%writefile omp_taskloop.c\n",
        "#include <stdio.h>\n",
        "#include <unistd.h>\n",
        "#include <omp.h>\n",
        "\n",
        "int main() {\n",
        "  double t0 = omp_get_wtime();\n",
        "#pragma omp parallel\n",
        "#pragma omp master\n",
        "#pragma omp taskloop\n",
        "  for (int i = 0; i < 5; i++) {\n",
        "    printf(\"i = %d starts\\n\", i);\n",
        "    fflush(stdout);\n",
        "#pragma omp taskloop\n",
        "    for (int j = 0; j < 5; j++) {\n",
        "      usleep(100 * 1000 * (i + j));\n",
        "      printf(\"iteration (%d, %d) executed by thread %d\\n\", i, j, omp_get_thread_num());\n",
        "      fflush(stdout);\n",
        "    }\n",
        "  }\n",
        "  double t1 = omp_get_wtime();\n",
        "  printf(\"%f sec\\n\", t1 - t0);\n",
        "  return 0;\n",
        "}"
      ],
      "execution_count": null,
      "outputs": []
    },
    {
      "cell_type": "code",
      "metadata": {
        "kernel": "Bash",
        "nbgrader": {
          "grade": false,
          "grade_id": "c-063",
          "locked": false,
          "schema_version": 3,
          "solution": false,
          "task": false
        }
      },
      "source": [
        "clang -fopenmp omp_taskloop.c -o omp_taskloop\n",
        "# nvc -mp omp_taskloop.c -o omp_taskloop"
      ],
      "execution_count": null,
      "outputs": []
    },
    {
      "cell_type": "code",
      "metadata": {
        "kernel": "Bash",
        "nbgrader": {
          "grade": false,
          "grade_id": "c-064",
          "locked": false,
          "schema_version": 3,
          "solution": false,
          "task": false
        }
      },
      "source": [
        "OMP_NUM_THREADS=3 ./omp_taskloop"
      ],
      "execution_count": null,
      "outputs": []
    },
    {
      "cell_type": "markdown",
      "metadata": {
        "kernel": "SoS",
        "nbgrader": {
          "grade": false,
          "grade_id": "c-065",
          "locked": true,
          "schema_version": 3,
          "solution": false,
          "task": false
        }
      },
      "source": [
        "<font color=\"red\">NOTE:</font>\n",
        "\n",
        "* Implementing task requires a more general mechanism than work-sharing for statement; the former should be able to distribute tasks generated in the course of execution, whereas the former merely needs to distribute iterations that are easily identifiable at the point of entering `#pragma omp for`, thanks to the [\"canonical form\" restriction](https://www.openmp.org/spec-html/5.0/openmpsu40.html#x63-1260002.9.1)\n",
        "* Task scheduling is always dynamic whereas work-sharing for (particularly with static scheduling) gives you more control and predictability about which thread executes which iteration\n",
        "* This is a reason why two mechanisms which are seemingly redundant exist, besides a historical reason that initially there was not a tasking construct in OpenMP"
      ]
    },
    {
      "cell_type": "markdown",
      "metadata": {
        "kernel": "SoS",
        "nbgrader": {
          "grade": false,
          "grade_id": "c-066",
          "locked": true,
          "schema_version": 3,
          "solution": false,
          "task": false
        }
      },
      "source": [
        "# 11. Data sharing",
        "\n",
        "* OpenMP is a shared memory programming model, which means threads see updates among each other\n",
        "* That is, when a thread updates a variable _x_ that is then read by another, the reader thread will see the updated value\n",
        "* This is the default behavior of OpenMP ([Data Environment](https://www.openmp.org/spec-html/5.0/openmpse27.html#x135-5430002.19) in OpenMP spec)\n",
        "* It is not always convenient, however\n",
        "* `#pragma omp parallel` can thus specify whether local variables in the scope (i.e., defined outside the statement) are privatized (i.e., made private to each thread)"
      ]
    },
    {
      "cell_type": "markdown",
      "metadata": {
        "kernel": "SoS",
        "nbgrader": {
          "grade": false,
          "grade_id": "c-067",
          "locked": true,
          "schema_version": 3,
          "solution": false,
          "task": false
        }
      },
      "source": [
        "# <font color=\"green\"> Problem 9 :  Observe the effect of privatization</font>",
        "\n",
        "* Execute the following and make sense of the output\n",
        "* Add the `private(x)` clause and observe the difference"
      ]
    },
    {
      "cell_type": "code",
      "metadata": {
        "kernel": "Python 3 (ipykernel)",
        "nbgrader": {
          "grade": true,
          "grade_id": "p-026",
          "locked": false,
          "schema_version": 3,
          "solution": true,
          "task": false,
          "points": 1
        }
      },
      "source": [
        "BEGIN SOLUTION\n",
        "END SOLUTION\n",
        "%%writefile omp_private.c\n",
        "#include <stdio.h>\n",
        "#include <unistd.h>\n",
        "#include <omp.h>\n",
        "\n",
        "int main() {\n",
        "  int x = 123;\n",
        "  printf(\"before : x = %d\\n\", x);\n",
        "  /* add private(x) clause below and see the difference */\n",
        "#pragma omp parallel\n",
        "  {\n",
        "    int id = omp_get_thread_num();\n",
        "    printf(\"thread %d : x = %d\\n\", id, x);\n",
        "  }\n",
        "  printf(\"after : x = %d\\n\", x);\n",
        "  return 0;\n",
        "}"
      ],
      "execution_count": null,
      "outputs": []
    },
    {
      "cell_type": "code",
      "metadata": {
        "kernel": "Bash",
        "nbgrader": {
          "grade": true,
          "grade_id": "p-027",
          "locked": false,
          "schema_version": 3,
          "solution": true,
          "task": false,
          "points": 1
        }
      },
      "source": [
        "BEGIN SOLUTION\n",
        "END SOLUTION\n",
        "clang -fopenmp omp_private.c -o omp_private\n",
        "# nvc -mp omp_private.c -o omp_private"
      ],
      "execution_count": null,
      "outputs": []
    },
    {
      "cell_type": "code",
      "metadata": {
        "kernel": "Bash",
        "nbgrader": {
          "grade": true,
          "grade_id": "p-028",
          "locked": false,
          "schema_version": 3,
          "solution": true,
          "task": false,
          "points": 1
        }
      },
      "source": [
        "BEGIN SOLUTION\n",
        "END SOLUTION\n",
        "OMP_NUM_THREADS=10 ./omp_private"
      ],
      "execution_count": null,
      "outputs": []
    },
    {
      "cell_type": "markdown",
      "metadata": {
        "kernel": "SoS",
        "nbgrader": {
          "grade": false,
          "grade_id": "c-068",
          "locked": true,
          "schema_version": 3,
          "solution": false,
          "task": false
        }
      },
      "source": [
        "* `private(x)` essentially ignores the original variable `x` defined outside the parallel region and behaves as if a variable of the same name is defined by each thread\n",
        "* `firstprivate(x)` is like `private(x)`, except that `x` of each thread is initialized by the value of `x` just before entering the parallel region"
      ]
    },
    {
      "cell_type": "markdown",
      "metadata": {
        "kernel": "SoS",
        "nbgrader": {
          "grade": false,
          "grade_id": "c-069",
          "locked": true,
          "schema_version": 3,
          "solution": false,
          "task": false
        }
      },
      "source": [
        "# <font color=\"green\"> Problem 10 :  Observe the effect of `private` and `firstprivate`</font>",
        "\n",
        "* Execute the following and observe the output\n",
        "* Add the `private(x)` clause and execute it\n",
        "* Add the `firstprivate(x)` clause and execute it\n",
        "* Make sense of the differences"
      ]
    },
    {
      "cell_type": "code",
      "metadata": {
        "kernel": "Python 3 (ipykernel)",
        "nbgrader": {
          "grade": true,
          "grade_id": "p-029",
          "locked": false,
          "schema_version": 3,
          "solution": true,
          "task": false,
          "points": 1
        }
      },
      "source": [
        "BEGIN SOLUTION\n",
        "END SOLUTION\n",
        "%%writefile omp_firstprivate.c\n",
        "#include <stdio.h>\n",
        "#include <unistd.h>\n",
        "#include <omp.h>\n",
        "\n",
        "int main() {\n",
        "  int x = 123;\n",
        "  printf(\"before : x = %d\\n\", x);\n",
        "  /* add private(x)/firstprivate(x) clause and see the difference */\n",
        "#pragma omp parallel\n",
        "  {\n",
        "    int id = omp_get_thread_num();\n",
        "    x++;\n",
        "    printf(\"thread %d : x = %d\\n\", id, x);\n",
        "  }\n",
        "  printf(\"after : x = %d\\n\", x);\n",
        "  return 0;\n",
        "}"
      ],
      "execution_count": null,
      "outputs": []
    },
    {
      "cell_type": "code",
      "metadata": {
        "kernel": "Bash",
        "nbgrader": {
          "grade": true,
          "grade_id": "p-030",
          "locked": false,
          "schema_version": 3,
          "solution": true,
          "task": false,
          "points": 1
        }
      },
      "source": [
        "BEGIN SOLUTION\n",
        "END SOLUTION\n",
        "clang -fopenmp omp_firstprivate.c -o omp_firstprivate\n",
        "# nvc -mp omp_firstprivate.c -o omp_firstprivate"
      ],
      "execution_count": null,
      "outputs": []
    },
    {
      "cell_type": "code",
      "metadata": {
        "kernel": "Bash",
        "nbgrader": {
          "grade": true,
          "grade_id": "p-031",
          "locked": false,
          "schema_version": 3,
          "solution": true,
          "task": false,
          "points": 1
        }
      },
      "source": [
        "BEGIN SOLUTION\n",
        "END SOLUTION\n",
        "OMP_NUM_THREADS=3 ./omp_firstprivate"
      ],
      "execution_count": null,
      "outputs": []
    },
    {
      "cell_type": "markdown",
      "metadata": {
        "kernel": "SoS",
        "nbgrader": {
          "grade": false,
          "grade_id": "c-070",
          "locked": true,
          "schema_version": 3,
          "solution": false,
          "task": false
        }
      },
      "source": [
        "# 12. Race condition",
        "\n",
        "* Execute the above code without private or firstprivate many times\n",
        "* Observe that the value of `x` after the parallel region is not always 123 + 5 (the number of threads executing the region), even different across runs\n",
        "* For example, with two threads, the following execution order may cause such a behavior\n",
        "  1. thread A reads 123\n",
        "  1. thread B reads 123\n",
        "  1. thread A writes 124\n",
        "  1. thread B reads 124\n",
        "* A similar case occurs whenever a thread's read-followed-by-write is intervened by another thread's update\n",
        "* More generally, the following situation is called a \"race condition\" and if there is a race condition in your program, it almost always means your program is broken\n",
        "  * Two or more threads concurrently access the same variable, and\n",
        "  * at least one of them writes to it\n",
        "Here, \"concurrently access\" means these accesses are not guaranteed to be separated in time by a synchronization primitive\n",
        "\n",
        "* In all but trivial parallel programs, threads need to communicate with each other to accomplish a task\n",
        "* Threads _communicate_ by having one thread write to a variable and having another read it\n",
        "* If we simply do it without any mechanism to guarantee that they are separated in time, it is a race\n",
        "\n",
        "* Below, we describe three ways to _safely_ communicate among threads without making race conditions\n",
        "\n",
        "  * `#pragma omp critical`\n",
        "  * `#pragma omp atomic`\n",
        "  * reduction"
      ]
    },
    {
      "cell_type": "markdown",
      "metadata": {
        "kernel": "SoS",
        "nbgrader": {
          "grade": false,
          "grade_id": "c-071",
          "locked": true,
          "schema_version": 3,
          "solution": false,
          "task": false
        }
      },
      "source": [
        "# 13. `#pragma omp critical`",
        "\n",
        "* [#pragma omp critical](https://www.openmp.org/spec-html/5.0/openmpsu89.html#x120-4470002.17.1) guarantees the statement following the pragma is executed not overlapping in time"
      ]
    },
    {
      "cell_type": "markdown",
      "metadata": {
        "kernel": "SoS",
        "nbgrader": {
          "grade": false,
          "grade_id": "c-072",
          "locked": true,
          "schema_version": 3,
          "solution": false,
          "task": false
        }
      },
      "source": [
        "# <font color=\"green\"> Problem 11 :  Apply `#pragma omp critical`</font>",
        "\n",
        "* Execute the following program a few times and observe that the result is undeterministic and often not what we want (i.e., 123 + the number of threads)\n",
        "* Then, add `#pragma omp critical` to the statement `x++` and see the result"
      ]
    },
    {
      "cell_type": "code",
      "metadata": {
        "kernel": "Python 3 (ipykernel)",
        "nbgrader": {
          "grade": true,
          "grade_id": "p-032",
          "locked": false,
          "schema_version": 3,
          "solution": true,
          "task": false,
          "points": 1
        }
      },
      "source": [
        "BEGIN SOLUTION\n",
        "END SOLUTION\n",
        "%%writefile omp_critical.c\n",
        "#include <stdio.h>\n",
        "#include <unistd.h>\n",
        "#include <omp.h>\n",
        "\n",
        "int main() {\n",
        "  int x = 123;\n",
        "  printf(\"before : x = %d\\n\", x);\n",
        "#pragma omp parallel\n",
        "  {\n",
        "    int id = omp_get_thread_num();\n",
        "    x++;\n",
        "  }\n",
        "  printf(\"after : x = %d\\n\", x);\n",
        "  return 0;\n",
        "}"
      ],
      "execution_count": null,
      "outputs": []
    },
    {
      "cell_type": "code",
      "metadata": {
        "kernel": "Bash",
        "nbgrader": {
          "grade": true,
          "grade_id": "p-033",
          "locked": false,
          "schema_version": 3,
          "solution": true,
          "task": false,
          "points": 1
        }
      },
      "source": [
        "BEGIN SOLUTION\n",
        "END SOLUTION\n",
        "clang -fopenmp omp_critical.c -o omp_critical\n",
        "# nvc -mp omp_critical.c -o omp_critical"
      ],
      "execution_count": null,
      "outputs": []
    },
    {
      "cell_type": "code",
      "metadata": {
        "kernel": "Bash",
        "nbgrader": {
          "grade": true,
          "grade_id": "p-034",
          "locked": false,
          "schema_version": 3,
          "solution": true,
          "task": false,
          "points": 1
        }
      },
      "source": [
        "BEGIN SOLUTION\n",
        "END SOLUTION\n",
        "OMP_NUM_THREADS=100 ./omp_critical"
      ],
      "execution_count": null,
      "outputs": []
    },
    {
      "cell_type": "markdown",
      "metadata": {
        "kernel": "SoS",
        "nbgrader": {
          "grade": false,
          "grade_id": "c-073",
          "locked": true,
          "schema_version": 3,
          "solution": false,
          "task": false
        }
      },
      "source": [
        "# 14. `#pragma omp atomic`",
        "\n",
        "* [#pragma omp atomic](https://www.openmp.org/spec-html/5.0/openmpsu95.html#x126-4840002.17.7) is similar to `#pragma omp critical` but its effect is slightly different and its applicability limited (see below)"
      ]
    },
    {
      "cell_type": "markdown",
      "metadata": {
        "kernel": "SoS",
        "nbgrader": {
          "grade": false,
          "grade_id": "c-074",
          "locked": true,
          "schema_version": 3,
          "solution": false,
          "task": false
        }
      },
      "source": [
        "# <font color=\"green\"> Problem 12 :  Apply `#pragma omp atomic`</font>",
        "\n",
        "* Add `#pragma omp atomic` to the statement `x++` and see the result"
      ]
    },
    {
      "cell_type": "code",
      "metadata": {
        "kernel": "Python 3 (ipykernel)",
        "nbgrader": {
          "grade": true,
          "grade_id": "p-035",
          "locked": false,
          "schema_version": 3,
          "solution": true,
          "task": false,
          "points": 1
        }
      },
      "source": [
        "BEGIN SOLUTION\n",
        "END SOLUTION\n",
        "%%writefile omp_atomic.c\n",
        "#include <stdio.h>\n",
        "#include <unistd.h>\n",
        "#include <omp.h>\n",
        "\n",
        "int main() {\n",
        "  int x = 123;\n",
        "  printf(\"before : x = %d\\n\", x);\n",
        "#pragma omp parallel\n",
        "  {\n",
        "    int id = omp_get_thread_num();\n",
        "    x++;\n",
        "  }\n",
        "  printf(\"after : x = %d\\n\", x);\n",
        "  return 0;\n",
        "}"
      ],
      "execution_count": null,
      "outputs": []
    },
    {
      "cell_type": "code",
      "metadata": {
        "kernel": "Bash",
        "nbgrader": {
          "grade": true,
          "grade_id": "p-036",
          "locked": false,
          "schema_version": 3,
          "solution": true,
          "task": false,
          "points": 1
        }
      },
      "source": [
        "BEGIN SOLUTION\n",
        "END SOLUTION\n",
        "clang -fopenmp omp_atomic.c -o omp_atomic\n",
        "# nvc -mp omp_atomic.c -o omp_atomic"
      ],
      "execution_count": null,
      "outputs": []
    },
    {
      "cell_type": "code",
      "metadata": {
        "kernel": "Bash",
        "nbgrader": {
          "grade": true,
          "grade_id": "p-037",
          "locked": false,
          "schema_version": 3,
          "solution": true,
          "task": false,
          "points": 1
        }
      },
      "source": [
        "BEGIN SOLUTION\n",
        "END SOLUTION\n",
        "OMP_NUM_THREADS=100 ./omp_atomic"
      ],
      "execution_count": null,
      "outputs": []
    },
    {
      "cell_type": "markdown",
      "metadata": {
        "kernel": "SoS",
        "nbgrader": {
          "grade": false,
          "grade_id": "c-075",
          "locked": true,
          "schema_version": 3,
          "solution": false,
          "task": false
        }
      },
      "source": [
        "* The statement that follows this pragma cannot be an arbitrary expression\n",
        "* See [atomic Construct](https://www.openmp.org/spec-html/5.0/openmpsu95.html#x126-4840002.17.7) for the spec\n",
        "* Typically, it is an update to a variable, such as\n",
        "```  \n",
        "x += expr;\n",
        "```  \n",
        "* What is guaranteed by `#pragma omp atomic` is different from what `#pragma omp critical` guarantees\n",
        "```\n",
        "#pragma omp atomic\n",
        "x += expr;\n",
        "``` \n",
        "guarantees that the read and write to _x_ are never intervened by another update labeled `#pragma omp atomic` whereas\n",
        "```\n",
        "#pragma omp critical\n",
        "x += expr;\n",
        "``` \n",
        "guarantees that the entire statement `x += expr` does not overlap with another statement labeled critical.\n",
        "* When applicable, `#pragma omp atomic` is more efficient than `#pragma omp critical` because the evaluation of expr can overlap"
      ]
    },
    {
      "cell_type": "markdown",
      "metadata": {
        "kernel": "SoS",
        "nbgrader": {
          "grade": false,
          "grade_id": "c-076",
          "locked": true,
          "schema_version": 3,
          "solution": false,
          "task": false
        }
      },
      "source": [
        "# 15. Reduction clause",
        "\n",
        "* [Reduction](https://www.openmp.org/spec-html/5.0/openmpsu107.html#x140-5800002.19.5) is the best way to resolve race conditions where applicable and it often is\n",
        "* It is applicable when threads altogether calculate $v = v_0 \\oplus v_1 \\oplus ... \\oplus v_{n-1}$ where $v_i$ can be computed independently and $\\oplus$ is an associative operator (such as +)\n",
        "* In serial loop, this could be written by\n",
        "```\n",
        "v = initial value;\n",
        "for (i = 0; i < n; i++) {\n",
        "  v_i = ...\n",
        "  v = v + v_i;\n",
        "}\n",
        "```\n",
        "* If we parallelize the above loop, updating $v$ will result in a race condition\n",
        "* This can be safely parallelized by introducing `reduction(+ : v)`"
      ]
    },
    {
      "cell_type": "markdown",
      "metadata": {
        "kernel": "SoS",
        "nbgrader": {
          "grade": false,
          "grade_id": "c-077",
          "locked": true,
          "schema_version": 3,
          "solution": false,
          "task": false
        }
      },
      "source": [
        "# <font color=\"green\"> Problem 13 :  Apply reduction</font>",
        "\n",
        "* Add `reduction` clause to `#pragma omp parallel` below and observe the result"
      ]
    },
    {
      "cell_type": "code",
      "metadata": {
        "kernel": "Python 3 (ipykernel)",
        "nbgrader": {
          "grade": true,
          "grade_id": "p-038",
          "locked": false,
          "schema_version": 3,
          "solution": true,
          "task": false,
          "points": 1
        }
      },
      "source": [
        "BEGIN SOLUTION\n",
        "END SOLUTION\n",
        "%%writefile omp_reduction.c\n",
        "#include <stdio.h>\n",
        "#include <unistd.h>\n",
        "#include <omp.h>\n",
        "\n",
        "int main() {\n",
        "  int x = 123;\n",
        "  printf(\"before : x = %d\\n\", x);\n",
        "#pragma omp parallel\n",
        "  {\n",
        "    int id = omp_get_thread_num();\n",
        "    x++;\n",
        "  }\n",
        "  printf(\"after : x = %d\\n\", x);\n",
        "  return 0;\n",
        "}"
      ],
      "execution_count": null,
      "outputs": []
    },
    {
      "cell_type": "code",
      "metadata": {
        "kernel": "Bash",
        "nbgrader": {
          "grade": true,
          "grade_id": "p-039",
          "locked": false,
          "schema_version": 3,
          "solution": true,
          "task": false,
          "points": 1
        }
      },
      "source": [
        "BEGIN SOLUTION\n",
        "END SOLUTION\n",
        "clang -fopenmp omp_reduction.c -o omp_reduction\n",
        "# nvc -mp omp_reduction.c -o omp_reduction"
      ],
      "execution_count": null,
      "outputs": []
    },
    {
      "cell_type": "code",
      "metadata": {
        "kernel": "Bash",
        "nbgrader": {
          "grade": true,
          "grade_id": "p-040",
          "locked": false,
          "schema_version": 3,
          "solution": true,
          "task": false,
          "points": 1
        }
      },
      "source": [
        "BEGIN SOLUTION\n",
        "END SOLUTION\n",
        "OMP_NUM_THREADS=100 ./omp_reduction"
      ],
      "execution_count": null,
      "outputs": []
    },
    {
      "cell_type": "markdown",
      "metadata": {
        "kernel": "SoS",
        "nbgrader": {
          "grade": false,
          "grade_id": "c-078",
          "locked": true,
          "schema_version": 3,
          "solution": false,
          "task": false
        }
      },
      "source": [
        "# 16. How reduction clause works and why it is preferable when applicable",
        "\n",
        "* Where applicable, reduction is generally much faster than using `#pragma omp atomic` or `#pragma omp critical`\n",
        "* This is because, internally, each thread computes its partial results using a private variable and combines their results only once at the end\n",
        "* That is, each update, e.g., `x += expr` updates a thread's private version of variable x instead of updating the shared variable\n",
        "* Omitting details you can think of what reduction clause is doing is to convert something like\n",
        "\n",
        "```\n",
        "int x = G;\n",
        "#pragma omp parallel reduction(+ : x)\n",
        "{\n",
        "   ... x += expr; ...\n",
        "}\n",
        "  \n",
        "```\n",
        "\n",
        "into something like\n",
        "\n",
        "```\n",
        "int x = G;\n",
        "#pragma omp parallel\n",
        "{\n",
        "  int x_priv = 0; // (I) initialize a private version of x\n",
        "  {\n",
        "   ... x_priv += expr; ...\n",
        "  }\n",
        "#pragma omp atomic\n",
        "  x += x_priv; // (C) combine the partial results in the private variable into the global variable\n",
        "}\n",
        "```\n",
        "* This is valid because of the associativity of the operation"
      ]
    },
    {
      "cell_type": "markdown",
      "metadata": {
        "kernel": "SoS",
        "nbgrader": {
          "grade": false,
          "grade_id": "c-079",
          "locked": true,
          "schema_version": 3,
          "solution": false,
          "task": false
        }
      },
      "source": [
        "# 17. User-defined reduction",
        "\n",
        "* Reduction is a general concept for efficiently executing many computations of $v_i$'s in parallel, when the final outcome we wish to compute is $v = v_0 \\oplus v_1 \\oplus ... \\oplus v_{n-1}$ \n",
        "* It is applicable whenever the order of combining partial results via $\\oplus$ does not affect the final outcome (e.g., +)\n",
        "* Yet the builtin reduction clause of OpenMP can only specify a few builtin operations for a few builtin types (e.g., int, float, etc.)\n",
        "* You sometimes desire to apply the efficient execution mechanism of the reduction for more general types (perhaps types you defined)\n",
        "* [User-defined reduction](https://www.openmp.org/spec-html/5.0/openmpsu107.html#x140-5800002.19.5) exists exactly for that\n",
        "* You need to define an expression to\n",
        "  * (C) combine two partial results into one (more specifically, combine a partial result assumed to be in a variable omp_in into another variable omp_out)\n",
        "  * (I) initialize a thread-private version of the variable to which reduction is applied, named omp_priv\n",
        "* For example, in the case of the builtin + operator, \n",
        "  * (C) would be omp_out += omp_in\n",
        "  * (I) would be omp_priv = 0"
      ]
    },
    {
      "cell_type": "markdown",
      "metadata": {
        "kernel": "SoS",
        "nbgrader": {
          "grade": false,
          "grade_id": "c-080",
          "locked": true,
          "schema_version": 3,
          "solution": false,
          "task": false
        }
      },
      "source": [
        "## 17-1. Apply a user-defined reduction",
        "\n",
        "* Here is a simple (broken) parallel for loop that is meant to do a reduction on 3-element vector\n",
        "* Define a reduction with `#pragma omp declare reduction` and apply it to the parallel loop"
      ]
    },
    {
      "cell_type": "code",
      "metadata": {
        "kernel": "Python 3 (ipykernel)",
        "nbgrader": {
          "grade": false,
          "grade_id": "c-081",
          "locked": false,
          "schema_version": 3,
          "solution": false,
          "task": false
        }
      },
      "source": [
        "%%writefile omp_ud_reduction.c\n",
        "#include <stdio.h>\n",
        "#include <unistd.h>\n",
        "#include <math.h>\n",
        "#include <omp.h>\n",
        "\n",
        "/* 3-element vector */\n",
        "typedef struct {\n",
        "  double a[3];\n",
        "} vec_t;\n",
        "\n",
        "/* x += y */\n",
        "void vec_add(vec_t * x, vec_t * y) {\n",
        "  for (int i = 0; i < 3; i++) {\n",
        "    x->a[i] += y->a[i];\n",
        "  }\n",
        "}\n",
        "\n",
        "/* x = {0,0,0} */\n",
        "void vec_init(vec_t * x) {\n",
        "  for (int i = 0; i < 3; i++) {\n",
        "    x->a[i] = 0;\n",
        "  }\n",
        "}\n",
        "\n",
        "\n",
        "/* add an appropriate #pragma omp declare reduction ... here */\n",
        "  \n",
        "int main() {\n",
        "  vec_t v;\n",
        "  vec_init(&v);\n",
        "  double t0 = omp_get_wtime();\n",
        "  /* add an appropriate reduction clause, so that\n",
        "     the result is always {10000,10000,10000} */\n",
        "#pragma omp parallel for\n",
        "  for (int i = 0; i < 30000; i++) {\n",
        "    v.a[i % 3]++;\n",
        "  }\n",
        "  double t1 = omp_get_wtime();\n",
        "  printf(\"ans = {%.1f, %.1f, %.1f} in %f sec\\n\", v.a[0], v.a[1], v.a[2], t1 - t0);\n",
        "  return 0;\n",
        "}"
      ],
      "execution_count": null,
      "outputs": []
    },
    {
      "cell_type": "code",
      "metadata": {
        "kernel": "Bash",
        "nbgrader": {
          "grade": false,
          "grade_id": "c-082",
          "locked": false,
          "schema_version": 3,
          "solution": false,
          "task": false
        }
      },
      "source": [
        "clang -fopenmp omp_ud_reduction.c -o omp_ud_reduction\n",
        "# nvc -mp omp_ud_reduction.c -o omp_ud_reduction"
      ],
      "execution_count": null,
      "outputs": []
    },
    {
      "cell_type": "code",
      "metadata": {
        "kernel": "Bash",
        "nbgrader": {
          "grade": false,
          "grade_id": "c-083",
          "locked": false,
          "schema_version": 3,
          "solution": false,
          "task": false
        }
      },
      "source": [
        "OMP_NUM_THREADS=10 ./omp_ud_reduction"
      ],
      "execution_count": null,
      "outputs": []
    },
    {
      "cell_type": "markdown",
      "metadata": {
        "kernel": "SoS",
        "nbgrader": {
          "grade": false,
          "grade_id": "c-084",
          "locked": true,
          "schema_version": 3,
          "solution": false,
          "task": false
        }
      },
      "source": [
        "# <font color=\"green\"> Problem 14 :  Putting them together: calculating an integral</font>",
        "\n",
        "Write an OpenMP program that calculates\n",
        "\n",
        "$$ \\int \\int_D \\sqrt{1 - x^2 - y^2}\\,dx\\,dy $$\n",
        "\n",
        "where\n",
        "\n",
        "$$ D = \\{\\;(x, y)\\;|\\;0\\leq x \\leq 1, 0\\leq y \\leq 1, x^2 + y^2 \\leq 1 \\}$$\n",
        "\n",
        "* Note: an alternative way to put it is to calculate\n",
        "\n",
        "$$ \\int_0^1 \\int_0^1 f(x)\\,dx\\,dy $$\n",
        "\n",
        "where\n",
        "\n",
        "$$ f(x) = \\left\\{\\begin{array}{ll}\\sqrt{1 - x^2 - y^2} & (x^2 + y^2 \\leq 1) \\\\ 0 & (\\mbox{otherwise}) \\end{array}\\right. $$\n",
        "\n",
        "* Use a nested loop to calculate the double integral\n",
        "* Try work-sharing for, taskloop, recursive tasks to parallelize it\n",
        "* The result should be close to $\\pi/6 = 0.52359..$ (1/8 of the volume of the unit ball)\n",
        "* Play with the number of infinitesimal intervals for integration and the number of threads so that you can observe a speedup\n",
        "* As you are using a shared cloud environment, you do not have to be serious about speedup (nearly perfect speedup is unlikely when other students are simultaneously using the same machine and/or the cloud is doing many other stuff (e.g., servicing the page you are looking at right now)\n",
        "\n",
        "* If you want to work with an editor you are accustomed to rather than web browser, see [this page](https://taura.github.io/programming-languages/html/jupyter.html?lang=en)"
      ]
    },
    {
      "cell_type": "code",
      "metadata": {
        "kernel": "Python 3 (ipykernel)",
        "nbgrader": {
          "grade": true,
          "grade_id": "p-041",
          "locked": false,
          "schema_version": 3,
          "solution": true,
          "task": false,
          "points": 1
        }
      },
      "source": [
        "BEGIN SOLUTION\n",
        "END SOLUTION\n",
        "%%writefile omp_integral.c\n",
        ""
      ],
      "execution_count": null,
      "outputs": []
    },
    {
      "cell_type": "markdown",
      "metadata": {
        "kernel": "SoS",
        "nbgrader": {
          "grade": false,
          "grade_id": "c-085",
          "locked": true,
          "schema_version": 3,
          "solution": false,
          "task": false
        }
      },
      "source": [
        "* Compile it"
      ]
    },
    {
      "cell_type": "code",
      "metadata": {
        "kernel": "Bash",
        "nbgrader": {
          "grade": true,
          "grade_id": "p-042",
          "locked": false,
          "schema_version": 3,
          "solution": true,
          "task": false,
          "points": 1
        }
      },
      "source": [
        "BEGIN SOLUTION\n",
        "END SOLUTION"
      ],
      "execution_count": null,
      "outputs": []
    },
    {
      "cell_type": "markdown",
      "metadata": {
        "kernel": "SoS",
        "nbgrader": {
          "grade": false,
          "grade_id": "c-086",
          "locked": true,
          "schema_version": 3,
          "solution": false,
          "task": false
        }
      },
      "source": [
        "* and run it"
      ]
    },
    {
      "cell_type": "code",
      "metadata": {
        "kernel": "Bash",
        "nbgrader": {
          "grade": true,
          "grade_id": "p-043",
          "locked": false,
          "schema_version": 3,
          "solution": true,
          "task": false,
          "points": 1
        }
      },
      "source": [
        "BEGIN SOLUTION\n",
        "END SOLUTION"
      ],
      "execution_count": null,
      "outputs": []
    }
  ],
  "metadata": {
    "celltoolbar": "Create Assignment",
    "kernelspec": {
      "display_name": "SoS",
      "language": "sos",
      "name": "sos"
    },
    "language_info": {
      "codemirror_mode": "sos",
      "file_extension": ".sos",
      "mimetype": "text/x-sos",
      "name": "sos",
      "nbconvert_exporter": "sos_notebook.converter.SoS_Exporter",
      "pygments_lexer": "sos"
    },
    "sos": {
      "kernels": [
        [
          "Bash",
          "bash",
          "bash",
          "",
          "shell"
        ],
        [
          "C",
          "c_kernel",
          "c",
          "",
          ""
        ],
        [
          "Go",
          "gophernotes",
          "go",
          "",
          ""
        ],
        [
          "Julia 1.10.2",
          "julia-1.10",
          "julia",
          "",
          ""
        ],
        [
          "OCaml default",
          "ocaml-jupyter",
          "OCaml",
          "",
          "text/x-ocaml"
        ],
        [
          "Python 3 (ipykernel)",
          "python3",
          "python3",
          "",
          {
            "name": "ipython",
            "version": 3
          }
        ],
        [
          "Rust",
          "rust",
          "rust",
          "",
          ""
        ]
      ],
      "panel": {
        "displayed": true,
        "height": 0
      },
      "version": "0.23.3"
    }
  },
  "nbformat": 4,
  "nbformat_minor": 4
}