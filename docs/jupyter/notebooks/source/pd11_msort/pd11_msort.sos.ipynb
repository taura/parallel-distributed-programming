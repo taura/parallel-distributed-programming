{
  "cells": [
    {
      "cell_type": "markdown",
      "metadata": {
        "kernel": "SoS",
        "nbgrader": {
          "grade": false,
          "grade_id": "c-001",
          "locked": true,
          "schema_version": 3,
          "solution": false,
          "task": false
        }
      },
      "source": [
        "\n",
        "#  Divide-and-conquer algorithm",
        ""
      ]
    },
    {
      "cell_type": "markdown",
      "metadata": {
        "kernel": "SoS",
        "nbgrader": {
          "grade": false,
          "grade_id": "c-002",
          "locked": false,
          "schema_version": 3,
          "solution": false,
          "task": false
        }
      },
      "source": [
        "\n",
        "Enter your name and student ID.\n",
        "\n",
        " * Name:\n",
        " * Student ID:\n",
        ""
      ]
    },
    {
      "cell_type": "markdown",
      "metadata": {
        "kernel": "SoS",
        "nbgrader": {
          "grade": false,
          "grade_id": "c-003",
          "locked": true,
          "schema_version": 3,
          "solution": false,
          "task": false
        }
      },
      "source": [
        "# 1. Compilers"
      ]
    },
    {
      "cell_type": "markdown",
      "metadata": {
        "kernel": "SoS",
        "nbgrader": {
          "grade": false,
          "grade_id": "c-004",
          "locked": true,
          "schema_version": 3,
          "solution": false,
          "task": false
        }
      },
      "source": [
        "## 1-1. Set up NVIDIA HPC SDK",
        "\n",
        "Execute this before you use NVIDIA HPC SDK"
      ]
    },
    {
      "cell_type": "code",
      "metadata": {
        "kernel": "Bash",
        "nbgrader": {
          "grade": false,
          "grade_id": "c-005",
          "locked": false,
          "schema_version": 3,
          "solution": false,
          "task": false
        }
      },
      "source": [
        "export PATH=/opt/nvidia/hpc_sdk/Linux_x86_64/22.11/compilers/bin:$PATH\n",
        "#export PATH=/opt/nvidia/hpc_sdk/Linux_x86_64/22.9/compilers/bin:$PATH\n",
        "#export PATH=/opt/nvidia/hpc_sdk/Linux_x86_64/22.7/compilers/bin:$PATH"
      ],
      "execution_count": null,
      "outputs": []
    },
    {
      "cell_type": "markdown",
      "metadata": {
        "kernel": "SoS",
        "nbgrader": {
          "grade": false,
          "grade_id": "c-006",
          "locked": true,
          "schema_version": 3,
          "solution": false,
          "task": false
        }
      },
      "source": [
        "Check if it works (check if full paths of nvc/nvc++ are shown)"
      ]
    },
    {
      "cell_type": "code",
      "metadata": {
        "kernel": "Bash",
        "nbgrader": {
          "grade": false,
          "grade_id": "c-007",
          "locked": false,
          "schema_version": 3,
          "solution": false,
          "task": false
        }
      },
      "source": [
        "which nvc\n",
        "which nvc++"
      ],
      "execution_count": null,
      "outputs": []
    },
    {
      "cell_type": "markdown",
      "metadata": {
        "kernel": "SoS",
        "nbgrader": {
          "grade": false,
          "grade_id": "c-008",
          "locked": true,
          "schema_version": 3,
          "solution": false,
          "task": false
        }
      },
      "source": [
        "## 1-2. Set up LLVM",
        "\n",
        "Execute this before you use LLVM"
      ]
    },
    {
      "cell_type": "code",
      "metadata": {
        "kernel": "Bash",
        "nbgrader": {
          "grade": false,
          "grade_id": "c-009",
          "locked": false,
          "schema_version": 3,
          "solution": false,
          "task": false
        }
      },
      "source": [
        "export PATH=/home/share/llvm/bin:$PATH"
      ],
      "execution_count": null,
      "outputs": []
    },
    {
      "cell_type": "markdown",
      "metadata": {
        "kernel": "SoS",
        "nbgrader": {
          "grade": false,
          "grade_id": "c-010",
          "locked": true,
          "schema_version": 3,
          "solution": false,
          "task": false
        }
      },
      "source": [
        "Check if it works (check if full paths of nvc/nvc++ are shown)"
      ]
    },
    {
      "cell_type": "code",
      "metadata": {
        "kernel": "Bash",
        "nbgrader": {
          "grade": false,
          "grade_id": "c-011",
          "locked": false,
          "schema_version": 3,
          "solution": false,
          "task": false
        }
      },
      "source": [
        "which clang\n",
        "which clang++"
      ],
      "execution_count": null,
      "outputs": []
    },
    {
      "cell_type": "markdown",
      "metadata": {
        "kernel": "SoS",
        "nbgrader": {
          "grade": false,
          "grade_id": "c-012",
          "locked": true,
          "schema_version": 3,
          "solution": false,
          "task": false
        }
      },
      "source": [
        "\n",
        "# 2. Merge sort",
        "\n",
        "* merge sort is a divide-and-conquer algorithm that sorts an array as follows\n",
        "1. split the array into two halves\n",
        "1. recursively apply merge sort to each half\n",
        "1. merge the two (sorted) arrays\n",
        "\n",
        "* the merge step needs another array, so it takes two arrays (one is used for the input/output and the other used for workspace)\n",
        "\n",
        "* here is a sequential merge sort algorithm"
      ]
    },
    {
      "cell_type": "code",
      "metadata": {
        "kernel": "Python 3 (ipykernel)",
        "nbgrader": {
          "grade": false,
          "grade_id": "c-013",
          "locked": false,
          "schema_version": 3,
          "solution": false,
          "task": false
        }
      },
      "source": [
        "%%writefile msort.cc\n",
        "#com 2\n",
        "#include \"msort.h\"\n",
        "\n",
        "/* insertion sort for leaf cases */\n",
        "/* return m a[m] = min {a[begin:end]} */ \n",
        "static long choose_min_idx(float * a, long begin, long end) {\n",
        "  long m = begin;\n",
        "  for (long i = begin + 1; i < end; i++) {\n",
        "    if (a[i] < a[m]) {\n",
        "      m = i;\n",
        "    }\n",
        "  }\n",
        "  return m;\n",
        "}\n",
        "\n",
        "/* sort a[p:q] by insertion sort */\n",
        "static void insertion_sort(float * a, long p, long q) {\n",
        "  for (long i = p; i < q; i++) {\n",
        "    long j = choose_min_idx(a, i, q);\n",
        "    float t = a[i];\n",
        "    a[i] = a[j];\n",
        "    a[j] = t;\n",
        "  }\n",
        "}\n",
        "\n",
        "/* sort a[p:q] into g[p:q], using b[p:q] as a temporary space */\n",
        "static void msort_r(float * a, float * b, float * g, long p, long q, long th0, long th1) {\n",
        "  if (q - p < th0) {\n",
        "    /* the array is small -> switch to insertion sort */\n",
        "    if (g != a) {\n",
        "      for (long i = p; i < q; i++) {\n",
        "        g[i] = a[i];\n",
        "      }\n",
        "    }\n",
        "    insertion_sort(g, p, q);\n",
        "  } else {\n",
        "    long r = (p + q) / 2;\n",
        "    /* get partial results into the other array != g */\n",
        "    float * h = (g == a ? b : a);\n",
        "#ifpy VER == 2\n",
        "#pragma omp task\n",
        "#endifpy\n",
        "    msort_r(a, b, h, p, r, th0, th1);\n",
        "#ifpy VER == 2\n",
        "#pragma omp task\n",
        "#endifpy\n",
        "    msort_r(a, b, h, r, q, th0, th1);\n",
        "#ifpy VER == 2\n",
        "#pragma omp taskwait\n",
        "#endifpy\n",
        "    /* merge h[p:r] and h[r:q] -> g[p:]*/\n",
        "    merge(h, g, p, r, r, q, p, th1);\n",
        "  }\n",
        "}\n",
        "\n",
        "/* merge sort, called from the main */\n",
        "void msort_from_main(float * a, float * b, float * g, long p, long q, long th0, long th1) {\n",
        "#ifpy VER == 2\n",
        "#pragma omp parallel\n",
        "#pragma omp master\n",
        "#endifpy\n",
        "  msort_r(a, b, g, p, q, th0, th1);\n",
        "}\n",
        ""
      ],
      "execution_count": null,
      "outputs": []
    },
    {
      "cell_type": "markdown",
      "metadata": {
        "kernel": "SoS",
        "nbgrader": {
          "grade": false,
          "grade_id": "c-014",
          "locked": true,
          "schema_version": 3,
          "solution": false,
          "task": false
        }
      },
      "source": [
        "* and a merge procedure"
      ]
    },
    {
      "cell_type": "code",
      "metadata": {
        "kernel": "Python 3 (ipykernel)",
        "nbgrader": {
          "grade": false,
          "grade_id": "c-015",
          "locked": false,
          "schema_version": 3,
          "solution": false,
          "task": false
        }
      },
      "source": [
        "%%writefile merge.cc\n",
        "#com 2\n",
        "#include <assert.h>\n",
        "#include \"msort.h\"\n",
        "\n",
        "#ifpy VER == 1\n",
        "void merge(float * a, float * b, long p, long q, long s, long t, long d, long th) {\n",
        "  (void)th;\n",
        "  long i = p;\n",
        "  long j = s;\n",
        "  long k = d;\n",
        "  while (i < q && j < t) {\n",
        "    if (a[i] < a[j]) {\n",
        "      b[k++] = a[i++];\n",
        "    } else {\n",
        "      b[k++] = a[j++];\n",
        "    }\n",
        "  }\n",
        "  while (i < q) {\n",
        "    b[k++] = a[i++];\n",
        "  }\n",
        "  while (j < t) {\n",
        "    b[k++] = a[j++];\n",
        "  }\n",
        "}\n",
        "\n",
        "/* merge, called from main */\n",
        "void merge_from_main(float * a, float * b, long p, long q, long s, long t, long d, long th) {\n",
        "  merge(a, b, p, q, s, t, d, th);\n",
        "}\n",
        "\n",
        "#elsepy\n",
        "\n",
        "/* merge a[p:q] and a[r:s] --> b[d:] */\n",
        "static void merge_s(float * a, float * b, long p, long q, long s, long t, long d) {\n",
        "  long i = p;\n",
        "  long j = s;\n",
        "  long k = d;\n",
        "  while (i < q && j < t) {\n",
        "    if (a[i] < a[j]) {\n",
        "      b[k++] = a[i++];\n",
        "    } else {\n",
        "      b[k++] = a[j++];\n",
        "    }\n",
        "  }\n",
        "  while (i < q) {\n",
        "    b[k++] = a[i++];\n",
        "  }\n",
        "  while (j < t) {\n",
        "    b[k++] = a[j++];\n",
        "  }\n",
        "}\n",
        "\n",
        "/* find r s.t. a[r-1] <= piv < a[r] */\n",
        "static long find_piv(float * a, long b, long e, float piv) {\n",
        "  if (piv < a[b]) return b;\n",
        "  if (a[e - 1] <= piv) return e;\n",
        "  long p = b;\n",
        "  long q = e - 1;\n",
        "  /* a[p] <= piv < a[q] */\n",
        "  while (q - p > 1) {\n",
        "    assert(a[p] <= piv);\n",
        "    assert(piv < a[q]);\n",
        "    long r = (p + q) / 2;\n",
        "    if (a[r] <= piv) {\n",
        "      p = r;                    // a[p] <= piv\n",
        "    } else {\n",
        "      q = r;                    // piv < a[q]\n",
        "    }\n",
        "  }\n",
        "  assert(a[q - 1] <= piv);\n",
        "  assert(piv < a[q]);\n",
        "  /* a[q - 1] <= piv < a[q] */\n",
        "  return q;\n",
        "}\n",
        "\n",
        "/* merge a[p:q] and a[r:s] --> b[d:] */\n",
        "void merge(float * a, float * b, long p, long q, long s, long t, long d, long th) {\n",
        "  if (q - p + t - s < th) {\n",
        "    merge_s(a, b, p, q, s, t, d);\n",
        "  } else if (q - p > t - s) {\n",
        "    long r = (p + q) / 2;\n",
        "    float piv = a[r];\n",
        "    long u = find_piv(a, s, t, piv);\n",
        "#pragma omp task\n",
        "    merge(a, b, p, r, s, u, d, th);\n",
        "#pragma omp task\n",
        "    merge(a, b, r, q, u, t, d + (r - p) + (u - s), th);\n",
        "#pragma omp taskwait\n",
        "  } else {\n",
        "    long u = (s + t) / 2;\n",
        "    float piv = a[u];\n",
        "    long r = find_piv(a, p, q, piv);\n",
        "#pragma omp task\n",
        "    merge(a, b, p, r, s, u, d, th);\n",
        "#pragma omp task\n",
        "    merge(a, b, r, q, u, t, d + (r - p) + (u - s), th);\n",
        "#pragma omp taskwait\n",
        "  }\n",
        "}\n",
        "\n",
        "/* merge, called from main */\n",
        "void merge_from_main(float * a, float * b, long p, long q, long s, long t, long d, long th) {\n",
        "#pragma omp parallel\n",
        "#pragma omp master\n",
        "  merge(a, b, p, q, s, t, d, th);\n",
        "}\n",
        "\n",
        "#endifpy"
      ],
      "execution_count": null,
      "outputs": []
    },
    {
      "cell_type": "markdown",
      "metadata": {
        "kernel": "SoS",
        "nbgrader": {
          "grade": false,
          "grade_id": "c-016",
          "locked": true,
          "schema_version": 3,
          "solution": false,
          "task": false
        }
      },
      "source": [
        "* here is the main program and the header file"
      ]
    },
    {
      "cell_type": "code",
      "metadata": {
        "kernel": "Python 3 (ipykernel)",
        "nbgrader": {
          "grade": false,
          "grade_id": "c-017",
          "locked": false,
          "schema_version": 3,
          "solution": false,
          "task": false
        }
      },
      "source": [
        "%%writefile msort_main.cc\n",
        "#include <assert.h>\n",
        "#include <stdio.h>\n",
        "#include <stdlib.h>\n",
        "#include \"event.h\"\n",
        "#include \"msort.h\"\n",
        "\n",
        "/* make a random array of n elements */\n",
        "float * random_array(long n, long seed) {\n",
        "  float * a = (float *)malloc(sizeof(float) * n);\n",
        "  unsigned short rg[3] = { (unsigned short)((seed >> 32) & 65535),\n",
        "                           (unsigned short)((seed >> 16) & 65535),\n",
        "                           (unsigned short)((seed >> 0 ) & 65535) };\n",
        "  for (long i = 0; i < n; i++) {\n",
        "    a[i] = erand48(rg);\n",
        "  }\n",
        "  return a;\n",
        "}\n",
        "\n",
        "/* make a random array of n elements */\n",
        "float * const_array(long n, float c) {\n",
        "  float * a = (float *)malloc(sizeof(float) * n);\n",
        "  for (long i = 0; i < n; i++) {\n",
        "    a[i] = c;\n",
        "  }\n",
        "  return a;\n",
        "}\n",
        "\n",
        "/* check if a[0:n] is sorted */\n",
        "int count_unsorted(float * a, long n) {\n",
        "  int err = 0;\n",
        "  for (long i = 0; i < n - 1; i++) {\n",
        "    if (a[i] > a[i+1]) {\n",
        "      fprintf(stderr, \"a[%ld] = %f > a[%ld] = %f\\n\",\n",
        "              i, a[i], i + 1, a[i + 1]);\n",
        "      err++;\n",
        "    }\n",
        "    assert(a[i] <= a[i+1]);\n",
        "  }\n",
        "  return err;\n",
        "}\n",
        "\n",
        "int main(int argc, char ** argv) {\n",
        "  int i = 1;\n",
        "  long n              = (argc > i ? atol(argv[i]) : 100 * 1000 * 1000); i++;\n",
        "  /* n <= ms_threshold -> insertion sort */\n",
        "  long ms_threshold   = (argc > i ? atol(argv[i]) : 50);        i++;\n",
        "  long mg_threshold   = (argc > i ? atol(argv[i]) : 10 * 1000); i++;\n",
        "  long seed           = (argc > i ? atol(argv[i]) : 12345678);  i++;\n",
        "  const char * exe = argv[0];\n",
        "  const char * th_s = getenv(\"OMP_NUM_THREADS\");\n",
        "  long th = (th_s ? atol(th_s) : 1);\n",
        "  const char * events = getenv(\"EV\");\n",
        "  if (!events) events = strdup(\"ref-cycles,cycles,instructions,L1-dcache-load-misses,cache-misses\");\n",
        "  float * a = random_array(n, seed);\n",
        "  float * b = const_array(n, 0);\n",
        "  perf_event_counters_t pc = mk_perf_event_counters(events);\n",
        "  printf(\"exe: %s\\n\", exe);\n",
        "  printf(\"threads: %ld\\n\", th);\n",
        "  printf(\"elements: %ld\\n\", n);\n",
        "  printf(\"threshold from merge to insertion: %ld\\n\", ms_threshold);\n",
        "  printf(\"threshold from parallel merge to serial merge: %ld\\n\", mg_threshold);\n",
        "  perf_event_values_t v0 = perf_event_counters_get(pc);\n",
        "  /* real thing happens here */\n",
        "  msort_from_main(a, b, a, 0, n, ms_threshold, mg_threshold);\n",
        "  perf_event_values_t v1 = perf_event_counters_get(pc);\n",
        "  for (int i = 0; i < pc.n; i++) {\n",
        "    printf(\"%s : %lld\\n\", pc.events[i], v1.values[i] - v0.values[i]);\n",
        "  }\n",
        "  perf_event_counters_destroy(pc);\n",
        "  long us = count_unsorted(a, n);\n",
        "  if (us == 0) {\n",
        "    printf(\"OK\\n\");\n",
        "  } else {\n",
        "    printf(\"NG\\n\");\n",
        "  }\n",
        "  return 0;\n",
        "}"
      ],
      "execution_count": null,
      "outputs": []
    },
    {
      "cell_type": "code",
      "metadata": {
        "kernel": "Python 3 (ipykernel)",
        "nbgrader": {
          "grade": false,
          "grade_id": "c-018",
          "locked": false,
          "schema_version": 3,
          "solution": false,
          "task": false
        }
      },
      "source": [
        "%%writefile msort.h\n",
        "#pragma once\n",
        "/* merge a[p:q] and a[s:t] into b[d:..] */\n",
        "void merge(float * a, float * b, long p, long q, long s, long t, long d, long th);\n",
        "\n",
        "/* merge, called from main */\n",
        "void merge_from_main(float * a, float * b, long p, long q, long s, long t, long d, long th);\n",
        "  \n",
        "/* merge sort, called from the main */\n",
        "void msort_from_main(float * a, float * b, float * g, long p, long q, long th0, long th1);\n",
        ""
      ],
      "execution_count": null,
      "outputs": []
    },
    {
      "cell_type": "markdown",
      "metadata": {
        "kernel": "SoS",
        "nbgrader": {
          "grade": false,
          "grade_id": "c-019",
          "locked": true,
          "schema_version": 3,
          "solution": false,
          "task": false
        }
      },
      "source": [
        "* compile them together"
      ]
    },
    {
      "cell_type": "code",
      "metadata": {
        "kernel": "Bash",
        "nbgrader": {
          "grade": false,
          "grade_id": "c-020",
          "locked": false,
          "schema_version": 3,
          "solution": false,
          "task": false
        }
      },
      "source": [
        "clang++ -O3 -Wall msort.cc merge.cc msort_main.cc -o msort_serial -lpfm\n",
        "# nvc++ -O3 -Wall msort.cc merge.cc msort_main.cc -o msort_serial -lpfm"
      ],
      "execution_count": null,
      "outputs": []
    },
    {
      "cell_type": "markdown",
      "metadata": {
        "kernel": "SoS",
        "nbgrader": {
          "grade": false,
          "grade_id": "c-021",
          "locked": true,
          "schema_version": 3,
          "solution": false,
          "task": false
        }
      },
      "source": [
        "* run:\n",
        "```\n",
        "./msort_serial N\n",
        "```\n",
        "* will generate a random array of N elements and sort it\n",
        "* default value for N is 100,000,000 (100M)"
      ]
    },
    {
      "cell_type": "code",
      "metadata": {
        "kernel": "Bash",
        "nbgrader": {
          "grade": false,
          "grade_id": "c-022",
          "locked": false,
          "schema_version": 3,
          "solution": false,
          "task": false
        }
      },
      "source": [
        "./msort_serial $((100 * 1000 * 1000))"
      ],
      "execution_count": null,
      "outputs": []
    },
    {
      "cell_type": "markdown",
      "metadata": {
        "kernel": "SoS",
        "nbgrader": {
          "grade": false,
          "grade_id": "c-023",
          "locked": true,
          "schema_version": 3,
          "solution": false,
          "task": false
        }
      },
      "source": [
        "# <font color=\"green\"> Problem 1 :  Parallelize merge sort</font>",
        "\n",
        "* parallelize the merge sort algorithm by modifying the following cell\n",
        "* it should be easy with task parallelism"
      ]
    },
    {
      "cell_type": "code",
      "metadata": {
        "kernel": "Python 3 (ipykernel)",
        "nbgrader": {
          "grade": false,
          "grade_id": "c-024",
          "locked": false,
          "schema_version": 3,
          "solution": false,
          "task": false
        }
      },
      "source": [
        "%%writefile msort_parallel.cc\n",
        "#com 2\n",
        "#include \"msort.h\"\n",
        "\n",
        "/* insertion sort for leaf cases */\n",
        "/* return m a[m] = min {a[begin:end]} */ \n",
        "static long choose_min_idx(float * a, long begin, long end) {\n",
        "  long m = begin;\n",
        "  for (long i = begin + 1; i < end; i++) {\n",
        "    if (a[i] < a[m]) {\n",
        "      m = i;\n",
        "    }\n",
        "  }\n",
        "  return m;\n",
        "}\n",
        "\n",
        "/* sort a[p:q] by insertion sort */\n",
        "static void insertion_sort(float * a, long p, long q) {\n",
        "  for (long i = p; i < q; i++) {\n",
        "    long j = choose_min_idx(a, i, q);\n",
        "    float t = a[i];\n",
        "    a[i] = a[j];\n",
        "    a[j] = t;\n",
        "  }\n",
        "}\n",
        "\n",
        "/* sort a[p:q] into g[p:q], using b[p:q] as a temporary space */\n",
        "static void msort_r(float * a, float * b, float * g, long p, long q, long th0, long th1) {\n",
        "  if (q - p < th0) {\n",
        "    /* the array is small -> switch to insertion sort */\n",
        "    if (g != a) {\n",
        "      for (long i = p; i < q; i++) {\n",
        "        g[i] = a[i];\n",
        "      }\n",
        "    }\n",
        "    insertion_sort(g, p, q);\n",
        "  } else {\n",
        "    long r = (p + q) / 2;\n",
        "    /* get partial results into the other array != g */\n",
        "    float * h = (g == a ? b : a);\n",
        "#ifpy VER == 2\n",
        "#pragma omp task\n",
        "#endifpy\n",
        "    msort_r(a, b, h, p, r, th0, th1);\n",
        "#ifpy VER == 2\n",
        "#pragma omp task\n",
        "#endifpy\n",
        "    msort_r(a, b, h, r, q, th0, th1);\n",
        "#ifpy VER == 2\n",
        "#pragma omp taskwait\n",
        "#endifpy\n",
        "    /* merge h[p:r] and h[r:q] -> g[p:]*/\n",
        "    merge(h, g, p, r, r, q, p, th1);\n",
        "  }\n",
        "}\n",
        "\n",
        "/* merge sort, called from the main */\n",
        "void msort_from_main(float * a, float * b, float * g, long p, long q, long th0, long th1) {\n",
        "#ifpy VER == 2\n",
        "#pragma omp parallel\n",
        "#pragma omp master\n",
        "#endifpy\n",
        "  msort_r(a, b, g, p, q, th0, th1);\n",
        "}\n",
        ""
      ],
      "execution_count": null,
      "outputs": []
    },
    {
      "cell_type": "code",
      "metadata": {
        "kernel": "Bash",
        "nbgrader": {
          "grade": false,
          "grade_id": "c-025",
          "locked": false,
          "schema_version": 3,
          "solution": false,
          "task": false
        }
      },
      "source": [
        "clang++ -O3 -Wall -fopenmp msort_parallel.cc merge.cc msort_main.cc -o msort_parallel -lpfm\n",
        "# nvc++ -O3 -Wall      -mp msort_parallel.cc merge.cc msort_main.cc -o msort_parallel -lpfm"
      ],
      "execution_count": null,
      "outputs": []
    },
    {
      "cell_type": "markdown",
      "metadata": {
        "kernel": "SoS",
        "nbgrader": {
          "grade": false,
          "grade_id": "c-026",
          "locked": true,
          "schema_version": 3,
          "solution": false,
          "task": false
        }
      },
      "source": [
        "* run the following cell with various values for `OMP_NUM_THREADS` and the number of elements and see how it scales"
      ]
    },
    {
      "cell_type": "code",
      "metadata": {
        "kernel": "Bash",
        "nbgrader": {
          "grade": false,
          "grade_id": "c-027",
          "locked": false,
          "schema_version": 3,
          "solution": false,
          "task": false
        }
      },
      "source": [
        "OMP_NUM_THREADS=1 ./msort_parallel $((100 * 1000 * 1000))"
      ],
      "execution_count": null,
      "outputs": []
    },
    {
      "cell_type": "markdown",
      "metadata": {
        "kernel": "SoS",
        "nbgrader": {
          "grade": false,
          "grade_id": "c-028",
          "locked": true,
          "schema_version": 3,
          "solution": false,
          "task": false
        }
      },
      "source": [
        "* you can check how many processors does the host have by "
      ]
    },
    {
      "cell_type": "code",
      "metadata": {
        "kernel": "Bash",
        "nbgrader": {
          "grade": false,
          "grade_id": "c-029",
          "locked": false,
          "schema_version": 3,
          "solution": false,
          "task": false
        }
      },
      "source": [
        "lscpu | grep CPU"
      ],
      "execution_count": null,
      "outputs": []
    },
    {
      "cell_type": "markdown",
      "metadata": {
        "kernel": "SoS",
        "nbgrader": {
          "grade": false,
          "grade_id": "c-030",
          "locked": true,
          "schema_version": 3,
          "solution": false,
          "task": false
        }
      },
      "source": [
        "* here is a script to run it with various number of threads"
      ]
    },
    {
      "cell_type": "code",
      "metadata": {
        "kernel": "Python 3 (ipykernel)",
        "nbgrader": {
          "grade": false,
          "grade_id": "c-031",
          "locked": false,
          "schema_version": 3,
          "solution": false,
          "task": false
        }
      },
      "source": [
        "#!/usr/bin/python3\n",
        "import os\n",
        "\n",
        "def run1(cmd):\n",
        "    print(cmd)\n",
        "    return os.system(cmd)\n",
        "\n",
        "def run(exes, sizes, threads, repeats=3):\n",
        "    os.makedirs(\"out\", exist_ok=True)\n",
        "    for exe in exes:\n",
        "        for n in sizes:\n",
        "            for h in threads:\n",
        "                for t in range(repeats):\n",
        "                    r = run1(\"OMP_NUM_THREADS={h} ./{exe} {n} > out/out_{exe}_{h}_{t}.txt\"\n",
        "                             .format(exe=exe, n=n, h=h, t=t))\n",
        "                    if r:\n",
        "                        return r\n",
        "    print(\"done\")\n",
        "    return 0\n",
        "\n",
        "\n",
        "if 0:\n",
        "    run([\"msort_2_1.exe\", \"msort_2_2.exe\"],\n",
        "        [ 10 * 1000 * 1000 ],\n",
        "        [ 1, 2, 3, 4, 6, 8 ])\n",
        "    "
      ],
      "execution_count": null,
      "outputs": []
    },
    {
      "cell_type": "code",
      "metadata": {
        "kernel": "Python 3 (ipykernel)",
        "nbgrader": {
          "grade": false,
          "grade_id": "c-032",
          "locked": false,
          "schema_version": 3,
          "solution": false,
          "task": false
        }
      },
      "source": [
        "run([\"msort_parallel\"],\n",
        "    [ 10 * 1000 * 1000 ],\n",
        "    [ 1, 2, 3, 4, 6, 8, 12, 16, 20, 24, 32 ])"
      ],
      "execution_count": null,
      "outputs": []
    },
    {
      "cell_type": "markdown",
      "metadata": {
        "kernel": "SoS",
        "nbgrader": {
          "grade": false,
          "grade_id": "c-033",
          "locked": true,
          "schema_version": 3,
          "solution": false,
          "task": false
        }
      },
      "source": [
        "* visualize it"
      ]
    },
    {
      "cell_type": "code",
      "metadata": {
        "kernel": "Python 3 (ipykernel)",
        "nbgrader": {
          "grade": false,
          "grade_id": "c-034",
          "locked": false,
          "schema_version": 3,
          "solution": false,
          "task": false
        }
      },
      "source": [
        "#!/usr/bin/python3\n",
        "import re\n",
        "import pandas as pd\n",
        "\n",
        "def mk_key(s):\n",
        "    s = s.strip()\n",
        "    s = s.replace(\" \", \"_\")\n",
        "    s = s.replace(\"-\", \"_\")\n",
        "    return s\n",
        "\n",
        "def mk_val(s):\n",
        "    try:\n",
        "        return int(s)\n",
        "    except ValueError:\n",
        "        pass\n",
        "    try:\n",
        "        return float(s)\n",
        "    except ValueError:\n",
        "        pass\n",
        "    return s.strip()\n",
        "\n",
        "def read_file(filename):\n",
        "    data = {}\n",
        "    pat = re.compile(\"(?P<key>[^:]+):(?P<val>[^:]+)\")\n",
        "    with open(filename) as fp:\n",
        "        for line in fp:\n",
        "            m = pat.match(line)\n",
        "            if m:\n",
        "                key = mk_key(m.group(\"key\"))\n",
        "                val = mk_val(m.group(\"val\"))\n",
        "                data[key] = val\n",
        "    return data\n",
        "\n",
        "def read_files(filenames):\n",
        "    data = []\n",
        "    for filename in filenames:\n",
        "        data.append(read_file(filename))\n",
        "    return pd.DataFrame(data)\n",
        "\n",
        ""
      ],
      "execution_count": null,
      "outputs": []
    },
    {
      "cell_type": "code",
      "metadata": {
        "kernel": "Python 3 (ipykernel)",
        "nbgrader": {
          "grade": false,
          "grade_id": "c-035",
          "locked": false,
          "schema_version": 3,
          "solution": false,
          "task": false
        }
      },
      "source": [
        "#!/usr/bin/python3\n",
        "import glob\n",
        "import matplotlib.pyplot as plt\n",
        "import numpy as np\n",
        "\n",
        "#from read_data import read_files\n",
        "\n",
        "def speedup(filenames, exes=None):\n",
        "    # read all data\n",
        "    dfa = read_files(filenames)\n",
        "    fig, ax = plt.subplots()\n",
        "    if exes is None:\n",
        "        exes = dfa[\"exe\"].unique()\n",
        "    exe0 = exes[0]\n",
        "    base = dfa[(dfa[\"exe\"] == exe0) & (dfa[\"threads\"] == 1)][\"ref_cycles\"].agg(\"mean\")\n",
        "    for exe in exes:\n",
        "        df = dfa[dfa[\"exe\"] == exe]\n",
        "        avg = df.groupby([\"threads\"]).mean()\n",
        "        avg = avg.sort_values(\"threads\")\n",
        "        threads = np.array(avg.index)\n",
        "        perf = base / np.array(avg[\"ref_cycles\"])\n",
        "        label = exe.strip()\n",
        "        line, = ax.plot(threads, perf, \"*-\", label=label)\n",
        "    ax.set_xlabel(\"threads\")\n",
        "    ax.set_ylabel(\"speedup\")\n",
        "    plt.legend()\n",
        "    plt.xlim(0)\n",
        "    plt.ylim(0)\n",
        "    plt.show()\n",
        "\n",
        "if 0:\n",
        "    speedup(glob.glob(\"versioned/out/out_*.txt\"))\n",
        "    "
      ],
      "execution_count": null,
      "outputs": []
    },
    {
      "cell_type": "code",
      "metadata": {
        "kernel": "Python 3 (ipykernel)",
        "nbgrader": {
          "grade": false,
          "grade_id": "c-036",
          "locked": false,
          "schema_version": 3,
          "solution": false,
          "task": false
        }
      },
      "source": [
        "speedup(glob.glob(\"out/out_*.txt\"), exes=[\"./msort_parallel\"])"
      ],
      "execution_count": null,
      "outputs": []
    },
    {
      "cell_type": "markdown",
      "metadata": {
        "kernel": "SoS",
        "nbgrader": {
          "grade": false,
          "grade_id": "c-037",
          "locked": true,
          "schema_version": 3,
          "solution": false,
          "task": false
        }
      },
      "source": [
        "# 3. Parallelize merge ",
        "\n",
        "* serial merge sort has $\\Theta(n\\log n)$ time-complexity\n",
        "* executing two recursive calls in parallel does not attain enough speedup as the algorithm still has a critical path of $\\Theta(n)$\n",
        "* the reason for this is the serial merge step\n",
        "* to make the critical path sublinear $o(n)$, it is important to parallelize the merge step itself\n",
        "* let's first make a program that only merges two sorted arrays"
      ]
    },
    {
      "cell_type": "code",
      "metadata": {
        "kernel": "Python 3 (ipykernel)",
        "nbgrader": {
          "grade": false,
          "grade_id": "c-038",
          "locked": false,
          "schema_version": 3,
          "solution": false,
          "task": false
        }
      },
      "source": [
        "%%writefile merge_main.cc\n",
        "#include <assert.h>\n",
        "#include <stdio.h>\n",
        "#include <stdlib.h>\n",
        "#include \"event.h\"\n",
        "#include \"msort.h\"\n",
        "\n",
        "float * random_sorted_two_arrays(long n, long seed) {\n",
        "  float * a = (float *)malloc(sizeof(float) * n);\n",
        "  unsigned short rg[3] = { (unsigned short)((seed >> 32) & 65535),\n",
        "                           (unsigned short)((seed >> 16) & 65535),\n",
        "                           (unsigned short)((seed >> 0 ) & 65535) };\n",
        "  long h = n / 2;\n",
        "  float s = 0.0;\n",
        "  for (long i = 0; i < h; i++) {\n",
        "    s += erand48(rg) / h;\n",
        "    a[i] = s;\n",
        "  }\n",
        "  s = 0.0;\n",
        "  for (long i = h; i < n; i++) {\n",
        "    s += erand48(rg) / h;\n",
        "    a[i] = s;\n",
        "  }\n",
        "  return a;\n",
        "}\n",
        "\n",
        "/* make a random array of n elements */\n",
        "float * const_array(long n, float c) {\n",
        "  float * a = (float *)malloc(sizeof(float) * n);\n",
        "  for (long i = 0; i < n; i++) {\n",
        "    a[i] = c;\n",
        "  }\n",
        "  return a;\n",
        "}\n",
        "\n",
        "/* check if a[0:n] is sorted */\n",
        "int count_unsorted(float * a, long n) {\n",
        "  int err = 0;\n",
        "  for (long i = 0; i < n - 1; i++) {\n",
        "    if (a[i] > a[i+1]) {\n",
        "      fprintf(stderr, \"a[%ld] = %f > a[%ld] = %f\\n\",\n",
        "              i, a[i], i + 1, a[i + 1]);\n",
        "      err++;\n",
        "    }\n",
        "    assert(a[i] <= a[i+1]);\n",
        "  }\n",
        "  return err;\n",
        "}\n",
        "\n",
        "int main(int argc, char ** argv) {\n",
        "  int i = 1;\n",
        "  long n              = (argc > i ? atol(argv[i]) : 100 * 1000 * 1000); i++;\n",
        "  long mg_threshold   = (argc > i ? atol(argv[i]) :  10 * 1000);        i++;\n",
        "  long seed           = (argc > i ? atol(argv[i]) : 12345678); i++;\n",
        "  const char * events = getenv(\"EV\");\n",
        "  if (!events) events = strdup(\"ref-cycles,cycles,instructions,L1-dcache-load-misses,cache-misses\");\n",
        "  long h = n / 2;\n",
        "  float * a = random_sorted_two_arrays(n, seed);\n",
        "  float * b = const_array(n, 0);\n",
        "  perf_event_counters_t pc = mk_perf_event_counters(events);\n",
        "  printf(\"merge %ld + %ld elements\\n\", h, n - h);\n",
        "  perf_event_values_t v0 = perf_event_counters_get(pc);\n",
        "  /* real thing happens here */\n",
        "  merge_from_main(a, b, 0, h, h, n, 0, mg_threshold);\n",
        "  perf_event_values_t v1 = perf_event_counters_get(pc);\n",
        "  for (int i = 0; i < pc.n; i++) {\n",
        "    printf(\"%s : %lld\\n\", pc.events[i], v1.values[i] - v0.values[i]);\n",
        "  }\n",
        "  perf_event_counters_destroy(pc);\n",
        "  long us = count_unsorted(b, n);\n",
        "  if (us == 0) {\n",
        "    printf(\"OK\\n\");\n",
        "  } else {\n",
        "    printf(\"NG\\n\");\n",
        "  }\n",
        "  return 0;\n",
        "}"
      ],
      "execution_count": null,
      "outputs": []
    },
    {
      "cell_type": "code",
      "metadata": {
        "kernel": "Bash",
        "nbgrader": {
          "grade": false,
          "grade_id": "c-039",
          "locked": false,
          "schema_version": 3,
          "solution": false,
          "task": false
        }
      },
      "source": [
        "clang++ -O3 -Wall -fopenmp merge.cc merge_main.cc -o merge_serial -lpfm\n",
        "# nvc++ -O3 -Wall      -mp merge.cc merge_main.cc -o merge_serial -lpfm"
      ],
      "execution_count": null,
      "outputs": []
    },
    {
      "cell_type": "code",
      "metadata": {
        "kernel": "Bash",
        "nbgrader": {
          "grade": false,
          "grade_id": "c-040",
          "locked": false,
          "schema_version": 3,
          "solution": false,
          "task": false
        }
      },
      "source": [
        "./merge_serial $((100 * 1000 * 1000))"
      ],
      "execution_count": null,
      "outputs": []
    },
    {
      "cell_type": "markdown",
      "metadata": {
        "kernel": "SoS",
        "nbgrader": {
          "grade": false,
          "grade_id": "c-041",
          "locked": true,
          "schema_version": 3,
          "solution": false,
          "task": false
        }
      },
      "source": [
        "# <font color=\"green\"> Problem 2 :  Parallelize merge</font>",
        "\n",
        "* parallelize the merge algorithm by modifying the following cell\n",
        "* hint: here again, divide-and-conquer is useful\n",
        "* let's say we merge two arrays $a$ and $b$ into another array $c$\n",
        "1. split $a$ or $b$ (the larger one) into two halves\n",
        "1. assume wolg $a$ is the larger and call the first and second half $a_0$ and $a_1$, respectively\n",
        "1. let $p$ be the smallest value of $a_1$\n",
        "1. split $b$ into two parts, $b_0$, which are elements $\\leq p$ and $b_1$, elements $\\geq p$ (use binary search to find the boundary between them)\n",
        "1. merge $a_0$ and $b_0$; merge $a_1$ and $b_1$ (two merges can be done in parallel)"
      ]
    },
    {
      "cell_type": "code",
      "metadata": {
        "kernel": "Python 3 (ipykernel)",
        "nbgrader": {
          "grade": false,
          "grade_id": "c-042",
          "locked": false,
          "schema_version": 3,
          "solution": false,
          "task": false
        }
      },
      "source": [
        "%%writefile merge_parallel.cc\n",
        "#com 2\n",
        "#include <assert.h>\n",
        "#include \"msort.h\"\n",
        "\n",
        "#ifpy VER == 1\n",
        "void merge(float * a, float * b, long p, long q, long s, long t, long d, long th) {\n",
        "  (void)th;\n",
        "  long i = p;\n",
        "  long j = s;\n",
        "  long k = d;\n",
        "  while (i < q && j < t) {\n",
        "    if (a[i] < a[j]) {\n",
        "      b[k++] = a[i++];\n",
        "    } else {\n",
        "      b[k++] = a[j++];\n",
        "    }\n",
        "  }\n",
        "  while (i < q) {\n",
        "    b[k++] = a[i++];\n",
        "  }\n",
        "  while (j < t) {\n",
        "    b[k++] = a[j++];\n",
        "  }\n",
        "}\n",
        "\n",
        "/* merge, called from main */\n",
        "void merge_from_main(float * a, float * b, long p, long q, long s, long t, long d, long th) {\n",
        "  merge(a, b, p, q, s, t, d, th);\n",
        "}\n",
        "\n",
        "#elsepy\n",
        "\n",
        "/* merge a[p:q] and a[r:s] --> b[d:] */\n",
        "static void merge_s(float * a, float * b, long p, long q, long s, long t, long d) {\n",
        "  long i = p;\n",
        "  long j = s;\n",
        "  long k = d;\n",
        "  while (i < q && j < t) {\n",
        "    if (a[i] < a[j]) {\n",
        "      b[k++] = a[i++];\n",
        "    } else {\n",
        "      b[k++] = a[j++];\n",
        "    }\n",
        "  }\n",
        "  while (i < q) {\n",
        "    b[k++] = a[i++];\n",
        "  }\n",
        "  while (j < t) {\n",
        "    b[k++] = a[j++];\n",
        "  }\n",
        "}\n",
        "\n",
        "/* find r s.t. a[r-1] <= piv < a[r] */\n",
        "static long find_piv(float * a, long b, long e, float piv) {\n",
        "  if (piv < a[b]) return b;\n",
        "  if (a[e - 1] <= piv) return e;\n",
        "  long p = b;\n",
        "  long q = e - 1;\n",
        "  /* a[p] <= piv < a[q] */\n",
        "  while (q - p > 1) {\n",
        "    assert(a[p] <= piv);\n",
        "    assert(piv < a[q]);\n",
        "    long r = (p + q) / 2;\n",
        "    if (a[r] <= piv) {\n",
        "      p = r;                    // a[p] <= piv\n",
        "    } else {\n",
        "      q = r;                    // piv < a[q]\n",
        "    }\n",
        "  }\n",
        "  assert(a[q - 1] <= piv);\n",
        "  assert(piv < a[q]);\n",
        "  /* a[q - 1] <= piv < a[q] */\n",
        "  return q;\n",
        "}\n",
        "\n",
        "/* merge a[p:q] and a[r:s] --> b[d:] */\n",
        "void merge(float * a, float * b, long p, long q, long s, long t, long d, long th) {\n",
        "  if (q - p + t - s < th) {\n",
        "    merge_s(a, b, p, q, s, t, d);\n",
        "  } else if (q - p > t - s) {\n",
        "    long r = (p + q) / 2;\n",
        "    float piv = a[r];\n",
        "    long u = find_piv(a, s, t, piv);\n",
        "#pragma omp task\n",
        "    merge(a, b, p, r, s, u, d, th);\n",
        "#pragma omp task\n",
        "    merge(a, b, r, q, u, t, d + (r - p) + (u - s), th);\n",
        "#pragma omp taskwait\n",
        "  } else {\n",
        "    long u = (s + t) / 2;\n",
        "    float piv = a[u];\n",
        "    long r = find_piv(a, p, q, piv);\n",
        "#pragma omp task\n",
        "    merge(a, b, p, r, s, u, d, th);\n",
        "#pragma omp task\n",
        "    merge(a, b, r, q, u, t, d + (r - p) + (u - s), th);\n",
        "#pragma omp taskwait\n",
        "  }\n",
        "}\n",
        "\n",
        "/* merge, called from main */\n",
        "void merge_from_main(float * a, float * b, long p, long q, long s, long t, long d, long th) {\n",
        "#pragma omp parallel\n",
        "#pragma omp master\n",
        "  merge(a, b, p, q, s, t, d, th);\n",
        "}\n",
        "\n",
        "#endifpy"
      ],
      "execution_count": null,
      "outputs": []
    },
    {
      "cell_type": "code",
      "metadata": {
        "kernel": "Bash",
        "nbgrader": {
          "grade": false,
          "grade_id": "c-043",
          "locked": false,
          "schema_version": 3,
          "solution": false,
          "task": false
        }
      },
      "source": [
        "clang++ -O3 -Wall -fopenmp merge_parallel.cc merge_main.cc -o merge_parallel -lpfm\n",
        "# nvc++ -O3 -Wall      -mp merge_parallel.cc merge_main.cc -o merge_parallel -lpfm"
      ],
      "execution_count": null,
      "outputs": []
    },
    {
      "cell_type": "markdown",
      "metadata": {
        "kernel": "SoS",
        "nbgrader": {
          "grade": false,
          "grade_id": "c-044",
          "locked": true,
          "schema_version": 3,
          "solution": false,
          "task": false
        }
      },
      "source": [
        "* run the following cell with various values for `OMP_NUM_THREADS` and the number of elements and see how it scales"
      ]
    },
    {
      "cell_type": "code",
      "metadata": {
        "kernel": "Bash",
        "nbgrader": {
          "grade": false,
          "grade_id": "c-045",
          "locked": false,
          "schema_version": 3,
          "solution": false,
          "task": false
        }
      },
      "source": [
        "OMP_NUM_THREADS=1 ./merge_parallel $((100 * 1000 * 1000))"
      ],
      "execution_count": null,
      "outputs": []
    },
    {
      "cell_type": "markdown",
      "metadata": {
        "kernel": "SoS",
        "nbgrader": {
          "grade": false,
          "grade_id": "c-046",
          "locked": true,
          "schema_version": 3,
          "solution": false,
          "task": false
        }
      },
      "source": [
        "# <font color=\"green\"> Problem 3 :  Parallel merge sort with parallel merge</font>",
        "\n",
        "* use the parallel merge in the parallel merge sort and see the scalability"
      ]
    },
    {
      "cell_type": "code",
      "metadata": {
        "kernel": "Bash",
        "nbgrader": {
          "grade": false,
          "grade_id": "c-047",
          "locked": false,
          "schema_version": 3,
          "solution": false,
          "task": false
        }
      },
      "source": [
        "clang++ -O3 -Wall -fopenmp msort_parallel.cc merge_parallel.cc msort_main.cc -o msort_parallel2 -lpfm\n",
        "# nvc++ -O3 -Wall      -mp msort_parallel.cc merge_parallel.cc msort_main.cc -o msort_parallel2 -lpfm"
      ],
      "execution_count": null,
      "outputs": []
    },
    {
      "cell_type": "markdown",
      "metadata": {
        "kernel": "SoS",
        "nbgrader": {
          "grade": false,
          "grade_id": "c-048",
          "locked": true,
          "schema_version": 3,
          "solution": false,
          "task": false
        }
      },
      "source": [
        "* run the following cell with various values for `OMP_NUM_THREADS` and the number of elements and see how it scales"
      ]
    },
    {
      "cell_type": "code",
      "metadata": {
        "kernel": "Bash",
        "nbgrader": {
          "grade": false,
          "grade_id": "c-049",
          "locked": false,
          "schema_version": 3,
          "solution": false,
          "task": false
        }
      },
      "source": [
        "OMP_NUM_THREADS=1 ./msort_parallel2 $((100 * 1000 * 1000))"
      ],
      "execution_count": null,
      "outputs": []
    },
    {
      "cell_type": "markdown",
      "metadata": {
        "kernel": "SoS",
        "nbgrader": {
          "grade": false,
          "grade_id": "c-050",
          "locked": true,
          "schema_version": 3,
          "solution": false,
          "task": false
        }
      },
      "source": [
        "* run it with various number of threads"
      ]
    },
    {
      "cell_type": "code",
      "metadata": {
        "kernel": "Python 3 (ipykernel)",
        "nbgrader": {
          "grade": false,
          "grade_id": "c-051",
          "locked": false,
          "schema_version": 3,
          "solution": false,
          "task": false
        }
      },
      "source": [
        "run([\"msort_parallel2\"],\n",
        "    [ 10 * 1000 * 1000 ],\n",
        "    [ 1, 2, 3, 4, 6, 8, 12, 16, 20, 24, 32 ])"
      ],
      "execution_count": null,
      "outputs": []
    },
    {
      "cell_type": "code",
      "metadata": {
        "kernel": "Python 3 (ipykernel)",
        "nbgrader": {
          "grade": false,
          "grade_id": "c-052",
          "locked": false,
          "schema_version": 3,
          "solution": false,
          "task": false
        }
      },
      "source": [
        "speedup(glob.glob(\"out/out_*.txt\"), exes=[\"./msort_parallel\", \"./msort_parallel2\"])"
      ],
      "execution_count": null,
      "outputs": []
    }
  ],
  "metadata": {
    "celltoolbar": "Create Assignment",
    "kernelspec": {
      "display_name": "SoS",
      "language": "sos",
      "name": "sos"
    },
    "language_info": {
      "codemirror_mode": "sos",
      "file_extension": ".sos",
      "mimetype": "text/x-sos",
      "name": "sos",
      "nbconvert_exporter": "sos_notebook.converter.SoS_Exporter",
      "pygments_lexer": "sos"
    },
    "sos": {
      "kernels": [
        [
          "Bash",
          "bash",
          "bash",
          "",
          "shell"
        ],
        [
          "C",
          "c_kernel",
          "c",
          "",
          ""
        ],
        [
          "Go",
          "gophernotes",
          "go",
          "",
          ""
        ],
        [
          "Julia 1.10.2",
          "julia-1.10",
          "julia",
          "",
          ""
        ],
        [
          "OCaml default",
          "ocaml-jupyter",
          "OCaml",
          "",
          "text/x-ocaml"
        ],
        [
          "Python 3 (ipykernel)",
          "python3",
          "python3",
          "",
          {
            "name": "ipython",
            "version": 3
          }
        ],
        [
          "Rust",
          "rust",
          "rust",
          "",
          ""
        ]
      ],
      "panel": {
        "displayed": true,
        "height": 0
      },
      "version": "0.23.3"
    }
  },
  "nbformat": 4,
  "nbformat_minor": 4
}